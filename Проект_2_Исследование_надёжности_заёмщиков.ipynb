{
 "cells": [
  {
   "cell_type": "markdown",
   "id": "547af64d",
   "metadata": {
    "deletable": false,
    "editable": false,
    "id": "c81daeeb"
   },
   "source": [
    "# Исследование надежности заемщиков\n"
   ]
  },
  {
   "cell_type": "markdown",
   "id": "2fd5c791",
   "metadata": {
    "deletable": false,
    "editable": false,
    "id": "827c20bf"
   },
   "source": [
    "Во второй части проекта вы выполните шаги 3 и 4. Их вручную проверит ревьюер.\n",
    "Чтобы вам не пришлось писать код заново для шагов 1 и 2, мы добавили авторские решения в ячейки с кодом. \n",
    "\n"
   ]
  },
  {
   "cell_type": "markdown",
   "id": "78bb662d",
   "metadata": {
    "deletable": false,
    "editable": false,
    "id": "744d7639"
   },
   "source": [
    "## Откройте таблицу и изучите общую информацию о данных"
   ]
  },
  {
   "cell_type": "markdown",
   "id": "755f61ac",
   "metadata": {
    "deletable": false,
    "editable": false,
    "id": "e7a14c31"
   },
   "source": [
    "**Задание 1. Импортируйте библиотеку pandas. Считайте данные из csv-файла в датафрейм и сохраните в переменную `data`. Путь к файлу:**\n",
    "\n",
    "`/datasets/data.csv`"
   ]
  },
  {
   "cell_type": "code",
   "execution_count": 1,
   "id": "79901215",
   "metadata": {
    "deletable": false,
    "id": "7bcf75c9"
   },
   "outputs": [],
   "source": [
    "import pandas as pd\n",
    "\n",
    "try:\n",
    "    data = pd.read_csv('/datasets/data.csv')\n",
    "except:\n",
    "    data = pd.read_csv('https://code.s3.yandex.net/datasets/data.csv')"
   ]
  },
  {
   "cell_type": "markdown",
   "id": "bc7d494d",
   "metadata": {
    "deletable": false,
    "editable": false,
    "id": "b8038fe3"
   },
   "source": [
    "**Задание 2. Выведите первые 20 строчек датафрейма `data` на экран.**"
   ]
  },
  {
   "cell_type": "code",
   "execution_count": 2,
   "id": "e91cf603",
   "metadata": {
    "deletable": false,
    "id": "2a7cab99",
    "outputId": "1a8f3ef2-d323-4ec2-ddf7-89670b5944c4",
    "scrolled": true
   },
   "outputs": [
    {
     "data": {
      "text/html": [
       "<div>\n",
       "<style scoped>\n",
       "    .dataframe tbody tr th:only-of-type {\n",
       "        vertical-align: middle;\n",
       "    }\n",
       "\n",
       "    .dataframe tbody tr th {\n",
       "        vertical-align: top;\n",
       "    }\n",
       "\n",
       "    .dataframe thead th {\n",
       "        text-align: right;\n",
       "    }\n",
       "</style>\n",
       "<table border=\"1\" class=\"dataframe\">\n",
       "  <thead>\n",
       "    <tr style=\"text-align: right;\">\n",
       "      <th></th>\n",
       "      <th>children</th>\n",
       "      <th>days_employed</th>\n",
       "      <th>dob_years</th>\n",
       "      <th>education</th>\n",
       "      <th>education_id</th>\n",
       "      <th>family_status</th>\n",
       "      <th>family_status_id</th>\n",
       "      <th>gender</th>\n",
       "      <th>income_type</th>\n",
       "      <th>debt</th>\n",
       "      <th>total_income</th>\n",
       "      <th>purpose</th>\n",
       "    </tr>\n",
       "  </thead>\n",
       "  <tbody>\n",
       "    <tr>\n",
       "      <th>0</th>\n",
       "      <td>1</td>\n",
       "      <td>-8437.673028</td>\n",
       "      <td>42</td>\n",
       "      <td>высшее</td>\n",
       "      <td>0</td>\n",
       "      <td>женат / замужем</td>\n",
       "      <td>0</td>\n",
       "      <td>F</td>\n",
       "      <td>сотрудник</td>\n",
       "      <td>0</td>\n",
       "      <td>253875.639453</td>\n",
       "      <td>покупка жилья</td>\n",
       "    </tr>\n",
       "    <tr>\n",
       "      <th>1</th>\n",
       "      <td>1</td>\n",
       "      <td>-4024.803754</td>\n",
       "      <td>36</td>\n",
       "      <td>среднее</td>\n",
       "      <td>1</td>\n",
       "      <td>женат / замужем</td>\n",
       "      <td>0</td>\n",
       "      <td>F</td>\n",
       "      <td>сотрудник</td>\n",
       "      <td>0</td>\n",
       "      <td>112080.014102</td>\n",
       "      <td>приобретение автомобиля</td>\n",
       "    </tr>\n",
       "    <tr>\n",
       "      <th>2</th>\n",
       "      <td>0</td>\n",
       "      <td>-5623.422610</td>\n",
       "      <td>33</td>\n",
       "      <td>Среднее</td>\n",
       "      <td>1</td>\n",
       "      <td>женат / замужем</td>\n",
       "      <td>0</td>\n",
       "      <td>M</td>\n",
       "      <td>сотрудник</td>\n",
       "      <td>0</td>\n",
       "      <td>145885.952297</td>\n",
       "      <td>покупка жилья</td>\n",
       "    </tr>\n",
       "    <tr>\n",
       "      <th>3</th>\n",
       "      <td>3</td>\n",
       "      <td>-4124.747207</td>\n",
       "      <td>32</td>\n",
       "      <td>среднее</td>\n",
       "      <td>1</td>\n",
       "      <td>женат / замужем</td>\n",
       "      <td>0</td>\n",
       "      <td>M</td>\n",
       "      <td>сотрудник</td>\n",
       "      <td>0</td>\n",
       "      <td>267628.550329</td>\n",
       "      <td>дополнительное образование</td>\n",
       "    </tr>\n",
       "    <tr>\n",
       "      <th>4</th>\n",
       "      <td>0</td>\n",
       "      <td>340266.072047</td>\n",
       "      <td>53</td>\n",
       "      <td>среднее</td>\n",
       "      <td>1</td>\n",
       "      <td>гражданский брак</td>\n",
       "      <td>1</td>\n",
       "      <td>F</td>\n",
       "      <td>пенсионер</td>\n",
       "      <td>0</td>\n",
       "      <td>158616.077870</td>\n",
       "      <td>сыграть свадьбу</td>\n",
       "    </tr>\n",
       "    <tr>\n",
       "      <th>5</th>\n",
       "      <td>0</td>\n",
       "      <td>-926.185831</td>\n",
       "      <td>27</td>\n",
       "      <td>высшее</td>\n",
       "      <td>0</td>\n",
       "      <td>гражданский брак</td>\n",
       "      <td>1</td>\n",
       "      <td>M</td>\n",
       "      <td>компаньон</td>\n",
       "      <td>0</td>\n",
       "      <td>255763.565419</td>\n",
       "      <td>покупка жилья</td>\n",
       "    </tr>\n",
       "    <tr>\n",
       "      <th>6</th>\n",
       "      <td>0</td>\n",
       "      <td>-2879.202052</td>\n",
       "      <td>43</td>\n",
       "      <td>высшее</td>\n",
       "      <td>0</td>\n",
       "      <td>женат / замужем</td>\n",
       "      <td>0</td>\n",
       "      <td>F</td>\n",
       "      <td>компаньон</td>\n",
       "      <td>0</td>\n",
       "      <td>240525.971920</td>\n",
       "      <td>операции с жильем</td>\n",
       "    </tr>\n",
       "    <tr>\n",
       "      <th>7</th>\n",
       "      <td>0</td>\n",
       "      <td>-152.779569</td>\n",
       "      <td>50</td>\n",
       "      <td>СРЕДНЕЕ</td>\n",
       "      <td>1</td>\n",
       "      <td>женат / замужем</td>\n",
       "      <td>0</td>\n",
       "      <td>M</td>\n",
       "      <td>сотрудник</td>\n",
       "      <td>0</td>\n",
       "      <td>135823.934197</td>\n",
       "      <td>образование</td>\n",
       "    </tr>\n",
       "    <tr>\n",
       "      <th>8</th>\n",
       "      <td>2</td>\n",
       "      <td>-6929.865299</td>\n",
       "      <td>35</td>\n",
       "      <td>ВЫСШЕЕ</td>\n",
       "      <td>0</td>\n",
       "      <td>гражданский брак</td>\n",
       "      <td>1</td>\n",
       "      <td>F</td>\n",
       "      <td>сотрудник</td>\n",
       "      <td>0</td>\n",
       "      <td>95856.832424</td>\n",
       "      <td>на проведение свадьбы</td>\n",
       "    </tr>\n",
       "    <tr>\n",
       "      <th>9</th>\n",
       "      <td>0</td>\n",
       "      <td>-2188.756445</td>\n",
       "      <td>41</td>\n",
       "      <td>среднее</td>\n",
       "      <td>1</td>\n",
       "      <td>женат / замужем</td>\n",
       "      <td>0</td>\n",
       "      <td>M</td>\n",
       "      <td>сотрудник</td>\n",
       "      <td>0</td>\n",
       "      <td>144425.938277</td>\n",
       "      <td>покупка жилья для семьи</td>\n",
       "    </tr>\n",
       "    <tr>\n",
       "      <th>10</th>\n",
       "      <td>2</td>\n",
       "      <td>-4171.483647</td>\n",
       "      <td>36</td>\n",
       "      <td>высшее</td>\n",
       "      <td>0</td>\n",
       "      <td>женат / замужем</td>\n",
       "      <td>0</td>\n",
       "      <td>M</td>\n",
       "      <td>компаньон</td>\n",
       "      <td>0</td>\n",
       "      <td>113943.491460</td>\n",
       "      <td>покупка недвижимости</td>\n",
       "    </tr>\n",
       "    <tr>\n",
       "      <th>11</th>\n",
       "      <td>0</td>\n",
       "      <td>-792.701887</td>\n",
       "      <td>40</td>\n",
       "      <td>среднее</td>\n",
       "      <td>1</td>\n",
       "      <td>женат / замужем</td>\n",
       "      <td>0</td>\n",
       "      <td>F</td>\n",
       "      <td>сотрудник</td>\n",
       "      <td>0</td>\n",
       "      <td>77069.234271</td>\n",
       "      <td>покупка коммерческой недвижимости</td>\n",
       "    </tr>\n",
       "    <tr>\n",
       "      <th>12</th>\n",
       "      <td>0</td>\n",
       "      <td>NaN</td>\n",
       "      <td>65</td>\n",
       "      <td>среднее</td>\n",
       "      <td>1</td>\n",
       "      <td>гражданский брак</td>\n",
       "      <td>1</td>\n",
       "      <td>M</td>\n",
       "      <td>пенсионер</td>\n",
       "      <td>0</td>\n",
       "      <td>NaN</td>\n",
       "      <td>сыграть свадьбу</td>\n",
       "    </tr>\n",
       "    <tr>\n",
       "      <th>13</th>\n",
       "      <td>0</td>\n",
       "      <td>-1846.641941</td>\n",
       "      <td>54</td>\n",
       "      <td>неоконченное высшее</td>\n",
       "      <td>2</td>\n",
       "      <td>женат / замужем</td>\n",
       "      <td>0</td>\n",
       "      <td>F</td>\n",
       "      <td>сотрудник</td>\n",
       "      <td>0</td>\n",
       "      <td>130458.228857</td>\n",
       "      <td>приобретение автомобиля</td>\n",
       "    </tr>\n",
       "    <tr>\n",
       "      <th>14</th>\n",
       "      <td>0</td>\n",
       "      <td>-1844.956182</td>\n",
       "      <td>56</td>\n",
       "      <td>высшее</td>\n",
       "      <td>0</td>\n",
       "      <td>гражданский брак</td>\n",
       "      <td>1</td>\n",
       "      <td>F</td>\n",
       "      <td>компаньон</td>\n",
       "      <td>1</td>\n",
       "      <td>165127.911772</td>\n",
       "      <td>покупка жилой недвижимости</td>\n",
       "    </tr>\n",
       "    <tr>\n",
       "      <th>15</th>\n",
       "      <td>1</td>\n",
       "      <td>-972.364419</td>\n",
       "      <td>26</td>\n",
       "      <td>среднее</td>\n",
       "      <td>1</td>\n",
       "      <td>женат / замужем</td>\n",
       "      <td>0</td>\n",
       "      <td>F</td>\n",
       "      <td>сотрудник</td>\n",
       "      <td>0</td>\n",
       "      <td>116820.904450</td>\n",
       "      <td>строительство собственной недвижимости</td>\n",
       "    </tr>\n",
       "    <tr>\n",
       "      <th>16</th>\n",
       "      <td>0</td>\n",
       "      <td>-1719.934226</td>\n",
       "      <td>35</td>\n",
       "      <td>среднее</td>\n",
       "      <td>1</td>\n",
       "      <td>женат / замужем</td>\n",
       "      <td>0</td>\n",
       "      <td>F</td>\n",
       "      <td>сотрудник</td>\n",
       "      <td>0</td>\n",
       "      <td>289202.704229</td>\n",
       "      <td>недвижимость</td>\n",
       "    </tr>\n",
       "    <tr>\n",
       "      <th>17</th>\n",
       "      <td>0</td>\n",
       "      <td>-2369.999720</td>\n",
       "      <td>33</td>\n",
       "      <td>высшее</td>\n",
       "      <td>0</td>\n",
       "      <td>гражданский брак</td>\n",
       "      <td>1</td>\n",
       "      <td>M</td>\n",
       "      <td>сотрудник</td>\n",
       "      <td>0</td>\n",
       "      <td>90410.586745</td>\n",
       "      <td>строительство недвижимости</td>\n",
       "    </tr>\n",
       "    <tr>\n",
       "      <th>18</th>\n",
       "      <td>0</td>\n",
       "      <td>400281.136913</td>\n",
       "      <td>53</td>\n",
       "      <td>среднее</td>\n",
       "      <td>1</td>\n",
       "      <td>вдовец / вдова</td>\n",
       "      <td>2</td>\n",
       "      <td>F</td>\n",
       "      <td>пенсионер</td>\n",
       "      <td>0</td>\n",
       "      <td>56823.777243</td>\n",
       "      <td>на покупку подержанного автомобиля</td>\n",
       "    </tr>\n",
       "    <tr>\n",
       "      <th>19</th>\n",
       "      <td>0</td>\n",
       "      <td>-10038.818549</td>\n",
       "      <td>48</td>\n",
       "      <td>СРЕДНЕЕ</td>\n",
       "      <td>1</td>\n",
       "      <td>в разводе</td>\n",
       "      <td>3</td>\n",
       "      <td>F</td>\n",
       "      <td>сотрудник</td>\n",
       "      <td>0</td>\n",
       "      <td>242831.107982</td>\n",
       "      <td>на покупку своего автомобиля</td>\n",
       "    </tr>\n",
       "  </tbody>\n",
       "</table>\n",
       "</div>"
      ],
      "text/plain": [
       "    children  days_employed  dob_years            education  education_id  \\\n",
       "0          1   -8437.673028         42               высшее             0   \n",
       "1          1   -4024.803754         36              среднее             1   \n",
       "2          0   -5623.422610         33              Среднее             1   \n",
       "3          3   -4124.747207         32              среднее             1   \n",
       "4          0  340266.072047         53              среднее             1   \n",
       "5          0    -926.185831         27               высшее             0   \n",
       "6          0   -2879.202052         43               высшее             0   \n",
       "7          0    -152.779569         50              СРЕДНЕЕ             1   \n",
       "8          2   -6929.865299         35               ВЫСШЕЕ             0   \n",
       "9          0   -2188.756445         41              среднее             1   \n",
       "10         2   -4171.483647         36               высшее             0   \n",
       "11         0    -792.701887         40              среднее             1   \n",
       "12         0            NaN         65              среднее             1   \n",
       "13         0   -1846.641941         54  неоконченное высшее             2   \n",
       "14         0   -1844.956182         56               высшее             0   \n",
       "15         1    -972.364419         26              среднее             1   \n",
       "16         0   -1719.934226         35              среднее             1   \n",
       "17         0   -2369.999720         33               высшее             0   \n",
       "18         0  400281.136913         53              среднее             1   \n",
       "19         0  -10038.818549         48              СРЕДНЕЕ             1   \n",
       "\n",
       "       family_status  family_status_id gender income_type  debt  \\\n",
       "0    женат / замужем                 0      F   сотрудник     0   \n",
       "1    женат / замужем                 0      F   сотрудник     0   \n",
       "2    женат / замужем                 0      M   сотрудник     0   \n",
       "3    женат / замужем                 0      M   сотрудник     0   \n",
       "4   гражданский брак                 1      F   пенсионер     0   \n",
       "5   гражданский брак                 1      M   компаньон     0   \n",
       "6    женат / замужем                 0      F   компаньон     0   \n",
       "7    женат / замужем                 0      M   сотрудник     0   \n",
       "8   гражданский брак                 1      F   сотрудник     0   \n",
       "9    женат / замужем                 0      M   сотрудник     0   \n",
       "10   женат / замужем                 0      M   компаньон     0   \n",
       "11   женат / замужем                 0      F   сотрудник     0   \n",
       "12  гражданский брак                 1      M   пенсионер     0   \n",
       "13   женат / замужем                 0      F   сотрудник     0   \n",
       "14  гражданский брак                 1      F   компаньон     1   \n",
       "15   женат / замужем                 0      F   сотрудник     0   \n",
       "16   женат / замужем                 0      F   сотрудник     0   \n",
       "17  гражданский брак                 1      M   сотрудник     0   \n",
       "18    вдовец / вдова                 2      F   пенсионер     0   \n",
       "19         в разводе                 3      F   сотрудник     0   \n",
       "\n",
       "     total_income                                 purpose  \n",
       "0   253875.639453                           покупка жилья  \n",
       "1   112080.014102                 приобретение автомобиля  \n",
       "2   145885.952297                           покупка жилья  \n",
       "3   267628.550329              дополнительное образование  \n",
       "4   158616.077870                         сыграть свадьбу  \n",
       "5   255763.565419                           покупка жилья  \n",
       "6   240525.971920                       операции с жильем  \n",
       "7   135823.934197                             образование  \n",
       "8    95856.832424                   на проведение свадьбы  \n",
       "9   144425.938277                 покупка жилья для семьи  \n",
       "10  113943.491460                    покупка недвижимости  \n",
       "11   77069.234271       покупка коммерческой недвижимости  \n",
       "12            NaN                         сыграть свадьбу  \n",
       "13  130458.228857                 приобретение автомобиля  \n",
       "14  165127.911772              покупка жилой недвижимости  \n",
       "15  116820.904450  строительство собственной недвижимости  \n",
       "16  289202.704229                            недвижимость  \n",
       "17   90410.586745              строительство недвижимости  \n",
       "18   56823.777243      на покупку подержанного автомобиля  \n",
       "19  242831.107982            на покупку своего автомобиля  "
      ]
     },
     "execution_count": 2,
     "metadata": {},
     "output_type": "execute_result"
    }
   ],
   "source": [
    "data.head(20)"
   ]
  },
  {
   "cell_type": "markdown",
   "id": "ab33ff03",
   "metadata": {
    "deletable": false,
    "editable": false,
    "id": "1c12e233"
   },
   "source": [
    "**Задание 3. Выведите основную информацию о датафрейме с помощью метода `info()`.**"
   ]
  },
  {
   "cell_type": "code",
   "execution_count": 3,
   "id": "1531b0a6",
   "metadata": {
    "deletable": false,
    "id": "2b757bca",
    "outputId": "15376089-8dad-46c9-b520-c05248d43158",
    "scrolled": false
   },
   "outputs": [
    {
     "name": "stdout",
     "output_type": "stream",
     "text": [
      "<class 'pandas.core.frame.DataFrame'>\n",
      "RangeIndex: 21525 entries, 0 to 21524\n",
      "Data columns (total 12 columns):\n",
      " #   Column            Non-Null Count  Dtype  \n",
      "---  ------            --------------  -----  \n",
      " 0   children          21525 non-null  int64  \n",
      " 1   days_employed     19351 non-null  float64\n",
      " 2   dob_years         21525 non-null  int64  \n",
      " 3   education         21525 non-null  object \n",
      " 4   education_id      21525 non-null  int64  \n",
      " 5   family_status     21525 non-null  object \n",
      " 6   family_status_id  21525 non-null  int64  \n",
      " 7   gender            21525 non-null  object \n",
      " 8   income_type       21525 non-null  object \n",
      " 9   debt              21525 non-null  int64  \n",
      " 10  total_income      19351 non-null  float64\n",
      " 11  purpose           21525 non-null  object \n",
      "dtypes: float64(2), int64(5), object(5)\n",
      "memory usage: 2.0+ MB\n"
     ]
    }
   ],
   "source": [
    "data.info()"
   ]
  },
  {
   "cell_type": "markdown",
   "id": "adf285c0",
   "metadata": {
    "deletable": false,
    "editable": false,
    "id": "333ec665"
   },
   "source": [
    "## Предобработка данных"
   ]
  },
  {
   "cell_type": "markdown",
   "id": "1b80e781",
   "metadata": {
    "deletable": false,
    "editable": false,
    "id": "02d92d53"
   },
   "source": [
    "### Удаление пропусков"
   ]
  },
  {
   "cell_type": "markdown",
   "id": "36ec5d3a",
   "metadata": {
    "deletable": false,
    "editable": false,
    "id": "cd84967c"
   },
   "source": [
    "**Задание 4. Выведите количество пропущенных значений для каждого столбца. Используйте комбинацию двух методов.**"
   ]
  },
  {
   "cell_type": "code",
   "execution_count": 4,
   "id": "3ef16245",
   "metadata": {
    "deletable": false,
    "id": "7f9b2309",
    "outputId": "81f4d817-781c-465c-ed15-91ce4446810d",
    "scrolled": false
   },
   "outputs": [
    {
     "data": {
      "text/plain": [
       "children               0\n",
       "days_employed       2174\n",
       "dob_years              0\n",
       "education              0\n",
       "education_id           0\n",
       "family_status          0\n",
       "family_status_id       0\n",
       "gender                 0\n",
       "income_type            0\n",
       "debt                   0\n",
       "total_income        2174\n",
       "purpose                0\n",
       "dtype: int64"
      ]
     },
     "execution_count": 4,
     "metadata": {},
     "output_type": "execute_result"
    }
   ],
   "source": [
    "data.isna().sum()"
   ]
  },
  {
   "cell_type": "markdown",
   "id": "379eacb1",
   "metadata": {
    "deletable": false,
    "editable": false,
    "id": "db86e27b"
   },
   "source": [
    "**Задание 5. В двух столбцах есть пропущенные значения. Один из них — `days_employed`. Пропуски в этом столбце вы обработаете на следующем этапе. Другой столбец с пропущенными значениями — `total_income` — хранит данные о доходах. На сумму дохода сильнее всего влияет тип занятости, поэтому заполнить пропуски в этом столбце нужно медианным значением по каждому типу из столбца `income_type`. Например, у человека с типом занятости `сотрудник` пропуск в столбце `total_income` должен быть заполнен медианным доходом среди всех записей с тем же типом.**"
   ]
  },
  {
   "cell_type": "code",
   "execution_count": 5,
   "id": "294983ac",
   "metadata": {
    "deletable": false,
    "id": "42006a93"
   },
   "outputs": [],
   "source": [
    "for t in data['income_type'].unique():\n",
    "    data.loc[(data['income_type'] == t) & (data['total_income'].isna()), 'total_income'] = \\\n",
    "    data.loc[(data['income_type'] == t), 'total_income'].median()"
   ]
  },
  {
   "cell_type": "markdown",
   "id": "2bd50862",
   "metadata": {
    "deletable": false,
    "editable": false,
    "id": "89da5ece"
   },
   "source": [
    "### Обработка аномальных значений"
   ]
  },
  {
   "cell_type": "markdown",
   "id": "8aad64f4",
   "metadata": {
    "deletable": false,
    "editable": false,
    "id": "57964554"
   },
   "source": [
    "**Задание 6. В данных могут встречаться артефакты (аномалии) — значения, которые не отражают действительность и появились по какой-то ошибке. таким артефактом будет отрицательное количество дней трудового стажа в столбце `days_employed`. Для реальных данных это нормально. Обработайте значения в этом столбце: замените все отрицательные значения положительными с помощью метода `abs()`.**"
   ]
  },
  {
   "cell_type": "code",
   "execution_count": 6,
   "id": "c3d43ffc",
   "metadata": {
    "deletable": false,
    "id": "f6f055bf"
   },
   "outputs": [],
   "source": [
    "data['days_employed'] = data['days_employed'].abs()"
   ]
  },
  {
   "cell_type": "markdown",
   "id": "3e6b2b91",
   "metadata": {
    "deletable": false,
    "editable": false,
    "id": "6107dd2f"
   },
   "source": [
    "**Задание 7. Для каждого типа занятости выведите медианное значение трудового стажа `days_employed` в днях.**"
   ]
  },
  {
   "cell_type": "code",
   "execution_count": 7,
   "id": "ae1c03b0",
   "metadata": {
    "deletable": false,
    "id": "85a5faf6",
    "outputId": "801ef80e-522b-4668-f34e-565af7432bcf",
    "scrolled": false
   },
   "outputs": [
    {
     "data": {
      "text/plain": [
       "income_type\n",
       "безработный        366413.652744\n",
       "в декрете            3296.759962\n",
       "госслужащий          2689.368353\n",
       "компаньон            1547.382223\n",
       "пенсионер          365213.306266\n",
       "предприниматель       520.848083\n",
       "сотрудник            1574.202821\n",
       "студент               578.751554\n",
       "Name: days_employed, dtype: float64"
      ]
     },
     "execution_count": 7,
     "metadata": {},
     "output_type": "execute_result"
    }
   ],
   "source": [
    "data.groupby('income_type')['days_employed'].agg('median')"
   ]
  },
  {
   "cell_type": "markdown",
   "id": "f3f7f439",
   "metadata": {
    "deletable": false,
    "editable": false,
    "id": "38d1a030"
   },
   "source": [
    "У двух типов (безработные и пенсионеры) получатся аномально большие значения. Исправить такие значения сложно, поэтому оставьте их как есть. Тем более этот столбец не понадобится вам для исследования."
   ]
  },
  {
   "cell_type": "markdown",
   "id": "0e684129",
   "metadata": {
    "deletable": false,
    "editable": false,
    "id": "d8a9f147"
   },
   "source": [
    "**Задание 8. Выведите перечень уникальных значений столбца `children`.**"
   ]
  },
  {
   "cell_type": "code",
   "execution_count": 8,
   "id": "24c9086e",
   "metadata": {
    "deletable": false,
    "id": "ef5056eb",
    "outputId": "6975b15c-7f95-4697-d16d-a0c79b657b03"
   },
   "outputs": [
    {
     "data": {
      "text/plain": [
       "array([ 1,  0,  3,  2, -1,  4, 20,  5], dtype=int64)"
      ]
     },
     "execution_count": 8,
     "metadata": {},
     "output_type": "execute_result"
    }
   ],
   "source": [
    "data['children'].unique()"
   ]
  },
  {
   "cell_type": "markdown",
   "id": "3bc10179",
   "metadata": {
    "deletable": false,
    "editable": false,
    "id": "40b9ebf2"
   },
   "source": [
    "**Задание 9. В столбце `children` есть два аномальных значения. Удалите строки, в которых встречаются такие аномальные значения из датафрейма `data`.**"
   ]
  },
  {
   "cell_type": "code",
   "execution_count": 9,
   "id": "857d4eec",
   "metadata": {
    "deletable": false,
    "id": "3ff9801d"
   },
   "outputs": [],
   "source": [
    "data = data[(data['children'] != -1) & (data['children'] != 20)]"
   ]
  },
  {
   "cell_type": "markdown",
   "id": "b1f65eb4",
   "metadata": {
    "deletable": false,
    "editable": false,
    "id": "bbc4d0ce"
   },
   "source": [
    "**Задание 10. Ещё раз выведите перечень уникальных значений столбца `children`, чтобы убедиться, что артефакты удалены.**"
   ]
  },
  {
   "cell_type": "code",
   "execution_count": 10,
   "id": "a0c73f8c",
   "metadata": {
    "deletable": false,
    "id": "ad4fa8b7",
    "outputId": "b2097101-d49d-44d9-901b-32a65c9463d1"
   },
   "outputs": [
    {
     "data": {
      "text/plain": [
       "array([1, 0, 3, 2, 4, 5], dtype=int64)"
      ]
     },
     "execution_count": 10,
     "metadata": {},
     "output_type": "execute_result"
    }
   ],
   "source": [
    "data['children'].unique()"
   ]
  },
  {
   "cell_type": "markdown",
   "id": "b73ab873",
   "metadata": {
    "deletable": false,
    "editable": false,
    "id": "75440b63"
   },
   "source": [
    "### Удаление пропусков (продолжение)"
   ]
  },
  {
   "cell_type": "markdown",
   "id": "62dfc5f1",
   "metadata": {
    "deletable": false,
    "editable": false,
    "id": "f4ea573f"
   },
   "source": [
    "**Задание 11. Заполните пропуски в столбце `days_employed` медианными значениями по каждого типа занятости `income_type`.**"
   ]
  },
  {
   "cell_type": "code",
   "execution_count": 11,
   "id": "e5c910e5",
   "metadata": {
    "deletable": false,
    "id": "af6b1a7e"
   },
   "outputs": [],
   "source": [
    "for t in data['income_type'].unique():\n",
    "    data.loc[(data['income_type'] == t) & (data['days_employed'].isna()), 'days_employed'] = \\\n",
    "    data.loc[(data['income_type'] == t), 'days_employed'].median()"
   ]
  },
  {
   "cell_type": "markdown",
   "id": "da4c0ddf",
   "metadata": {
    "deletable": false,
    "editable": false,
    "id": "2753f40d"
   },
   "source": [
    "**Задание 12. Убедитесь, что все пропуски заполнены. Проверьте себя и ещё раз выведите количество пропущенных значений для каждого столбца с помощью двух методов.**"
   ]
  },
  {
   "cell_type": "code",
   "execution_count": 12,
   "id": "68d39d02",
   "metadata": {
    "deletable": false,
    "id": "55f78bc2",
    "outputId": "8da1e4e1-358e-4e87-98c9-f261bce0a7b2",
    "scrolled": false
   },
   "outputs": [
    {
     "data": {
      "text/plain": [
       "children            0\n",
       "days_employed       0\n",
       "dob_years           0\n",
       "education           0\n",
       "education_id        0\n",
       "family_status       0\n",
       "family_status_id    0\n",
       "gender              0\n",
       "income_type         0\n",
       "debt                0\n",
       "total_income        0\n",
       "purpose             0\n",
       "dtype: int64"
      ]
     },
     "execution_count": 12,
     "metadata": {},
     "output_type": "execute_result"
    }
   ],
   "source": [
    "data.isna().sum()"
   ]
  },
  {
   "cell_type": "markdown",
   "id": "225e7e3f",
   "metadata": {
    "deletable": false,
    "editable": false,
    "id": "ddc81e43"
   },
   "source": [
    "### Изменение типов данных"
   ]
  },
  {
   "cell_type": "markdown",
   "id": "71dcfe4f",
   "metadata": {
    "deletable": false,
    "editable": false,
    "id": "42d19d24"
   },
   "source": [
    "**Задание 13. Замените вещественный тип данных в столбце `total_income` на целочисленный с помощью метода `astype()`.**"
   ]
  },
  {
   "cell_type": "code",
   "execution_count": 13,
   "id": "f9722f3c",
   "metadata": {
    "deletable": false,
    "id": "920b65ad"
   },
   "outputs": [],
   "source": [
    "data['total_income'] = data['total_income'].astype(int)"
   ]
  },
  {
   "cell_type": "markdown",
   "id": "97866c1d",
   "metadata": {
    "deletable": false,
    "editable": false,
    "id": "80c420ba"
   },
   "source": [
    "### Обработка дубликатов"
   ]
  },
  {
   "cell_type": "markdown",
   "id": "191fb762",
   "metadata": {
    "deletable": false,
    "editable": false
   },
   "source": [
    "**Задание 14. Обработайте неявные дубликаты в столбце `education`. В этом столбце есть одни и те же значения, но записанные по-разному: с использованием заглавных и строчных букв. Приведите их к нижнему регистру. Проверьте остальные столбцы.**"
   ]
  },
  {
   "cell_type": "code",
   "execution_count": 14,
   "id": "d94c0b3e",
   "metadata": {
    "deletable": false
   },
   "outputs": [],
   "source": [
    "data['education'] = data['education'].str.lower()"
   ]
  },
  {
   "cell_type": "markdown",
   "id": "3670d62f",
   "metadata": {
    "deletable": false,
    "editable": false,
    "id": "dc587695"
   },
   "source": [
    "**Задание 15. Выведите на экран количество строк-дубликатов в данных. Если такие строки присутствуют, удалите их.**"
   ]
  },
  {
   "cell_type": "code",
   "execution_count": 15,
   "id": "0d7f0792",
   "metadata": {
    "deletable": false,
    "id": "3ee445e4",
    "outputId": "9684deba-1934-42d1-99e1-cda61740f822"
   },
   "outputs": [
    {
     "data": {
      "text/plain": [
       "71"
      ]
     },
     "execution_count": 15,
     "metadata": {},
     "output_type": "execute_result"
    }
   ],
   "source": [
    "data.duplicated().sum()"
   ]
  },
  {
   "cell_type": "code",
   "execution_count": 16,
   "id": "666a5fdc",
   "metadata": {
    "deletable": false,
    "id": "8575fe05"
   },
   "outputs": [],
   "source": [
    "data = data.drop_duplicates()"
   ]
  },
  {
   "cell_type": "markdown",
   "id": "1d2a09ff",
   "metadata": {
    "deletable": false,
    "editable": false,
    "id": "9904cf55"
   },
   "source": [
    "### Категоризация данных"
   ]
  },
  {
   "cell_type": "markdown",
   "id": "43ebe01b",
   "metadata": {
    "deletable": false,
    "editable": false,
    "id": "72fcc8a2"
   },
   "source": [
    "**Задание 16. На основании диапазонов, указанных ниже, создайте в датафрейме `data` столбец `total_income_category` с категориями:**\n",
    "\n",
    "- 0–30000 — `'E'`;\n",
    "- 30001–50000 — `'D'`;\n",
    "- 50001–200000 — `'C'`;\n",
    "- 200001–1000000 — `'B'`;\n",
    "- 1000001 и выше — `'A'`.\n",
    "\n",
    "\n",
    "**Например, кредитополучателю с доходом 25000 нужно назначить категорию `'E'`, а клиенту, получающему 235000, — `'B'`. Используйте собственную функцию с именем `categorize_income()` и метод `apply()`.**"
   ]
  },
  {
   "cell_type": "code",
   "execution_count": 17,
   "id": "74bf05ff",
   "metadata": {
    "deletable": false,
    "id": "e1771346"
   },
   "outputs": [],
   "source": [
    "def categorize_income(income):\n",
    "    try:\n",
    "        if 0 <= income <= 30000:\n",
    "            return 'E'\n",
    "        elif 30001 <= income <= 50000:\n",
    "            return 'D'\n",
    "        elif 50001 <= income <= 200000:\n",
    "            return 'C'\n",
    "        elif 200001 <= income <= 1000000:\n",
    "            return 'B'\n",
    "        elif income >= 1000001:\n",
    "            return 'A'\n",
    "    except:\n",
    "        pass"
   ]
  },
  {
   "cell_type": "code",
   "execution_count": 18,
   "id": "832f87ae",
   "metadata": {
    "deletable": false,
    "id": "d5f3586d"
   },
   "outputs": [],
   "source": [
    "data['total_income_category'] = data['total_income'].apply(categorize_income)"
   ]
  },
  {
   "cell_type": "markdown",
   "id": "6dc5bf7d",
   "metadata": {
    "deletable": false,
    "editable": false,
    "id": "dde49b5c"
   },
   "source": [
    "**Задание 17. Выведите на экран перечень уникальных целей взятия кредита из столбца `purpose`.**"
   ]
  },
  {
   "cell_type": "code",
   "execution_count": 19,
   "id": "1e0612e9",
   "metadata": {
    "deletable": false,
    "id": "f67ce9b3",
    "outputId": "673c12d9-7d7e-4ae0-9812-c622c89dd244",
    "scrolled": false
   },
   "outputs": [
    {
     "data": {
      "text/plain": [
       "array(['покупка жилья', 'приобретение автомобиля',\n",
       "       'дополнительное образование', 'сыграть свадьбу',\n",
       "       'операции с жильем', 'образование', 'на проведение свадьбы',\n",
       "       'покупка жилья для семьи', 'покупка недвижимости',\n",
       "       'покупка коммерческой недвижимости', 'покупка жилой недвижимости',\n",
       "       'строительство собственной недвижимости', 'недвижимость',\n",
       "       'строительство недвижимости', 'на покупку подержанного автомобиля',\n",
       "       'на покупку своего автомобиля',\n",
       "       'операции с коммерческой недвижимостью',\n",
       "       'строительство жилой недвижимости', 'жилье',\n",
       "       'операции со своей недвижимостью', 'автомобили',\n",
       "       'заняться образованием', 'сделка с подержанным автомобилем',\n",
       "       'получение образования', 'автомобиль', 'свадьба',\n",
       "       'получение дополнительного образования', 'покупка своего жилья',\n",
       "       'операции с недвижимостью', 'получение высшего образования',\n",
       "       'свой автомобиль', 'сделка с автомобилем',\n",
       "       'профильное образование', 'высшее образование',\n",
       "       'покупка жилья для сдачи', 'на покупку автомобиля', 'ремонт жилью',\n",
       "       'заняться высшим образованием'], dtype=object)"
      ]
     },
     "execution_count": 19,
     "metadata": {},
     "output_type": "execute_result"
    }
   ],
   "source": [
    "data['purpose'].unique()"
   ]
  },
  {
   "cell_type": "markdown",
   "id": "1fe29895",
   "metadata": {
    "deletable": false,
    "editable": false,
    "id": "85d0aef0"
   },
   "source": [
    "**Задание 18. Создайте функцию, которая на основании данных из столбца `purpose` сформирует новый столбец `purpose_category`, в который войдут следующие категории:**\n",
    "\n",
    "- `'операции с автомобилем'`,\n",
    "- `'операции с недвижимостью'`,\n",
    "- `'проведение свадьбы'`,\n",
    "- `'получение образования'`.\n",
    "\n",
    "**Например, если в столбце `purpose` находится подстрока `'на покупку автомобиля'`, то в столбце `purpose_category` должна появиться строка `'операции с автомобилем'`.**\n",
    "\n",
    "**Используйте собственную функцию с именем `categorize_purpose()` и метод `apply()`. Изучите данные в столбце `purpose` и определите, какие подстроки помогут вам правильно определить категорию.**"
   ]
  },
  {
   "cell_type": "code",
   "execution_count": 20,
   "id": "c5df3d06",
   "metadata": {
    "deletable": false,
    "id": "e149fab4"
   },
   "outputs": [],
   "source": [
    "def categorize_purpose(row):\n",
    "    try:\n",
    "        if 'автом' in row:\n",
    "            return 'операции с автомобилем'\n",
    "        elif 'жил' in row or 'недвиж' in row:\n",
    "            return 'операции с недвижимостью'\n",
    "        elif 'свад' in row:\n",
    "            return 'проведение свадьбы'\n",
    "        elif 'образов' in row:\n",
    "            return 'получение образования'\n",
    "    except:\n",
    "        return 'нет категории'"
   ]
  },
  {
   "cell_type": "code",
   "execution_count": 21,
   "id": "04120627",
   "metadata": {
    "deletable": false,
    "id": "bf36e69b"
   },
   "outputs": [],
   "source": [
    "data['purpose_category'] = data['purpose'].apply(categorize_purpose)"
   ]
  },
  {
   "cell_type": "markdown",
   "id": "e9eb583a",
   "metadata": {
    "deletable": false,
    "editable": false,
    "id": "09b242bf"
   },
   "source": [
    "### Шаг 3. Исследуйте данные и ответьте на вопросы"
   ]
  },
  {
   "cell_type": "markdown",
   "id": "dd5a94df",
   "metadata": {
    "deletable": false,
    "editable": false,
    "id": "c5d66278"
   },
   "source": [
    "#### 3.1 Есть ли зависимость между количеством детей и возвратом кредита в срок?"
   ]
  },
  {
   "cell_type": "code",
   "execution_count": 22,
   "id": "fab1cfb2",
   "metadata": {
    "deletable": false,
    "id": "2cacfc4a"
   },
   "outputs": [
    {
     "name": "stdout",
     "output_type": "stream",
     "text": [
      "8.12%\n"
     ]
    }
   ],
   "source": [
    "#расчитываем общую вероятность просрочить платёж по кредиту \n",
    "total_probability_delinquency = data.debt.mean()\n",
    "print(f'{total_probability_delinquency:.2%}')"
   ]
  },
  {
   "cell_type": "code",
   "execution_count": 23,
   "id": "77cd9862",
   "metadata": {},
   "outputs": [
    {
     "data": {
      "text/plain": [
       "children\n",
       "0    0.075438\n",
       "1    0.092346\n",
       "2    0.094542\n",
       "3    0.081818\n",
       "4    0.097561\n",
       "5    0.000000\n",
       "Name: debt, dtype: float64"
      ]
     },
     "execution_count": 23,
     "metadata": {},
     "output_type": "execute_result"
    }
   ],
   "source": [
    "#рассчитываем вероятность просрочки по кредиту в зависимости от количества детей в семье\n",
    "probability_delinquency = data.groupby('children').debt.mean()\n",
    "probability_delinquency"
   ]
  },
  {
   "cell_type": "markdown",
   "id": "3582dfe6",
   "metadata": {},
   "source": [
    "Предварительные данные выглядят интересно: бездетные имеют более низкую вероятность просрочки, чем средняя вероятность (чуть меньше, чем на 0,6%), а вот люди с 1, 2 и 4 детьми имеют гораздо больше шансов просросить платёж, чем бездетные (разница почти в 2%) или в среднем по всем категориям (на 1,3% больше по медианному значению). Люди с 3 детьми имеют вероятность просрочки сравнимую со средней. А вот с 5 детьми просрочек нет вообще. Выглядит немного странно. Может малое количество детей с 5 детьми и эта категория несущественна (предположение1) или влияет сразу несколько показателей (предположение2)."
   ]
  },
  {
   "cell_type": "code",
   "execution_count": 24,
   "id": "653b26a5",
   "metadata": {},
   "outputs": [
    {
     "data": {
      "text/plain": [
       "children\n",
       "0    14091\n",
       "1     4808\n",
       "2     2052\n",
       "3      330\n",
       "4       41\n",
       "5        9\n",
       "Name: children, dtype: int64"
      ]
     },
     "execution_count": 24,
     "metadata": {},
     "output_type": "execute_result"
    }
   ],
   "source": [
    "#проверяем первую идею о малом количестве группы с 5 детьми\n",
    "number_of_groups = data.groupby('children').children.count()\n",
    "number_of_groups"
   ]
  },
  {
   "cell_type": "markdown",
   "id": "b65223dd",
   "metadata": {},
   "source": [
    "Подтверждение 1ой гипотезы. Численность групп наводит на мысли о разделении всех людей на бездетных, людей с детьми (1-2 ребёнка) и многодетных (3 и более детей)"
   ]
  },
  {
   "cell_type": "code",
   "execution_count": 25,
   "id": "2df855ac",
   "metadata": {},
   "outputs": [
    {
     "data": {
      "text/html": [
       "<div>\n",
       "<style scoped>\n",
       "    .dataframe tbody tr th:only-of-type {\n",
       "        vertical-align: middle;\n",
       "    }\n",
       "\n",
       "    .dataframe tbody tr th {\n",
       "        vertical-align: top;\n",
       "    }\n",
       "\n",
       "    .dataframe thead th {\n",
       "        text-align: right;\n",
       "    }\n",
       "</style>\n",
       "<table border=\"1\" class=\"dataframe\">\n",
       "  <thead>\n",
       "    <tr style=\"text-align: right;\">\n",
       "      <th></th>\n",
       "      <th>children</th>\n",
       "      <th>days_employed</th>\n",
       "      <th>dob_years</th>\n",
       "      <th>education</th>\n",
       "      <th>education_id</th>\n",
       "      <th>family_status</th>\n",
       "      <th>family_status_id</th>\n",
       "      <th>gender</th>\n",
       "      <th>income_type</th>\n",
       "      <th>debt</th>\n",
       "      <th>total_income</th>\n",
       "      <th>purpose</th>\n",
       "      <th>total_income_category</th>\n",
       "      <th>purpose_category</th>\n",
       "      <th>type_family</th>\n",
       "    </tr>\n",
       "  </thead>\n",
       "  <tbody>\n",
       "    <tr>\n",
       "      <th>0</th>\n",
       "      <td>1</td>\n",
       "      <td>8437.673028</td>\n",
       "      <td>42</td>\n",
       "      <td>высшее</td>\n",
       "      <td>0</td>\n",
       "      <td>женат / замужем</td>\n",
       "      <td>0</td>\n",
       "      <td>F</td>\n",
       "      <td>сотрудник</td>\n",
       "      <td>0</td>\n",
       "      <td>253875</td>\n",
       "      <td>покупка жилья</td>\n",
       "      <td>B</td>\n",
       "      <td>операции с недвижимостью</td>\n",
       "      <td>люди с детьми</td>\n",
       "    </tr>\n",
       "    <tr>\n",
       "      <th>1</th>\n",
       "      <td>1</td>\n",
       "      <td>4024.803754</td>\n",
       "      <td>36</td>\n",
       "      <td>среднее</td>\n",
       "      <td>1</td>\n",
       "      <td>женат / замужем</td>\n",
       "      <td>0</td>\n",
       "      <td>F</td>\n",
       "      <td>сотрудник</td>\n",
       "      <td>0</td>\n",
       "      <td>112080</td>\n",
       "      <td>приобретение автомобиля</td>\n",
       "      <td>C</td>\n",
       "      <td>операции с автомобилем</td>\n",
       "      <td>люди с детьми</td>\n",
       "    </tr>\n",
       "    <tr>\n",
       "      <th>2</th>\n",
       "      <td>0</td>\n",
       "      <td>5623.422610</td>\n",
       "      <td>33</td>\n",
       "      <td>среднее</td>\n",
       "      <td>1</td>\n",
       "      <td>женат / замужем</td>\n",
       "      <td>0</td>\n",
       "      <td>M</td>\n",
       "      <td>сотрудник</td>\n",
       "      <td>0</td>\n",
       "      <td>145885</td>\n",
       "      <td>покупка жилья</td>\n",
       "      <td>C</td>\n",
       "      <td>операции с недвижимостью</td>\n",
       "      <td>бездетные</td>\n",
       "    </tr>\n",
       "    <tr>\n",
       "      <th>3</th>\n",
       "      <td>3</td>\n",
       "      <td>4124.747207</td>\n",
       "      <td>32</td>\n",
       "      <td>среднее</td>\n",
       "      <td>1</td>\n",
       "      <td>женат / замужем</td>\n",
       "      <td>0</td>\n",
       "      <td>M</td>\n",
       "      <td>сотрудник</td>\n",
       "      <td>0</td>\n",
       "      <td>267628</td>\n",
       "      <td>дополнительное образование</td>\n",
       "      <td>B</td>\n",
       "      <td>получение образования</td>\n",
       "      <td>многодетные</td>\n",
       "    </tr>\n",
       "    <tr>\n",
       "      <th>4</th>\n",
       "      <td>0</td>\n",
       "      <td>340266.072047</td>\n",
       "      <td>53</td>\n",
       "      <td>среднее</td>\n",
       "      <td>1</td>\n",
       "      <td>гражданский брак</td>\n",
       "      <td>1</td>\n",
       "      <td>F</td>\n",
       "      <td>пенсионер</td>\n",
       "      <td>0</td>\n",
       "      <td>158616</td>\n",
       "      <td>сыграть свадьбу</td>\n",
       "      <td>C</td>\n",
       "      <td>проведение свадьбы</td>\n",
       "      <td>бездетные</td>\n",
       "    </tr>\n",
       "    <tr>\n",
       "      <th>5</th>\n",
       "      <td>0</td>\n",
       "      <td>926.185831</td>\n",
       "      <td>27</td>\n",
       "      <td>высшее</td>\n",
       "      <td>0</td>\n",
       "      <td>гражданский брак</td>\n",
       "      <td>1</td>\n",
       "      <td>M</td>\n",
       "      <td>компаньон</td>\n",
       "      <td>0</td>\n",
       "      <td>255763</td>\n",
       "      <td>покупка жилья</td>\n",
       "      <td>B</td>\n",
       "      <td>операции с недвижимостью</td>\n",
       "      <td>бездетные</td>\n",
       "    </tr>\n",
       "    <tr>\n",
       "      <th>6</th>\n",
       "      <td>0</td>\n",
       "      <td>2879.202052</td>\n",
       "      <td>43</td>\n",
       "      <td>высшее</td>\n",
       "      <td>0</td>\n",
       "      <td>женат / замужем</td>\n",
       "      <td>0</td>\n",
       "      <td>F</td>\n",
       "      <td>компаньон</td>\n",
       "      <td>0</td>\n",
       "      <td>240525</td>\n",
       "      <td>операции с жильем</td>\n",
       "      <td>B</td>\n",
       "      <td>операции с недвижимостью</td>\n",
       "      <td>бездетные</td>\n",
       "    </tr>\n",
       "    <tr>\n",
       "      <th>7</th>\n",
       "      <td>0</td>\n",
       "      <td>152.779569</td>\n",
       "      <td>50</td>\n",
       "      <td>среднее</td>\n",
       "      <td>1</td>\n",
       "      <td>женат / замужем</td>\n",
       "      <td>0</td>\n",
       "      <td>M</td>\n",
       "      <td>сотрудник</td>\n",
       "      <td>0</td>\n",
       "      <td>135823</td>\n",
       "      <td>образование</td>\n",
       "      <td>C</td>\n",
       "      <td>получение образования</td>\n",
       "      <td>бездетные</td>\n",
       "    </tr>\n",
       "    <tr>\n",
       "      <th>8</th>\n",
       "      <td>2</td>\n",
       "      <td>6929.865299</td>\n",
       "      <td>35</td>\n",
       "      <td>высшее</td>\n",
       "      <td>0</td>\n",
       "      <td>гражданский брак</td>\n",
       "      <td>1</td>\n",
       "      <td>F</td>\n",
       "      <td>сотрудник</td>\n",
       "      <td>0</td>\n",
       "      <td>95856</td>\n",
       "      <td>на проведение свадьбы</td>\n",
       "      <td>C</td>\n",
       "      <td>проведение свадьбы</td>\n",
       "      <td>люди с детьми</td>\n",
       "    </tr>\n",
       "    <tr>\n",
       "      <th>9</th>\n",
       "      <td>0</td>\n",
       "      <td>2188.756445</td>\n",
       "      <td>41</td>\n",
       "      <td>среднее</td>\n",
       "      <td>1</td>\n",
       "      <td>женат / замужем</td>\n",
       "      <td>0</td>\n",
       "      <td>M</td>\n",
       "      <td>сотрудник</td>\n",
       "      <td>0</td>\n",
       "      <td>144425</td>\n",
       "      <td>покупка жилья для семьи</td>\n",
       "      <td>C</td>\n",
       "      <td>операции с недвижимостью</td>\n",
       "      <td>бездетные</td>\n",
       "    </tr>\n",
       "  </tbody>\n",
       "</table>\n",
       "</div>"
      ],
      "text/plain": [
       "   children  days_employed  dob_years education  education_id  \\\n",
       "0         1    8437.673028         42    высшее             0   \n",
       "1         1    4024.803754         36   среднее             1   \n",
       "2         0    5623.422610         33   среднее             1   \n",
       "3         3    4124.747207         32   среднее             1   \n",
       "4         0  340266.072047         53   среднее             1   \n",
       "5         0     926.185831         27    высшее             0   \n",
       "6         0    2879.202052         43    высшее             0   \n",
       "7         0     152.779569         50   среднее             1   \n",
       "8         2    6929.865299         35    высшее             0   \n",
       "9         0    2188.756445         41   среднее             1   \n",
       "\n",
       "      family_status  family_status_id gender income_type  debt  total_income  \\\n",
       "0   женат / замужем                 0      F   сотрудник     0        253875   \n",
       "1   женат / замужем                 0      F   сотрудник     0        112080   \n",
       "2   женат / замужем                 0      M   сотрудник     0        145885   \n",
       "3   женат / замужем                 0      M   сотрудник     0        267628   \n",
       "4  гражданский брак                 1      F   пенсионер     0        158616   \n",
       "5  гражданский брак                 1      M   компаньон     0        255763   \n",
       "6   женат / замужем                 0      F   компаньон     0        240525   \n",
       "7   женат / замужем                 0      M   сотрудник     0        135823   \n",
       "8  гражданский брак                 1      F   сотрудник     0         95856   \n",
       "9   женат / замужем                 0      M   сотрудник     0        144425   \n",
       "\n",
       "                      purpose total_income_category          purpose_category  \\\n",
       "0               покупка жилья                     B  операции с недвижимостью   \n",
       "1     приобретение автомобиля                     C    операции с автомобилем   \n",
       "2               покупка жилья                     C  операции с недвижимостью   \n",
       "3  дополнительное образование                     B     получение образования   \n",
       "4             сыграть свадьбу                     C        проведение свадьбы   \n",
       "5               покупка жилья                     B  операции с недвижимостью   \n",
       "6           операции с жильем                     B  операции с недвижимостью   \n",
       "7                 образование                     C     получение образования   \n",
       "8       на проведение свадьбы                     C        проведение свадьбы   \n",
       "9     покупка жилья для семьи                     C  операции с недвижимостью   \n",
       "\n",
       "     type_family  \n",
       "0  люди с детьми  \n",
       "1  люди с детьми  \n",
       "2      бездетные  \n",
       "3    многодетные  \n",
       "4      бездетные  \n",
       "5      бездетные  \n",
       "6      бездетные  \n",
       "7      бездетные  \n",
       "8  люди с детьми  \n",
       "9      бездетные  "
      ]
     },
     "execution_count": 25,
     "metadata": {},
     "output_type": "execute_result"
    }
   ],
   "source": [
    "#делим всех на бездетных, людей с детьми и многодетных\n",
    "def family_composition(children):\n",
    "    if children == 0:\n",
    "        return 'бездетные'\n",
    "    elif children <= 2:\n",
    "        return 'люди с детьми'\n",
    "    else:\n",
    "        return 'многодетные'\n",
    "    \n",
    "data['type_family'] = data.children.apply(family_composition)\n",
    "data.head(10)"
   ]
  },
  {
   "cell_type": "code",
   "execution_count": 26,
   "id": "336a4cab",
   "metadata": {},
   "outputs": [
    {
     "data": {
      "text/plain": [
       "type_family\n",
       "бездетные        0.075438\n",
       "люди с детьми    0.093003\n",
       "многодетные      0.081579\n",
       "Name: debt, dtype: float64"
      ]
     },
     "execution_count": 26,
     "metadata": {},
     "output_type": "execute_result"
    }
   ],
   "source": [
    "#повторяем расчёт веротности просрочек кредитов с новыми категориями\n",
    "probability_delinquency_new_groups = data.groupby('type_family').debt.mean()\n",
    "probability_delinquency_new_groups"
   ]
  },
  {
   "cell_type": "markdown",
   "id": "998ae6ea",
   "metadata": {},
   "source": [
    "Теперь стало понятно, что действительно наличие детей затрудняет возврат кредита, но как ни странно больше всего влияет не на многодетных, а на людей с 1-2 детьми. Осталась 2 гипотеза: как влияет если есть сразу 2 показателя - скажем: наличие детей и род деятельности."
   ]
  },
  {
   "cell_type": "code",
   "execution_count": 27,
   "id": "a525974e",
   "metadata": {
    "scrolled": false
   },
   "outputs": [
    {
     "data": {
      "text/html": [
       "<div>\n",
       "<style scoped>\n",
       "    .dataframe tbody tr th:only-of-type {\n",
       "        vertical-align: middle;\n",
       "    }\n",
       "\n",
       "    .dataframe tbody tr th {\n",
       "        vertical-align: top;\n",
       "    }\n",
       "\n",
       "    .dataframe thead th {\n",
       "        text-align: right;\n",
       "    }\n",
       "</style>\n",
       "<table border=\"1\" class=\"dataframe\">\n",
       "  <thead>\n",
       "    <tr style=\"text-align: right;\">\n",
       "      <th></th>\n",
       "      <th></th>\n",
       "      <th>debt</th>\n",
       "    </tr>\n",
       "    <tr>\n",
       "      <th>type_family</th>\n",
       "      <th>income_type</th>\n",
       "      <th></th>\n",
       "    </tr>\n",
       "  </thead>\n",
       "  <tbody>\n",
       "    <tr>\n",
       "      <th rowspan=\"7\" valign=\"top\">бездетные</th>\n",
       "      <th>безработный</th>\n",
       "      <td>0.000000</td>\n",
       "    </tr>\n",
       "    <tr>\n",
       "      <th>госслужащий</th>\n",
       "      <td>0.068129</td>\n",
       "    </tr>\n",
       "    <tr>\n",
       "      <th>компаньон</th>\n",
       "      <td>0.072043</td>\n",
       "    </tr>\n",
       "    <tr>\n",
       "      <th>пенсионер</th>\n",
       "      <td>0.056410</td>\n",
       "    </tr>\n",
       "    <tr>\n",
       "      <th>предприниматель</th>\n",
       "      <td>0.000000</td>\n",
       "    </tr>\n",
       "    <tr>\n",
       "      <th>сотрудник</th>\n",
       "      <td>0.088226</td>\n",
       "    </tr>\n",
       "    <tr>\n",
       "      <th>студент</th>\n",
       "      <td>0.000000</td>\n",
       "    </tr>\n",
       "    <tr>\n",
       "      <th rowspan=\"6\" valign=\"top\">люди с детьми</th>\n",
       "      <th>безработный</th>\n",
       "      <td>1.000000</td>\n",
       "    </tr>\n",
       "    <tr>\n",
       "      <th>в декрете</th>\n",
       "      <td>1.000000</td>\n",
       "    </tr>\n",
       "    <tr>\n",
       "      <th>госслужащий</th>\n",
       "      <td>0.046211</td>\n",
       "    </tr>\n",
       "    <tr>\n",
       "      <th>компаньон</th>\n",
       "      <td>0.078270</td>\n",
       "    </tr>\n",
       "    <tr>\n",
       "      <th>пенсионер</th>\n",
       "      <td>0.057627</td>\n",
       "    </tr>\n",
       "    <tr>\n",
       "      <th>сотрудник</th>\n",
       "      <td>0.107509</td>\n",
       "    </tr>\n",
       "    <tr>\n",
       "      <th rowspan=\"4\" valign=\"top\">многодетные</th>\n",
       "      <th>госслужащий</th>\n",
       "      <td>0.045455</td>\n",
       "    </tr>\n",
       "    <tr>\n",
       "      <th>компаньон</th>\n",
       "      <td>0.060241</td>\n",
       "    </tr>\n",
       "    <tr>\n",
       "      <th>пенсионер</th>\n",
       "      <td>0.142857</td>\n",
       "    </tr>\n",
       "    <tr>\n",
       "      <th>сотрудник</th>\n",
       "      <td>0.093496</td>\n",
       "    </tr>\n",
       "  </tbody>\n",
       "</table>\n",
       "</div>"
      ],
      "text/plain": [
       "                                   debt\n",
       "type_family   income_type              \n",
       "бездетные     безработный      0.000000\n",
       "              госслужащий      0.068129\n",
       "              компаньон        0.072043\n",
       "              пенсионер        0.056410\n",
       "              предприниматель  0.000000\n",
       "              сотрудник        0.088226\n",
       "              студент          0.000000\n",
       "люди с детьми безработный      1.000000\n",
       "              в декрете        1.000000\n",
       "              госслужащий      0.046211\n",
       "              компаньон        0.078270\n",
       "              пенсионер        0.057627\n",
       "              сотрудник        0.107509\n",
       "многодетные   госслужащий      0.045455\n",
       "              компаньон        0.060241\n",
       "              пенсионер        0.142857\n",
       "              сотрудник        0.093496"
      ]
     },
     "execution_count": 27,
     "metadata": {},
     "output_type": "execute_result"
    }
   ],
   "source": [
    "#проводим расчёт влияния и количества детей и тип заработка на возрат кредита\n",
    "delinquency = data[['type_family', 'income_type', 'debt']]\n",
    "delinquency = delinquency.groupby(['type_family', 'income_type']).mean()\n",
    "delinquency"
   ]
  },
  {
   "cell_type": "markdown",
   "id": "38b9b463",
   "metadata": {},
   "source": [
    "Такая сортировка только уточникла проблемные категории. Из них: самые проблемные - ими стали люди с детьми - безработные и в декрете. Проблемные: многодетные пенсионеры, люди с детьми - сотрудники, многодетные - сотрудники, бездетные сотрудники. А также выявила и Беспроблемные категории (на данный момент): бездетные: безработный, предприниматель, студент."
   ]
  },
  {
   "cell_type": "markdown",
   "id": "961853e4",
   "metadata": {
    "deletable": false,
    "id": "3a6b99ec"
   },
   "source": [
    "**Вывод:** Да, влияние наличия детей на возврат кредита в срок есть и оно ощутимо. Бездетные займодавцы возвращают кредит легче всего; Сложнее всего приходиться с теми у кого 1-2 ребёнка. А вот при наличии 3 и более детей в семье риски средние. как и писали раньше самые проблемные категории стали: люди с 1-2 детьми при этом безработные или находящиеся в декрете."
   ]
  },
  {
   "cell_type": "markdown",
   "id": "4add51d5",
   "metadata": {
    "deletable": false,
    "editable": false,
    "id": "97be82ca"
   },
   "source": [
    "#### 3.2 Есть ли зависимость между семейным положением и возвратом кредита в срок?"
   ]
  },
  {
   "cell_type": "code",
   "execution_count": 28,
   "id": "003b6a31",
   "metadata": {
    "deletable": false,
    "id": "dc3f7ee8",
    "scrolled": false
   },
   "outputs": [
    {
     "data": {
      "text/plain": [
       "family_status\n",
       "Не женат / не замужем    0.097639\n",
       "в разводе                0.070648\n",
       "вдовец / вдова           0.066246\n",
       "гражданский брак         0.093130\n",
       "женат / замужем          0.075606\n",
       "Name: debt, dtype: float64"
      ]
     },
     "execution_count": 28,
     "metadata": {},
     "output_type": "execute_result"
    }
   ],
   "source": [
    "#группируем данные для поиска зависимости между семейным положением и вероятностью просрочки кредита\n",
    "delinquency_with_family_status = data.groupby('family_status').debt.mean()\n",
    "delinquency_with_family_status"
   ]
  },
  {
   "cell_type": "markdown",
   "id": "0d069aff",
   "metadata": {
    "deletable": false,
    "id": "1cef7837"
   },
   "source": [
    "**Вывод:** Больше всего просрочек у тех кто не был женат/замужем или у тех кто находиться в состоянии гражданского брака. У остальных процент просрочек меньше, чем в среднем. Возможно это возникает из-за тог, что в семье (оформленной юридически) принято поддерживать друг друга и в случае сложностей у одного из супругов другой может помочь ему. А вот в случае тех кто не был женат/замужем такой поддержки нет. С гражданским браком тоже может быть такая же история - и более вероятен раздельный бюджет и позиция: \"моя хата с краю, ничего не знаю\"."
   ]
  },
  {
   "cell_type": "markdown",
   "id": "19db5de4",
   "metadata": {
    "deletable": false,
    "editable": false,
    "id": "1e8b2fca"
   },
   "source": [
    "#### 3.3 Есть ли зависимость между уровнем дохода и возвратом кредита в срок?"
   ]
  },
  {
   "cell_type": "code",
   "execution_count": 29,
   "id": "d7889b81",
   "metadata": {
    "deletable": false,
    "id": "cd7e3720"
   },
   "outputs": [
    {
     "data": {
      "text/html": [
       "<div>\n",
       "<style scoped>\n",
       "    .dataframe tbody tr th:only-of-type {\n",
       "        vertical-align: middle;\n",
       "    }\n",
       "\n",
       "    .dataframe tbody tr th {\n",
       "        vertical-align: top;\n",
       "    }\n",
       "\n",
       "    .dataframe thead tr th {\n",
       "        text-align: left;\n",
       "    }\n",
       "</style>\n",
       "<table border=\"1\" class=\"dataframe\">\n",
       "  <thead>\n",
       "    <tr>\n",
       "      <th></th>\n",
       "      <th>total_income_category</th>\n",
       "      <th colspan=\"3\" halign=\"left\">debt</th>\n",
       "    </tr>\n",
       "    <tr>\n",
       "      <th></th>\n",
       "      <th></th>\n",
       "      <th>mean</th>\n",
       "      <th>count</th>\n",
       "      <th>sum</th>\n",
       "    </tr>\n",
       "  </thead>\n",
       "  <tbody>\n",
       "    <tr>\n",
       "      <th>0</th>\n",
       "      <td>A</td>\n",
       "      <td>0.080000</td>\n",
       "      <td>25</td>\n",
       "      <td>2</td>\n",
       "    </tr>\n",
       "    <tr>\n",
       "      <th>1</th>\n",
       "      <td>B</td>\n",
       "      <td>0.070602</td>\n",
       "      <td>5014</td>\n",
       "      <td>354</td>\n",
       "    </tr>\n",
       "    <tr>\n",
       "      <th>2</th>\n",
       "      <td>C</td>\n",
       "      <td>0.084982</td>\n",
       "      <td>15921</td>\n",
       "      <td>1353</td>\n",
       "    </tr>\n",
       "    <tr>\n",
       "      <th>3</th>\n",
       "      <td>D</td>\n",
       "      <td>0.060172</td>\n",
       "      <td>349</td>\n",
       "      <td>21</td>\n",
       "    </tr>\n",
       "    <tr>\n",
       "      <th>4</th>\n",
       "      <td>E</td>\n",
       "      <td>0.090909</td>\n",
       "      <td>22</td>\n",
       "      <td>2</td>\n",
       "    </tr>\n",
       "  </tbody>\n",
       "</table>\n",
       "</div>"
      ],
      "text/plain": [
       "  total_income_category      debt             \n",
       "                             mean  count   sum\n",
       "0                     A  0.080000     25     2\n",
       "1                     B  0.070602   5014   354\n",
       "2                     C  0.084982  15921  1353\n",
       "3                     D  0.060172    349    21\n",
       "4                     E  0.090909     22     2"
      ]
     },
     "execution_count": 29,
     "metadata": {},
     "output_type": "execute_result"
    }
   ],
   "source": [
    "#действуем аналогично и для поиска данной зависимости\n",
    "delinquency_with_income = data.groupby('total_income_category', as_index=False).agg({'debt': ('mean', 'count', 'sum')})\n",
    "delinquency_with_income"
   ]
  },
  {
   "cell_type": "markdown",
   "id": "fb877abc",
   "metadata": {
    "deletable": false,
    "id": "e8593def"
   },
   "source": [
    "Пока что можно однозначно сказать, что группы A и E слишком малочисленны на фоне всех остальных и их надо обьединять с другими группами. Наиболее логичным выглядит обьединение с ближайшими соседями и потом снова нужно делать выводы. тогда группу A обьединим с B, а E с D."
   ]
  },
  {
   "cell_type": "code",
   "execution_count": 30,
   "id": "a2bc9c3f",
   "metadata": {
    "scrolled": true
   },
   "outputs": [
    {
     "name": "stdout",
     "output_type": "stream",
     "text": [
      "0\n"
     ]
    }
   ],
   "source": [
    "#обьединяем малочисленные группы\n",
    "def change_category(category):\n",
    "    if category == 'A':\n",
    "        return 'B'\n",
    "    elif category == 'E':\n",
    "        return 'D'\n",
    "    else:\n",
    "        return category\n",
    "    \n",
    "data['total_income_category'] = data.total_income_category.apply(change_category)\n",
    "\n",
    "#проверяем успешность обьединения по остаткам групп A и E. Ожидаем 0, если верно.\n",
    "print(data.query(\"total_income_category == 'A' | total_income_category == 'E'\").total_income_category.count())"
   ]
  },
  {
   "cell_type": "code",
   "execution_count": 31,
   "id": "76dfe906",
   "metadata": {
    "scrolled": true
   },
   "outputs": [
    {
     "data": {
      "text/html": [
       "<div>\n",
       "<style scoped>\n",
       "    .dataframe tbody tr th:only-of-type {\n",
       "        vertical-align: middle;\n",
       "    }\n",
       "\n",
       "    .dataframe tbody tr th {\n",
       "        vertical-align: top;\n",
       "    }\n",
       "\n",
       "    .dataframe thead tr th {\n",
       "        text-align: left;\n",
       "    }\n",
       "</style>\n",
       "<table border=\"1\" class=\"dataframe\">\n",
       "  <thead>\n",
       "    <tr>\n",
       "      <th></th>\n",
       "      <th>total_income_category</th>\n",
       "      <th colspan=\"3\" halign=\"left\">debt</th>\n",
       "    </tr>\n",
       "    <tr>\n",
       "      <th></th>\n",
       "      <th></th>\n",
       "      <th>mean</th>\n",
       "      <th>count</th>\n",
       "      <th>sum</th>\n",
       "    </tr>\n",
       "  </thead>\n",
       "  <tbody>\n",
       "    <tr>\n",
       "      <th>0</th>\n",
       "      <td>B</td>\n",
       "      <td>0.070649</td>\n",
       "      <td>5039</td>\n",
       "      <td>356</td>\n",
       "    </tr>\n",
       "    <tr>\n",
       "      <th>1</th>\n",
       "      <td>C</td>\n",
       "      <td>0.084982</td>\n",
       "      <td>15921</td>\n",
       "      <td>1353</td>\n",
       "    </tr>\n",
       "    <tr>\n",
       "      <th>2</th>\n",
       "      <td>D</td>\n",
       "      <td>0.061995</td>\n",
       "      <td>371</td>\n",
       "      <td>23</td>\n",
       "    </tr>\n",
       "  </tbody>\n",
       "</table>\n",
       "</div>"
      ],
      "text/plain": [
       "  total_income_category      debt             \n",
       "                             mean  count   sum\n",
       "0                     B  0.070649   5039   356\n",
       "1                     C  0.084982  15921  1353\n",
       "2                     D  0.061995    371    23"
      ]
     },
     "execution_count": 31,
     "metadata": {},
     "output_type": "execute_result"
    }
   ],
   "source": [
    "#повторно анализируем зависимость между уровнем дохода и вероятностью просрочки\n",
    "new_delinquency_with_income = data.groupby('total_income_category', as_index=False).agg({'debt': ('mean', 'count', 'sum')})\n",
    "new_delinquency_with_income"
   ]
  },
  {
   "cell_type": "markdown",
   "id": "2055f482",
   "metadata": {},
   "source": [
    "**Выводы:** После обобщения групп самых богатых и самых бедных мы получили следующий результат: люди с доходом от 50001 до 200000 (группа С) имеет наибольшую вероятность просрочки. И эта вероятность выше средней (примерно на 0,4%). А вот группа самых бедных (до 50000 - сейчас D - ранее E и D) имеет как ни странно наименьший шанс получения просрочки. Вероятно это связано с тем, что когда ты небогатый, то считаешь все деньги более внимательно и лучше следишь за бюджетом, а когда деньги есть и вроде как достаточно, тогда немного ослабляешь контроль за ними (случай группы C).    "
   ]
  },
  {
   "cell_type": "markdown",
   "id": "5e00136a",
   "metadata": {
    "deletable": false,
    "editable": false,
    "id": "99ecbd1f"
   },
   "source": [
    "#### 3.4 Как разные цели кредита влияют на его возврат в срок?"
   ]
  },
  {
   "cell_type": "code",
   "execution_count": 32,
   "id": "f697bb0b",
   "metadata": {
    "deletable": false,
    "id": "2b687290",
    "scrolled": false
   },
   "outputs": [
    {
     "data": {
      "text/html": [
       "<div>\n",
       "<style scoped>\n",
       "    .dataframe tbody tr th:only-of-type {\n",
       "        vertical-align: middle;\n",
       "    }\n",
       "\n",
       "    .dataframe tbody tr th {\n",
       "        vertical-align: top;\n",
       "    }\n",
       "\n",
       "    .dataframe thead tr th {\n",
       "        text-align: left;\n",
       "    }\n",
       "\n",
       "    .dataframe thead tr:last-of-type th {\n",
       "        text-align: right;\n",
       "    }\n",
       "</style>\n",
       "<table border=\"1\" class=\"dataframe\">\n",
       "  <thead>\n",
       "    <tr>\n",
       "      <th></th>\n",
       "      <th>mean</th>\n",
       "      <th>count</th>\n",
       "    </tr>\n",
       "    <tr>\n",
       "      <th></th>\n",
       "      <th>debt</th>\n",
       "      <th>debt</th>\n",
       "    </tr>\n",
       "    <tr>\n",
       "      <th>purpose_category</th>\n",
       "      <th></th>\n",
       "      <th></th>\n",
       "    </tr>\n",
       "  </thead>\n",
       "  <tbody>\n",
       "    <tr>\n",
       "      <th>операции с автомобилем</th>\n",
       "      <td>0.093480</td>\n",
       "      <td>4279</td>\n",
       "    </tr>\n",
       "    <tr>\n",
       "      <th>операции с недвижимостью</th>\n",
       "      <td>0.072551</td>\n",
       "      <td>10751</td>\n",
       "    </tr>\n",
       "    <tr>\n",
       "      <th>получение образования</th>\n",
       "      <td>0.092528</td>\n",
       "      <td>3988</td>\n",
       "    </tr>\n",
       "    <tr>\n",
       "      <th>проведение свадьбы</th>\n",
       "      <td>0.079118</td>\n",
       "      <td>2313</td>\n",
       "    </tr>\n",
       "  </tbody>\n",
       "</table>\n",
       "</div>"
      ],
      "text/plain": [
       "                              mean  count\n",
       "                              debt   debt\n",
       "purpose_category                         \n",
       "операции с автомобилем    0.093480   4279\n",
       "операции с недвижимостью  0.072551  10751\n",
       "получение образования     0.092528   3988\n",
       "проведение свадьбы        0.079118   2313"
      ]
     },
     "execution_count": 32,
     "metadata": {},
     "output_type": "execute_result"
    }
   ],
   "source": [
    "#найдём вероятность просрочки кредита в зависимости его целей с помощью метода pivot_table()\n",
    "delinquency_with_purpose_loan = data.pivot_table(index='purpose_category', values='debt', aggfunc=['mean', 'count'])\n",
    "delinquency_with_purpose_loan"
   ]
  },
  {
   "cell_type": "markdown",
   "id": "5b4be15c",
   "metadata": {
    "deletable": false,
    "id": "b4bb2ce6"
   },
   "source": [
    "**Вывод:** Относительно других выделются просрочки по получению образования и операций с автомобилем. Первое связано с тем, что люди получают образование с целью поиска более подходящей/прибыльной для себя работы и пока человек получит образование и устроиться на работу иногда есть временной лаг - от этого и просрочки могут быть. А в автомобиль иногда приходиться ещё немного вложиться (всякие страховки, обследования, иногда - некоторый ремонт), а потом только использование. А это опять же деньги или же время. С размером категорий вопросов нет - достаточно крупные."
   ]
  },
  {
   "cell_type": "markdown",
   "id": "85916c31",
   "metadata": {
    "deletable": false,
    "editable": false,
    "id": "09c3ac4c"
   },
   "source": [
    "#### 3.5 Приведите возможные причины появления пропусков в исходных данных."
   ]
  },
  {
   "cell_type": "markdown",
   "id": "1b6767e9",
   "metadata": {
    "deletable": false,
    "id": "9da2ceda"
   },
   "source": [
    "*Ответ:* Пропуски в данных могут быть из-за того, что данных не было изначально (например: не во всех западных странах у людей есть отчество). Может быть произошедший сбой и часть данных оказалась потеряна. На последок нельзя исключать и человеческий фактор (например, разработчик мог просто забыть указать какие-то значения в таблице)."
   ]
  },
  {
   "cell_type": "markdown",
   "id": "3b9b1aa3",
   "metadata": {
    "deletable": false,
    "editable": false,
    "id": "7b0487d6"
   },
   "source": [
    "#### 3.6 Объясните, почему заполнить пропуски медианным значением — лучшее решение для количественных переменных."
   ]
  },
  {
   "cell_type": "markdown",
   "id": "dfe9be8d",
   "metadata": {
    "deletable": false,
    "id": "7ecf2b8e"
   },
   "source": [
    "*Ответ:* В отличие от среднего значения столбца (тоже вариант заполнения пропущенных значений количественных переменных) не зависит от выбросов - экстремальных отклонений. Например, если есть результаты сдачи экзамена по 100 бальной системе [50, 54, 56, 60, 50, 51, 65, 54] - среднее значение: 55, а теперь кто-то провалит этот экзамен с 5 баллами, то среднее сразу станет 49.4, а с медианой такого не будет - изначальное значение 54. И даже после добавления этого значения оно и останется 54."
   ]
  },
  {
   "cell_type": "markdown",
   "id": "7c70654b",
   "metadata": {
    "deletable": false,
    "editable": false,
    "id": "6db5255a"
   },
   "source": [
    "### Шаг 4: общий вывод."
   ]
  },
  {
   "cell_type": "markdown",
   "id": "157bab31",
   "metadata": {
    "deletable": false,
    "id": "bad65432"
   },
   "source": [
    "Во первых выделим момент: средний процент просрочек по кредитам достигает немногим более 8%. Факторы риска, которые будут влиять на его увеличение можно отметить следующие:\n",
    "- люди имеющие 1 или 2 детей\n",
    "- люди не замужем/не женатые или находящиеся в гражданском браке\n",
    "- люди имеющие средний доход (группа C от 50001 до 200000)\n",
    "- люди, указавшие  в целях получения кредита операции с автомобилем или с целью получения образования\n",
    "\n",
    "Наконец, комбинация способов выявила 2 подруппы со 100% вероятностью просрочки кредита - это люди с 1 или 2 детьми и при этом или безработные или находящиеся в декрете. "
   ]
  }
 ],
 "metadata": {
  "ExecuteTimeLog": [
   {
    "duration": 60,
    "start_time": "2023-05-24T09:33:23.975Z"
   },
   {
    "duration": 507,
    "start_time": "2023-05-24T09:34:36.776Z"
   },
   {
    "duration": 21,
    "start_time": "2023-05-24T09:34:37.285Z"
   },
   {
    "duration": 14,
    "start_time": "2023-05-24T09:34:37.308Z"
   },
   {
    "duration": 10,
    "start_time": "2023-05-24T09:34:37.324Z"
   },
   {
    "duration": 43,
    "start_time": "2023-05-24T09:34:37.336Z"
   },
   {
    "duration": 4,
    "start_time": "2023-05-24T09:34:37.381Z"
   },
   {
    "duration": 20,
    "start_time": "2023-05-24T09:34:37.386Z"
   },
   {
    "duration": 14,
    "start_time": "2023-05-24T09:34:37.407Z"
   },
   {
    "duration": 15,
    "start_time": "2023-05-24T09:34:37.423Z"
   },
   {
    "duration": 24,
    "start_time": "2023-05-24T09:34:37.440Z"
   },
   {
    "duration": 43,
    "start_time": "2023-05-24T09:34:37.466Z"
   },
   {
    "duration": 9,
    "start_time": "2023-05-24T09:34:37.510Z"
   },
   {
    "duration": 4,
    "start_time": "2023-05-24T09:34:37.521Z"
   },
   {
    "duration": 19,
    "start_time": "2023-05-24T09:34:37.526Z"
   },
   {
    "duration": 23,
    "start_time": "2023-05-24T09:34:37.546Z"
   },
   {
    "duration": 18,
    "start_time": "2023-05-24T09:34:37.571Z"
   },
   {
    "duration": 4,
    "start_time": "2023-05-24T09:34:37.591Z"
   },
   {
    "duration": 11,
    "start_time": "2023-05-24T09:34:37.597Z"
   },
   {
    "duration": 5,
    "start_time": "2023-05-24T09:34:37.610Z"
   },
   {
    "duration": 4,
    "start_time": "2023-05-24T09:34:37.616Z"
   },
   {
    "duration": 42,
    "start_time": "2023-05-24T09:34:37.621Z"
   },
   {
    "duration": 4,
    "start_time": "2023-05-24T09:34:37.665Z"
   },
   {
    "duration": 6,
    "start_time": "2023-05-24T09:34:37.671Z"
   },
   {
    "duration": 9,
    "start_time": "2023-05-24T09:34:37.679Z"
   },
   {
    "duration": 21,
    "start_time": "2023-05-24T09:34:37.690Z"
   },
   {
    "duration": 4,
    "start_time": "2023-05-24T09:39:12.453Z"
   },
   {
    "duration": 4,
    "start_time": "2023-05-24T09:41:41.790Z"
   },
   {
    "duration": 6,
    "start_time": "2023-05-24T09:47:24.909Z"
   },
   {
    "duration": 6,
    "start_time": "2023-05-24T10:11:45.480Z"
   },
   {
    "duration": 7,
    "start_time": "2023-05-24T10:12:59.718Z"
   },
   {
    "duration": 491,
    "start_time": "2023-05-24T10:32:13.165Z"
   },
   {
    "duration": 18,
    "start_time": "2023-05-24T10:32:35.852Z"
   },
   {
    "duration": 9,
    "start_time": "2023-05-24T10:41:03.208Z"
   },
   {
    "duration": 10,
    "start_time": "2023-05-24T10:56:53.150Z"
   },
   {
    "duration": 10,
    "start_time": "2023-05-24T11:02:57.449Z"
   },
   {
    "duration": 4,
    "start_time": "2023-05-24T11:03:41.712Z"
   },
   {
    "duration": 29,
    "start_time": "2023-05-24T11:07:44.694Z"
   },
   {
    "duration": 27,
    "start_time": "2023-05-24T11:09:07.357Z"
   },
   {
    "duration": 21,
    "start_time": "2023-05-24T11:12:52.647Z"
   },
   {
    "duration": 25,
    "start_time": "2023-05-24T11:15:07.089Z"
   },
   {
    "duration": 1964,
    "start_time": "2023-05-24T11:18:12.396Z"
   },
   {
    "duration": 15,
    "start_time": "2023-05-24T11:19:05.145Z"
   },
   {
    "duration": 12,
    "start_time": "2023-05-24T11:20:48.952Z"
   },
   {
    "duration": 15,
    "start_time": "2023-05-24T11:33:21.483Z"
   },
   {
    "duration": 14,
    "start_time": "2023-05-24T11:33:39.462Z"
   },
   {
    "duration": 14,
    "start_time": "2023-05-24T11:39:49.862Z"
   },
   {
    "duration": 13,
    "start_time": "2023-05-24T11:40:14.103Z"
   },
   {
    "duration": 10,
    "start_time": "2023-05-24T11:43:16.020Z"
   },
   {
    "duration": 9,
    "start_time": "2023-05-24T11:43:38.147Z"
   },
   {
    "duration": 10,
    "start_time": "2023-05-24T11:45:00.001Z"
   },
   {
    "duration": 13,
    "start_time": "2023-05-24T11:45:09.792Z"
   },
   {
    "duration": 9,
    "start_time": "2023-05-24T11:45:10.845Z"
   },
   {
    "duration": 494,
    "start_time": "2023-05-24T11:45:34.146Z"
   },
   {
    "duration": 26,
    "start_time": "2023-05-24T11:45:34.642Z"
   },
   {
    "duration": 23,
    "start_time": "2023-05-24T11:45:34.670Z"
   },
   {
    "duration": 16,
    "start_time": "2023-05-24T11:45:34.695Z"
   },
   {
    "duration": 64,
    "start_time": "2023-05-24T11:45:34.714Z"
   },
   {
    "duration": 4,
    "start_time": "2023-05-24T11:45:34.780Z"
   },
   {
    "duration": 10,
    "start_time": "2023-05-24T11:45:34.786Z"
   },
   {
    "duration": 22,
    "start_time": "2023-05-24T11:45:34.798Z"
   },
   {
    "duration": 39,
    "start_time": "2023-05-24T11:45:34.822Z"
   },
   {
    "duration": 6,
    "start_time": "2023-05-24T11:45:34.863Z"
   },
   {
    "duration": 47,
    "start_time": "2023-05-24T11:45:34.872Z"
   },
   {
    "duration": 9,
    "start_time": "2023-05-24T11:45:34.920Z"
   },
   {
    "duration": 26,
    "start_time": "2023-05-24T11:45:34.931Z"
   },
   {
    "duration": 15,
    "start_time": "2023-05-24T11:45:34.961Z"
   },
   {
    "duration": 25,
    "start_time": "2023-05-24T11:45:34.979Z"
   },
   {
    "duration": 18,
    "start_time": "2023-05-24T11:45:35.006Z"
   },
   {
    "duration": 4,
    "start_time": "2023-05-24T11:45:35.026Z"
   },
   {
    "duration": 12,
    "start_time": "2023-05-24T11:45:35.057Z"
   },
   {
    "duration": 10,
    "start_time": "2023-05-24T11:45:35.071Z"
   },
   {
    "duration": 17,
    "start_time": "2023-05-24T11:45:35.083Z"
   },
   {
    "duration": 16,
    "start_time": "2023-05-24T11:45:35.102Z"
   },
   {
    "duration": 6,
    "start_time": "2023-05-24T11:45:35.120Z"
   },
   {
    "duration": 12,
    "start_time": "2023-05-24T11:45:35.127Z"
   },
   {
    "duration": 21,
    "start_time": "2023-05-24T11:45:35.141Z"
   },
   {
    "duration": 31,
    "start_time": "2023-05-24T11:45:35.165Z"
   },
   {
    "duration": 21,
    "start_time": "2023-05-24T11:45:35.198Z"
   },
   {
    "duration": 86,
    "start_time": "2023-05-24T11:45:35.221Z"
   },
   {
    "duration": 0,
    "start_time": "2023-05-24T11:45:35.308Z"
   },
   {
    "duration": 0,
    "start_time": "2023-05-24T11:45:35.310Z"
   },
   {
    "duration": 0,
    "start_time": "2023-05-24T11:45:35.310Z"
   },
   {
    "duration": 14,
    "start_time": "2023-05-24T11:47:07.484Z"
   },
   {
    "duration": 11,
    "start_time": "2023-05-24T11:47:41.480Z"
   },
   {
    "duration": 15,
    "start_time": "2023-05-24T11:48:48.565Z"
   },
   {
    "duration": 10,
    "start_time": "2023-05-24T11:54:20.549Z"
   },
   {
    "duration": 20,
    "start_time": "2023-05-24T11:56:40.624Z"
   },
   {
    "duration": 10,
    "start_time": "2023-05-24T12:07:46.832Z"
   },
   {
    "duration": 9,
    "start_time": "2023-05-24T12:08:31.127Z"
   },
   {
    "duration": 8,
    "start_time": "2023-05-24T12:18:11.987Z"
   },
   {
    "duration": 11,
    "start_time": "2023-05-24T12:31:23.966Z"
   },
   {
    "duration": 539,
    "start_time": "2023-05-24T15:27:40.754Z"
   },
   {
    "duration": 27,
    "start_time": "2023-05-24T15:27:41.295Z"
   },
   {
    "duration": 17,
    "start_time": "2023-05-24T15:27:41.324Z"
   },
   {
    "duration": 9,
    "start_time": "2023-05-24T15:27:41.343Z"
   },
   {
    "duration": 68,
    "start_time": "2023-05-24T15:27:41.354Z"
   },
   {
    "duration": 4,
    "start_time": "2023-05-24T15:27:41.426Z"
   },
   {
    "duration": 23,
    "start_time": "2023-05-24T15:27:41.431Z"
   },
   {
    "duration": 8,
    "start_time": "2023-05-24T15:27:41.456Z"
   },
   {
    "duration": 17,
    "start_time": "2023-05-24T15:27:41.466Z"
   },
   {
    "duration": 4,
    "start_time": "2023-05-24T15:27:41.485Z"
   },
   {
    "duration": 44,
    "start_time": "2023-05-24T15:27:41.491Z"
   },
   {
    "duration": 11,
    "start_time": "2023-05-24T15:27:41.537Z"
   },
   {
    "duration": 20,
    "start_time": "2023-05-24T15:27:41.549Z"
   },
   {
    "duration": 21,
    "start_time": "2023-05-24T15:27:41.572Z"
   },
   {
    "duration": 40,
    "start_time": "2023-05-24T15:27:41.595Z"
   },
   {
    "duration": 25,
    "start_time": "2023-05-24T15:27:41.637Z"
   },
   {
    "duration": 5,
    "start_time": "2023-05-24T15:27:41.665Z"
   },
   {
    "duration": 36,
    "start_time": "2023-05-24T15:27:41.672Z"
   },
   {
    "duration": 12,
    "start_time": "2023-05-24T15:27:41.709Z"
   },
   {
    "duration": 8,
    "start_time": "2023-05-24T15:27:41.722Z"
   },
   {
    "duration": 13,
    "start_time": "2023-05-24T15:27:41.732Z"
   },
   {
    "duration": 4,
    "start_time": "2023-05-24T15:27:41.747Z"
   },
   {
    "duration": 7,
    "start_time": "2023-05-24T15:27:41.753Z"
   },
   {
    "duration": 6,
    "start_time": "2023-05-24T15:27:41.762Z"
   },
   {
    "duration": 56,
    "start_time": "2023-05-24T15:27:41.769Z"
   },
   {
    "duration": 10,
    "start_time": "2023-05-24T15:27:41.828Z"
   },
   {
    "duration": 28,
    "start_time": "2023-05-24T15:27:41.840Z"
   },
   {
    "duration": 11,
    "start_time": "2023-05-24T15:27:41.870Z"
   },
   {
    "duration": 33,
    "start_time": "2023-05-24T15:27:41.883Z"
   },
   {
    "duration": 11,
    "start_time": "2023-05-24T15:27:41.917Z"
   },
   {
    "duration": 55,
    "start_time": "2023-05-24T19:46:20.742Z"
   },
   {
    "duration": 529,
    "start_time": "2023-05-24T19:47:08.717Z"
   },
   {
    "duration": 23,
    "start_time": "2023-05-24T19:47:09.249Z"
   },
   {
    "duration": 27,
    "start_time": "2023-05-24T19:47:09.273Z"
   },
   {
    "duration": 11,
    "start_time": "2023-05-24T19:47:09.302Z"
   },
   {
    "duration": 36,
    "start_time": "2023-05-24T19:47:09.315Z"
   },
   {
    "duration": 29,
    "start_time": "2023-05-24T19:47:09.353Z"
   },
   {
    "duration": 13,
    "start_time": "2023-05-24T19:47:09.385Z"
   },
   {
    "duration": 5,
    "start_time": "2023-05-24T19:47:09.400Z"
   },
   {
    "duration": 11,
    "start_time": "2023-05-24T19:47:09.407Z"
   },
   {
    "duration": 13,
    "start_time": "2023-05-24T19:47:09.423Z"
   },
   {
    "duration": 67,
    "start_time": "2023-05-24T19:47:09.438Z"
   },
   {
    "duration": 16,
    "start_time": "2023-05-24T19:47:09.508Z"
   },
   {
    "duration": 9,
    "start_time": "2023-05-24T19:47:09.526Z"
   },
   {
    "duration": 25,
    "start_time": "2023-05-24T19:47:09.537Z"
   },
   {
    "duration": 48,
    "start_time": "2023-05-24T19:47:09.564Z"
   },
   {
    "duration": 27,
    "start_time": "2023-05-24T19:47:09.614Z"
   },
   {
    "duration": 8,
    "start_time": "2023-05-24T19:47:09.644Z"
   },
   {
    "duration": 13,
    "start_time": "2023-05-24T19:47:09.654Z"
   },
   {
    "duration": 25,
    "start_time": "2023-05-24T19:47:09.669Z"
   },
   {
    "duration": 6,
    "start_time": "2023-05-24T19:47:09.698Z"
   },
   {
    "duration": 15,
    "start_time": "2023-05-24T19:47:09.708Z"
   },
   {
    "duration": 4,
    "start_time": "2023-05-24T19:47:09.725Z"
   },
   {
    "duration": 8,
    "start_time": "2023-05-24T19:47:09.731Z"
   },
   {
    "duration": 7,
    "start_time": "2023-05-24T19:47:09.741Z"
   },
   {
    "duration": 47,
    "start_time": "2023-05-24T19:47:09.752Z"
   },
   {
    "duration": 9,
    "start_time": "2023-05-24T19:47:09.804Z"
   },
   {
    "duration": 22,
    "start_time": "2023-05-24T19:47:09.815Z"
   },
   {
    "duration": 10,
    "start_time": "2023-05-24T19:47:09.840Z"
   },
   {
    "duration": 23,
    "start_time": "2023-05-24T19:47:09.883Z"
   },
   {
    "duration": 10,
    "start_time": "2023-05-24T19:47:09.908Z"
   },
   {
    "duration": 21,
    "start_time": "2023-05-24T19:49:10.391Z"
   },
   {
    "duration": 98,
    "start_time": "2023-05-24T20:18:00.713Z"
   },
   {
    "duration": 13,
    "start_time": "2023-05-24T20:18:45.502Z"
   },
   {
    "duration": 15,
    "start_time": "2023-05-24T20:26:03.282Z"
   },
   {
    "duration": 32,
    "start_time": "2023-05-24T20:50:41.784Z"
   },
   {
    "duration": 527,
    "start_time": "2023-05-24T20:58:19.052Z"
   },
   {
    "duration": 25,
    "start_time": "2023-05-24T20:58:19.581Z"
   },
   {
    "duration": 17,
    "start_time": "2023-05-24T20:58:19.608Z"
   },
   {
    "duration": 10,
    "start_time": "2023-05-24T20:58:19.627Z"
   },
   {
    "duration": 58,
    "start_time": "2023-05-24T20:58:19.639Z"
   },
   {
    "duration": 4,
    "start_time": "2023-05-24T20:58:19.699Z"
   },
   {
    "duration": 12,
    "start_time": "2023-05-24T20:58:19.704Z"
   },
   {
    "duration": 5,
    "start_time": "2023-05-24T20:58:19.717Z"
   },
   {
    "duration": 7,
    "start_time": "2023-05-24T20:58:19.724Z"
   },
   {
    "duration": 7,
    "start_time": "2023-05-24T20:58:19.732Z"
   },
   {
    "duration": 74,
    "start_time": "2023-05-24T20:58:19.741Z"
   },
   {
    "duration": 12,
    "start_time": "2023-05-24T20:58:19.817Z"
   },
   {
    "duration": 4,
    "start_time": "2023-05-24T20:58:19.831Z"
   },
   {
    "duration": 11,
    "start_time": "2023-05-24T20:58:19.837Z"
   },
   {
    "duration": 42,
    "start_time": "2023-05-24T20:58:19.849Z"
   },
   {
    "duration": 24,
    "start_time": "2023-05-24T20:58:19.893Z"
   },
   {
    "duration": 4,
    "start_time": "2023-05-24T20:58:19.919Z"
   },
   {
    "duration": 16,
    "start_time": "2023-05-24T20:58:19.925Z"
   },
   {
    "duration": 32,
    "start_time": "2023-05-24T20:58:19.943Z"
   },
   {
    "duration": 4,
    "start_time": "2023-05-24T20:58:19.977Z"
   },
   {
    "duration": 10,
    "start_time": "2023-05-24T20:58:19.983Z"
   },
   {
    "duration": 5,
    "start_time": "2023-05-24T20:58:19.995Z"
   },
   {
    "duration": 16,
    "start_time": "2023-05-24T20:58:20.002Z"
   },
   {
    "duration": 6,
    "start_time": "2023-05-24T20:58:20.020Z"
   },
   {
    "duration": 61,
    "start_time": "2023-05-24T20:58:20.027Z"
   },
   {
    "duration": 11,
    "start_time": "2023-05-24T20:58:20.090Z"
   },
   {
    "duration": 28,
    "start_time": "2023-05-24T20:58:20.103Z"
   },
   {
    "duration": 10,
    "start_time": "2023-05-24T20:58:20.133Z"
   },
   {
    "duration": 46,
    "start_time": "2023-05-24T20:58:20.145Z"
   },
   {
    "duration": 16,
    "start_time": "2023-05-24T20:58:20.193Z"
   },
   {
    "duration": 18,
    "start_time": "2023-05-24T20:58:20.211Z"
   },
   {
    "duration": 54,
    "start_time": "2023-05-24T20:58:20.231Z"
   }
  ],
  "colab": {
   "name": "dpp_template_part2.ipynb",
   "provenance": []
  },
  "kernelspec": {
   "display_name": "Python 3 (ipykernel)",
   "language": "python",
   "name": "python3"
  },
  "language_info": {
   "codemirror_mode": {
    "name": "ipython",
    "version": 3
   },
   "file_extension": ".py",
   "mimetype": "text/x-python",
   "name": "python",
   "nbconvert_exporter": "python",
   "pygments_lexer": "ipython3",
   "version": "3.10.9"
  },
  "toc": {
   "base_numbering": 1,
   "nav_menu": {},
   "number_sections": true,
   "sideBar": true,
   "skip_h1_title": true,
   "title_cell": "Table of Contents",
   "title_sidebar": "Contents",
   "toc_cell": false,
   "toc_position": {},
   "toc_section_display": true,
   "toc_window_display": false
  }
 },
 "nbformat": 4,
 "nbformat_minor": 5
}
