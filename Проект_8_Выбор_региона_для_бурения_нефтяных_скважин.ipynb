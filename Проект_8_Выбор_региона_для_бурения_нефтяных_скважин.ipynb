{
 "cells": [
  {
   "cell_type": "markdown",
   "metadata": {},
   "source": [
    "# Выбор локации для скважины"
   ]
  },
  {
   "cell_type": "markdown",
   "metadata": {},
   "source": [
    "Допустим, вы работаете в добывающей компании «ГлавРосГосНефть». Нужно решить, где бурить новую скважину.\n",
    "\n",
    "Вам предоставлены пробы нефти в трёх регионах: в каждом 10 000 месторождений, где измерили качество нефти и объём её запасов. Постройте модель машинного обучения, которая поможет определить регион, где добыча принесёт наибольшую прибыль. Проанализируйте возможную прибыль и риски техникой *Bootstrap.*\n",
    "\n",
    "Шаги для выбора локации:\n",
    "\n",
    "- В избранном регионе ищут месторождения, для каждого определяют значения признаков;\n",
    "- Строят модель и оценивают объём запасов;\n",
    "- Выбирают месторождения с самым высокими оценками значений. Количество месторождений зависит от бюджета компании и стоимости разработки одной скважины;\n",
    "- Прибыль равна суммарной прибыли отобранных месторождений."
   ]
  },
  {
   "cell_type": "markdown",
   "metadata": {},
   "source": [
    "**Описание данных:**\n",
    "\n",
    "Данные геологоразведки трёх регионов находятся в файлах: \n",
    "-\t/datasets/geo_data_0.csv\n",
    "-\t/datasets/geo_data_1.csv\n",
    "-\t/datasets/geo_data_2.csv\n",
    "\n",
    "В этих файлах:\n",
    "-\tid — уникальный идентификатор скважины;\n",
    "-\tf0, f1, f2 — три признака точек (неважно, что они означают, но сами признаки значимы);\n",
    "-\tproduct — объём запасов в скважине (тыс. баррелей).\n",
    "\n",
    "**Нам также поставили следующие условия:**\n",
    "\n",
    "-\tДля обучения модели подходит только линейная регрессия (остальные — недостаточно предсказуемые).\n",
    "-\tПри разведке региона исследуют 500 точек, из которых с помощью машинного обучения выбирают 200 лучших для разработки.\n",
    "-\tБюджет на разработку скважин в регионе — 10 млрд рублей.\n",
    "-\tПри нынешних ценах один баррель сырья приносит 450 рублей дохода. Доход с каждой единицы продукта составляет 450 тыс. рублей, поскольку объём указан в тысячах баррелей.\n",
    "-\tПосле оценки рисков нужно оставить лишь те регионы, в которых вероятность убытков меньше 2.5%. Среди них выбирают регион с наибольшей средней прибылью.\n",
    "\n",
    "**А также уточнили:** Данные синтетические - детали контрактов и характеристики месторождений не разглашаются."
   ]
  },
  {
   "cell_type": "markdown",
   "metadata": {},
   "source": [
    "**Наша цель:**\n",
    "\n",
    "1.\tЗагрузить и подготовить данные. Пояснить порядок действий.\n",
    "2.\tОбучить и проверить модель для каждого региона:\n",
    "   - Разбить данные на обучающую и валидационную выборки в соотношении 75:25.\n",
    "   - Обучить модель и сделать предсказания на валидационной выборке.\n",
    "   - Сохранить предсказания и правильные ответы на валидационной выборке.\n",
    "   - Напечатать на экране средний запас предсказанного сырья и RMSE модели.\n",
    "   - Проанализировать результаты.\n",
    "3.\tПодготовить данные к расчёту прибыли:\n",
    "   - Все ключевые значения для расчётов сохранить в отдельных переменных.\n",
    "   - Рассчитать достаточный объём сырья для безубыточной разработки новой скважины. Сравнить полученный объём сырья со средним запасом в каждом регионе. \n",
    "   - Написать выводы по этапу подготовки расчёта прибыли.\n",
    "4.\tНаписать функцию для расчёта прибыли по выбранным скважинам и предсказаниям модели:\n",
    "   - Выберать скважины с максимальными значениями предсказаний. \n",
    "   - Просуммировать целевое значение объёма сырья, соответствующее этим предсказаниям.\n",
    "   - Рассчитать прибыль для полученного объёма сырья.\n",
    "5.\tПосчитать риски и прибыль для каждого региона:\n",
    "   - Применить технику Bootstrap с 1000 выборок, чтобы найти распределение прибыли.\n",
    "   - Найти среднюю прибыль, 95%-й доверительный интервал и риск убытков. Убыток — это отрицательная прибыль.\n",
    "   - Написать выводы: предложить регион для разработки скважин и обосновать выбор.\n",
    "\n",
    "**Наш план:**\n",
    "\n",
    "1.\tЗагрузим и подготовим данные. Поясним порядок действий.\n",
    "   - проверим полноту данных\n",
    "   - проверим на дубликаты (явные и неявные). Удалим или исправим данные, если это необходимо.\n",
    "   - заполним, где нужно пропуски\n",
    "2.\tОбучим и проверим модель для каждого региона:\n",
    "   - Разобъём данные на обучающую и валидационную выборки в соотношении 75:25.\n",
    "   - Обучим модель и сделаем предсказания на валидационной выборке.\n",
    "   - Сохраним предсказания и правильные ответы на валидационной выборке.\n",
    "   - Напечатаем на экране средний запас предсказанного сырья и RMSE модели.\n",
    "   - Проанализируем результаты.\n",
    "3.\tПодготовим данные к расчёту прибыли:\n",
    "   - Все ключевые значения для расчётов сохраним в отдельных переменных.\n",
    "   - Рассчитаем достаточный объём сырья для безубыточной разработки новой скважины. Сравним полученный объём сырья со средним запасом в каждом регионе. \n",
    "   - Напишем выводы по этапу подготовки расчёта прибыли.\n",
    "4.\tНапишем функцию для расчёта прибыли по выбранным скважинам и предсказаниям модели:\n",
    "   - Выберем скважины с максимальными значениями предсказаний. \n",
    "   - Просуммируем целевое значение объёма сырья, соответствующее этим предсказаниям.\n",
    "   - Рассчитает прибыль для полученного объёма сырья.\n",
    "5.\tПосчитаем риски и прибыль для каждого региона:\n",
    "   - Применим технику Bootstrap с 1000 выборок, чтобы найти распределение прибыли.\n",
    "   - Найдём среднюю прибыль, 95%-й доверительный интервал и риск убытков. Убыток — это отрицательная прибыль.\n",
    "6. Напишем выводы: предложим регион для разработки скважин и обоснуем выбор.\n"
   ]
  },
  {
   "cell_type": "code",
   "execution_count": 1,
   "metadata": {},
   "outputs": [],
   "source": [
    "# ячейка для импорта библиотек\n",
    "import pandas as pd\n",
    "import numpy as np\n",
    "import seaborn as sns\n",
    "from sklearn.model_selection import train_test_split, GridSearchCV\n",
    "from sklearn.tree import DecisionTreeRegressor\n",
    "from sklearn.linear_model import LinearRegression\n",
    "import sklearn.metrics as sm"
   ]
  },
  {
   "cell_type": "markdown",
   "metadata": {},
   "source": [
    "## Загрузка и подготовка данных"
   ]
  },
  {
   "cell_type": "code",
   "execution_count": 2,
   "metadata": {},
   "outputs": [
    {
     "data": {
      "text/html": [
       "<div>\n",
       "<style scoped>\n",
       "    .dataframe tbody tr th:only-of-type {\n",
       "        vertical-align: middle;\n",
       "    }\n",
       "\n",
       "    .dataframe tbody tr th {\n",
       "        vertical-align: top;\n",
       "    }\n",
       "\n",
       "    .dataframe thead th {\n",
       "        text-align: right;\n",
       "    }\n",
       "</style>\n",
       "<table border=\"1\" class=\"dataframe\">\n",
       "  <thead>\n",
       "    <tr style=\"text-align: right;\">\n",
       "      <th></th>\n",
       "      <th>id</th>\n",
       "      <th>f0</th>\n",
       "      <th>f1</th>\n",
       "      <th>f2</th>\n",
       "      <th>product</th>\n",
       "    </tr>\n",
       "  </thead>\n",
       "  <tbody>\n",
       "    <tr>\n",
       "      <th>0</th>\n",
       "      <td>txEyH</td>\n",
       "      <td>0.705745</td>\n",
       "      <td>-0.497823</td>\n",
       "      <td>1.221170</td>\n",
       "      <td>105.280062</td>\n",
       "    </tr>\n",
       "    <tr>\n",
       "      <th>1</th>\n",
       "      <td>2acmU</td>\n",
       "      <td>1.334711</td>\n",
       "      <td>-0.340164</td>\n",
       "      <td>4.365080</td>\n",
       "      <td>73.037750</td>\n",
       "    </tr>\n",
       "    <tr>\n",
       "      <th>2</th>\n",
       "      <td>409Wp</td>\n",
       "      <td>1.022732</td>\n",
       "      <td>0.151990</td>\n",
       "      <td>1.419926</td>\n",
       "      <td>85.265647</td>\n",
       "    </tr>\n",
       "    <tr>\n",
       "      <th>3</th>\n",
       "      <td>iJLyR</td>\n",
       "      <td>-0.032172</td>\n",
       "      <td>0.139033</td>\n",
       "      <td>2.978566</td>\n",
       "      <td>168.620776</td>\n",
       "    </tr>\n",
       "    <tr>\n",
       "      <th>4</th>\n",
       "      <td>Xdl7t</td>\n",
       "      <td>1.988431</td>\n",
       "      <td>0.155413</td>\n",
       "      <td>4.751769</td>\n",
       "      <td>154.036647</td>\n",
       "    </tr>\n",
       "  </tbody>\n",
       "</table>\n",
       "</div>"
      ],
      "text/plain": [
       "      id        f0        f1        f2     product\n",
       "0  txEyH  0.705745 -0.497823  1.221170  105.280062\n",
       "1  2acmU  1.334711 -0.340164  4.365080   73.037750\n",
       "2  409Wp  1.022732  0.151990  1.419926   85.265647\n",
       "3  iJLyR -0.032172  0.139033  2.978566  168.620776\n",
       "4  Xdl7t  1.988431  0.155413  4.751769  154.036647"
      ]
     },
     "metadata": {},
     "output_type": "display_data"
    },
    {
     "data": {
      "text/html": [
       "<div>\n",
       "<style scoped>\n",
       "    .dataframe tbody tr th:only-of-type {\n",
       "        vertical-align: middle;\n",
       "    }\n",
       "\n",
       "    .dataframe tbody tr th {\n",
       "        vertical-align: top;\n",
       "    }\n",
       "\n",
       "    .dataframe thead th {\n",
       "        text-align: right;\n",
       "    }\n",
       "</style>\n",
       "<table border=\"1\" class=\"dataframe\">\n",
       "  <thead>\n",
       "    <tr style=\"text-align: right;\">\n",
       "      <th></th>\n",
       "      <th>id</th>\n",
       "      <th>f0</th>\n",
       "      <th>f1</th>\n",
       "      <th>f2</th>\n",
       "      <th>product</th>\n",
       "    </tr>\n",
       "  </thead>\n",
       "  <tbody>\n",
       "    <tr>\n",
       "      <th>0</th>\n",
       "      <td>kBEdx</td>\n",
       "      <td>-15.001348</td>\n",
       "      <td>-8.276000</td>\n",
       "      <td>-0.005876</td>\n",
       "      <td>3.179103</td>\n",
       "    </tr>\n",
       "    <tr>\n",
       "      <th>1</th>\n",
       "      <td>62mP7</td>\n",
       "      <td>14.272088</td>\n",
       "      <td>-3.475083</td>\n",
       "      <td>0.999183</td>\n",
       "      <td>26.953261</td>\n",
       "    </tr>\n",
       "    <tr>\n",
       "      <th>2</th>\n",
       "      <td>vyE1P</td>\n",
       "      <td>6.263187</td>\n",
       "      <td>-5.948386</td>\n",
       "      <td>5.001160</td>\n",
       "      <td>134.766305</td>\n",
       "    </tr>\n",
       "    <tr>\n",
       "      <th>3</th>\n",
       "      <td>KcrkZ</td>\n",
       "      <td>-13.081196</td>\n",
       "      <td>-11.506057</td>\n",
       "      <td>4.999415</td>\n",
       "      <td>137.945408</td>\n",
       "    </tr>\n",
       "    <tr>\n",
       "      <th>4</th>\n",
       "      <td>AHL4O</td>\n",
       "      <td>12.702195</td>\n",
       "      <td>-8.147433</td>\n",
       "      <td>5.004363</td>\n",
       "      <td>134.766305</td>\n",
       "    </tr>\n",
       "  </tbody>\n",
       "</table>\n",
       "</div>"
      ],
      "text/plain": [
       "      id         f0         f1        f2     product\n",
       "0  kBEdx -15.001348  -8.276000 -0.005876    3.179103\n",
       "1  62mP7  14.272088  -3.475083  0.999183   26.953261\n",
       "2  vyE1P   6.263187  -5.948386  5.001160  134.766305\n",
       "3  KcrkZ -13.081196 -11.506057  4.999415  137.945408\n",
       "4  AHL4O  12.702195  -8.147433  5.004363  134.766305"
      ]
     },
     "metadata": {},
     "output_type": "display_data"
    },
    {
     "data": {
      "text/html": [
       "<div>\n",
       "<style scoped>\n",
       "    .dataframe tbody tr th:only-of-type {\n",
       "        vertical-align: middle;\n",
       "    }\n",
       "\n",
       "    .dataframe tbody tr th {\n",
       "        vertical-align: top;\n",
       "    }\n",
       "\n",
       "    .dataframe thead th {\n",
       "        text-align: right;\n",
       "    }\n",
       "</style>\n",
       "<table border=\"1\" class=\"dataframe\">\n",
       "  <thead>\n",
       "    <tr style=\"text-align: right;\">\n",
       "      <th></th>\n",
       "      <th>id</th>\n",
       "      <th>f0</th>\n",
       "      <th>f1</th>\n",
       "      <th>f2</th>\n",
       "      <th>product</th>\n",
       "    </tr>\n",
       "  </thead>\n",
       "  <tbody>\n",
       "    <tr>\n",
       "      <th>0</th>\n",
       "      <td>fwXo0</td>\n",
       "      <td>-1.146987</td>\n",
       "      <td>0.963328</td>\n",
       "      <td>-0.828965</td>\n",
       "      <td>27.758673</td>\n",
       "    </tr>\n",
       "    <tr>\n",
       "      <th>1</th>\n",
       "      <td>WJtFt</td>\n",
       "      <td>0.262778</td>\n",
       "      <td>0.269839</td>\n",
       "      <td>-2.530187</td>\n",
       "      <td>56.069697</td>\n",
       "    </tr>\n",
       "    <tr>\n",
       "      <th>2</th>\n",
       "      <td>ovLUW</td>\n",
       "      <td>0.194587</td>\n",
       "      <td>0.289035</td>\n",
       "      <td>-5.586433</td>\n",
       "      <td>62.871910</td>\n",
       "    </tr>\n",
       "    <tr>\n",
       "      <th>3</th>\n",
       "      <td>q6cA6</td>\n",
       "      <td>2.236060</td>\n",
       "      <td>-0.553760</td>\n",
       "      <td>0.930038</td>\n",
       "      <td>114.572842</td>\n",
       "    </tr>\n",
       "    <tr>\n",
       "      <th>4</th>\n",
       "      <td>WPMUX</td>\n",
       "      <td>-0.515993</td>\n",
       "      <td>1.716266</td>\n",
       "      <td>5.899011</td>\n",
       "      <td>149.600746</td>\n",
       "    </tr>\n",
       "  </tbody>\n",
       "</table>\n",
       "</div>"
      ],
      "text/plain": [
       "      id        f0        f1        f2     product\n",
       "0  fwXo0 -1.146987  0.963328 -0.828965   27.758673\n",
       "1  WJtFt  0.262778  0.269839 -2.530187   56.069697\n",
       "2  ovLUW  0.194587  0.289035 -5.586433   62.871910\n",
       "3  q6cA6  2.236060 -0.553760  0.930038  114.572842\n",
       "4  WPMUX -0.515993  1.716266  5.899011  149.600746"
      ]
     },
     "metadata": {},
     "output_type": "display_data"
    }
   ],
   "source": [
    "# сохраняем данные и смотрим на них\n",
    "data_loc1 = pd.read_csv(r'https://code.s3.yandex.net/datasets/geo_data_0.csv')\n",
    "data_loc2 = pd.read_csv(r'https://code.s3.yandex.net/datasets/geo_data_1.csv')\n",
    "data_loc3 = pd.read_csv(r'https://code.s3.yandex.net/datasets/geo_data_2.csv')\n",
    "\n",
    "display(data_loc1.head())\n",
    "display(data_loc2.head())\n",
    "display(data_loc3.head())"
   ]
  },
  {
   "cell_type": "markdown",
   "metadata": {},
   "source": [
    "Данные открылись успешно. Будем проверять их на пропуски и дубликаты. Дубликаты имеет смысл проверять только явные - ибо неявных здесь нет точно."
   ]
  },
  {
   "cell_type": "code",
   "execution_count": 3,
   "metadata": {},
   "outputs": [
    {
     "name": "stdout",
     "output_type": "stream",
     "text": [
      "<class 'pandas.core.frame.DataFrame'>\n",
      "RangeIndex: 100000 entries, 0 to 99999\n",
      "Data columns (total 5 columns):\n",
      " #   Column   Non-Null Count   Dtype  \n",
      "---  ------   --------------   -----  \n",
      " 0   id       100000 non-null  object \n",
      " 1   f0       100000 non-null  float64\n",
      " 2   f1       100000 non-null  float64\n",
      " 3   f2       100000 non-null  float64\n",
      " 4   product  100000 non-null  float64\n",
      "dtypes: float64(4), object(1)\n",
      "memory usage: 3.8+ MB\n",
      "None\n",
      "<class 'pandas.core.frame.DataFrame'>\n",
      "RangeIndex: 100000 entries, 0 to 99999\n",
      "Data columns (total 5 columns):\n",
      " #   Column   Non-Null Count   Dtype  \n",
      "---  ------   --------------   -----  \n",
      " 0   id       100000 non-null  object \n",
      " 1   f0       100000 non-null  float64\n",
      " 2   f1       100000 non-null  float64\n",
      " 3   f2       100000 non-null  float64\n",
      " 4   product  100000 non-null  float64\n",
      "dtypes: float64(4), object(1)\n",
      "memory usage: 3.8+ MB\n",
      "None\n",
      "<class 'pandas.core.frame.DataFrame'>\n",
      "RangeIndex: 100000 entries, 0 to 99999\n",
      "Data columns (total 5 columns):\n",
      " #   Column   Non-Null Count   Dtype  \n",
      "---  ------   --------------   -----  \n",
      " 0   id       100000 non-null  object \n",
      " 1   f0       100000 non-null  float64\n",
      " 2   f1       100000 non-null  float64\n",
      " 3   f2       100000 non-null  float64\n",
      " 4   product  100000 non-null  float64\n",
      "dtypes: float64(4), object(1)\n",
      "memory usage: 3.8+ MB\n",
      "None\n"
     ]
    }
   ],
   "source": [
    "# проверка данных на пропуски\n",
    "print(data_loc1.info())\n",
    "print(data_loc2.info())\n",
    "print(data_loc3.info())"
   ]
  },
  {
   "cell_type": "markdown",
   "metadata": {},
   "source": [
    "Даннные полные - и притом везде. Проверим дубликаты и будем обучать модели."
   ]
  },
  {
   "cell_type": "code",
   "execution_count": 4,
   "metadata": {},
   "outputs": [
    {
     "name": "stdout",
     "output_type": "stream",
     "text": [
      "0\n",
      "0\n",
      "0\n"
     ]
    }
   ],
   "source": [
    "# проверка на явные дубликаты \n",
    "print(data_loc1.duplicated().sum())\n",
    "print(data_loc2.duplicated().sum())\n",
    "print(data_loc3.duplicated().sum())"
   ]
  },
  {
   "cell_type": "markdown",
   "metadata": {},
   "source": [
    "Дубликатов нет - двигаемся дальше."
   ]
  },
  {
   "cell_type": "code",
   "execution_count": 5,
   "metadata": {},
   "outputs": [
    {
     "name": "stdout",
     "output_type": "stream",
     "text": [
      "10\n",
      "4\n",
      "4\n"
     ]
    }
   ],
   "source": [
    "# проверим дубликаты по столбцу id во всех файлах\n",
    "print(data_loc1.id.duplicated().sum())\n",
    "print(data_loc2.id.duplicated().sum())\n",
    "print(data_loc3.id.duplicated().sum())"
   ]
  },
  {
   "cell_type": "markdown",
   "metadata": {},
   "source": [
    "Во всех столбцах id нашлись дубликаты, хотя и немного. Их необходимо удалять. Сделаем это."
   ]
  },
  {
   "cell_type": "code",
   "execution_count": 6,
   "metadata": {},
   "outputs": [
    {
     "name": "stdout",
     "output_type": "stream",
     "text": [
      "0\n",
      "0\n",
      "0\n",
      "(99990, 5)\n",
      "(99996, 5)\n",
      "(99996, 5)\n"
     ]
    }
   ],
   "source": [
    "# удаляем дубликаты в столбцах id во всех файлах\n",
    "data_loc1 = data_loc1.loc[data_loc1.id.duplicated() == False]\n",
    "data_loc2 = data_loc2.loc[data_loc2.id.duplicated() == False]\n",
    "data_loc3 = data_loc3.loc[data_loc3.id.duplicated() == False]\n",
    "\n",
    "# проверяем успешность удаления и размер оставшихся данных\n",
    "print(data_loc1.id.duplicated().sum())\n",
    "print(data_loc2.id.duplicated().sum())\n",
    "print(data_loc3.id.duplicated().sum())\n",
    "print(data_loc1.shape)\n",
    "print(data_loc2.shape)\n",
    "print(data_loc3.shape)"
   ]
  },
  {
   "cell_type": "markdown",
   "metadata": {},
   "source": [
    "Удаление прошло успешно. данных много не потеряли. Посмотрим сколько нефти у нас есть в целом по скважинам нефти в каждом регионе."
   ]
  },
  {
   "cell_type": "code",
   "execution_count": 7,
   "metadata": {},
   "outputs": [
    {
     "data": {
      "text/plain": [
       "count    99990.000000\n",
       "mean        92.499684\n",
       "std         44.288304\n",
       "min          0.000000\n",
       "5%          24.021339\n",
       "25%         56.497069\n",
       "50%         91.847928\n",
       "75%        128.563699\n",
       "80%        135.087660\n",
       "95%        161.206623\n",
       "max        185.364347\n",
       "Name: product, dtype: float64"
      ]
     },
     "execution_count": 7,
     "metadata": {},
     "output_type": "execute_result"
    },
    {
     "data": {
      "image/png": "[encoded data removed]",
      "text/plain": [
       "<Figure size 1500x600 with 1 Axes>"
      ]
     },
     "metadata": {},
     "output_type": "display_data"
    }
   ],
   "source": [
    "# смотрим на распределение нефти по свкажинам в первом регионе\n",
    "sns.set(rc={'figure.figsize': (15, 6)})\n",
    "ax = sns.histplot(data=data_loc1['product'], color='yellow')\n",
    "ax.set(xlabel='Количество нефти в скважине, тысяч баррелей.', ylabel='Количество скважин с таким количеством нефти', \\\n",
    "       title='Распределение количества нефти по скважинам в первом регионе')\n",
    "data_loc1['product'].describe(percentiles=[0.05, 0.25, 0.5, 0.75, 0.8, 0.95])"
   ]
  },
  {
   "cell_type": "markdown",
   "metadata": {},
   "source": [
    "Распределение количества нормальное. Больше всего скважин имеют диапазон от 50 до 137 тысяч баррелей нефти. В среднем по региону в каждой скважине находиться около 92.5 тысяч баррелей. 5% самых плохих скаважин имеют до 24 тысяч баррелей нефти, а 5% самых крупных от 161 до 185 тысяч баррелей. Среднее и медиана отличаются не очень сильно.\n",
    "\n",
    "Но много это или мало можно понять лишь в сравнении с другиги регионами. Поэтому надо изучать и их."
   ]
  },
  {
   "cell_type": "code",
   "execution_count": 8,
   "metadata": {},
   "outputs": [
    {
     "data": {
      "text/plain": [
       "count    99996.000000\n",
       "mean        68.823916\n",
       "std         45.944663\n",
       "min          0.000000\n",
       "5%           0.000000\n",
       "25%         26.953261\n",
       "50%         57.085625\n",
       "75%        107.813044\n",
       "80%        110.992147\n",
       "95%        137.945408\n",
       "max        137.945408\n",
       "Name: product, dtype: float64"
      ]
     },
     "execution_count": 8,
     "metadata": {},
     "output_type": "execute_result"
    },
    {
     "data": {
      "image/png": "[encoded data removed]",
      "text/plain": [
       "<Figure size 1500x600 with 1 Axes>"
      ]
     },
     "metadata": {},
     "output_type": "display_data"
    }
   ],
   "source": [
    "# смотрим на распределение нефти по свкажинам во втором регионе\n",
    "ax = sns.histplot(data=data_loc2['product'], color='purple')\n",
    "ax.set(xlabel='Количество нефти в скважине, тысяч баррелей.', ylabel='Количество скважин с таким количеством нефти', \\\n",
    "       title='Распределение количества нефти по скважинам во втором регионе')\n",
    "data_loc2['product'].describe(percentiles=[0.05, 0.25, 0.5, 0.75, 0.8, 0.95])"
   ]
  },
  {
   "cell_type": "markdown",
   "metadata": {},
   "source": [
    "Ещё немного и будет нарисован полумесяц! Распределение не является нормальным. Или довольно густо или очень пусто. Но даже так максимальное количество нефти в скважине немногим меньше 138 тысяч баррелей нефти. Среднее - 68.8 тысяч баррелей, а вот медиана - 57.1 тысяч баррелей. Большая разница! Более 5% скважин вообще пустые! А по графику их более 16%! Очень много. На вскидку можно сказать, что разработка в этом регионе сопряжена с приличным риском.\n",
    "\n",
    "Первый регион и большие скважины имеет и нет таких диких провалов. А что с третьим регионом? Сейчас узнаем."
   ]
  },
  {
   "cell_type": "code",
   "execution_count": 9,
   "metadata": {},
   "outputs": [
    {
     "data": {
      "text/plain": [
       "count    99996.000000\n",
       "mean        94.998342\n",
       "std         44.749573\n",
       "min          0.000000\n",
       "5%          24.676853\n",
       "25%         59.450028\n",
       "50%         94.925026\n",
       "75%        130.586815\n",
       "80%        136.967365\n",
       "95%        165.661507\n",
       "max        190.029838\n",
       "Name: product, dtype: float64"
      ]
     },
     "execution_count": 9,
     "metadata": {},
     "output_type": "execute_result"
    },
    {
     "data": {
      "image/png": "[encoded data removed]",
      "text/plain": [
       "<Figure size 1500x600 with 1 Axes>"
      ]
     },
     "metadata": {},
     "output_type": "display_data"
    }
   ],
   "source": [
    "# смотрим на распределение нефти по свкажинам в третьем регионе\n",
    "ax = sns.histplot(data=data_loc3['product'], color='lime')\n",
    "ax.set(xlabel='Количество нефти в скважине, тысяч баррелей.', ylabel='Количество скважин с таким количеством нефти', \\\n",
    "       title='Распределение количества нефти по скважинам в третьем регионе')\n",
    "data_loc3['product'].describe(percentiles=[0.05, 0.25, 0.5, 0.75, 0.8, 0.95])"
   ]
  },
  {
   "cell_type": "markdown",
   "metadata": {},
   "source": [
    "Распределение совпадает с первым регионом. Но здесь немного выше среднее - почти 95 тысяч баррелей в каждой скважине. Среднее и медиана почти совпадают. Также выше максимальное количество нефти в скважине - 190 тысяч баррелей. Снова 5% самых маленьких до 24.6 тысяч баррелей, а 5% самых крупных - от 165.6 до 190 тысяч баррелей.\n",
    "\n",
    "Самый лучший по распределению - третий регион. Для наглядности наложим эти графики друг на друга."
   ]
  },
  {
   "cell_type": "code",
   "execution_count": 10,
   "metadata": {},
   "outputs": [
    {
     "data": {
      "image/png": "[encoded data removed]",
      "text/plain": [
       "<Figure size 1500x600 with 1 Axes>"
      ]
     },
     "metadata": {},
     "output_type": "display_data"
    }
   ],
   "source": [
    "# смотрим на распределение нефти по свкажинам по регионам\n",
    "ax = sns.histplot(data=data_loc1['product'], color='yellow')\n",
    "ax.set(xlabel='Количество нефти в скважине, тысяч баррелей.', ylabel='Количество скважин с таким количеством нефти', \\\n",
    "       title='Распределение количества нефти в скважинах по регионам')\n",
    "sns.histplot(data=data_loc2['product'], color='purple', ax=ax, alpha=0.3)\n",
    "sns.histplot(data=data_loc3['product'], color='lime', ax=ax, alpha=0.3)\n",
    "ax.legend(['1 регион', '2 регион','3 регион']);"
   ]
  },
  {
   "cell_type": "markdown",
   "metadata": {},
   "source": [
    "Наглядно - самые большие объёмы скважин у третьего региона, а второй регион самый нестабильный среди всех и с наименьшими максимальными объёмами."
   ]
  },
  {
   "cell_type": "code",
   "execution_count": 11,
   "metadata": {},
   "outputs": [
    {
     "data": {
      "image/png": "[encoded data removed]",
      "text/plain": [
       "<Figure size 1500x600 with 2 Axes>"
      ]
     },
     "metadata": {},
     "output_type": "display_data"
    }
   ],
   "source": [
    "# проверяем влияние переменных друг на друга и на целевую переменную по первому региону\n",
    "ax = sns.heatmap(data=data_loc1.drop('id', axis=1).corr(), annot=True, cmap='magma')\n",
    "ax.set(title='График-матрица корреляции признаков в первом регионе');"
   ]
  },
  {
   "cell_type": "markdown",
   "metadata": {},
   "source": [
    "Линейных зависимостей здесь нет. Сильнее всего на целевую переменную влияет признак f2 - но и он далёк от линейных зависимостей - всего 0.48. А между собой немного взаимосвязаны признаки f0 и f1 - но и то не очень сильно - 0.44. Отсюда вывод - лишних признаков здесь нет.\n",
    "\n",
    "Проверим тоже самое на данных про второй и третий регион."
   ]
  },
  {
   "cell_type": "code",
   "execution_count": 12,
   "metadata": {},
   "outputs": [
    {
     "data": {
      "image/png": "[encoded data removed]",
      "text/plain": [
       "<Figure size 1500x600 with 2 Axes>"
      ]
     },
     "metadata": {},
     "output_type": "display_data"
    }
   ],
   "source": [
    "# проверяем влияние переменных друг на друга и на целевую переменную по второму региону\n",
    "ax = sns.heatmap(data=data_loc2.drop('id', axis=1).corr(), annot=True, cmap='magma')\n",
    "ax.set(title='График-матрица корреляции признаков во втором регионе');"
   ]
  },
  {
   "cell_type": "markdown",
   "metadata": {},
   "source": [
    "Во втором регионе единственный фактор, который влияет на целевую переменную - это признак f2, но на него не влияет ничего. Создаётся ощущение, что признаки f0 и f1 здесь даже особо и не важны. А что с третьим регионом?"
   ]
  },
  {
   "cell_type": "code",
   "execution_count": 13,
   "metadata": {},
   "outputs": [
    {
     "data": {
      "image/png": "[encoded data removed]",
      "text/plain": [
       "<Figure size 1500x600 with 2 Axes>"
      ]
     },
     "metadata": {},
     "output_type": "display_data"
    }
   ],
   "source": [
    "# проверяем влияние переменных друг на друга и на целевую переменную по третьему региону\n",
    "ax = sns.heatmap(data=data_loc3.drop('id', axis=1).corr(), annot=True, cmap='magma')\n",
    "ax.set(title='График-матрица корреляции признаков в третьем регионе');"
   ]
  },
  {
   "cell_type": "markdown",
   "metadata": {},
   "source": [
    "Самый важный признак снова f2, но его влияние на целевую переменную не очень велико - 0.45. Немного меньше, чем в первом регионе. Но остальные переменные можно сказать никакой взаимосвязи между собой не имеют."
   ]
  },
  {
   "cell_type": "markdown",
   "metadata": {},
   "source": [
    "## Обучение и проверка модели"
   ]
  },
  {
   "cell_type": "code",
   "execution_count": 14,
   "metadata": {},
   "outputs": [
    {
     "name": "stdout",
     "output_type": "stream",
     "text": [
      "(99990, 3) (99990,)\n",
      "(99996, 3) (99996,)\n",
      "(99996, 3) (99996,)\n"
     ]
    }
   ],
   "source": [
    "# создадим фунцию для разделения на признаки и целевую переменную\n",
    "def sep_features_target(DataFrame, features_drop: list, target: str):\n",
    "    DataFrame_features = DataFrame.drop(features_drop, axis=1)\n",
    "    DataFrame_target = DataFrame[target]\n",
    "    return DataFrame_features, DataFrame_target\n",
    "\n",
    "# делим признаки и целевую пременную во всех регионах\n",
    "data_loc1_features, data_loc1_target = sep_features_target(data_loc1, ['product', 'id'], 'product')\n",
    "data_loc2_features, data_loc2_target = sep_features_target(data_loc2, ['product', 'id'], 'product')\n",
    "data_loc3_features, data_loc3_target = sep_features_target(data_loc3, ['product', 'id'], 'product')\n",
    "\n",
    "# проверим разбитие - возьмём размер датафреймов\n",
    "print(data_loc1_features.shape, data_loc1_target.shape)\n",
    "print(data_loc2_features.shape, data_loc2_target.shape)\n",
    "print(data_loc3_features.shape, data_loc3_target.shape)"
   ]
  },
  {
   "cell_type": "markdown",
   "metadata": {},
   "source": [
    "Разделение прошло успешно. Теперь пришла пора обучать модель."
   ]
  },
  {
   "cell_type": "code",
   "execution_count": 15,
   "metadata": {},
   "outputs": [
    {
     "name": "stdout",
     "output_type": "stream",
     "text": [
      "(74992, 3) (24998, 3)\n",
      "(74992,) (24998,)\n",
      "(74997, 3) (24999, 3)\n",
      "(74997,) (24999,)\n",
      "(74997, 3) (24999, 3)\n",
      "(74997,) (24999,)\n"
     ]
    }
   ],
   "source": [
    "# разделим данные на тестовую и валидационную выборки во всех регионах\n",
    "data_loc1_features_train, data_loc1_features_valid, data_loc1_target_train, data_loc1_target_valid = \\\n",
    "train_test_split(data_loc1_features, data_loc1_target, test_size=0.25, random_state=123)\n",
    "data_loc2_features_train, data_loc2_features_valid, data_loc2_target_train, data_loc2_target_valid = \\\n",
    "train_test_split(data_loc2_features, data_loc2_target, test_size=0.25, random_state=123)\n",
    "data_loc3_features_train, data_loc3_features_valid, data_loc3_target_train, data_loc3_target_valid = \\\n",
    "train_test_split(data_loc3_features, data_loc3_target, test_size=0.25, random_state=123)\n",
    "\n",
    "# правим индексы для дальнейшей работы\n",
    "data_loc1_target_valid = data_loc1_target_valid.reset_index(drop=True)\n",
    "data_loc2_target_valid = data_loc2_target_valid.reset_index(drop=True)\n",
    "data_loc3_target_valid = data_loc3_target_valid.reset_index(drop=True)\n",
    "\n",
    "# проверим, что получилось\n",
    "print(data_loc1_features_train.shape, data_loc1_features_valid.shape)\n",
    "print(data_loc1_target_train.shape, data_loc1_target_valid.shape)\n",
    "print(data_loc2_features_train.shape, data_loc2_features_valid.shape)\n",
    "print(data_loc2_target_train.shape, data_loc2_target_valid.shape)\n",
    "print(data_loc3_features_train.shape, data_loc3_features_valid.shape)\n",
    "print(data_loc3_target_train.shape, data_loc3_target_valid.shape)"
   ]
  },
  {
   "cell_type": "markdown",
   "metadata": {},
   "source": [
    "Разбитие прошло успешно. Теперь обучаем модель линейной регрессии."
   ]
  },
  {
   "cell_type": "code",
   "execution_count": 16,
   "metadata": {
    "scrolled": true
   },
   "outputs": [
    {
     "name": "stdout",
     "output_type": "stream",
     "text": [
      "В первом регионе запасы сырья в каждой скважине примерно равны: 92.68062036375521\n",
      "Во втором регионе запасы сырья в каждой скважине примерно равны: 69.31422919477679\n",
      "В третьем регионе запасы сырья в каждой скважине примерно равны: 94.93789877099006\n",
      "Ошибка модели по первому региону: 37.59580657262362\n",
      "Ошибка модели по второму региону: 0.8944711936820178\n",
      "Ошибка модели по третьему региону: 40.04908749269797\n"
     ]
    }
   ],
   "source": [
    "# функция для создания молели линейной регрессии и предсказания результатов с неё\n",
    "def lin_reg_fit_predict(train_features, train_target, valid_features):\n",
    "    lin_reg_model = LinearRegression()\n",
    "    lin_reg_model.fit(train_features, train_target)\n",
    "    valid_pred = lin_reg_model.predict(valid_features)\n",
    "    return lin_reg_model, valid_pred\n",
    "\n",
    "# обучаем модели линейной регрессии для регионов\n",
    "lin_reg_model_loc1, y_pred_loc1 = lin_reg_fit_predict(data_loc1_features_train, data_loc1_target_train,data_loc1_features_valid)\n",
    "lin_reg_model_loc2, y_pred_loc2 = lin_reg_fit_predict(data_loc2_features_train, data_loc2_target_train,data_loc2_features_valid)\n",
    "lin_reg_model_loc3, y_pred_loc3 = lin_reg_fit_predict(data_loc3_features_train, data_loc3_target_train,data_loc3_features_valid)\n",
    "\n",
    "# средние запасы сырья по предсказаниям моделей по регионам\n",
    "print('В первом регионе запасы сырья в каждой скважине примерно равны:', pd.Series(y_pred_loc1).mean())\n",
    "print('Во втором регионе запасы сырья в каждой скважине примерно равны:', pd.Series(y_pred_loc2).mean())\n",
    "print('В третьем регионе запасы сырья в каждой скважине примерно равны:', pd.Series(y_pred_loc3).mean())\n",
    "\n",
    "# ошибки моделей по метрике RMSE по каждому из регионов\n",
    "print('Ошибка модели по первому региону:', sm.mean_squared_error(data_loc1_target_valid, y_pred_loc1, squared=False))\n",
    "print('Ошибка модели по второму региону:', sm.mean_squared_error(data_loc2_target_valid, y_pred_loc2, squared=False))\n",
    "print('Ошибка модели по третьему региону:', sm.mean_squared_error(data_loc3_target_valid, y_pred_loc3, squared=False))"
   ]
  },
  {
   "cell_type": "markdown",
   "metadata": {},
   "source": [
    "В первом и в третьем регионе в каждой скважине в целом находиться (по предсказаниям моделей) больше запасов нефти, но при этом во второй модели намного ниже ошибка модели, чем в превом и в третьем случаях."
   ]
  },
  {
   "cell_type": "code",
   "execution_count": 17,
   "metadata": {},
   "outputs": [
    {
     "name": "stdout",
     "output_type": "stream",
     "text": [
      "37.54176202720258\n",
      "{'max_depth': 8, 'min_impurity_decrease': 0.04, 'min_samples_split': 18}\n",
      "CPU times: total: 51min 7s\n",
      "Wall time: 51min 16s\n"
     ]
    }
   ],
   "source": [
    "%%time\n",
    "\n",
    "# действительно ли надёжность иных моделей не выше, чем у простой линейной регрессии?\n",
    "# делить выборки не будем, а используем кросс валидацию для дерева решений\n",
    "model_tree = DecisionTreeRegressor(random_state=123)\n",
    "gsearch_tree = GridSearchCV(estimator=model_tree, cv=4, param_grid={'max_depth': [i for i in range(1, 15)], \\\n",
    "                                                                  'min_samples_split': [i for i in range(2, 20)], \\\n",
    "                                                                  'min_impurity_decrease': np.arange(0, 0.05, 0.01)}, \\\n",
    "                          scoring='neg_root_mean_squared_error')\n",
    "gsearch_tree.fit(data_loc1_features, data_loc1_target)\n",
    "best_model_tree = gsearch_tree.best_estimator_\n",
    "best_score_tree = gsearch_tree.best_score_\n",
    "best_params_tree = gsearch_tree.best_params_\n",
    "print(-best_score_tree, best_params_tree, sep='\\n')"
   ]
  },
  {
   "cell_type": "markdown",
   "metadata": {},
   "source": [
    "И, действительно, несмотря на достаточно долгое обучение и использованную кросс-валидацию дерево решений показало почти такой же результат, как и линейная регрессия на первом регионе. В дальнейшем использовании нет большого смысла."
   ]
  },
  {
   "cell_type": "markdown",
   "metadata": {},
   "source": [
    "## Подготовка к расчёту прибыли"
   ]
  },
  {
   "cell_type": "code",
   "execution_count": 18,
   "metadata": {
    "scrolled": true
   },
   "outputs": [
    {
     "data": {
      "text/html": [
       "<div>\n",
       "<style scoped>\n",
       "    .dataframe tbody tr th:only-of-type {\n",
       "        vertical-align: middle;\n",
       "    }\n",
       "\n",
       "    .dataframe tbody tr th {\n",
       "        vertical-align: top;\n",
       "    }\n",
       "\n",
       "    .dataframe thead th {\n",
       "        text-align: right;\n",
       "    }\n",
       "</style>\n",
       "<table border=\"1\" class=\"dataframe\">\n",
       "  <thead>\n",
       "    <tr style=\"text-align: right;\">\n",
       "      <th></th>\n",
       "      <th>id</th>\n",
       "      <th>f0</th>\n",
       "      <th>f1</th>\n",
       "      <th>f2</th>\n",
       "      <th>product</th>\n",
       "      <th>max_profit</th>\n",
       "      <th>max_final_profit</th>\n",
       "      <th>roi</th>\n",
       "    </tr>\n",
       "  </thead>\n",
       "  <tbody>\n",
       "    <tr>\n",
       "      <th>0</th>\n",
       "      <td>txEyH</td>\n",
       "      <td>0.705745</td>\n",
       "      <td>-0.497823</td>\n",
       "      <td>1.221170</td>\n",
       "      <td>105.280062</td>\n",
       "      <td>4.737603e+07</td>\n",
       "      <td>-9.952624e+09</td>\n",
       "      <td>-0.995262</td>\n",
       "    </tr>\n",
       "    <tr>\n",
       "      <th>1</th>\n",
       "      <td>2acmU</td>\n",
       "      <td>1.334711</td>\n",
       "      <td>-0.340164</td>\n",
       "      <td>4.365080</td>\n",
       "      <td>73.037750</td>\n",
       "      <td>3.286699e+07</td>\n",
       "      <td>-9.967133e+09</td>\n",
       "      <td>-0.996713</td>\n",
       "    </tr>\n",
       "    <tr>\n",
       "      <th>2</th>\n",
       "      <td>409Wp</td>\n",
       "      <td>1.022732</td>\n",
       "      <td>0.151990</td>\n",
       "      <td>1.419926</td>\n",
       "      <td>85.265647</td>\n",
       "      <td>3.836954e+07</td>\n",
       "      <td>-9.961630e+09</td>\n",
       "      <td>-0.996163</td>\n",
       "    </tr>\n",
       "    <tr>\n",
       "      <th>3</th>\n",
       "      <td>iJLyR</td>\n",
       "      <td>-0.032172</td>\n",
       "      <td>0.139033</td>\n",
       "      <td>2.978566</td>\n",
       "      <td>168.620776</td>\n",
       "      <td>7.587935e+07</td>\n",
       "      <td>-9.924121e+09</td>\n",
       "      <td>-0.992412</td>\n",
       "    </tr>\n",
       "    <tr>\n",
       "      <th>4</th>\n",
       "      <td>Xdl7t</td>\n",
       "      <td>1.988431</td>\n",
       "      <td>0.155413</td>\n",
       "      <td>4.751769</td>\n",
       "      <td>154.036647</td>\n",
       "      <td>6.931649e+07</td>\n",
       "      <td>-9.930684e+09</td>\n",
       "      <td>-0.993068</td>\n",
       "    </tr>\n",
       "    <tr>\n",
       "      <th>5</th>\n",
       "      <td>wX4Hy</td>\n",
       "      <td>0.969570</td>\n",
       "      <td>0.489775</td>\n",
       "      <td>-0.735383</td>\n",
       "      <td>64.741541</td>\n",
       "      <td>2.913369e+07</td>\n",
       "      <td>-9.970866e+09</td>\n",
       "      <td>-0.997087</td>\n",
       "    </tr>\n",
       "    <tr>\n",
       "      <th>6</th>\n",
       "      <td>tL6pL</td>\n",
       "      <td>0.645075</td>\n",
       "      <td>0.530656</td>\n",
       "      <td>1.780266</td>\n",
       "      <td>49.055285</td>\n",
       "      <td>2.207488e+07</td>\n",
       "      <td>-9.977925e+09</td>\n",
       "      <td>-0.997793</td>\n",
       "    </tr>\n",
       "    <tr>\n",
       "      <th>7</th>\n",
       "      <td>BYPU6</td>\n",
       "      <td>-0.400648</td>\n",
       "      <td>0.808337</td>\n",
       "      <td>-5.624670</td>\n",
       "      <td>72.943292</td>\n",
       "      <td>3.282448e+07</td>\n",
       "      <td>-9.967176e+09</td>\n",
       "      <td>-0.996718</td>\n",
       "    </tr>\n",
       "    <tr>\n",
       "      <th>8</th>\n",
       "      <td>j9Oui</td>\n",
       "      <td>0.643105</td>\n",
       "      <td>-0.551583</td>\n",
       "      <td>2.372141</td>\n",
       "      <td>113.356160</td>\n",
       "      <td>5.101027e+07</td>\n",
       "      <td>-9.948990e+09</td>\n",
       "      <td>-0.994899</td>\n",
       "    </tr>\n",
       "    <tr>\n",
       "      <th>9</th>\n",
       "      <td>OLuZU</td>\n",
       "      <td>2.173381</td>\n",
       "      <td>0.563698</td>\n",
       "      <td>9.441852</td>\n",
       "      <td>127.910945</td>\n",
       "      <td>5.755993e+07</td>\n",
       "      <td>-9.942440e+09</td>\n",
       "      <td>-0.994244</td>\n",
       "    </tr>\n",
       "  </tbody>\n",
       "</table>\n",
       "</div>"
      ],
      "text/plain": [
       "      id        f0        f1        f2     product    max_profit  \\\n",
       "0  txEyH  0.705745 -0.497823  1.221170  105.280062  4.737603e+07   \n",
       "1  2acmU  1.334711 -0.340164  4.365080   73.037750  3.286699e+07   \n",
       "2  409Wp  1.022732  0.151990  1.419926   85.265647  3.836954e+07   \n",
       "3  iJLyR -0.032172  0.139033  2.978566  168.620776  7.587935e+07   \n",
       "4  Xdl7t  1.988431  0.155413  4.751769  154.036647  6.931649e+07   \n",
       "5  wX4Hy  0.969570  0.489775 -0.735383   64.741541  2.913369e+07   \n",
       "6  tL6pL  0.645075  0.530656  1.780266   49.055285  2.207488e+07   \n",
       "7  BYPU6 -0.400648  0.808337 -5.624670   72.943292  3.282448e+07   \n",
       "8  j9Oui  0.643105 -0.551583  2.372141  113.356160  5.101027e+07   \n",
       "9  OLuZU  2.173381  0.563698  9.441852  127.910945  5.755993e+07   \n",
       "\n",
       "   max_final_profit       roi  \n",
       "0     -9.952624e+09 -0.995262  \n",
       "1     -9.967133e+09 -0.996713  \n",
       "2     -9.961630e+09 -0.996163  \n",
       "3     -9.924121e+09 -0.992412  \n",
       "4     -9.930684e+09 -0.993068  \n",
       "5     -9.970866e+09 -0.997087  \n",
       "6     -9.977925e+09 -0.997793  \n",
       "7     -9.967176e+09 -0.996718  \n",
       "8     -9.948990e+09 -0.994899  \n",
       "9     -9.942440e+09 -0.994244  "
      ]
     },
     "metadata": {},
     "output_type": "display_data"
    },
    {
     "data": {
      "text/html": [
       "<div>\n",
       "<style scoped>\n",
       "    .dataframe tbody tr th:only-of-type {\n",
       "        vertical-align: middle;\n",
       "    }\n",
       "\n",
       "    .dataframe tbody tr th {\n",
       "        vertical-align: top;\n",
       "    }\n",
       "\n",
       "    .dataframe thead th {\n",
       "        text-align: right;\n",
       "    }\n",
       "</style>\n",
       "<table border=\"1\" class=\"dataframe\">\n",
       "  <thead>\n",
       "    <tr style=\"text-align: right;\">\n",
       "      <th></th>\n",
       "      <th>id</th>\n",
       "      <th>f0</th>\n",
       "      <th>f1</th>\n",
       "      <th>f2</th>\n",
       "      <th>product</th>\n",
       "      <th>max_profit</th>\n",
       "      <th>max_final_profit</th>\n",
       "      <th>roi</th>\n",
       "    </tr>\n",
       "  </thead>\n",
       "  <tbody>\n",
       "    <tr>\n",
       "      <th>0</th>\n",
       "      <td>kBEdx</td>\n",
       "      <td>-15.001348</td>\n",
       "      <td>-8.276000</td>\n",
       "      <td>-0.005876</td>\n",
       "      <td>3.179103</td>\n",
       "      <td>1.430596e+06</td>\n",
       "      <td>-9.998569e+09</td>\n",
       "      <td>-0.999857</td>\n",
       "    </tr>\n",
       "    <tr>\n",
       "      <th>1</th>\n",
       "      <td>62mP7</td>\n",
       "      <td>14.272088</td>\n",
       "      <td>-3.475083</td>\n",
       "      <td>0.999183</td>\n",
       "      <td>26.953261</td>\n",
       "      <td>1.212897e+07</td>\n",
       "      <td>-9.987871e+09</td>\n",
       "      <td>-0.998787</td>\n",
       "    </tr>\n",
       "    <tr>\n",
       "      <th>2</th>\n",
       "      <td>vyE1P</td>\n",
       "      <td>6.263187</td>\n",
       "      <td>-5.948386</td>\n",
       "      <td>5.001160</td>\n",
       "      <td>134.766305</td>\n",
       "      <td>6.064484e+07</td>\n",
       "      <td>-9.939355e+09</td>\n",
       "      <td>-0.993936</td>\n",
       "    </tr>\n",
       "    <tr>\n",
       "      <th>3</th>\n",
       "      <td>KcrkZ</td>\n",
       "      <td>-13.081196</td>\n",
       "      <td>-11.506057</td>\n",
       "      <td>4.999415</td>\n",
       "      <td>137.945408</td>\n",
       "      <td>6.207543e+07</td>\n",
       "      <td>-9.937925e+09</td>\n",
       "      <td>-0.993792</td>\n",
       "    </tr>\n",
       "    <tr>\n",
       "      <th>4</th>\n",
       "      <td>AHL4O</td>\n",
       "      <td>12.702195</td>\n",
       "      <td>-8.147433</td>\n",
       "      <td>5.004363</td>\n",
       "      <td>134.766305</td>\n",
       "      <td>6.064484e+07</td>\n",
       "      <td>-9.939355e+09</td>\n",
       "      <td>-0.993936</td>\n",
       "    </tr>\n",
       "    <tr>\n",
       "      <th>5</th>\n",
       "      <td>HHckp</td>\n",
       "      <td>-3.327590</td>\n",
       "      <td>-2.205276</td>\n",
       "      <td>3.003647</td>\n",
       "      <td>84.038886</td>\n",
       "      <td>3.781750e+07</td>\n",
       "      <td>-9.962183e+09</td>\n",
       "      <td>-0.996218</td>\n",
       "    </tr>\n",
       "    <tr>\n",
       "      <th>6</th>\n",
       "      <td>h5Ujo</td>\n",
       "      <td>-11.142655</td>\n",
       "      <td>-10.133399</td>\n",
       "      <td>4.002382</td>\n",
       "      <td>110.992147</td>\n",
       "      <td>4.994647e+07</td>\n",
       "      <td>-9.950054e+09</td>\n",
       "      <td>-0.995005</td>\n",
       "    </tr>\n",
       "    <tr>\n",
       "      <th>7</th>\n",
       "      <td>muH9x</td>\n",
       "      <td>4.234715</td>\n",
       "      <td>-0.001354</td>\n",
       "      <td>2.004588</td>\n",
       "      <td>53.906522</td>\n",
       "      <td>2.425793e+07</td>\n",
       "      <td>-9.975742e+09</td>\n",
       "      <td>-0.997574</td>\n",
       "    </tr>\n",
       "    <tr>\n",
       "      <th>8</th>\n",
       "      <td>YiRkx</td>\n",
       "      <td>13.355129</td>\n",
       "      <td>-0.332068</td>\n",
       "      <td>4.998647</td>\n",
       "      <td>134.766305</td>\n",
       "      <td>6.064484e+07</td>\n",
       "      <td>-9.939355e+09</td>\n",
       "      <td>-0.993936</td>\n",
       "    </tr>\n",
       "    <tr>\n",
       "      <th>9</th>\n",
       "      <td>jG6Gi</td>\n",
       "      <td>1.069227</td>\n",
       "      <td>-11.025667</td>\n",
       "      <td>4.997844</td>\n",
       "      <td>137.945408</td>\n",
       "      <td>6.207543e+07</td>\n",
       "      <td>-9.937925e+09</td>\n",
       "      <td>-0.993792</td>\n",
       "    </tr>\n",
       "  </tbody>\n",
       "</table>\n",
       "</div>"
      ],
      "text/plain": [
       "      id         f0         f1        f2     product    max_profit  \\\n",
       "0  kBEdx -15.001348  -8.276000 -0.005876    3.179103  1.430596e+06   \n",
       "1  62mP7  14.272088  -3.475083  0.999183   26.953261  1.212897e+07   \n",
       "2  vyE1P   6.263187  -5.948386  5.001160  134.766305  6.064484e+07   \n",
       "3  KcrkZ -13.081196 -11.506057  4.999415  137.945408  6.207543e+07   \n",
       "4  AHL4O  12.702195  -8.147433  5.004363  134.766305  6.064484e+07   \n",
       "5  HHckp  -3.327590  -2.205276  3.003647   84.038886  3.781750e+07   \n",
       "6  h5Ujo -11.142655 -10.133399  4.002382  110.992147  4.994647e+07   \n",
       "7  muH9x   4.234715  -0.001354  2.004588   53.906522  2.425793e+07   \n",
       "8  YiRkx  13.355129  -0.332068  4.998647  134.766305  6.064484e+07   \n",
       "9  jG6Gi   1.069227 -11.025667  4.997844  137.945408  6.207543e+07   \n",
       "\n",
       "   max_final_profit       roi  \n",
       "0     -9.998569e+09 -0.999857  \n",
       "1     -9.987871e+09 -0.998787  \n",
       "2     -9.939355e+09 -0.993936  \n",
       "3     -9.937925e+09 -0.993792  \n",
       "4     -9.939355e+09 -0.993936  \n",
       "5     -9.962183e+09 -0.996218  \n",
       "6     -9.950054e+09 -0.995005  \n",
       "7     -9.975742e+09 -0.997574  \n",
       "8     -9.939355e+09 -0.993936  \n",
       "9     -9.937925e+09 -0.993792  "
      ]
     },
     "metadata": {},
     "output_type": "display_data"
    },
    {
     "data": {
      "text/html": [
       "<div>\n",
       "<style scoped>\n",
       "    .dataframe tbody tr th:only-of-type {\n",
       "        vertical-align: middle;\n",
       "    }\n",
       "\n",
       "    .dataframe tbody tr th {\n",
       "        vertical-align: top;\n",
       "    }\n",
       "\n",
       "    .dataframe thead th {\n",
       "        text-align: right;\n",
       "    }\n",
       "</style>\n",
       "<table border=\"1\" class=\"dataframe\">\n",
       "  <thead>\n",
       "    <tr style=\"text-align: right;\">\n",
       "      <th></th>\n",
       "      <th>id</th>\n",
       "      <th>f0</th>\n",
       "      <th>f1</th>\n",
       "      <th>f2</th>\n",
       "      <th>product</th>\n",
       "      <th>max_profit</th>\n",
       "      <th>max_final_profit</th>\n",
       "      <th>roi</th>\n",
       "    </tr>\n",
       "  </thead>\n",
       "  <tbody>\n",
       "    <tr>\n",
       "      <th>0</th>\n",
       "      <td>fwXo0</td>\n",
       "      <td>-1.146987</td>\n",
       "      <td>0.963328</td>\n",
       "      <td>-0.828965</td>\n",
       "      <td>27.758673</td>\n",
       "      <td>1.249140e+07</td>\n",
       "      <td>-9.987509e+09</td>\n",
       "      <td>-0.998751</td>\n",
       "    </tr>\n",
       "    <tr>\n",
       "      <th>1</th>\n",
       "      <td>WJtFt</td>\n",
       "      <td>0.262778</td>\n",
       "      <td>0.269839</td>\n",
       "      <td>-2.530187</td>\n",
       "      <td>56.069697</td>\n",
       "      <td>2.523136e+07</td>\n",
       "      <td>-9.974769e+09</td>\n",
       "      <td>-0.997477</td>\n",
       "    </tr>\n",
       "    <tr>\n",
       "      <th>2</th>\n",
       "      <td>ovLUW</td>\n",
       "      <td>0.194587</td>\n",
       "      <td>0.289035</td>\n",
       "      <td>-5.586433</td>\n",
       "      <td>62.871910</td>\n",
       "      <td>2.829236e+07</td>\n",
       "      <td>-9.971708e+09</td>\n",
       "      <td>-0.997171</td>\n",
       "    </tr>\n",
       "    <tr>\n",
       "      <th>3</th>\n",
       "      <td>q6cA6</td>\n",
       "      <td>2.236060</td>\n",
       "      <td>-0.553760</td>\n",
       "      <td>0.930038</td>\n",
       "      <td>114.572842</td>\n",
       "      <td>5.155778e+07</td>\n",
       "      <td>-9.948442e+09</td>\n",
       "      <td>-0.994844</td>\n",
       "    </tr>\n",
       "    <tr>\n",
       "      <th>4</th>\n",
       "      <td>WPMUX</td>\n",
       "      <td>-0.515993</td>\n",
       "      <td>1.716266</td>\n",
       "      <td>5.899011</td>\n",
       "      <td>149.600746</td>\n",
       "      <td>6.732034e+07</td>\n",
       "      <td>-9.932680e+09</td>\n",
       "      <td>-0.993268</td>\n",
       "    </tr>\n",
       "    <tr>\n",
       "      <th>5</th>\n",
       "      <td>LzZXx</td>\n",
       "      <td>-0.758092</td>\n",
       "      <td>0.710691</td>\n",
       "      <td>2.585887</td>\n",
       "      <td>90.222465</td>\n",
       "      <td>4.060011e+07</td>\n",
       "      <td>-9.959400e+09</td>\n",
       "      <td>-0.995940</td>\n",
       "    </tr>\n",
       "    <tr>\n",
       "      <th>6</th>\n",
       "      <td>WBHRv</td>\n",
       "      <td>-0.574891</td>\n",
       "      <td>0.317727</td>\n",
       "      <td>1.773745</td>\n",
       "      <td>45.641478</td>\n",
       "      <td>2.053867e+07</td>\n",
       "      <td>-9.979461e+09</td>\n",
       "      <td>-0.997946</td>\n",
       "    </tr>\n",
       "    <tr>\n",
       "      <th>7</th>\n",
       "      <td>XO8fn</td>\n",
       "      <td>-1.906649</td>\n",
       "      <td>-2.458350</td>\n",
       "      <td>-0.177097</td>\n",
       "      <td>72.480640</td>\n",
       "      <td>3.261629e+07</td>\n",
       "      <td>-9.967384e+09</td>\n",
       "      <td>-0.996738</td>\n",
       "    </tr>\n",
       "    <tr>\n",
       "      <th>8</th>\n",
       "      <td>ybmQ5</td>\n",
       "      <td>1.776292</td>\n",
       "      <td>-0.279356</td>\n",
       "      <td>3.004156</td>\n",
       "      <td>106.616832</td>\n",
       "      <td>4.797757e+07</td>\n",
       "      <td>-9.952022e+09</td>\n",
       "      <td>-0.995202</td>\n",
       "    </tr>\n",
       "    <tr>\n",
       "      <th>9</th>\n",
       "      <td>OilcN</td>\n",
       "      <td>-1.214452</td>\n",
       "      <td>-0.439314</td>\n",
       "      <td>5.922514</td>\n",
       "      <td>52.954532</td>\n",
       "      <td>2.382954e+07</td>\n",
       "      <td>-9.976170e+09</td>\n",
       "      <td>-0.997617</td>\n",
       "    </tr>\n",
       "  </tbody>\n",
       "</table>\n",
       "</div>"
      ],
      "text/plain": [
       "      id        f0        f1        f2     product    max_profit  \\\n",
       "0  fwXo0 -1.146987  0.963328 -0.828965   27.758673  1.249140e+07   \n",
       "1  WJtFt  0.262778  0.269839 -2.530187   56.069697  2.523136e+07   \n",
       "2  ovLUW  0.194587  0.289035 -5.586433   62.871910  2.829236e+07   \n",
       "3  q6cA6  2.236060 -0.553760  0.930038  114.572842  5.155778e+07   \n",
       "4  WPMUX -0.515993  1.716266  5.899011  149.600746  6.732034e+07   \n",
       "5  LzZXx -0.758092  0.710691  2.585887   90.222465  4.060011e+07   \n",
       "6  WBHRv -0.574891  0.317727  1.773745   45.641478  2.053867e+07   \n",
       "7  XO8fn -1.906649 -2.458350 -0.177097   72.480640  3.261629e+07   \n",
       "8  ybmQ5  1.776292 -0.279356  3.004156  106.616832  4.797757e+07   \n",
       "9  OilcN -1.214452 -0.439314  5.922514   52.954532  2.382954e+07   \n",
       "\n",
       "   max_final_profit       roi  \n",
       "0     -9.987509e+09 -0.998751  \n",
       "1     -9.974769e+09 -0.997477  \n",
       "2     -9.971708e+09 -0.997171  \n",
       "3     -9.948442e+09 -0.994844  \n",
       "4     -9.932680e+09 -0.993268  \n",
       "5     -9.959400e+09 -0.995940  \n",
       "6     -9.979461e+09 -0.997946  \n",
       "7     -9.967384e+09 -0.996738  \n",
       "8     -9.952022e+09 -0.995202  \n",
       "9     -9.976170e+09 -0.997617  "
      ]
     },
     "metadata": {},
     "output_type": "display_data"
    }
   ],
   "source": [
    "# создаём графу максимальная прибыль во всех основных датафреймах (для каждой скважины)\n",
    "profit_with_barrel = 450000 # прибыль с тысячи баррелей, рублей\n",
    "data_loc1['max_profit'] = data_loc1['product'] * profit_with_barrel\n",
    "data_loc2['max_profit'] = data_loc2['product'] * profit_with_barrel\n",
    "data_loc3['max_profit'] = data_loc3['product'] * profit_with_barrel\n",
    "\n",
    "# создаём графу масимальная возможная прибыль\n",
    "investment = 10000000000 # инвестиции на разработку скважин в регионе, рублей\n",
    "data_loc1['max_final_profit'] = data_loc1['max_profit'] - investment\n",
    "data_loc2['max_final_profit'] = data_loc2['max_profit'] - investment\n",
    "data_loc3['max_final_profit'] = data_loc3['max_profit'] - investment\n",
    "\n",
    "#  создаём графу возврат на инвестиции с каждой скважины (ROI)\n",
    "data_loc1['roi'] = data_loc1['max_final_profit'] / investment\n",
    "data_loc2['roi'] = data_loc2['max_final_profit'] / investment\n",
    "data_loc3['roi'] = data_loc3['max_final_profit'] / investment\n",
    "\n",
    "# проверим, что вышло\n",
    "display(data_loc1.head(10))\n",
    "display(data_loc2.head(10))\n",
    "display(data_loc3.head(10))"
   ]
  },
  {
   "cell_type": "markdown",
   "metadata": {},
   "source": [
    "Ни одна скважина не сможет обеспечить задачу покрытия общих расходов по сравнению с вложениями - тут просто другой порядок. Значит, единственный способ заработать на вложениях - копать сразу во многих местах. И в условиях нам говорят: копать будем в 200 лучших местах из 500 отобранных. Это и будем проверять."
   ]
  },
  {
   "cell_type": "code",
   "execution_count": 19,
   "metadata": {},
   "outputs": [
    {
     "name": "stdout",
     "output_type": "stream",
     "text": [
      "Для безубыточности надо иметь в каждой скважине по 111.11 тысяч баррелей нефти.\n"
     ]
    }
   ],
   "source": [
    "# сколько тысяч баррелей нефти должны быть в среднем в каждой скважине для точки безубыточности при 200 скважинах?\n",
    "n_wells = 200\n",
    "print('Для безубыточности надо иметь в каждой скважине по', round(investment / (profit_with_barrel * n_wells), 2), 'тысяч баррелей нефти.')"
   ]
  },
  {
   "cell_type": "markdown",
   "metadata": {},
   "source": [
    "Вот здесь и возникает проблема - это больше, чем в среднем имеют скважины в любом из регионов - а, значит, выбирать каждую скважину нужно тщательнее. Важно понимать, что средние показатели расчитаны на основе 25000 точек для разработки скважин и мы можем выбрать среди них только 200. Навярняка среди этих 200 скважин будут как и очень хорошие, так и плохие. Фактически отбирая их много раз случайным образом мы можем понять какие у нас есть вероятности получить нужный нам результат и понять какие у нас есть риски получения убытков. Это и есть причина по которой надо продолжать исследование."
   ]
  },
  {
   "cell_type": "markdown",
   "metadata": {},
   "source": [
    "## Расчёт прибыли и рисков "
   ]
  },
  {
   "cell_type": "code",
   "execution_count": 20,
   "metadata": {},
   "outputs": [],
   "source": [
    "# создадим функцию для расчёта прибыли со скважин\n",
    "def net_profit(DataFrame_target, list_pred, profit_with_barrel, n_wells, investment):\n",
    "    series_pred = pd.Series(list_pred).sort_values(ascending=False).head(n_wells)\n",
    "    volume_barrels = DataFrame_target.iloc[series_pred.index].sum()\n",
    "    profit = (volume_barrels * profit_with_barrel - investment) / 1000000 # для большей читабельности сумма прибыли - в млн. руб.\n",
    "    return profit, volume_barrels"
   ]
  },
  {
   "cell_type": "code",
   "execution_count": 21,
   "metadata": {},
   "outputs": [
    {
     "name": "stdout",
     "output_type": "stream",
     "text": [
      "Максимальная прибыль в первом регионе равна: 3254.756682630411 млн. рублей.\n",
      "Максимальная прибыль во втором регионе равна: 2415.086696681511 млн. рублей.\n",
      "Максимальная прибыль в третьем регионе равна: 2237.5523154973716 млн. рублей.\n",
      "Объём найденной нефти в первом регионе 29455.014850289805 тысяч баррелей.\n",
      "Объём найденной нефти во втором регионе 27589.081548181137 тысяч баррелей.\n",
      "Объём найденной нефти в третьем регионе 27194.56070110527 тысяч баррелей.\n"
     ]
    }
   ],
   "source": [
    "# рассчитаем максимальную прибыль в каждом из регионов при условии идеального выбора 200 скважин\n",
    "max_profit_loc1, volume_barrels_loc1 = net_profit(data_loc1_target_valid, y_pred_loc1, profit_with_barrel, n_wells, investment)\n",
    "max_profit_loc2, volume_barrels_loc2 = net_profit(data_loc2_target_valid, y_pred_loc2, profit_with_barrel, n_wells, investment)\n",
    "max_profit_loc3, volume_barrels_loc3 = net_profit(data_loc3_target_valid, y_pred_loc3, profit_with_barrel, n_wells, investment)\n",
    "\n",
    "# смотрим на результат\n",
    "print('Максимальная прибыль в первом регионе равна:', max_profit_loc1, 'млн. рублей.')\n",
    "print('Максимальная прибыль во втором регионе равна:', max_profit_loc2, 'млн. рублей.')\n",
    "print('Максимальная прибыль в третьем регионе равна:', max_profit_loc3, 'млн. рублей.')\n",
    "print('Объём найденной нефти в первом регионе', volume_barrels_loc1, 'тысяч баррелей.')\n",
    "print('Объём найденной нефти во втором регионе', volume_barrels_loc2, 'тысяч баррелей.')\n",
    "print('Объём найденной нефти в третьем регионе', volume_barrels_loc3, 'тысяч баррелей.')"
   ]
  },
  {
   "cell_type": "markdown",
   "metadata": {},
   "source": [
    "И всё же при идеальном выборе мест для будения скважин это довольно выгодно. Особенно для первого региона. Прибыль соотвественно будет составлять 32.54%. для второго и третьего региона это не настолько выгодно - но тоже прибыль в 24.15% и в 22.37% весьма неплоха. Но что будет при реальном выборе? Какая вероятность вообще получить прибыль (не забываем, что точка безубыточности больше среднего по каждому из регионов)? Проверим это по технологии бустреп."
   ]
  },
  {
   "cell_type": "code",
   "execution_count": 22,
   "metadata": {},
   "outputs": [
    {
     "name": "stdout",
     "output_type": "stream",
     "text": [
      "Средняя возможная чистая прибыль по первому региону составляет: 399 млн. рублей.\n",
      "Средняя возможная чистая прибыль по второму региону составляет: 480 млн. рублей.\n",
      "Средняя возможная чистая прибыль по третьему региону составляет: 346 млн. рублей.\n",
      "Средний найденный объём нефти в первом регионе равен 23108.1726688608 тысяч баррелей.\n",
      "Средний найденный объём нефти во втором регионе равен 23287.81118006416 тысяч баррелей.\n",
      "Средний найденный объём нефти в третьем регионе равен 22991.841208441077 тысяч баррелей.\n"
     ]
    }
   ],
   "source": [
    "# будем выбирать 1000 раз случайным образом по 500 скважин и из них будем брать 200 лучших и считать прибыль исходя из этого\n",
    "state = np.random.RandomState(123)\n",
    "\n",
    "# создаём функцию процедуры бутстрапирования\n",
    "def boostrap(DataFrame_target, list_pred, profit_with_barrel, n_wells, investment, n_iter, n_sample, random_state):\n",
    "    possible_profits =  []\n",
    "    possible_volume_barrels = []\n",
    "    for i in range(n_iter):\n",
    "        sample_data = pd.Series(list_pred).sample(n=n_sample, random_state=random_state)\n",
    "        data_target = DataFrame_target.iloc[sample_data.index]\n",
    "        sample_data = sample_data.reset_index(drop=True)\n",
    "        profits, volume = net_profit(data_target, sample_data, profit_with_barrel, n_wells, investment)\n",
    "        possible_profits.append(profits)\n",
    "        possible_volume_barrels.append(volume)\n",
    "    return possible_profits, possible_volume_barrels\n",
    "\n",
    "# применяем бутстрапирование ко всем регионам\n",
    "possible_profits_loc1, possible_volume_barrels_loc1 = boostrap(data_loc1_target_valid, y_pred_loc1, profit_with_barrel, \\\n",
    "                                                               n_wells, investment, 1000, 500, state)\n",
    "possible_profits_loc2, possible_volume_barrels_loc2 = boostrap(data_loc2_target_valid, y_pred_loc2, profit_with_barrel, \\\n",
    "                                                               n_wells, investment, 1000, 500, state)\n",
    "possible_profits_loc3, possible_volume_barrels_loc3 = boostrap(data_loc3_target_valid, y_pred_loc3, profit_with_barrel, \\\n",
    "                                                               n_wells, investment, 1000, 500, state)\n",
    "    \n",
    "# считаем среднюю прибыль и средний объём найденной нефти по случайным выборкам по регионам\n",
    "print('Средняя возможная чистая прибыль по первому региону составляет:', round(pd.Series(possible_profits_loc1).mean()), \"млн. рублей.\")\n",
    "print('Средняя возможная чистая прибыль по второму региону составляет:', round(pd.Series(possible_profits_loc2).mean()), \"млн. рублей.\")\n",
    "print('Средняя возможная чистая прибыль по третьему региону составляет:', round(pd.Series(possible_profits_loc3).mean()), \"млн. рублей.\")\n",
    "print('Средний найденный объём нефти в первом регионе равен',pd.Series(possible_volume_barrels_loc1).mean() , 'тысяч баррелей.')\n",
    "print('Средний найденный объём нефти во втором регионе равен',pd.Series(possible_volume_barrels_loc2).mean() , 'тысяч баррелей.')\n",
    "print('Средний найденный объём нефти в третьем регионе равен',pd.Series(possible_volume_barrels_loc3).mean() , 'тысяч баррелей.')"
   ]
  },
  {
   "cell_type": "markdown",
   "metadata": {},
   "source": [
    "Как ни странно, но во втором регионе средняя прибыль больше, чем в 1ом или в 3ьем, а что с точкой безубыточности? Вложимся ли мы в 2.5% убытков при случайной выборке? Проверим для всех регионов. Коэффициент ROI для второго региона равен 4.8%. Для первого региона - 3.99%, а для третьего региона - 3.46%."
   ]
  },
  {
   "cell_type": "code",
   "execution_count": 23,
   "metadata": {},
   "outputs": [
    {
     "name": "stdout",
     "output_type": "stream",
     "text": [
      "С вероятностью в 2.5% мы заработаем в первом регионе -118 млн. рублей\n",
      "С вероятностью в 2.5% мы заработаем во втором регионе 86 млн. рублей\n",
      "С вероятностью в 2.5% мы заработаем в третьем регионе -176 млн. рублей\n"
     ]
    }
   ],
   "source": [
    "# получим ли мы убытки с вероятностью 2.5%?\n",
    "print('С вероятностью в 2.5% мы заработаем в первом регионе', round(pd.Series(possible_profits_loc1).sort_values().quantile(q=0.025)), 'млн. рублей')\n",
    "print('С вероятностью в 2.5% мы заработаем во втором регионе', round(pd.Series(possible_profits_loc2).sort_values().quantile(q=0.025)), 'млн. рублей')\n",
    "print('С вероятностью в 2.5% мы заработаем в третьем регионе', round(pd.Series(possible_profits_loc3).sort_values().quantile(q=0.025)), 'млн. рублей')"
   ]
  },
  {
   "cell_type": "markdown",
   "metadata": {},
   "source": [
    "Во втором регионе с вероятностью в 97.5% мы получим прибыль, пускай и не очень большую. В первом или третьем регионе мы можем получить убытки как минимум в 2.5%. Последний вопрос - а какова вообще вероятность убытков по регионам? Рассчитаем."
   ]
  },
  {
   "cell_type": "code",
   "execution_count": 24,
   "metadata": {},
   "outputs": [
    {
     "name": "stdout",
     "output_type": "stream",
     "text": [
      "Вероятность убытков в первом регионе равна 6.3 %.\n",
      "Вероятность убытков во втором регионе равна 0.4 %.\n",
      "Вероятность убытков в третьем регионе равна 9.4 %.\n"
     ]
    }
   ],
   "source": [
    "# рассчитываем вероятность убытков по регионам\n",
    "print('Вероятность убытков в первом регионе равна',\\\n",
    "      round(pd.Series(possible_profits_loc1).loc[lambda x: x < 0].size / pd.Series(possible_profits_loc1).size * 100, 2), '%.')\n",
    "print('Вероятность убытков во втором регионе равна',\\\n",
    "      round(pd.Series(possible_profits_loc2).loc[lambda x: x < 0].size / pd.Series(possible_profits_loc2).size * 100, 2), '%.')\n",
    "print('Вероятность убытков в третьем регионе равна',\\\n",
    "      round(pd.Series(possible_profits_loc3).loc[lambda x: x < 0].size / pd.Series(possible_profits_loc3).size * 100, 2), '%.')"
   ]
  },
  {
   "cell_type": "markdown",
   "metadata": {},
   "source": [
    "Потенциально убыточным может быть любой регион, но вероятность убытков во втором регионе значительно ниже, чем в первом или в третьем. В третьем регионе вероятность убытков достаточно высока. И момент: найдём 95% доверительный интервал для всех регионов."
   ]
  },
  {
   "cell_type": "code",
   "execution_count": 25,
   "metadata": {},
   "outputs": [
    {
     "name": "stdout",
     "output_type": "stream",
     "text": [
      "95% доверительный интервал для прибыли в первом регионе равен: (-121.65538279864995, 919.0107847733727)\n",
      "95% доверительный интервал для прибыли во втором регионе равен: (99.30120376469529, 859.7288582930504)\n",
      "95% доверительный интервал для прибыли в третьем регионе равен: (-181.6483759859176, 874.3054635828895)\n"
     ]
    }
   ],
   "source": [
    "# ищем 95% доверительный интервал по распределению прибыли для всех регионов\n",
    "# это (среднее -1.96 * сигма ;  среднее +1.96 * сигма)\n",
    "# для этого напишем функцию\n",
    "def confidence_interval_95(selections):\n",
    "    mean_value = pd.Series(selections).mean()\n",
    "    std_value = pd.Series(selections).std()\n",
    "    return mean_value - 1.96 * std_value, mean_value + 1.96 * std_value\n",
    "    \n",
    "print('95% доверительный интервал для прибыли в первом регионе равен:', confidence_interval_95(possible_profits_loc1))\n",
    "print('95% доверительный интервал для прибыли во втором регионе равен:', confidence_interval_95(possible_profits_loc2))\n",
    "print('95% доверительный интервал для прибыли в третьем регионе равен:', confidence_interval_95(possible_profits_loc3))"
   ]
  },
  {
   "cell_type": "markdown",
   "metadata": {},
   "source": [
    "Надо сказать, что несмотря на то, что во втором регионе не удаётся получить больших прибылей, зато мы не рискуем получить убытки, что не маловажно,особенно если учесть что верхний предел отличается не так сильно как нижний. Теперь у нас есть все данные для принятия решения. "
   ]
  },
  {
   "cell_type": "markdown",
   "metadata": {},
   "source": [
    "## Общий вывод"
   ]
  },
  {
   "cell_type": "markdown",
   "metadata": {},
   "source": [
    "Исходя из нашего анализа однозначно надо предпочесть второй регион. В среднем при вложении в 10 млрд рублем мы сможем заработать 480 млн. рублей. Или же рассчитав коэффициент - возврат на инвестиции (ROI) в размере 4.8%. Даже в относительно неудачном случае мы не получим убытков как минимум в 97.5%, а заработаем 86 млн. рублей, что лишь понижает наш возрат на инвестции до 0.86%. В лучшем случае мы заработаем немногим более 2.4 млрд рублей, но на такую удачу рассчитывать нельзя. В 95% случаев наша прибыль будет не больше 859 млн. рублей. Только с вероятностью в 0.4% мы получим убыток. Это выглядит достаточно выгодным вложением денег, во всяком случае по сравнению с другими регионами, ввиду намного большей вероятности убытков в них и меньшего среднего значения потенциальной прибыли."
   ]
  }
 ],
 "metadata": {
  "ExecuteTimeLog": [
   {
    "duration": 1838,
    "start_time": "2023-08-14T18:22:35.206Z"
   },
   {
    "duration": 12,
    "start_time": "2023-08-14T18:22:45.781Z"
   },
   {
    "duration": 1535,
    "start_time": "2023-08-14T18:23:18.968Z"
   },
   {
    "duration": 799,
    "start_time": "2023-08-14T18:29:29.768Z"
   },
   {
    "duration": 49,
    "start_time": "2023-08-14T18:33:42.674Z"
   },
   {
    "duration": 133,
    "start_time": "2023-08-14T18:40:40.364Z"
   },
   {
    "duration": 131,
    "start_time": "2023-08-14T19:31:05.736Z"
   },
   {
    "duration": 20,
    "start_time": "2023-08-14T19:31:29.551Z"
   },
   {
    "duration": 18,
    "start_time": "2023-08-14T19:32:38.528Z"
   },
   {
    "duration": 16,
    "start_time": "2023-08-14T19:33:03.325Z"
   },
   {
    "duration": 23,
    "start_time": "2023-08-14T19:33:40.784Z"
   },
   {
    "duration": 23,
    "start_time": "2023-08-14T19:33:53.854Z"
   },
   {
    "duration": 4,
    "start_time": "2023-08-14T19:35:05.966Z"
   },
   {
    "duration": 29,
    "start_time": "2023-08-14T19:41:49.440Z"
   },
   {
    "duration": 19,
    "start_time": "2023-08-14T19:42:01.171Z"
   },
   {
    "duration": 27,
    "start_time": "2023-08-14T19:42:09.232Z"
   },
   {
    "duration": 16,
    "start_time": "2023-08-14T19:44:20.105Z"
   },
   {
    "duration": 19,
    "start_time": "2023-08-14T19:45:26.801Z"
   },
   {
    "duration": 12,
    "start_time": "2023-08-14T19:45:41.299Z"
   },
   {
    "duration": 11,
    "start_time": "2023-08-14T19:47:04.363Z"
   },
   {
    "duration": 10,
    "start_time": "2023-08-14T19:47:19.525Z"
   },
   {
    "duration": 46,
    "start_time": "2023-08-15T17:05:06.999Z"
   },
   {
    "duration": 1684,
    "start_time": "2023-08-15T17:05:43.360Z"
   },
   {
    "duration": 1898,
    "start_time": "2023-08-15T17:05:45.046Z"
   },
   {
    "duration": 34,
    "start_time": "2023-08-15T17:05:46.946Z"
   },
   {
    "duration": 123,
    "start_time": "2023-08-15T17:05:46.982Z"
   },
   {
    "duration": 9,
    "start_time": "2023-08-15T17:05:47.107Z"
   },
   {
    "duration": 113,
    "start_time": "2023-08-15T17:05:54.835Z"
   },
   {
    "duration": 15,
    "start_time": "2023-08-15T17:06:30.975Z"
   },
   {
    "duration": 13,
    "start_time": "2023-08-15T17:06:40.779Z"
   },
   {
    "duration": 11,
    "start_time": "2023-08-15T17:07:20.645Z"
   },
   {
    "duration": 16,
    "start_time": "2023-08-15T17:07:51.799Z"
   },
   {
    "duration": 3,
    "start_time": "2023-08-15T17:12:04.523Z"
   },
   {
    "duration": 10,
    "start_time": "2023-08-15T17:12:28.518Z"
   },
   {
    "duration": 4,
    "start_time": "2023-08-15T17:12:37.393Z"
   },
   {
    "duration": 31,
    "start_time": "2023-08-15T17:16:07.771Z"
   },
   {
    "duration": 38172,
    "start_time": "2023-08-15T17:19:20.331Z"
   },
   {
    "duration": 918086,
    "start_time": "2023-08-15T17:21:39.939Z"
   },
   {
    "duration": 29,
    "start_time": "2023-08-15T17:48:20.208Z"
   },
   {
    "duration": 4,
    "start_time": "2023-08-15T17:52:28.979Z"
   },
   {
    "duration": 16,
    "start_time": "2023-08-15T19:02:03.832Z"
   },
   {
    "duration": 295,
    "start_time": "2023-08-15T19:03:00.481Z"
   },
   {
    "duration": 357,
    "start_time": "2023-08-15T19:06:08.027Z"
   },
   {
    "duration": 49,
    "start_time": "2023-08-16T13:40:23.318Z"
   },
   {
    "duration": 1774,
    "start_time": "2023-08-16T13:40:38.133Z"
   },
   {
    "duration": 1798,
    "start_time": "2023-08-16T13:40:39.909Z"
   },
   {
    "duration": 36,
    "start_time": "2023-08-16T13:40:41.709Z"
   },
   {
    "duration": 163,
    "start_time": "2023-08-16T13:40:41.747Z"
   },
   {
    "duration": 11,
    "start_time": "2023-08-16T13:40:41.912Z"
   },
   {
    "duration": 75,
    "start_time": "2023-08-16T13:40:41.925Z"
   },
   {
    "duration": 693,
    "start_time": "2023-08-16T13:40:42.003Z"
   },
   {
    "duration": 0,
    "start_time": "2023-08-16T13:40:42.698Z"
   },
   {
    "duration": 0,
    "start_time": "2023-08-16T13:40:42.699Z"
   },
   {
    "duration": 308,
    "start_time": "2023-08-16T13:41:45.670Z"
   },
   {
    "duration": 1016884,
    "start_time": "2023-08-16T13:41:49.596Z"
   },
   {
    "duration": 55,
    "start_time": "2023-08-16T14:01:21.442Z"
   },
   {
    "duration": 39,
    "start_time": "2023-08-16T14:03:26.413Z"
   },
   {
    "duration": 40,
    "start_time": "2023-08-16T14:08:52.535Z"
   },
   {
    "duration": 4,
    "start_time": "2023-08-16T14:47:42.485Z"
   },
   {
    "duration": 3,
    "start_time": "2023-08-16T14:48:42.522Z"
   },
   {
    "duration": 12,
    "start_time": "2023-08-16T15:26:35.071Z"
   },
   {
    "duration": 40,
    "start_time": "2023-08-16T15:26:46.605Z"
   },
   {
    "duration": 82,
    "start_time": "2023-08-16T15:37:17.794Z"
   },
   {
    "duration": 59,
    "start_time": "2023-08-16T16:13:19.347Z"
   },
   {
    "duration": 7897,
    "start_time": "2023-08-16T16:29:25.073Z"
   },
   {
    "duration": 7401,
    "start_time": "2023-08-16T16:30:22.953Z"
   },
   {
    "duration": 10,
    "start_time": "2023-08-16T16:43:32.483Z"
   },
   {
    "duration": 10,
    "start_time": "2023-08-16T16:45:54.489Z"
   },
   {
    "duration": 1042,
    "start_time": "2023-08-16T17:10:27.725Z"
   },
   {
    "duration": 384,
    "start_time": "2023-08-16T17:10:28.769Z"
   },
   {
    "duration": 37,
    "start_time": "2023-08-16T17:10:29.154Z"
   },
   {
    "duration": 124,
    "start_time": "2023-08-16T17:10:29.192Z"
   },
   {
    "duration": 9,
    "start_time": "2023-08-16T17:10:29.318Z"
   },
   {
    "duration": 45,
    "start_time": "2023-08-16T17:10:29.329Z"
   },
   {
    "duration": 302,
    "start_time": "2023-08-16T17:10:29.376Z"
   },
   {
    "duration": 951475,
    "start_time": "2023-08-16T17:10:29.680Z"
   },
   {
    "duration": 49,
    "start_time": "2023-08-16T17:26:21.156Z"
   },
   {
    "duration": 5,
    "start_time": "2023-08-16T17:26:21.206Z"
   },
   {
    "duration": 94,
    "start_time": "2023-08-16T17:26:21.212Z"
   },
   {
    "duration": 7494,
    "start_time": "2023-08-16T17:26:21.308Z"
   },
   {
    "duration": 10,
    "start_time": "2023-08-16T17:26:28.804Z"
   },
   {
    "duration": 71,
    "start_time": "2023-08-16T17:27:28.042Z"
   },
   {
    "duration": 7423,
    "start_time": "2023-08-16T17:36:22.487Z"
   },
   {
    "duration": 9,
    "start_time": "2023-08-16T17:54:23.230Z"
   },
   {
    "duration": 8,
    "start_time": "2023-08-16T17:55:55.916Z"
   },
   {
    "duration": 10,
    "start_time": "2023-08-16T17:57:02.379Z"
   },
   {
    "duration": 1807,
    "start_time": "2023-08-17T14:40:53.555Z"
   },
   {
    "duration": 882,
    "start_time": "2023-08-17T14:41:20.285Z"
   },
   {
    "duration": 39,
    "start_time": "2023-08-17T14:43:45.736Z"
   },
   {
    "duration": 170,
    "start_time": "2023-08-17T14:45:01.786Z"
   },
   {
    "duration": 59,
    "start_time": "2023-08-17T15:05:23.502Z"
   },
   {
    "duration": 58,
    "start_time": "2023-08-17T15:09:18.673Z"
   },
   {
    "duration": 169,
    "start_time": "2023-08-17T15:56:22.248Z"
   },
   {
    "duration": 82,
    "start_time": "2023-08-17T15:56:37.411Z"
   },
   {
    "duration": 377,
    "start_time": "2023-08-17T16:18:17.543Z"
   },
   {
    "duration": 412,
    "start_time": "2023-08-17T16:26:47.743Z"
   },
   {
    "duration": 325,
    "start_time": "2023-08-17T16:47:46.125Z"
   },
   {
    "duration": 363,
    "start_time": "2023-08-17T17:04:13.474Z"
   },
   {
    "duration": 624,
    "start_time": "2023-08-17T19:12:22.041Z"
   },
   {
    "duration": 84,
    "start_time": "2023-08-17T19:14:11.912Z"
   },
   {
    "duration": 605,
    "start_time": "2023-08-17T19:15:02.762Z"
   },
   {
    "duration": 777,
    "start_time": "2023-08-17T19:17:16.581Z"
   },
   {
    "duration": 520,
    "start_time": "2023-08-17T19:19:48.190Z"
   },
   {
    "duration": 520,
    "start_time": "2023-08-17T19:20:04.551Z"
   },
   {
    "duration": 623,
    "start_time": "2023-08-17T19:23:09.039Z"
   },
   {
    "duration": 566,
    "start_time": "2023-08-17T19:23:57.964Z"
   },
   {
    "duration": 822,
    "start_time": "2023-08-17T19:24:23.183Z"
   },
   {
    "duration": 697,
    "start_time": "2023-08-17T19:24:48.252Z"
   },
   {
    "duration": 743,
    "start_time": "2023-08-17T19:25:38.955Z"
   },
   {
    "duration": 1450,
    "start_time": "2023-08-17T19:26:46.332Z"
   },
   {
    "duration": 395,
    "start_time": "2023-08-17T19:26:47.785Z"
   },
   {
    "duration": 59,
    "start_time": "2023-08-17T19:26:48.182Z"
   },
   {
    "duration": 139,
    "start_time": "2023-08-17T19:26:48.244Z"
   },
   {
    "duration": 48,
    "start_time": "2023-08-17T19:26:48.384Z"
   },
   {
    "duration": 105,
    "start_time": "2023-08-17T19:26:48.434Z"
   },
   {
    "duration": 346,
    "start_time": "2023-08-17T19:26:48.541Z"
   },
   {
    "duration": 308,
    "start_time": "2023-08-17T19:26:48.894Z"
   },
   {
    "duration": 332,
    "start_time": "2023-08-17T19:26:49.204Z"
   },
   {
    "duration": 727,
    "start_time": "2023-08-17T19:26:49.538Z"
   },
   {
    "duration": 1437,
    "start_time": "2023-08-17T19:32:53.666Z"
   },
   {
    "duration": 459,
    "start_time": "2023-08-17T19:32:55.106Z"
   },
   {
    "duration": 64,
    "start_time": "2023-08-17T19:32:55.567Z"
   },
   {
    "duration": 143,
    "start_time": "2023-08-17T19:32:55.634Z"
   },
   {
    "duration": 53,
    "start_time": "2023-08-17T19:32:55.779Z"
   },
   {
    "duration": 111,
    "start_time": "2023-08-17T19:32:55.835Z"
   },
   {
    "duration": 395,
    "start_time": "2023-08-17T19:32:55.947Z"
   },
   {
    "duration": 368,
    "start_time": "2023-08-17T19:32:56.344Z"
   },
   {
    "duration": 482,
    "start_time": "2023-08-17T19:32:56.714Z"
   },
   {
    "duration": 816,
    "start_time": "2023-08-17T19:32:57.199Z"
   },
   {
    "duration": 378,
    "start_time": "2023-08-17T19:43:19.735Z"
   },
   {
    "duration": 410,
    "start_time": "2023-08-17T20:04:59.960Z"
   },
   {
    "duration": 392,
    "start_time": "2023-08-17T20:10:45.705Z"
   },
   {
    "duration": 16,
    "start_time": "2023-08-17T20:45:21.314Z"
   },
   {
    "duration": 34,
    "start_time": "2023-08-17T21:17:33.781Z"
   },
   {
    "duration": 310,
    "start_time": "2023-08-17T21:17:38.000Z"
   },
   {
    "duration": 948895,
    "start_time": "2023-08-17T21:21:06.446Z"
   },
   {
    "duration": 49,
    "start_time": "2023-08-17T22:34:10.426Z"
   },
   {
    "duration": 3,
    "start_time": "2023-08-17T22:34:17.168Z"
   },
   {
    "duration": 4,
    "start_time": "2023-08-17T23:08:09.176Z"
   },
   {
    "duration": 143,
    "start_time": "2023-08-17T23:22:20.925Z"
   },
   {
    "duration": 5,
    "start_time": "2023-08-17T23:33:49.834Z"
   },
   {
    "duration": 22,
    "start_time": "2023-08-17T23:33:55.112Z"
   },
   {
    "duration": 15,
    "start_time": "2023-08-17T23:34:36.402Z"
   },
   {
    "duration": 32,
    "start_time": "2023-08-17T23:34:40.492Z"
   },
   {
    "duration": 45,
    "start_time": "2023-08-18T00:11:49.170Z"
   },
   {
    "duration": 6697,
    "start_time": "2023-08-18T00:22:14.019Z"
   },
   {
    "duration": 13,
    "start_time": "2023-08-18T00:24:20.407Z"
   },
   {
    "duration": 10,
    "start_time": "2023-08-18T00:24:34.876Z"
   },
   {
    "duration": 64,
    "start_time": "2023-08-18T13:58:41.543Z"
   },
   {
    "duration": 1951,
    "start_time": "2023-08-18T13:58:57.127Z"
   },
   {
    "duration": 2049,
    "start_time": "2023-08-18T13:58:59.080Z"
   },
   {
    "duration": 37,
    "start_time": "2023-08-18T13:59:01.131Z"
   },
   {
    "duration": 164,
    "start_time": "2023-08-18T13:59:01.171Z"
   },
   {
    "duration": 44,
    "start_time": "2023-08-18T13:59:01.337Z"
   },
   {
    "duration": 176,
    "start_time": "2023-08-18T13:59:01.383Z"
   },
   {
    "duration": 366,
    "start_time": "2023-08-18T13:59:01.560Z"
   },
   {
    "duration": 348,
    "start_time": "2023-08-18T13:59:01.928Z"
   },
   {
    "duration": 465,
    "start_time": "2023-08-18T13:59:02.278Z"
   },
   {
    "duration": 726,
    "start_time": "2023-08-18T13:59:02.746Z"
   },
   {
    "duration": 460,
    "start_time": "2023-08-18T13:59:03.474Z"
   },
   {
    "duration": 402,
    "start_time": "2023-08-18T13:59:03.935Z"
   },
   {
    "duration": 406,
    "start_time": "2023-08-18T13:59:04.338Z"
   },
   {
    "duration": 14,
    "start_time": "2023-08-18T13:59:04.746Z"
   },
   {
    "duration": 77,
    "start_time": "2023-08-18T13:59:04.762Z"
   },
   {
    "duration": 351,
    "start_time": "2023-08-18T13:59:04.841Z"
   },
   {
    "duration": 992299,
    "start_time": "2023-08-18T13:59:05.196Z"
   },
   {
    "duration": 57,
    "start_time": "2023-08-18T14:15:37.497Z"
   },
   {
    "duration": 4,
    "start_time": "2023-08-18T14:15:37.576Z"
   },
   {
    "duration": 20,
    "start_time": "2023-08-18T14:15:37.581Z"
   },
   {
    "duration": 24,
    "start_time": "2023-08-18T14:15:37.603Z"
   },
   {
    "duration": 126,
    "start_time": "2023-08-18T14:17:06.427Z"
   },
   {
    "duration": 30,
    "start_time": "2023-08-18T14:27:24.159Z"
   },
   {
    "duration": 32,
    "start_time": "2023-08-18T14:27:40.613Z"
   },
   {
    "duration": 28,
    "start_time": "2023-08-18T14:33:43.117Z"
   },
   {
    "duration": 1478,
    "start_time": "2023-08-18T14:42:43.922Z"
   },
   {
    "duration": 427,
    "start_time": "2023-08-18T14:42:45.402Z"
   },
   {
    "duration": 45,
    "start_time": "2023-08-18T14:42:45.830Z"
   },
   {
    "duration": 149,
    "start_time": "2023-08-18T14:42:45.877Z"
   },
   {
    "duration": 61,
    "start_time": "2023-08-18T14:42:46.028Z"
   },
   {
    "duration": 106,
    "start_time": "2023-08-18T14:42:46.091Z"
   },
   {
    "duration": 393,
    "start_time": "2023-08-18T14:42:46.200Z"
   },
   {
    "duration": 332,
    "start_time": "2023-08-18T14:42:46.595Z"
   },
   {
    "duration": 372,
    "start_time": "2023-08-18T14:42:46.929Z"
   },
   {
    "duration": 757,
    "start_time": "2023-08-18T14:42:47.304Z"
   },
   {
    "duration": 486,
    "start_time": "2023-08-18T14:42:48.063Z"
   },
   {
    "duration": 406,
    "start_time": "2023-08-18T14:42:48.551Z"
   },
   {
    "duration": 395,
    "start_time": "2023-08-18T14:42:48.959Z"
   },
   {
    "duration": 20,
    "start_time": "2023-08-18T14:42:49.356Z"
   },
   {
    "duration": 43,
    "start_time": "2023-08-18T14:42:49.378Z"
   },
   {
    "duration": 165,
    "start_time": "2023-08-18T14:42:49.422Z"
   },
   {
    "duration": 966761,
    "start_time": "2023-08-18T14:42:49.589Z"
   },
   {
    "duration": 48,
    "start_time": "2023-08-18T14:58:56.351Z"
   },
   {
    "duration": 4,
    "start_time": "2023-08-18T14:58:56.400Z"
   },
   {
    "duration": 3,
    "start_time": "2023-08-18T15:00:37.300Z"
   },
   {
    "duration": 17,
    "start_time": "2023-08-18T15:00:43.683Z"
   },
   {
    "duration": 3991,
    "start_time": "2023-08-18T15:00:49.659Z"
   },
   {
    "duration": 4138,
    "start_time": "2023-08-18T15:04:11.744Z"
   },
   {
    "duration": 9,
    "start_time": "2023-08-18T15:13:24.452Z"
   },
   {
    "duration": 13,
    "start_time": "2023-08-18T15:13:50.415Z"
   },
   {
    "duration": 9,
    "start_time": "2023-08-18T15:17:22.302Z"
   },
   {
    "duration": 10,
    "start_time": "2023-08-18T15:56:59.319Z"
   },
   {
    "duration": 3100,
    "start_time": "2023-08-19T14:50:39.478Z"
   },
   {
    "duration": 902,
    "start_time": "2023-08-19T14:50:42.580Z"
   },
   {
    "duration": 47,
    "start_time": "2023-08-19T14:50:43.524Z"
   },
   {
    "duration": 218,
    "start_time": "2023-08-19T14:50:43.630Z"
   },
   {
    "duration": 97,
    "start_time": "2023-08-19T14:50:43.850Z"
   },
   {
    "duration": 184,
    "start_time": "2023-08-19T14:50:43.950Z"
   },
   {
    "duration": 408,
    "start_time": "2023-08-19T14:50:44.136Z"
   },
   {
    "duration": 317,
    "start_time": "2023-08-19T14:50:44.545Z"
   },
   {
    "duration": 351,
    "start_time": "2023-08-19T14:50:44.864Z"
   },
   {
    "duration": 741,
    "start_time": "2023-08-19T14:50:45.223Z"
   },
   {
    "duration": 442,
    "start_time": "2023-08-19T14:50:45.967Z"
   },
   {
    "duration": 358,
    "start_time": "2023-08-19T14:50:46.411Z"
   },
   {
    "duration": 382,
    "start_time": "2023-08-19T14:50:46.771Z"
   },
   {
    "duration": 12,
    "start_time": "2023-08-19T14:50:47.155Z"
   },
   {
    "duration": 55,
    "start_time": "2023-08-19T14:50:47.169Z"
   },
   {
    "duration": 209,
    "start_time": "2023-08-19T14:50:47.225Z"
   },
   {
    "duration": 103582,
    "start_time": "2023-08-19T14:50:47.525Z"
   },
   {
    "duration": 0,
    "start_time": "2023-08-19T14:52:31.108Z"
   },
   {
    "duration": 0,
    "start_time": "2023-08-19T14:52:31.110Z"
   },
   {
    "duration": 0,
    "start_time": "2023-08-19T14:52:31.111Z"
   },
   {
    "duration": 0,
    "start_time": "2023-08-19T14:52:31.112Z"
   },
   {
    "duration": 0,
    "start_time": "2023-08-19T14:52:31.113Z"
   },
   {
    "duration": 0,
    "start_time": "2023-08-19T14:52:31.114Z"
   },
   {
    "duration": 0,
    "start_time": "2023-08-19T14:52:31.115Z"
   },
   {
    "duration": 0,
    "start_time": "2023-08-19T14:52:31.116Z"
   },
   {
    "duration": 44,
    "start_time": "2023-08-19T14:52:34.169Z"
   },
   {
    "duration": 3,
    "start_time": "2023-08-19T14:52:37.735Z"
   },
   {
    "duration": 4,
    "start_time": "2023-08-19T14:52:38.519Z"
   },
   {
    "duration": 14,
    "start_time": "2023-08-19T14:52:39.193Z"
   },
   {
    "duration": 3785,
    "start_time": "2023-08-19T14:52:39.846Z"
   },
   {
    "duration": 8,
    "start_time": "2023-08-19T14:52:43.633Z"
   },
   {
    "duration": 7,
    "start_time": "2023-08-19T14:52:43.643Z"
   },
   {
    "duration": 5,
    "start_time": "2023-08-19T14:52:52.463Z"
   },
   {
    "duration": 5,
    "start_time": "2023-08-19T14:52:55.870Z"
   }
  ],
  "kernelspec": {
   "display_name": "Python 3 (ipykernel)",
   "language": "python",
   "name": "python3"
  },
  "language_info": {
   "codemirror_mode": {
    "name": "ipython",
    "version": 3
   },
   "file_extension": ".py",
   "mimetype": "text/x-python",
   "name": "python",
   "nbconvert_exporter": "python",
   "pygments_lexer": "ipython3",
   "version": "3.10.9"
  },
  "toc": {
   "base_numbering": 1,
   "nav_menu": {},
   "number_sections": true,
   "sideBar": true,
   "skip_h1_title": true,
   "title_cell": "Table of Contents",
   "title_sidebar": "Contents",
   "toc_cell": false,
   "toc_position": {},
   "toc_section_display": true,
   "toc_window_display": false
  }
 },
 "nbformat": 4,
 "nbformat_minor": 2
}
