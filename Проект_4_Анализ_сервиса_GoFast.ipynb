{
 "cells": [
  {
   "cell_type": "markdown",
   "id": "0d133b01",
   "metadata": {},
   "source": [
    "# Сервис  аренды самокатов GoFast. Аналитический разбор."
   ]
  },
  {
   "cell_type": "markdown",
   "id": "5fe3b112",
   "metadata": {},
   "source": [
    "Нам даны 3 файла - один с пользователями сервиса самокатов, включающий в себя идентификатор пользователя, имя пользователя, возраст, город и тип подписки. Другой файл - с идентификатором пользователя, расстоянием, которое проехал пользователь, временем поездки и датой поездки. Последний файл - содержит тип подписки, стоимость минуты поездки, стоимость начала поездки и стоимость подписки. \n",
    "\n",
    "Наша цель: провести исследование данных - где находятся наши пользователи, как соотносятся наши пользователи, исследовать возраст пользователей (может влиять, скажем на то, как проводить рекламу нашего сервиса), изучить время поездки и расстояние - ведь это будет влиять на наши заработки. Так же надо рассчитать выручку по категориям пользователей и сравнить её. По всем этим показателям надо проверить, что наши различия статистически значимы. И, наконец, произвести расчёт для отдела маркетинга о количестве необходимой рассылки промокодов для получения новых пользователей с подпиской.\n",
    "\n",
    "Будем анализировать данные по следующему плану:\n",
    "1. Загрузка данных \n",
    "    - Считаем все файлы данных\n",
    "    - Выведем первые строки каждой таблицы. Изучим общую информацию о каждом из датафреймов.\n",
    "2. Предобработка данных\n",
    "    - Приведём столбцы к нужным типам данных\n",
    "    - Если нужно создадим дополнительные столбцы\n",
    "    - Проведём проверку на наличие пропущенных значений и дубликатов\n",
    "3. Проведём исследовательский анализ данных\n",
    "    - Изучим частоты встречаемости городов\n",
    "    - Изучим соотношение пользователей с подпиской и без неё\n",
    "    - Изучим возраст пользователей\n",
    "    - Изучим расстояние, которое пользователь проехал за одну поездку\n",
    "    - Изучим продолжительность поездок\n",
    "4. Проведём объединение данных\n",
    "    - Объединим данные о пользователях, поездках и подписках\n",
    "    - Отделим данные о пользователях с подписками и без них, создав для них отдельные датафреймы для удобства анализа\n",
    "    - Визуализируем информацию о расстоянии и времени поездок для пользователей с подписками и без них\n",
    "5. Произведём подсчёт выручки\n",
    "    - Созданим датафрейм с агрегированными данными о поездках\n",
    "    - Добавим в этот датафрейм столбец с помесячной выручкой по каждому из пользователей\n",
    "6. Проведём проверку некоторых гипотез\n",
    "    - Проверим гипотезу о больших тратах времени на поездку, для тех кто пользуются подпиской по сравнению с теми, кто ей не пользуется\n",
    "    - Проверим гипотезу о поездках на расстояние не большее, чем 3130 метров за поезку среди пользователей с подпиской\n",
    "    - Проверим гипотезу о том, что помесячная выручка от пользователей с подпиской выше, чем от пользователей без подписки\n",
    "    - Проверим гипотезу о том, что после обновления серверов количество обращений в службу поддержки значительно снизилось.\n",
    "7. Произведём расчёты для отдела маркетинга\n",
    "    - Произведём расчёт количества промокодов для рассылки пользователям, чтобы 100 существующих клиентов продлили подписку Ultra с вероятностью не выполнить этот план в 5%.\n",
    "    - Построим график распределения и оценим вероятность, того что после отсылки 11 млн push-уведомлений их откроют не более 399,5 тыс пользователей.\n",
    "8. Общий вывод"
   ]
  },
  {
   "cell_type": "code",
   "execution_count": 1,
   "id": "72576667",
   "metadata": {},
   "outputs": [],
   "source": [
    "# ячейка для импорта библиотек\n",
    "import pandas as pd\n",
    "import math\n",
    "import scipy.stats as st\n",
    "import matplotlib.pyplot as plt\n",
    "import seaborn as sns"
   ]
  },
  {
   "cell_type": "markdown",
   "id": "c42cbe00",
   "metadata": {},
   "source": [
    "## Загрузка данных"
   ]
  },
  {
   "cell_type": "code",
   "execution_count": 2,
   "id": "eff9f206",
   "metadata": {},
   "outputs": [],
   "source": [
    "# сохряняем данные в датафреймы\n",
    "users = pd.read_csv(r'https://code.s3.yandex.net/datasets/users_go.csv')\n",
    "rides = pd.read_csv(r'https://code.s3.yandex.net/datasets/rides_go.csv')\n",
    "subscriptions = pd.read_csv(r'https://code.s3.yandex.net/datasets/subscriptions_go.csv')"
   ]
  },
  {
   "cell_type": "code",
   "execution_count": 3,
   "id": "b014b458",
   "metadata": {},
   "outputs": [
    {
     "data": {
      "text/html": [
       "<div>\n",
       "<style scoped>\n",
       "    .dataframe tbody tr th:only-of-type {\n",
       "        vertical-align: middle;\n",
       "    }\n",
       "\n",
       "    .dataframe tbody tr th {\n",
       "        vertical-align: top;\n",
       "    }\n",
       "\n",
       "    .dataframe thead th {\n",
       "        text-align: right;\n",
       "    }\n",
       "</style>\n",
       "<table border=\"1\" class=\"dataframe\">\n",
       "  <thead>\n",
       "    <tr style=\"text-align: right;\">\n",
       "      <th></th>\n",
       "      <th>user_id</th>\n",
       "      <th>name</th>\n",
       "      <th>age</th>\n",
       "      <th>city</th>\n",
       "      <th>subscription_type</th>\n",
       "    </tr>\n",
       "  </thead>\n",
       "  <tbody>\n",
       "    <tr>\n",
       "      <th>0</th>\n",
       "      <td>1</td>\n",
       "      <td>Кира</td>\n",
       "      <td>22</td>\n",
       "      <td>Тюмень</td>\n",
       "      <td>ultra</td>\n",
       "    </tr>\n",
       "    <tr>\n",
       "      <th>1</th>\n",
       "      <td>2</td>\n",
       "      <td>Станислав</td>\n",
       "      <td>31</td>\n",
       "      <td>Омск</td>\n",
       "      <td>ultra</td>\n",
       "    </tr>\n",
       "    <tr>\n",
       "      <th>2</th>\n",
       "      <td>3</td>\n",
       "      <td>Алексей</td>\n",
       "      <td>20</td>\n",
       "      <td>Москва</td>\n",
       "      <td>ultra</td>\n",
       "    </tr>\n",
       "    <tr>\n",
       "      <th>3</th>\n",
       "      <td>4</td>\n",
       "      <td>Константин</td>\n",
       "      <td>26</td>\n",
       "      <td>Ростов-на-Дону</td>\n",
       "      <td>ultra</td>\n",
       "    </tr>\n",
       "    <tr>\n",
       "      <th>4</th>\n",
       "      <td>5</td>\n",
       "      <td>Адель</td>\n",
       "      <td>28</td>\n",
       "      <td>Омск</td>\n",
       "      <td>ultra</td>\n",
       "    </tr>\n",
       "    <tr>\n",
       "      <th>5</th>\n",
       "      <td>6</td>\n",
       "      <td>Регина</td>\n",
       "      <td>25</td>\n",
       "      <td>Краснодар</td>\n",
       "      <td>ultra</td>\n",
       "    </tr>\n",
       "    <tr>\n",
       "      <th>6</th>\n",
       "      <td>7</td>\n",
       "      <td>Игорь</td>\n",
       "      <td>23</td>\n",
       "      <td>Омск</td>\n",
       "      <td>ultra</td>\n",
       "    </tr>\n",
       "    <tr>\n",
       "      <th>7</th>\n",
       "      <td>8</td>\n",
       "      <td>Юрий</td>\n",
       "      <td>23</td>\n",
       "      <td>Краснодар</td>\n",
       "      <td>ultra</td>\n",
       "    </tr>\n",
       "    <tr>\n",
       "      <th>8</th>\n",
       "      <td>9</td>\n",
       "      <td>Ян</td>\n",
       "      <td>21</td>\n",
       "      <td>Пятигорск</td>\n",
       "      <td>ultra</td>\n",
       "    </tr>\n",
       "    <tr>\n",
       "      <th>9</th>\n",
       "      <td>10</td>\n",
       "      <td>Валерий</td>\n",
       "      <td>18</td>\n",
       "      <td>Екатеринбург</td>\n",
       "      <td>ultra</td>\n",
       "    </tr>\n",
       "  </tbody>\n",
       "</table>\n",
       "</div>"
      ],
      "text/plain": [
       "   user_id        name  age            city subscription_type\n",
       "0        1        Кира   22          Тюмень             ultra\n",
       "1        2   Станислав   31            Омск             ultra\n",
       "2        3     Алексей   20          Москва             ultra\n",
       "3        4  Константин   26  Ростов-на-Дону             ultra\n",
       "4        5       Адель   28            Омск             ultra\n",
       "5        6      Регина   25       Краснодар             ultra\n",
       "6        7       Игорь   23            Омск             ultra\n",
       "7        8        Юрий   23       Краснодар             ultra\n",
       "8        9          Ян   21       Пятигорск             ultra\n",
       "9       10     Валерий   18    Екатеринбург             ultra"
      ]
     },
     "execution_count": 3,
     "metadata": {},
     "output_type": "execute_result"
    }
   ],
   "source": [
    "# проводим первое знакомство с датасетом users\n",
    "users.head(10)"
   ]
  },
  {
   "cell_type": "code",
   "execution_count": 4,
   "id": "3aa55185",
   "metadata": {},
   "outputs": [
    {
     "name": "stdout",
     "output_type": "stream",
     "text": [
      "<class 'pandas.core.frame.DataFrame'>\n",
      "RangeIndex: 1565 entries, 0 to 1564\n",
      "Data columns (total 5 columns):\n",
      " #   Column             Non-Null Count  Dtype \n",
      "---  ------             --------------  ----- \n",
      " 0   user_id            1565 non-null   int64 \n",
      " 1   name               1565 non-null   object\n",
      " 2   age                1565 non-null   int64 \n",
      " 3   city               1565 non-null   object\n",
      " 4   subscription_type  1565 non-null   object\n",
      "dtypes: int64(2), object(3)\n",
      "memory usage: 61.3+ KB\n"
     ]
    }
   ],
   "source": [
    "# изучаем данные о датафрейме users\n",
    "users.info()"
   ]
  },
  {
   "cell_type": "markdown",
   "id": "fbc5ea1c",
   "metadata": {},
   "source": [
    "С таблицей users полный порядок - пропусков нет. Типы данных в норме, только для сокращения памяти можно перевести столбцы user_id и age к типу int32 сокращения памяти, но объём данных и так пока что игрушечный. Названия столбцов в норме."
   ]
  },
  {
   "cell_type": "code",
   "execution_count": 5,
   "id": "c9ef658e",
   "metadata": {},
   "outputs": [
    {
     "data": {
      "text/html": [
       "<div>\n",
       "<style scoped>\n",
       "    .dataframe tbody tr th:only-of-type {\n",
       "        vertical-align: middle;\n",
       "    }\n",
       "\n",
       "    .dataframe tbody tr th {\n",
       "        vertical-align: top;\n",
       "    }\n",
       "\n",
       "    .dataframe thead th {\n",
       "        text-align: right;\n",
       "    }\n",
       "</style>\n",
       "<table border=\"1\" class=\"dataframe\">\n",
       "  <thead>\n",
       "    <tr style=\"text-align: right;\">\n",
       "      <th></th>\n",
       "      <th>user_id</th>\n",
       "      <th>distance</th>\n",
       "      <th>duration</th>\n",
       "      <th>date</th>\n",
       "    </tr>\n",
       "  </thead>\n",
       "  <tbody>\n",
       "    <tr>\n",
       "      <th>0</th>\n",
       "      <td>1</td>\n",
       "      <td>4409.919140</td>\n",
       "      <td>25.599769</td>\n",
       "      <td>2021-01-01</td>\n",
       "    </tr>\n",
       "    <tr>\n",
       "      <th>1</th>\n",
       "      <td>1</td>\n",
       "      <td>2617.592153</td>\n",
       "      <td>15.816871</td>\n",
       "      <td>2021-01-18</td>\n",
       "    </tr>\n",
       "    <tr>\n",
       "      <th>2</th>\n",
       "      <td>1</td>\n",
       "      <td>754.159807</td>\n",
       "      <td>6.232113</td>\n",
       "      <td>2021-04-20</td>\n",
       "    </tr>\n",
       "    <tr>\n",
       "      <th>3</th>\n",
       "      <td>1</td>\n",
       "      <td>2694.783254</td>\n",
       "      <td>18.511000</td>\n",
       "      <td>2021-08-11</td>\n",
       "    </tr>\n",
       "    <tr>\n",
       "      <th>4</th>\n",
       "      <td>1</td>\n",
       "      <td>4028.687306</td>\n",
       "      <td>26.265803</td>\n",
       "      <td>2021-08-28</td>\n",
       "    </tr>\n",
       "    <tr>\n",
       "      <th>5</th>\n",
       "      <td>1</td>\n",
       "      <td>2770.890808</td>\n",
       "      <td>16.650138</td>\n",
       "      <td>2021-10-09</td>\n",
       "    </tr>\n",
       "    <tr>\n",
       "      <th>6</th>\n",
       "      <td>1</td>\n",
       "      <td>3039.020292</td>\n",
       "      <td>14.927879</td>\n",
       "      <td>2021-10-19</td>\n",
       "    </tr>\n",
       "    <tr>\n",
       "      <th>7</th>\n",
       "      <td>1</td>\n",
       "      <td>2842.118050</td>\n",
       "      <td>23.117468</td>\n",
       "      <td>2021-11-06</td>\n",
       "    </tr>\n",
       "    <tr>\n",
       "      <th>8</th>\n",
       "      <td>1</td>\n",
       "      <td>3412.690668</td>\n",
       "      <td>15.238072</td>\n",
       "      <td>2021-11-14</td>\n",
       "    </tr>\n",
       "    <tr>\n",
       "      <th>9</th>\n",
       "      <td>1</td>\n",
       "      <td>748.690645</td>\n",
       "      <td>15.041884</td>\n",
       "      <td>2021-11-22</td>\n",
       "    </tr>\n",
       "  </tbody>\n",
       "</table>\n",
       "</div>"
      ],
      "text/plain": [
       "   user_id     distance   duration        date\n",
       "0        1  4409.919140  25.599769  2021-01-01\n",
       "1        1  2617.592153  15.816871  2021-01-18\n",
       "2        1   754.159807   6.232113  2021-04-20\n",
       "3        1  2694.783254  18.511000  2021-08-11\n",
       "4        1  4028.687306  26.265803  2021-08-28\n",
       "5        1  2770.890808  16.650138  2021-10-09\n",
       "6        1  3039.020292  14.927879  2021-10-19\n",
       "7        1  2842.118050  23.117468  2021-11-06\n",
       "8        1  3412.690668  15.238072  2021-11-14\n",
       "9        1   748.690645  15.041884  2021-11-22"
      ]
     },
     "metadata": {},
     "output_type": "display_data"
    },
    {
     "name": "stdout",
     "output_type": "stream",
     "text": [
      "<class 'pandas.core.frame.DataFrame'>\n",
      "RangeIndex: 18068 entries, 0 to 18067\n",
      "Data columns (total 4 columns):\n",
      " #   Column    Non-Null Count  Dtype  \n",
      "---  ------    --------------  -----  \n",
      " 0   user_id   18068 non-null  int64  \n",
      " 1   distance  18068 non-null  float64\n",
      " 2   duration  18068 non-null  float64\n",
      " 3   date      18068 non-null  object \n",
      "dtypes: float64(2), int64(1), object(1)\n",
      "memory usage: 564.8+ KB\n"
     ]
    }
   ],
   "source": [
    "# проводим первое знакомство с датасетом rides\n",
    "display(rides.head(10))\n",
    "rides.info()"
   ]
  },
  {
   "cell_type": "markdown",
   "id": "79676d3e",
   "metadata": {},
   "source": [
    "С таблицей rides в плане пропусков всё тоже отлично - их нет. С названиями тоже проблем нет. Проблема с типом данных у столбца date - её нужно приводить к datetime64. И создадим столбец с месяцем в виде номера - от 1 до 12 для анализа. С годом создавать, похоже не нужно - на вскидку у нас данные за 2021 год. Но проверить не помешает."
   ]
  },
  {
   "cell_type": "code",
   "execution_count": 6,
   "id": "3cb96c3c",
   "metadata": {},
   "outputs": [
    {
     "data": {
      "text/plain": [
       "array(['2021-01-01', '2021-01-02', '2021-01-03', '2021-01-04',\n",
       "       '2021-01-05', '2021-01-06', '2021-01-07', '2021-01-08',\n",
       "       '2021-01-09', '2021-01-10', '2021-01-11', '2021-01-12',\n",
       "       '2021-01-13', '2021-01-14', '2021-01-15', '2021-01-16',\n",
       "       '2021-01-17', '2021-01-18', '2021-01-19', '2021-01-20',\n",
       "       '2021-01-21', '2021-01-22', '2021-01-23', '2021-01-24',\n",
       "       '2021-01-25', '2021-01-26', '2021-01-27', '2021-01-28',\n",
       "       '2021-01-29', '2021-01-30', '2021-01-31', '2021-02-01',\n",
       "       '2021-02-02', '2021-02-03', '2021-02-04', '2021-02-05',\n",
       "       '2021-02-06', '2021-02-07', '2021-02-08', '2021-02-09',\n",
       "       '2021-02-10', '2021-02-11', '2021-02-12', '2021-02-13',\n",
       "       '2021-02-14', '2021-02-15', '2021-02-16', '2021-02-17',\n",
       "       '2021-02-18', '2021-02-19', '2021-02-20', '2021-02-21',\n",
       "       '2021-02-22', '2021-02-23', '2021-02-24', '2021-02-25',\n",
       "       '2021-02-26', '2021-02-27', '2021-02-28', '2021-03-01',\n",
       "       '2021-03-02', '2021-03-03', '2021-03-04', '2021-03-05',\n",
       "       '2021-03-06', '2021-03-07', '2021-03-08', '2021-03-09',\n",
       "       '2021-03-10', '2021-03-11', '2021-03-12', '2021-03-13',\n",
       "       '2021-03-14', '2021-03-15', '2021-03-16', '2021-03-17',\n",
       "       '2021-03-18', '2021-03-19', '2021-03-20', '2021-03-21',\n",
       "       '2021-03-22', '2021-03-23', '2021-03-24', '2021-03-25',\n",
       "       '2021-03-26', '2021-03-27', '2021-03-28', '2021-03-29',\n",
       "       '2021-03-30', '2021-03-31', '2021-04-01', '2021-04-02',\n",
       "       '2021-04-03', '2021-04-04', '2021-04-05', '2021-04-06',\n",
       "       '2021-04-07', '2021-04-08', '2021-04-09', '2021-04-10',\n",
       "       '2021-04-11', '2021-04-12', '2021-04-13', '2021-04-14',\n",
       "       '2021-04-15', '2021-04-16', '2021-04-17', '2021-04-18',\n",
       "       '2021-04-19', '2021-04-20', '2021-04-21', '2021-04-22',\n",
       "       '2021-04-23', '2021-04-24', '2021-04-25', '2021-04-26',\n",
       "       '2021-04-27', '2021-04-28', '2021-04-29', '2021-04-30',\n",
       "       '2021-05-01', '2021-05-02', '2021-05-03', '2021-05-04',\n",
       "       '2021-05-05', '2021-05-06', '2021-05-07', '2021-05-08',\n",
       "       '2021-05-09', '2021-05-10', '2021-05-11', '2021-05-12',\n",
       "       '2021-05-13', '2021-05-14', '2021-05-15', '2021-05-16',\n",
       "       '2021-05-17', '2021-05-18', '2021-05-19', '2021-05-20',\n",
       "       '2021-05-21', '2021-05-22', '2021-05-23', '2021-05-24',\n",
       "       '2021-05-25', '2021-05-26', '2021-05-27', '2021-05-28',\n",
       "       '2021-05-29', '2021-05-30', '2021-05-31', '2021-06-01',\n",
       "       '2021-06-02', '2021-06-03', '2021-06-04', '2021-06-05',\n",
       "       '2021-06-06', '2021-06-07', '2021-06-08', '2021-06-09',\n",
       "       '2021-06-10', '2021-06-11', '2021-06-12', '2021-06-13',\n",
       "       '2021-06-14', '2021-06-15', '2021-06-16', '2021-06-17',\n",
       "       '2021-06-18', '2021-06-19', '2021-06-20', '2021-06-21',\n",
       "       '2021-06-22', '2021-06-23', '2021-06-24', '2021-06-25',\n",
       "       '2021-06-26', '2021-06-27', '2021-06-28', '2021-06-29',\n",
       "       '2021-06-30', '2021-07-01', '2021-07-02', '2021-07-03',\n",
       "       '2021-07-04', '2021-07-05', '2021-07-06', '2021-07-07',\n",
       "       '2021-07-08', '2021-07-09', '2021-07-10', '2021-07-11',\n",
       "       '2021-07-12', '2021-07-13', '2021-07-14', '2021-07-15',\n",
       "       '2021-07-16', '2021-07-17', '2021-07-18', '2021-07-19',\n",
       "       '2021-07-20', '2021-07-21', '2021-07-22', '2021-07-23',\n",
       "       '2021-07-24', '2021-07-25', '2021-07-26', '2021-07-27',\n",
       "       '2021-07-28', '2021-07-29', '2021-07-30', '2021-07-31',\n",
       "       '2021-08-01', '2021-08-02', '2021-08-03', '2021-08-04',\n",
       "       '2021-08-05', '2021-08-06', '2021-08-07', '2021-08-08',\n",
       "       '2021-08-09', '2021-08-10', '2021-08-11', '2021-08-12',\n",
       "       '2021-08-13', '2021-08-14', '2021-08-15', '2021-08-16',\n",
       "       '2021-08-17', '2021-08-18', '2021-08-19', '2021-08-20',\n",
       "       '2021-08-21', '2021-08-22', '2021-08-23', '2021-08-24',\n",
       "       '2021-08-25', '2021-08-26', '2021-08-27', '2021-08-28',\n",
       "       '2021-08-29', '2021-08-30', '2021-08-31', '2021-09-01',\n",
       "       '2021-09-02', '2021-09-03', '2021-09-04', '2021-09-05',\n",
       "       '2021-09-06', '2021-09-07', '2021-09-08', '2021-09-09',\n",
       "       '2021-09-10', '2021-09-11', '2021-09-12', '2021-09-13',\n",
       "       '2021-09-14', '2021-09-15', '2021-09-16', '2021-09-17',\n",
       "       '2021-09-18', '2021-09-19', '2021-09-20', '2021-09-21',\n",
       "       '2021-09-22', '2021-09-23', '2021-09-24', '2021-09-25',\n",
       "       '2021-09-26', '2021-09-27', '2021-09-28', '2021-09-29',\n",
       "       '2021-09-30', '2021-10-01', '2021-10-02', '2021-10-03',\n",
       "       '2021-10-04', '2021-10-05', '2021-10-06', '2021-10-07',\n",
       "       '2021-10-08', '2021-10-09', '2021-10-10', '2021-10-11',\n",
       "       '2021-10-12', '2021-10-13', '2021-10-14', '2021-10-15',\n",
       "       '2021-10-16', '2021-10-17', '2021-10-18', '2021-10-19',\n",
       "       '2021-10-20', '2021-10-21', '2021-10-22', '2021-10-23',\n",
       "       '2021-10-24', '2021-10-25', '2021-10-26', '2021-10-27',\n",
       "       '2021-10-28', '2021-10-29', '2021-10-30', '2021-10-31',\n",
       "       '2021-11-01', '2021-11-02', '2021-11-03', '2021-11-04',\n",
       "       '2021-11-05', '2021-11-06', '2021-11-07', '2021-11-08',\n",
       "       '2021-11-09', '2021-11-10', '2021-11-11', '2021-11-12',\n",
       "       '2021-11-13', '2021-11-14', '2021-11-15', '2021-11-16',\n",
       "       '2021-11-17', '2021-11-18', '2021-11-19', '2021-11-20',\n",
       "       '2021-11-21', '2021-11-22', '2021-11-23', '2021-11-24',\n",
       "       '2021-11-25', '2021-11-26', '2021-11-27', '2021-11-28',\n",
       "       '2021-11-29', '2021-11-30', '2021-12-01', '2021-12-02',\n",
       "       '2021-12-03', '2021-12-04', '2021-12-05', '2021-12-06',\n",
       "       '2021-12-07', '2021-12-08', '2021-12-09', '2021-12-10',\n",
       "       '2021-12-11', '2021-12-12', '2021-12-13', '2021-12-14',\n",
       "       '2021-12-15', '2021-12-16', '2021-12-17', '2021-12-18',\n",
       "       '2021-12-19', '2021-12-20', '2021-12-21', '2021-12-22',\n",
       "       '2021-12-23', '2021-12-24', '2021-12-25', '2021-12-26',\n",
       "       '2021-12-27', '2021-12-28', '2021-12-29', '2021-12-30'],\n",
       "      dtype=object)"
      ]
     },
     "execution_count": 6,
     "metadata": {},
     "output_type": "execute_result"
    }
   ],
   "source": [
    "# проверим данные за какие года у нас есть\n",
    "rides.sort_values(by='date').date.unique()"
   ]
  },
  {
   "cell_type": "markdown",
   "id": "0d19d86a",
   "metadata": {},
   "source": [
    "Итак: у нас данные есть по всем месяцам, но вот год только 2021, как мы и предполагали."
   ]
  },
  {
   "cell_type": "code",
   "execution_count": 7,
   "id": "baf99fb1",
   "metadata": {},
   "outputs": [
    {
     "data": {
      "text/html": [
       "<div>\n",
       "<style scoped>\n",
       "    .dataframe tbody tr th:only-of-type {\n",
       "        vertical-align: middle;\n",
       "    }\n",
       "\n",
       "    .dataframe tbody tr th {\n",
       "        vertical-align: top;\n",
       "    }\n",
       "\n",
       "    .dataframe thead th {\n",
       "        text-align: right;\n",
       "    }\n",
       "</style>\n",
       "<table border=\"1\" class=\"dataframe\">\n",
       "  <thead>\n",
       "    <tr style=\"text-align: right;\">\n",
       "      <th></th>\n",
       "      <th>subscription_type</th>\n",
       "      <th>minute_price</th>\n",
       "      <th>start_ride_price</th>\n",
       "      <th>subscription_fee</th>\n",
       "    </tr>\n",
       "  </thead>\n",
       "  <tbody>\n",
       "    <tr>\n",
       "      <th>0</th>\n",
       "      <td>free</td>\n",
       "      <td>8</td>\n",
       "      <td>50</td>\n",
       "      <td>0</td>\n",
       "    </tr>\n",
       "    <tr>\n",
       "      <th>1</th>\n",
       "      <td>ultra</td>\n",
       "      <td>6</td>\n",
       "      <td>0</td>\n",
       "      <td>199</td>\n",
       "    </tr>\n",
       "  </tbody>\n",
       "</table>\n",
       "</div>"
      ],
      "text/plain": [
       "  subscription_type  minute_price  start_ride_price  subscription_fee\n",
       "0              free             8                50                 0\n",
       "1             ultra             6                 0               199"
      ]
     },
     "metadata": {},
     "output_type": "display_data"
    },
    {
     "name": "stdout",
     "output_type": "stream",
     "text": [
      "<class 'pandas.core.frame.DataFrame'>\n",
      "RangeIndex: 2 entries, 0 to 1\n",
      "Data columns (total 4 columns):\n",
      " #   Column             Non-Null Count  Dtype \n",
      "---  ------             --------------  ----- \n",
      " 0   subscription_type  2 non-null      object\n",
      " 1   minute_price       2 non-null      int64 \n",
      " 2   start_ride_price   2 non-null      int64 \n",
      " 3   subscription_fee   2 non-null      int64 \n",
      "dtypes: int64(3), object(1)\n",
      "memory usage: 192.0+ bytes\n"
     ]
    }
   ],
   "source": [
    "# проводим первое знакомство с датасетом subscriptions\n",
    "display(subscriptions.head(10))\n",
    "subscriptions.info()"
   ]
  },
  {
   "cell_type": "markdown",
   "id": "1a29bf44",
   "metadata": {},
   "source": [
    "Комментировать нечего - всё в норме."
   ]
  },
  {
   "cell_type": "markdown",
   "id": "e95ebca7",
   "metadata": {},
   "source": [
    "##  Предобработка данных"
   ]
  },
  {
   "cell_type": "markdown",
   "id": "a64d06a7",
   "metadata": {},
   "source": [
    "### Приведение столбцов к нужным типам данных"
   ]
  },
  {
   "cell_type": "code",
   "execution_count": 8,
   "id": "af6d202c",
   "metadata": {},
   "outputs": [],
   "source": [
    "# преобразуем столбец date к типу datetime\n",
    "rides['date'] = pd.to_datetime(rides.date, format='%Y-%m-%d')"
   ]
  },
  {
   "cell_type": "markdown",
   "id": "d75caf78",
   "metadata": {},
   "source": [
    "### Создаём новый столбец с номером месяца"
   ]
  },
  {
   "cell_type": "code",
   "execution_count": 9,
   "id": "a07439ed",
   "metadata": {},
   "outputs": [
    {
     "data": {
      "text/html": [
       "<div>\n",
       "<style scoped>\n",
       "    .dataframe tbody tr th:only-of-type {\n",
       "        vertical-align: middle;\n",
       "    }\n",
       "\n",
       "    .dataframe tbody tr th {\n",
       "        vertical-align: top;\n",
       "    }\n",
       "\n",
       "    .dataframe thead th {\n",
       "        text-align: right;\n",
       "    }\n",
       "</style>\n",
       "<table border=\"1\" class=\"dataframe\">\n",
       "  <thead>\n",
       "    <tr style=\"text-align: right;\">\n",
       "      <th></th>\n",
       "      <th>user_id</th>\n",
       "      <th>distance</th>\n",
       "      <th>duration</th>\n",
       "      <th>date</th>\n",
       "      <th>month</th>\n",
       "    </tr>\n",
       "  </thead>\n",
       "  <tbody>\n",
       "    <tr>\n",
       "      <th>0</th>\n",
       "      <td>1</td>\n",
       "      <td>4409.919140</td>\n",
       "      <td>25.599769</td>\n",
       "      <td>2021-01-01</td>\n",
       "      <td>1</td>\n",
       "    </tr>\n",
       "    <tr>\n",
       "      <th>1</th>\n",
       "      <td>1</td>\n",
       "      <td>2617.592153</td>\n",
       "      <td>15.816871</td>\n",
       "      <td>2021-01-18</td>\n",
       "      <td>1</td>\n",
       "    </tr>\n",
       "    <tr>\n",
       "      <th>2</th>\n",
       "      <td>1</td>\n",
       "      <td>754.159807</td>\n",
       "      <td>6.232113</td>\n",
       "      <td>2021-04-20</td>\n",
       "      <td>4</td>\n",
       "    </tr>\n",
       "    <tr>\n",
       "      <th>3</th>\n",
       "      <td>1</td>\n",
       "      <td>2694.783254</td>\n",
       "      <td>18.511000</td>\n",
       "      <td>2021-08-11</td>\n",
       "      <td>8</td>\n",
       "    </tr>\n",
       "    <tr>\n",
       "      <th>4</th>\n",
       "      <td>1</td>\n",
       "      <td>4028.687306</td>\n",
       "      <td>26.265803</td>\n",
       "      <td>2021-08-28</td>\n",
       "      <td>8</td>\n",
       "    </tr>\n",
       "    <tr>\n",
       "      <th>5</th>\n",
       "      <td>1</td>\n",
       "      <td>2770.890808</td>\n",
       "      <td>16.650138</td>\n",
       "      <td>2021-10-09</td>\n",
       "      <td>10</td>\n",
       "    </tr>\n",
       "    <tr>\n",
       "      <th>6</th>\n",
       "      <td>1</td>\n",
       "      <td>3039.020292</td>\n",
       "      <td>14.927879</td>\n",
       "      <td>2021-10-19</td>\n",
       "      <td>10</td>\n",
       "    </tr>\n",
       "    <tr>\n",
       "      <th>7</th>\n",
       "      <td>1</td>\n",
       "      <td>2842.118050</td>\n",
       "      <td>23.117468</td>\n",
       "      <td>2021-11-06</td>\n",
       "      <td>11</td>\n",
       "    </tr>\n",
       "    <tr>\n",
       "      <th>8</th>\n",
       "      <td>1</td>\n",
       "      <td>3412.690668</td>\n",
       "      <td>15.238072</td>\n",
       "      <td>2021-11-14</td>\n",
       "      <td>11</td>\n",
       "    </tr>\n",
       "    <tr>\n",
       "      <th>9</th>\n",
       "      <td>1</td>\n",
       "      <td>748.690645</td>\n",
       "      <td>15.041884</td>\n",
       "      <td>2021-11-22</td>\n",
       "      <td>11</td>\n",
       "    </tr>\n",
       "  </tbody>\n",
       "</table>\n",
       "</div>"
      ],
      "text/plain": [
       "   user_id     distance   duration       date  month\n",
       "0        1  4409.919140  25.599769 2021-01-01      1\n",
       "1        1  2617.592153  15.816871 2021-01-18      1\n",
       "2        1   754.159807   6.232113 2021-04-20      4\n",
       "3        1  2694.783254  18.511000 2021-08-11      8\n",
       "4        1  4028.687306  26.265803 2021-08-28      8\n",
       "5        1  2770.890808  16.650138 2021-10-09     10\n",
       "6        1  3039.020292  14.927879 2021-10-19     10\n",
       "7        1  2842.118050  23.117468 2021-11-06     11\n",
       "8        1  3412.690668  15.238072 2021-11-14     11\n",
       "9        1   748.690645  15.041884 2021-11-22     11"
      ]
     },
     "execution_count": 9,
     "metadata": {},
     "output_type": "execute_result"
    }
   ],
   "source": [
    "# создаём колонку с месяцем поездки\n",
    "rides['month'] = rides.date.dt.month\n",
    "\n",
    "# смотрим на результат\n",
    "rides.head(10)"
   ]
  },
  {
   "cell_type": "markdown",
   "id": "a0094a7b",
   "metadata": {},
   "source": [
    "### Проверка на наличие дубликатов"
   ]
  },
  {
   "cell_type": "code",
   "execution_count": 10,
   "id": "321b44f8",
   "metadata": {},
   "outputs": [
    {
     "name": "stdout",
     "output_type": "stream",
     "text": [
      "31\n"
     ]
    },
    {
     "data": {
      "text/plain": [
       "0"
      ]
     },
     "execution_count": 10,
     "metadata": {},
     "output_type": "execute_result"
    }
   ],
   "source": [
    "# проверка на явные дубликаты - проверяем датафреймы users и rides\n",
    "print(users.duplicated().sum())\n",
    "rides.duplicated().sum()"
   ]
  },
  {
   "cell_type": "markdown",
   "id": "bddd885a",
   "metadata": {},
   "source": [
    "Неожиданно - но в датафрейме users нашёлся 31 дубликат. Немного, в общем (около 2%). Надо удалять."
   ]
  },
  {
   "cell_type": "code",
   "execution_count": 11,
   "id": "b06ceb23",
   "metadata": {},
   "outputs": [],
   "source": [
    "# удаляем найденные дубликаты\n",
    "users.drop_duplicates(inplace=True, ignore_index=True)"
   ]
  },
  {
   "cell_type": "code",
   "execution_count": 12,
   "id": "3f1b8c6b",
   "metadata": {},
   "outputs": [
    {
     "name": "stdout",
     "output_type": "stream",
     "text": [
      "['Агата' 'Аделина' 'Адель' 'Айдар' 'Александр' 'Александра' 'Алексей'\n",
      " 'Алина' 'Алиса' 'Алия' 'Алла' 'Альберт' 'Альбина' 'Алёна' 'Амалия'\n",
      " 'Амина' 'Амир' 'Анастасия' 'Анатолий' 'Ангелина' 'Андрей' 'Анжелика'\n",
      " 'Анна' 'Антон' 'Антонина' 'Ариана' 'Арина' 'Арсен' 'Арсений' 'Артемий'\n",
      " 'Артур' 'Артём' 'Богдан' 'Борис' 'Вадим' 'Валентина' 'Валерий' 'Валерия'\n",
      " 'Варвара' 'Василий' 'Василина' 'Василиса' 'Вера' 'Вероника' 'Виктор'\n",
      " 'Виктория' 'Виолетта' 'Виталий' 'Виталина' 'Влад' 'Влада' 'Владимир'\n",
      " 'Владислав' 'Владислава' 'Всеволод' 'Вячеслав' 'Галина' 'Георгий'\n",
      " 'Герман' 'Глеб' 'Гордей' 'Григорий' 'Давид' 'Дамир' 'Даниил' 'Данил'\n",
      " 'Данила' 'Даниэль' 'Дарина' 'Дарья' 'Демид' 'Денис' 'Диана' 'Дмитрий'\n",
      " 'Ева' 'Евгений' 'Евгения' 'Егор' 'Екатерина' 'Елена' 'Елизавета' 'Елисей'\n",
      " 'Есения' 'Жанна' 'Зарина' 'Захар' 'Злата' 'Иван' 'Игнат' 'Игорь' 'Ильдар'\n",
      " 'Илья' 'Инна' 'Ирина' 'Камилла' 'Карина' 'Каролина' 'Кира' 'Кирилл'\n",
      " 'Константин' 'Кристина' 'Ксения' 'Лариса' 'Лев' 'Леонид' 'Лиана' 'Лидия'\n",
      " 'Лилия' 'Любовь' 'Людмила' 'Мадина' 'Майя' 'Макар' 'Максим' 'Марат'\n",
      " 'Маргарита' 'Марина' 'Мария' 'Марк' 'Марсель' 'Матвей' 'Мелания' 'Милана'\n",
      " 'Милена' 'Мирон' 'Мирослав' 'Мирослава' 'Михаил' 'Назар' 'Наталия'\n",
      " 'Наталья' 'Наташа' 'Нелли' 'Ника' 'Никита' 'Николай' 'Нина' 'Одиссей'\n",
      " 'Оксана' 'Олег' 'Олеся' 'Ольга' 'Павел' 'Петр' 'Платон' 'Полина' 'Радмир'\n",
      " 'Рамиль' 'Регина' 'Роберт' 'Родион' 'Роман' 'Ростислав' 'Руслан' 'Рустам'\n",
      " 'Савелий' 'Самир' 'Самира' 'Светлана' 'Святогор' 'Святослав' 'Семен'\n",
      " 'Сергей' 'Снежана' 'София' 'Софья' 'Станислав' 'Степан' 'Стефания'\n",
      " 'Таисия' 'Тамара' 'Тамерлан' 'Татьяна' 'Тимофей' 'Тимур' 'Тихон' 'Ульяна'\n",
      " 'Федор' 'Эвелина' 'Эдуард' 'Элина' 'Эльвира' 'Эльмира' 'Эмилия' 'Эмиль'\n",
      " 'Юлиана' 'Юлия' 'Юрий' 'Ян' 'Яна' 'Яромир' 'Ярослав' 'Ярослава' 'Ясмина']\n"
     ]
    },
    {
     "data": {
      "text/plain": [
       "array(['Екатеринбург', 'Краснодар', 'Москва', 'Омск', 'Пятигорск',\n",
       "       'Ростов-на-Дону', 'Сочи', 'Тюмень'], dtype=object)"
      ]
     },
     "execution_count": 12,
     "metadata": {},
     "output_type": "execute_result"
    }
   ],
   "source": [
    "# проверим на неяные дубликаты столбцы name и city\n",
    "print(users.sort_values(by='name').name.unique())\n",
    "users.sort_values(by='city').city.unique()"
   ]
  },
  {
   "cell_type": "markdown",
   "id": "de938a1c",
   "metadata": {},
   "source": [
    "Всё в норме - неявных дубликатов нет. Двигаемся дальше."
   ]
  },
  {
   "cell_type": "markdown",
   "id": "212593c7",
   "metadata": {},
   "source": [
    "##  Исследовательский анализ данных"
   ]
  },
  {
   "cell_type": "markdown",
   "id": "69975a51",
   "metadata": {},
   "source": [
    "### Частота встречаемости городов"
   ]
  },
  {
   "cell_type": "code",
   "execution_count": 13,
   "id": "e3a4274c",
   "metadata": {},
   "outputs": [
    {
     "data": {
      "text/plain": [
       "city\n",
       "Екатеринбург      204\n",
       "Краснодар         193\n",
       "Москва            168\n",
       "Омск              183\n",
       "Пятигорск         219\n",
       "Ростов-на-Дону    198\n",
       "Сочи              189\n",
       "Тюмень            180\n",
       "Name: city, dtype: int64"
      ]
     },
     "execution_count": 13,
     "metadata": {},
     "output_type": "execute_result"
    }
   ],
   "source": [
    "# считаем частоту встречаемости каждого из 8 городов нашей таблицы\n",
    "users.groupby('city').city.count()"
   ]
  },
  {
   "cell_type": "code",
   "execution_count": 14,
   "id": "4ac1503f",
   "metadata": {},
   "outputs": [
    {
     "data": {
      "image/png": "[encoded data removed]",
      "text/plain": [
       "<Figure size 1200x600 with 1 Axes>"
      ]
     },
     "metadata": {},
     "output_type": "display_data"
    }
   ],
   "source": [
    "# построим столбчатую диаграмму с городами\n",
    "users.groupby('city', as_index=False).count()\\\n",
    ".sort_values(by='user_id').plot(x='city', y='user_id', kind='bar', figsize=(12, 6),grid=True, xlabel='Город', rot=0,\\\n",
    "                               ylabel='Количество пользователей', title='Количество пользователей сервисом GoFast по городам');"
   ]
  },
  {
   "cell_type": "code",
   "execution_count": 15,
   "id": "9710c58d",
   "metadata": {},
   "outputs": [
    {
     "data": {
      "image/png": "[encoded data removed]",
      "text/plain": [
       "<Figure size 1200x600 with 1 Axes>"
      ]
     },
     "metadata": {},
     "output_type": "display_data"
    }
   ],
   "source": [
    "# узнаем размер датафрейма users - 1 значение - будет общее число пользователей во всех городах\n",
    "shape_users = users.shape\n",
    "\n",
    "# доля пользователей нашиx пользователей сервисом по городам\n",
    "user_shares_by_city = users.groupby('city')['user_id'].count() / shape_users[0]\n",
    "\n",
    "#визуализирем в виде столчатой диаграммы\n",
    "user_shares_by_city.sort_values().plot(x=user_shares_by_city.index, y='user_id', kind='bar', grid=True, xlabel='Город',\\\n",
    "                                      ylabel='Доля пользователей', figsize=(12, 6),\\\n",
    "                                       title='Доля пользователей сервиса проката самокатов GoFast по городам', rot=0);"
   ]
  },
  {
   "cell_type": "markdown",
   "id": "a45db8b5",
   "metadata": {},
   "source": [
    "Все города представлены примерно одинаково в нашей выборке. Наибольшее количество пользователей нашим сервисом проката самокатов в Пятигорске - 219, а наименьшее, как ни странно, в Москве - 168. По долям: все доли находятся в предлах от 11 процентов до 14 с небольшим процента. Разброс впринципе не очень большой - при идеальном равенстве у всех городов было бы по 12.5%."
   ]
  },
  {
   "cell_type": "markdown",
   "id": "bfd5e8c5",
   "metadata": {},
   "source": [
    "### Исследуем количество пользователей с подпиской и без неё."
   ]
  },
  {
   "cell_type": "code",
   "execution_count": 16,
   "id": "9b5eb82e",
   "metadata": {},
   "outputs": [
    {
     "name": "stdout",
     "output_type": "stream",
     "text": [
      "699\n",
      "835\n"
     ]
    }
   ],
   "source": [
    "# считаем пользователей с подпиской\n",
    "users_with_subscription = users.query('subscription_type == \"ultra\"').subscription_type.count()\n",
    "print(users_with_subscription)\n",
    "\n",
    "# и без неё\n",
    "users_without_subscription = users.query('subscription_type == \"free\"').subscription_type.count()\n",
    "print(users_without_subscription)"
   ]
  },
  {
   "cell_type": "code",
   "execution_count": 17,
   "id": "96d12a27",
   "metadata": {},
   "outputs": [
    {
     "name": "stdout",
     "output_type": "stream",
     "text": [
      "Доля пользователей с подпиской ultra - 45.57%\n",
      "Доля пользователей без подписки - 54.43%\n"
     ]
    },
    {
     "data": {
      "image/png": "[encoded data removed]",
      "text/plain": [
       "<Figure size 640x480 with 1 Axes>"
      ]
     },
     "metadata": {},
     "output_type": "display_data"
    }
   ],
   "source": [
    "# считаем доли и визуализируем их\n",
    "users.groupby('subscription_type')\\\n",
    ".subscription_type.count().plot(kind='pie',title='Доли пользователей сервиса GoFast по наличию подписки',\\\n",
    "                                ylabel='Тип подписки');\n",
    "print(f'Доля пользователей с подпиской ultra - {users_with_subscription / (users_with_subscription + users_without_subscription):.2%}')\n",
    "print(f'Доля пользователей без подписки - {users_without_subscription / (users_with_subscription + users_without_subscription):.2%}')"
   ]
  },
  {
   "cell_type": "markdown",
   "id": "759b309e",
   "metadata": {},
   "source": [
    "Как видно из анализа - доля пользователей без подписки немного выше, чем у тех у кого подписка есть. Группы достаточно многочисленны. Логично будет предположить, что и их поведение будет различно. Но это проверим несколько позже."
   ]
  },
  {
   "cell_type": "markdown",
   "id": "438912d3",
   "metadata": {},
   "source": [
    "### Исследуем возраст пользователей"
   ]
  },
  {
   "cell_type": "code",
   "execution_count": 18,
   "id": "477fcfb0",
   "metadata": {
    "scrolled": true
   },
   "outputs": [
    {
     "data": {
      "text/plain": [
       "count    1534.000000\n",
       "mean       24.903520\n",
       "std         4.572367\n",
       "min        12.000000\n",
       "5%         17.000000\n",
       "25%        22.000000\n",
       "50%        25.000000\n",
       "75%        28.000000\n",
       "80%        29.000000\n",
       "95%        33.000000\n",
       "max        43.000000\n",
       "Name: age, dtype: float64"
      ]
     },
     "execution_count": 18,
     "metadata": {},
     "output_type": "execute_result"
    },
    {
     "data": {
      "image/png": "[encoded data removed]",
      "text/plain": [
       "<Figure size 1200x600 with 1 Axes>"
      ]
     },
     "metadata": {},
     "output_type": "display_data"
    }
   ],
   "source": [
    "# выводим статистику о возрасте и строим столбчатый график\n",
    "users.groupby('age', as_index=False).count().plot(x='age', y='city', kind='bar', figsize=(12, 6), grid=True,\\\n",
    "                                                  ylabel='Количество пользователей, чел.', xlabel='Возраст пользователей, лет',\\\n",
    "                                                  title='Распределение пользователей сервиса GoFast по возрасту', rot=0);\n",
    "users.age.describe(percentiles=[0.05, 0.25, 0.5, 0.75, 0.8, 0.95])"
   ]
  },
  {
   "cell_type": "markdown",
   "id": "5bbc153a",
   "metadata": {},
   "source": [
    "Итак: у нас есть пользователи от 12 до 43 лет. Пользователи возрастом старше у этому явно люди не привыкшие. Притом значение 43 года и так уже напоминает выброс и не входит в разброс + 3 стандартных отклонения. 25 лет - средний возраст. Распределение нормальное."
   ]
  },
  {
   "cell_type": "markdown",
   "id": "55d9dce0",
   "metadata": {},
   "source": [
    "### Исследуем расстояние, которое пользователь преодолел за 1 поездку"
   ]
  },
  {
   "cell_type": "code",
   "execution_count": 19,
   "id": "ce3d49e1",
   "metadata": {
    "scrolled": true
   },
   "outputs": [
    {
     "data": {
      "text/plain": [
       "count    18068.000000\n",
       "mean      3070.659976\n",
       "std       1116.831209\n",
       "min          0.855683\n",
       "5%         689.007279\n",
       "25%       2543.226360\n",
       "50%       3133.609994\n",
       "75%       3776.222735\n",
       "80%       3975.359574\n",
       "95%       4740.088596\n",
       "max       7211.007745\n",
       "Name: distance, dtype: float64"
      ]
     },
     "execution_count": 19,
     "metadata": {},
     "output_type": "execute_result"
    },
    {
     "data": {
      "image/png": "[encoded data removed]",
      "text/plain": [
       "<Figure size 1200x600 with 1 Axes>"
      ]
     },
     "metadata": {},
     "output_type": "display_data"
    }
   ],
   "source": [
    "# выводим статистику и строим гистограмму частот о расстоянии за 1 поездку\n",
    "sns.set(rc={'figure.figsize':(12, 6)})\n",
    "ax = sns.histplot(rides.distance, color='turquoise')\n",
    "ax.set(xlabel='Расстояние (в метрах)', ylabel='Количество пользователей, чел.', \\\n",
    "       title='Расстояние, которое пользователи сервиса GoFast проезжают за 1 поездку (в метрах)');\n",
    "rides.distance.describe(percentiles=[0.05, 0.25, 0.5, 0.75, 0.8, 0.95])"
   ]
  },
  {
   "cell_type": "markdown",
   "id": "69fe776c",
   "metadata": {},
   "source": [
    "Все поездки у нас от случайных (до 1 метра) и до 7211 метров. При этом среднее расстояние, которое проезжают за 1 поездку - 3070 метров, медианное значение немного больше - 3133 метра. Стандартное отклонение - 1116 метров. То есть большинство поездок идут от 1954 до 4186 метров. Отдельно отметим 5% самых маленьких поездок - не дальше 689 метров, а 5% самых длинных поездок - от 4740 до 7211 метров. Часть значений не попадёт в +3 стандартных отклонения от среднего - это поездки длиннее 6418 метров. Их не много - предполагаю не более 1%. Но при этом это не выбросы. "
   ]
  },
  {
   "cell_type": "markdown",
   "id": "522a889f",
   "metadata": {},
   "source": [
    "### Исследуем продолжительность поездок"
   ]
  },
  {
   "cell_type": "code",
   "execution_count": 20,
   "id": "04972f02",
   "metadata": {
    "scrolled": true
   },
   "outputs": [
    {
     "data": {
      "text/plain": [
       "count    18068.000000\n",
       "mean        17.805011\n",
       "std          6.091051\n",
       "min          0.500000\n",
       "5%           8.244528\n",
       "25%         13.597563\n",
       "50%         17.678395\n",
       "75%         21.724800\n",
       "80%         22.780542\n",
       "95%         28.428730\n",
       "max         40.823963\n",
       "Name: duration, dtype: float64"
      ]
     },
     "execution_count": 20,
     "metadata": {},
     "output_type": "execute_result"
    },
    {
     "data": {
      "image/png": "[encoded data removed]",
      "text/plain": [
       "<Figure size 1200x600 with 1 Axes>"
      ]
     },
     "metadata": {},
     "output_type": "display_data"
    }
   ],
   "source": [
    "# выводим статистику о продолжительности поездок и строим гистограмму частот\n",
    "ax = sns.histplot(rides.duration, color='lime')\n",
    "ax.set(xlabel='Время (в минутах)', ylabel='Количество пользователей, чел.', \\\n",
    "       title='Время, которое пользователи сервиса GoFast тратят на 1 поездку (в минутах)');\n",
    "rides.duration.describe(percentiles=[0.05, 0.25, 0.5, 0.75, 0.8, 0.95])"
   ]
  },
  {
   "cell_type": "markdown",
   "id": "91d47026",
   "metadata": {},
   "source": [
    "Продолжительность поездок - от 30 секунд до 40 минут. Средняя продолжительность поездки - немногим больше 17.5 минут. Среднее и медиана почти сопадают. Стандартное отклонение - немногим больше 6 минут. Распределение абсолютно нормальное, за исключением некоторого всплеска коротких поездок примерно до 2 минут. Как и в прошлый раз будут значения, которые не попадают в +3 стандартных отклонения от среднего - это поездки длиннее 36 минут. Их снова немного - опять в пределах 1%, что соответствует исследованию расстояния. 5% самых коротких поездок длятся не больше 8 минут 15 секунд, а 5% самых длинных поездок - от 28 до 40 минут. Средняя скорость езды на электросамокате - немногим больше 10 км/час (172 метра в минуту)."
   ]
  },
  {
   "cell_type": "markdown",
   "id": "4ef51331",
   "metadata": {},
   "source": [
    "\n",
    "##  Объединение данных"
   ]
  },
  {
   "cell_type": "markdown",
   "id": "946b511c",
   "metadata": {},
   "source": [
    "### Объединяем датафреймы о пользователях, поездках и подписках в один большой"
   ]
  },
  {
   "cell_type": "code",
   "execution_count": 21,
   "id": "6bf288b5",
   "metadata": {},
   "outputs": [
    {
     "data": {
      "text/html": [
       "<div>\n",
       "<style scoped>\n",
       "    .dataframe tbody tr th:only-of-type {\n",
       "        vertical-align: middle;\n",
       "    }\n",
       "\n",
       "    .dataframe tbody tr th {\n",
       "        vertical-align: top;\n",
       "    }\n",
       "\n",
       "    .dataframe thead th {\n",
       "        text-align: right;\n",
       "    }\n",
       "</style>\n",
       "<table border=\"1\" class=\"dataframe\">\n",
       "  <thead>\n",
       "    <tr style=\"text-align: right;\">\n",
       "      <th></th>\n",
       "      <th>user_id</th>\n",
       "      <th>distance</th>\n",
       "      <th>duration</th>\n",
       "      <th>date</th>\n",
       "      <th>month</th>\n",
       "      <th>name</th>\n",
       "      <th>age</th>\n",
       "      <th>city</th>\n",
       "      <th>subscription_type</th>\n",
       "      <th>minute_price</th>\n",
       "      <th>start_ride_price</th>\n",
       "      <th>subscription_fee</th>\n",
       "    </tr>\n",
       "  </thead>\n",
       "  <tbody>\n",
       "    <tr>\n",
       "      <th>0</th>\n",
       "      <td>1</td>\n",
       "      <td>4409.919140</td>\n",
       "      <td>25.599769</td>\n",
       "      <td>2021-01-01</td>\n",
       "      <td>1</td>\n",
       "      <td>Кира</td>\n",
       "      <td>22</td>\n",
       "      <td>Тюмень</td>\n",
       "      <td>ultra</td>\n",
       "      <td>6</td>\n",
       "      <td>0</td>\n",
       "      <td>199</td>\n",
       "    </tr>\n",
       "    <tr>\n",
       "      <th>1</th>\n",
       "      <td>1</td>\n",
       "      <td>2617.592153</td>\n",
       "      <td>15.816871</td>\n",
       "      <td>2021-01-18</td>\n",
       "      <td>1</td>\n",
       "      <td>Кира</td>\n",
       "      <td>22</td>\n",
       "      <td>Тюмень</td>\n",
       "      <td>ultra</td>\n",
       "      <td>6</td>\n",
       "      <td>0</td>\n",
       "      <td>199</td>\n",
       "    </tr>\n",
       "    <tr>\n",
       "      <th>2</th>\n",
       "      <td>1</td>\n",
       "      <td>754.159807</td>\n",
       "      <td>6.232113</td>\n",
       "      <td>2021-04-20</td>\n",
       "      <td>4</td>\n",
       "      <td>Кира</td>\n",
       "      <td>22</td>\n",
       "      <td>Тюмень</td>\n",
       "      <td>ultra</td>\n",
       "      <td>6</td>\n",
       "      <td>0</td>\n",
       "      <td>199</td>\n",
       "    </tr>\n",
       "    <tr>\n",
       "      <th>3</th>\n",
       "      <td>1</td>\n",
       "      <td>2694.783254</td>\n",
       "      <td>18.511000</td>\n",
       "      <td>2021-08-11</td>\n",
       "      <td>8</td>\n",
       "      <td>Кира</td>\n",
       "      <td>22</td>\n",
       "      <td>Тюмень</td>\n",
       "      <td>ultra</td>\n",
       "      <td>6</td>\n",
       "      <td>0</td>\n",
       "      <td>199</td>\n",
       "    </tr>\n",
       "    <tr>\n",
       "      <th>4</th>\n",
       "      <td>1</td>\n",
       "      <td>4028.687306</td>\n",
       "      <td>26.265803</td>\n",
       "      <td>2021-08-28</td>\n",
       "      <td>8</td>\n",
       "      <td>Кира</td>\n",
       "      <td>22</td>\n",
       "      <td>Тюмень</td>\n",
       "      <td>ultra</td>\n",
       "      <td>6</td>\n",
       "      <td>0</td>\n",
       "      <td>199</td>\n",
       "    </tr>\n",
       "    <tr>\n",
       "      <th>5</th>\n",
       "      <td>1</td>\n",
       "      <td>2770.890808</td>\n",
       "      <td>16.650138</td>\n",
       "      <td>2021-10-09</td>\n",
       "      <td>10</td>\n",
       "      <td>Кира</td>\n",
       "      <td>22</td>\n",
       "      <td>Тюмень</td>\n",
       "      <td>ultra</td>\n",
       "      <td>6</td>\n",
       "      <td>0</td>\n",
       "      <td>199</td>\n",
       "    </tr>\n",
       "    <tr>\n",
       "      <th>6</th>\n",
       "      <td>1</td>\n",
       "      <td>3039.020292</td>\n",
       "      <td>14.927879</td>\n",
       "      <td>2021-10-19</td>\n",
       "      <td>10</td>\n",
       "      <td>Кира</td>\n",
       "      <td>22</td>\n",
       "      <td>Тюмень</td>\n",
       "      <td>ultra</td>\n",
       "      <td>6</td>\n",
       "      <td>0</td>\n",
       "      <td>199</td>\n",
       "    </tr>\n",
       "    <tr>\n",
       "      <th>7</th>\n",
       "      <td>1</td>\n",
       "      <td>2842.118050</td>\n",
       "      <td>23.117468</td>\n",
       "      <td>2021-11-06</td>\n",
       "      <td>11</td>\n",
       "      <td>Кира</td>\n",
       "      <td>22</td>\n",
       "      <td>Тюмень</td>\n",
       "      <td>ultra</td>\n",
       "      <td>6</td>\n",
       "      <td>0</td>\n",
       "      <td>199</td>\n",
       "    </tr>\n",
       "    <tr>\n",
       "      <th>8</th>\n",
       "      <td>1</td>\n",
       "      <td>3412.690668</td>\n",
       "      <td>15.238072</td>\n",
       "      <td>2021-11-14</td>\n",
       "      <td>11</td>\n",
       "      <td>Кира</td>\n",
       "      <td>22</td>\n",
       "      <td>Тюмень</td>\n",
       "      <td>ultra</td>\n",
       "      <td>6</td>\n",
       "      <td>0</td>\n",
       "      <td>199</td>\n",
       "    </tr>\n",
       "    <tr>\n",
       "      <th>9</th>\n",
       "      <td>1</td>\n",
       "      <td>748.690645</td>\n",
       "      <td>15.041884</td>\n",
       "      <td>2021-11-22</td>\n",
       "      <td>11</td>\n",
       "      <td>Кира</td>\n",
       "      <td>22</td>\n",
       "      <td>Тюмень</td>\n",
       "      <td>ultra</td>\n",
       "      <td>6</td>\n",
       "      <td>0</td>\n",
       "      <td>199</td>\n",
       "    </tr>\n",
       "  </tbody>\n",
       "</table>\n",
       "</div>"
      ],
      "text/plain": [
       "   user_id     distance   duration       date  month  name  age    city  \\\n",
       "0        1  4409.919140  25.599769 2021-01-01      1  Кира   22  Тюмень   \n",
       "1        1  2617.592153  15.816871 2021-01-18      1  Кира   22  Тюмень   \n",
       "2        1   754.159807   6.232113 2021-04-20      4  Кира   22  Тюмень   \n",
       "3        1  2694.783254  18.511000 2021-08-11      8  Кира   22  Тюмень   \n",
       "4        1  4028.687306  26.265803 2021-08-28      8  Кира   22  Тюмень   \n",
       "5        1  2770.890808  16.650138 2021-10-09     10  Кира   22  Тюмень   \n",
       "6        1  3039.020292  14.927879 2021-10-19     10  Кира   22  Тюмень   \n",
       "7        1  2842.118050  23.117468 2021-11-06     11  Кира   22  Тюмень   \n",
       "8        1  3412.690668  15.238072 2021-11-14     11  Кира   22  Тюмень   \n",
       "9        1   748.690645  15.041884 2021-11-22     11  Кира   22  Тюмень   \n",
       "\n",
       "  subscription_type  minute_price  start_ride_price  subscription_fee  \n",
       "0             ultra             6                 0               199  \n",
       "1             ultra             6                 0               199  \n",
       "2             ultra             6                 0               199  \n",
       "3             ultra             6                 0               199  \n",
       "4             ultra             6                 0               199  \n",
       "5             ultra             6                 0               199  \n",
       "6             ultra             6                 0               199  \n",
       "7             ultra             6                 0               199  \n",
       "8             ultra             6                 0               199  \n",
       "9             ultra             6                 0               199  "
      ]
     },
     "execution_count": 21,
     "metadata": {},
     "output_type": "execute_result"
    }
   ],
   "source": [
    "# создаём новый большой датафрейм\n",
    "all_data = rides.merge(users, on='user_id', how='inner')\n",
    "all_data = all_data.merge(subscriptions, on='subscription_type', how='inner')\n",
    "\n",
    "# выводим для проверки новую таблицу со всеми данными\n",
    "all_data.head(10)"
   ]
  },
  {
   "cell_type": "markdown",
   "id": "bec00e68",
   "metadata": {},
   "source": [
    "### Создаём два новых датафрейма с пользователями с подписками и без подписок"
   ]
  },
  {
   "cell_type": "code",
   "execution_count": 22,
   "id": "5ee0b8a8",
   "metadata": {},
   "outputs": [
    {
     "data": {
      "text/html": [
       "<div>\n",
       "<style scoped>\n",
       "    .dataframe tbody tr th:only-of-type {\n",
       "        vertical-align: middle;\n",
       "    }\n",
       "\n",
       "    .dataframe tbody tr th {\n",
       "        vertical-align: top;\n",
       "    }\n",
       "\n",
       "    .dataframe thead th {\n",
       "        text-align: right;\n",
       "    }\n",
       "</style>\n",
       "<table border=\"1\" class=\"dataframe\">\n",
       "  <thead>\n",
       "    <tr style=\"text-align: right;\">\n",
       "      <th></th>\n",
       "      <th>user_id</th>\n",
       "      <th>distance</th>\n",
       "      <th>duration</th>\n",
       "      <th>date</th>\n",
       "      <th>month</th>\n",
       "      <th>name</th>\n",
       "      <th>age</th>\n",
       "      <th>city</th>\n",
       "      <th>subscription_type</th>\n",
       "      <th>minute_price</th>\n",
       "      <th>start_ride_price</th>\n",
       "      <th>subscription_fee</th>\n",
       "    </tr>\n",
       "  </thead>\n",
       "  <tbody>\n",
       "    <tr>\n",
       "      <th>6490</th>\n",
       "      <td>698</td>\n",
       "      <td>3240.512798</td>\n",
       "      <td>17.837762</td>\n",
       "      <td>2021-09-03</td>\n",
       "      <td>9</td>\n",
       "      <td>Егор</td>\n",
       "      <td>26</td>\n",
       "      <td>Пятигорск</td>\n",
       "      <td>ultra</td>\n",
       "      <td>6</td>\n",
       "      <td>0</td>\n",
       "      <td>199</td>\n",
       "    </tr>\n",
       "    <tr>\n",
       "      <th>6491</th>\n",
       "      <td>698</td>\n",
       "      <td>2746.103421</td>\n",
       "      <td>13.297888</td>\n",
       "      <td>2021-10-20</td>\n",
       "      <td>10</td>\n",
       "      <td>Егор</td>\n",
       "      <td>26</td>\n",
       "      <td>Пятигорск</td>\n",
       "      <td>ultra</td>\n",
       "      <td>6</td>\n",
       "      <td>0</td>\n",
       "      <td>199</td>\n",
       "    </tr>\n",
       "    <tr>\n",
       "      <th>6492</th>\n",
       "      <td>699</td>\n",
       "      <td>3433.522627</td>\n",
       "      <td>19.734091</td>\n",
       "      <td>2021-03-29</td>\n",
       "      <td>3</td>\n",
       "      <td>Оксана</td>\n",
       "      <td>22</td>\n",
       "      <td>Москва</td>\n",
       "      <td>ultra</td>\n",
       "      <td>6</td>\n",
       "      <td>0</td>\n",
       "      <td>199</td>\n",
       "    </tr>\n",
       "    <tr>\n",
       "      <th>6493</th>\n",
       "      <td>699</td>\n",
       "      <td>4072.797406</td>\n",
       "      <td>16.575991</td>\n",
       "      <td>2021-06-02</td>\n",
       "      <td>6</td>\n",
       "      <td>Оксана</td>\n",
       "      <td>22</td>\n",
       "      <td>Москва</td>\n",
       "      <td>ultra</td>\n",
       "      <td>6</td>\n",
       "      <td>0</td>\n",
       "      <td>199</td>\n",
       "    </tr>\n",
       "    <tr>\n",
       "      <th>6494</th>\n",
       "      <td>699</td>\n",
       "      <td>3045.277646</td>\n",
       "      <td>19.610605</td>\n",
       "      <td>2021-08-25</td>\n",
       "      <td>8</td>\n",
       "      <td>Оксана</td>\n",
       "      <td>22</td>\n",
       "      <td>Москва</td>\n",
       "      <td>ultra</td>\n",
       "      <td>6</td>\n",
       "      <td>0</td>\n",
       "      <td>199</td>\n",
       "    </tr>\n",
       "    <tr>\n",
       "      <th>6495</th>\n",
       "      <td>699</td>\n",
       "      <td>3973.046497</td>\n",
       "      <td>24.671163</td>\n",
       "      <td>2021-08-29</td>\n",
       "      <td>8</td>\n",
       "      <td>Оксана</td>\n",
       "      <td>22</td>\n",
       "      <td>Москва</td>\n",
       "      <td>ultra</td>\n",
       "      <td>6</td>\n",
       "      <td>0</td>\n",
       "      <td>199</td>\n",
       "    </tr>\n",
       "    <tr>\n",
       "      <th>6496</th>\n",
       "      <td>699</td>\n",
       "      <td>3288.702563</td>\n",
       "      <td>15.892886</td>\n",
       "      <td>2021-09-12</td>\n",
       "      <td>9</td>\n",
       "      <td>Оксана</td>\n",
       "      <td>22</td>\n",
       "      <td>Москва</td>\n",
       "      <td>ultra</td>\n",
       "      <td>6</td>\n",
       "      <td>0</td>\n",
       "      <td>199</td>\n",
       "    </tr>\n",
       "    <tr>\n",
       "      <th>6497</th>\n",
       "      <td>699</td>\n",
       "      <td>3076.159348</td>\n",
       "      <td>14.389525</td>\n",
       "      <td>2021-09-26</td>\n",
       "      <td>9</td>\n",
       "      <td>Оксана</td>\n",
       "      <td>22</td>\n",
       "      <td>Москва</td>\n",
       "      <td>ultra</td>\n",
       "      <td>6</td>\n",
       "      <td>0</td>\n",
       "      <td>199</td>\n",
       "    </tr>\n",
       "    <tr>\n",
       "      <th>6498</th>\n",
       "      <td>699</td>\n",
       "      <td>4707.845501</td>\n",
       "      <td>15.839579</td>\n",
       "      <td>2021-10-17</td>\n",
       "      <td>10</td>\n",
       "      <td>Оксана</td>\n",
       "      <td>22</td>\n",
       "      <td>Москва</td>\n",
       "      <td>ultra</td>\n",
       "      <td>6</td>\n",
       "      <td>0</td>\n",
       "      <td>199</td>\n",
       "    </tr>\n",
       "    <tr>\n",
       "      <th>6499</th>\n",
       "      <td>699</td>\n",
       "      <td>3202.890770</td>\n",
       "      <td>25.217345</td>\n",
       "      <td>2021-12-03</td>\n",
       "      <td>12</td>\n",
       "      <td>Оксана</td>\n",
       "      <td>22</td>\n",
       "      <td>Москва</td>\n",
       "      <td>ultra</td>\n",
       "      <td>6</td>\n",
       "      <td>0</td>\n",
       "      <td>199</td>\n",
       "    </tr>\n",
       "  </tbody>\n",
       "</table>\n",
       "</div>"
      ],
      "text/plain": [
       "      user_id     distance   duration       date  month    name  age  \\\n",
       "6490      698  3240.512798  17.837762 2021-09-03      9    Егор   26   \n",
       "6491      698  2746.103421  13.297888 2021-10-20     10    Егор   26   \n",
       "6492      699  3433.522627  19.734091 2021-03-29      3  Оксана   22   \n",
       "6493      699  4072.797406  16.575991 2021-06-02      6  Оксана   22   \n",
       "6494      699  3045.277646  19.610605 2021-08-25      8  Оксана   22   \n",
       "6495      699  3973.046497  24.671163 2021-08-29      8  Оксана   22   \n",
       "6496      699  3288.702563  15.892886 2021-09-12      9  Оксана   22   \n",
       "6497      699  3076.159348  14.389525 2021-09-26      9  Оксана   22   \n",
       "6498      699  4707.845501  15.839579 2021-10-17     10  Оксана   22   \n",
       "6499      699  3202.890770  25.217345 2021-12-03     12  Оксана   22   \n",
       "\n",
       "           city subscription_type  minute_price  start_ride_price  \\\n",
       "6490  Пятигорск             ultra             6                 0   \n",
       "6491  Пятигорск             ultra             6                 0   \n",
       "6492     Москва             ultra             6                 0   \n",
       "6493     Москва             ultra             6                 0   \n",
       "6494     Москва             ultra             6                 0   \n",
       "6495     Москва             ultra             6                 0   \n",
       "6496     Москва             ultra             6                 0   \n",
       "6497     Москва             ultra             6                 0   \n",
       "6498     Москва             ultra             6                 0   \n",
       "6499     Москва             ultra             6                 0   \n",
       "\n",
       "      subscription_fee  \n",
       "6490               199  \n",
       "6491               199  \n",
       "6492               199  \n",
       "6493               199  \n",
       "6494               199  \n",
       "6495               199  \n",
       "6496               199  \n",
       "6497               199  \n",
       "6498               199  \n",
       "6499               199  "
      ]
     },
     "metadata": {},
     "output_type": "display_data"
    },
    {
     "data": {
      "text/html": [
       "<div>\n",
       "<style scoped>\n",
       "    .dataframe tbody tr th:only-of-type {\n",
       "        vertical-align: middle;\n",
       "    }\n",
       "\n",
       "    .dataframe tbody tr th {\n",
       "        vertical-align: top;\n",
       "    }\n",
       "\n",
       "    .dataframe thead th {\n",
       "        text-align: right;\n",
       "    }\n",
       "</style>\n",
       "<table border=\"1\" class=\"dataframe\">\n",
       "  <thead>\n",
       "    <tr style=\"text-align: right;\">\n",
       "      <th></th>\n",
       "      <th>user_id</th>\n",
       "      <th>distance</th>\n",
       "      <th>duration</th>\n",
       "      <th>date</th>\n",
       "      <th>month</th>\n",
       "      <th>name</th>\n",
       "      <th>age</th>\n",
       "      <th>city</th>\n",
       "      <th>subscription_type</th>\n",
       "      <th>minute_price</th>\n",
       "      <th>start_ride_price</th>\n",
       "      <th>subscription_fee</th>\n",
       "    </tr>\n",
       "  </thead>\n",
       "  <tbody>\n",
       "    <tr>\n",
       "      <th>18058</th>\n",
       "      <td>1534</td>\n",
       "      <td>195.447469</td>\n",
       "      <td>6.469074</td>\n",
       "      <td>2021-06-11</td>\n",
       "      <td>6</td>\n",
       "      <td>Альберт</td>\n",
       "      <td>25</td>\n",
       "      <td>Краснодар</td>\n",
       "      <td>free</td>\n",
       "      <td>8</td>\n",
       "      <td>50</td>\n",
       "      <td>0</td>\n",
       "    </tr>\n",
       "    <tr>\n",
       "      <th>18059</th>\n",
       "      <td>1534</td>\n",
       "      <td>3214.021065</td>\n",
       "      <td>18.343604</td>\n",
       "      <td>2021-06-18</td>\n",
       "      <td>6</td>\n",
       "      <td>Альберт</td>\n",
       "      <td>25</td>\n",
       "      <td>Краснодар</td>\n",
       "      <td>free</td>\n",
       "      <td>8</td>\n",
       "      <td>50</td>\n",
       "      <td>0</td>\n",
       "    </tr>\n",
       "    <tr>\n",
       "      <th>18060</th>\n",
       "      <td>1534</td>\n",
       "      <td>3644.708038</td>\n",
       "      <td>20.289416</td>\n",
       "      <td>2021-08-08</td>\n",
       "      <td>8</td>\n",
       "      <td>Альберт</td>\n",
       "      <td>25</td>\n",
       "      <td>Краснодар</td>\n",
       "      <td>free</td>\n",
       "      <td>8</td>\n",
       "      <td>50</td>\n",
       "      <td>0</td>\n",
       "    </tr>\n",
       "    <tr>\n",
       "      <th>18061</th>\n",
       "      <td>1534</td>\n",
       "      <td>3977.744996</td>\n",
       "      <td>26.916544</td>\n",
       "      <td>2021-08-20</td>\n",
       "      <td>8</td>\n",
       "      <td>Альберт</td>\n",
       "      <td>25</td>\n",
       "      <td>Краснодар</td>\n",
       "      <td>free</td>\n",
       "      <td>8</td>\n",
       "      <td>50</td>\n",
       "      <td>0</td>\n",
       "    </tr>\n",
       "    <tr>\n",
       "      <th>18062</th>\n",
       "      <td>1534</td>\n",
       "      <td>4928.173852</td>\n",
       "      <td>22.560373</td>\n",
       "      <td>2021-09-13</td>\n",
       "      <td>9</td>\n",
       "      <td>Альберт</td>\n",
       "      <td>25</td>\n",
       "      <td>Краснодар</td>\n",
       "      <td>free</td>\n",
       "      <td>8</td>\n",
       "      <td>50</td>\n",
       "      <td>0</td>\n",
       "    </tr>\n",
       "    <tr>\n",
       "      <th>18063</th>\n",
       "      <td>1534</td>\n",
       "      <td>3781.098080</td>\n",
       "      <td>19.822962</td>\n",
       "      <td>2021-11-04</td>\n",
       "      <td>11</td>\n",
       "      <td>Альберт</td>\n",
       "      <td>25</td>\n",
       "      <td>Краснодар</td>\n",
       "      <td>free</td>\n",
       "      <td>8</td>\n",
       "      <td>50</td>\n",
       "      <td>0</td>\n",
       "    </tr>\n",
       "    <tr>\n",
       "      <th>18064</th>\n",
       "      <td>1534</td>\n",
       "      <td>2840.423057</td>\n",
       "      <td>21.409799</td>\n",
       "      <td>2021-11-16</td>\n",
       "      <td>11</td>\n",
       "      <td>Альберт</td>\n",
       "      <td>25</td>\n",
       "      <td>Краснодар</td>\n",
       "      <td>free</td>\n",
       "      <td>8</td>\n",
       "      <td>50</td>\n",
       "      <td>0</td>\n",
       "    </tr>\n",
       "    <tr>\n",
       "      <th>18065</th>\n",
       "      <td>1534</td>\n",
       "      <td>3826.185507</td>\n",
       "      <td>18.435051</td>\n",
       "      <td>2021-11-18</td>\n",
       "      <td>11</td>\n",
       "      <td>Альберт</td>\n",
       "      <td>25</td>\n",
       "      <td>Краснодар</td>\n",
       "      <td>free</td>\n",
       "      <td>8</td>\n",
       "      <td>50</td>\n",
       "      <td>0</td>\n",
       "    </tr>\n",
       "    <tr>\n",
       "      <th>18066</th>\n",
       "      <td>1534</td>\n",
       "      <td>2902.308661</td>\n",
       "      <td>16.674362</td>\n",
       "      <td>2021-11-27</td>\n",
       "      <td>11</td>\n",
       "      <td>Альберт</td>\n",
       "      <td>25</td>\n",
       "      <td>Краснодар</td>\n",
       "      <td>free</td>\n",
       "      <td>8</td>\n",
       "      <td>50</td>\n",
       "      <td>0</td>\n",
       "    </tr>\n",
       "    <tr>\n",
       "      <th>18067</th>\n",
       "      <td>1534</td>\n",
       "      <td>2371.711192</td>\n",
       "      <td>15.893917</td>\n",
       "      <td>2021-12-29</td>\n",
       "      <td>12</td>\n",
       "      <td>Альберт</td>\n",
       "      <td>25</td>\n",
       "      <td>Краснодар</td>\n",
       "      <td>free</td>\n",
       "      <td>8</td>\n",
       "      <td>50</td>\n",
       "      <td>0</td>\n",
       "    </tr>\n",
       "  </tbody>\n",
       "</table>\n",
       "</div>"
      ],
      "text/plain": [
       "       user_id     distance   duration       date  month     name  age  \\\n",
       "18058     1534   195.447469   6.469074 2021-06-11      6  Альберт   25   \n",
       "18059     1534  3214.021065  18.343604 2021-06-18      6  Альберт   25   \n",
       "18060     1534  3644.708038  20.289416 2021-08-08      8  Альберт   25   \n",
       "18061     1534  3977.744996  26.916544 2021-08-20      8  Альберт   25   \n",
       "18062     1534  4928.173852  22.560373 2021-09-13      9  Альберт   25   \n",
       "18063     1534  3781.098080  19.822962 2021-11-04     11  Альберт   25   \n",
       "18064     1534  2840.423057  21.409799 2021-11-16     11  Альберт   25   \n",
       "18065     1534  3826.185507  18.435051 2021-11-18     11  Альберт   25   \n",
       "18066     1534  2902.308661  16.674362 2021-11-27     11  Альберт   25   \n",
       "18067     1534  2371.711192  15.893917 2021-12-29     12  Альберт   25   \n",
       "\n",
       "            city subscription_type  minute_price  start_ride_price  \\\n",
       "18058  Краснодар              free             8                50   \n",
       "18059  Краснодар              free             8                50   \n",
       "18060  Краснодар              free             8                50   \n",
       "18061  Краснодар              free             8                50   \n",
       "18062  Краснодар              free             8                50   \n",
       "18063  Краснодар              free             8                50   \n",
       "18064  Краснодар              free             8                50   \n",
       "18065  Краснодар              free             8                50   \n",
       "18066  Краснодар              free             8                50   \n",
       "18067  Краснодар              free             8                50   \n",
       "\n",
       "       subscription_fee  \n",
       "18058                 0  \n",
       "18059                 0  \n",
       "18060                 0  \n",
       "18061                 0  \n",
       "18062                 0  \n",
       "18063                 0  \n",
       "18064                 0  \n",
       "18065                 0  \n",
       "18066                 0  \n",
       "18067                 0  "
      ]
     },
     "execution_count": 22,
     "metadata": {},
     "output_type": "execute_result"
    }
   ],
   "source": [
    "# создаём датафрейм о пользователях с подпиской\n",
    "data_users_with_subscription = all_data.query(\"subscription_type == 'ultra'\")\n",
    "\n",
    "# создаём датфрейм о пользователях без подписки\n",
    "data_users_without_subscription = all_data.query(\"subscription_type == 'free'\")\n",
    "\n",
    "# смотрим на открытие новых датафреймов\n",
    "display(data_users_with_subscription.tail(10))\n",
    "data_users_without_subscription.tail(10)"
   ]
  },
  {
   "cell_type": "markdown",
   "id": "61a799e0",
   "metadata": {},
   "source": [
    "### Визуализируем данные о расстоянии и времени поездок по категориям"
   ]
  },
  {
   "cell_type": "code",
   "execution_count": 23,
   "id": "68256614",
   "metadata": {},
   "outputs": [
    {
     "data": {
      "text/plain": [
       "count    6500.000000\n",
       "mean     3115.445388\n",
       "std       836.895330\n",
       "min       244.210438\n",
       "5%       1119.722350\n",
       "25%      2785.444017\n",
       "50%      3148.637229\n",
       "75%      3560.574425\n",
       "80%      3719.778987\n",
       "95%      4382.285625\n",
       "max      5699.769662\n",
       "Name: distance, dtype: float64"
      ]
     },
     "execution_count": 23,
     "metadata": {},
     "output_type": "execute_result"
    },
    {
     "data": {
      "image/png": "[encoded data removed]",
      "text/plain": [
       "<Figure size 1200x600 with 1 Axes>"
      ]
     },
     "metadata": {},
     "output_type": "display_data"
    }
   ],
   "source": [
    "# исследуем расстояние, которые проезжают за поездку пользователи с подпиской\n",
    "ax = sns.histplot(data_users_with_subscription.distance, color='green')\n",
    "ax.set(xlabel='Расстояние (в метрах)', ylabel='Количество пользователей, чел.', \\\n",
    "       title='Расстояние, которое пользователи с подпиской ultra сервиса GoFast проезжают за 1 поездку (в метрах)');\n",
    "data_users_with_subscription.distance.describe(percentiles=[0.05, 0.25, 0.5, 0.75, 0.8, 0.95])"
   ]
  },
  {
   "cell_type": "markdown",
   "id": "52d41a19",
   "metadata": {},
   "source": [
    "График расстояния поездки в категории с подписками совпадает по форме с расстоянием, которое преодолели все пользователи. Среднее расстояние и медиана немного больше, чем в общем (3115 метров против 3070 метров в среднем за поездку, 3148 метров против 3133 метров по медиане расстояния). Больше минимальное пройденное расстояние 244 метра против расстояния до метра среди всех пользователей и меньше максимальное расстояние - 5699 метров против 7211 среди всех пользователей. Конечно, из-за этого меньше стандартное отклонение в этой категории, чем в среднем по всей выборке (836 метров против 1116 метров среди всех пользователей). В целом люди в этой категории ездят немного больше и в целом стабильнее по расстоянию за 1 поездку - нет ни особо сверхмалых расстояний, но и сверхбольших тоже мало."
   ]
  },
  {
   "cell_type": "code",
   "execution_count": 24,
   "id": "dd75d384",
   "metadata": {
    "scrolled": true
   },
   "outputs": [
    {
     "data": {
      "text/plain": [
       "count    11568.000000\n",
       "mean      3045.495282\n",
       "std       1246.173806\n",
       "min          0.855683\n",
       "5%         524.185294\n",
       "25%       2366.562689\n",
       "50%       3114.648465\n",
       "75%       3905.697894\n",
       "80%       4086.734287\n",
       "95%       4934.728012\n",
       "max       7211.007745\n",
       "Name: distance, dtype: float64"
      ]
     },
     "execution_count": 24,
     "metadata": {},
     "output_type": "execute_result"
    },
    {
     "data": {
      "image/png": "[encoded data removed]",
      "text/plain": [
       "<Figure size 1200x600 with 1 Axes>"
      ]
     },
     "metadata": {},
     "output_type": "display_data"
    }
   ],
   "source": [
    "# исследуем расстояние, которые проезжают за поездку пользователи без подписки\n",
    "ax = sns.histplot(data_users_without_subscription.distance, color='orange')\n",
    "ax.set(xlabel='Расстояние (в метрах)', ylabel='Количество пользователей, чел.', \\\n",
    "       title='Расстояние, которое пользователи без подписки сервиса GoFast проезжают за 1 поездку (в метрах)');\n",
    "data_users_without_subscription.distance.describe(percentiles=[0.05, 0.25, 0.5, 0.75, 0.8, 0.95])"
   ]
  },
  {
   "cell_type": "markdown",
   "id": "758344e0",
   "metadata": {},
   "source": [
    "Выводы сторого противоположны категории людей с подпиской. Меньше среднее и медианное расстояние одной поездки и по сравнению и со средним между всех пользователей и тем более людей с подпиской (3045 метров среднее в категории людей без подписки меньше 3070 метров в среднем от всех и 3115 метров в категории людей с подписками). Тоже самое с медианой (3114 метров в этой категории меньше 3133 метров среди всех пользователей и меньше 3148 метров в категории людей с подписками). Но выше стандартное отклонение - 1248 метров в группе без подписки против 1116 в среднем по всем группам и 836 метров в группе с подпиской. Из-за этого и 3 квартиль выше, и 80% выше, и 95% выше и максимальное значение тоже выше."
   ]
  },
  {
   "cell_type": "code",
   "execution_count": 25,
   "id": "88d6aefd",
   "metadata": {},
   "outputs": [
    {
     "data": {
      "image/png": "[encoded data removed]",
      "text/plain": [
       "<Figure size 1200x600 with 1 Axes>"
      ]
     },
     "metadata": {},
     "output_type": "display_data"
    }
   ],
   "source": [
    "# наложим друг на друга 2 графика с расстоянием длины поездки\n",
    "ax = sns.histplot(data_users_with_subscription.distance, color='green')\n",
    "sns.histplot(data_users_without_subscription.distance, color='orange', ax=ax, alpha=0.4)\n",
    "ax.set(xlabel='Расстояние (в метрах)', ylabel='Количество пользователей, чел.', \\\n",
    "       title='Расстояние, которое пользователи сервиса GoFast проезжают за 1 поездку (в метрах)');"
   ]
  },
  {
   "cell_type": "code",
   "execution_count": 26,
   "id": "d1ad61a4",
   "metadata": {
    "scrolled": true
   },
   "outputs": [
    {
     "data": {
      "text/plain": [
       "count    6500.000000\n",
       "mean       18.541985\n",
       "std         5.572048\n",
       "min         3.760353\n",
       "5%         10.264039\n",
       "25%        14.524654\n",
       "50%        18.178153\n",
       "75%        21.884129\n",
       "80%        23.014407\n",
       "95%        28.720878\n",
       "max        40.823963\n",
       "Name: duration, dtype: float64"
      ]
     },
     "execution_count": 26,
     "metadata": {},
     "output_type": "execute_result"
    },
    {
     "data": {
      "image/png": "[encoded data removed]",
      "text/plain": [
       "<Figure size 1200x600 with 1 Axes>"
      ]
     },
     "metadata": {},
     "output_type": "display_data"
    }
   ],
   "source": [
    "# исследуем время поездки среди группы пользователей с подписками\n",
    "ax = sns.histplot(data_users_with_subscription.duration, color = 'red')\n",
    "ax.set(xlabel='Время (в минутах)', ylabel='Количество пользователей, чел.', \\\n",
    "       title='Время, которое пользователи с подпиской ultra сервиса GoFast тратят на 1 поездку (в минутах)');\n",
    "data_users_with_subscription.duration.describe(percentiles=[0.05, 0.25, 0.5, 0.75, 0.8, 0.95])"
   ]
  },
  {
   "cell_type": "markdown",
   "id": "f1bce502",
   "metadata": {},
   "source": [
    "Логично, если предположить что если в группе с подписками больше расстояние в одной поездке - то выше будет и среднее время, чем в среднем по всем категориям. Это мы и наблюдаем - здесь среднее время 18.5 минуты и медиана 18.2 минуты это выше, чем в среднем 17.8 и 17.68 по медианному времени поездки среди всех пользователей. Здесь же и рекорд по длительности поездки - 40.82 минуты. И минимальное время в этой группе 3.76 минуты - против 0.5 минуты среди всех. Из-за этого ниже стандартное отклонение в этой группе - 5.57 минуты против 6.09 минут среди всех пользователей."
   ]
  },
  {
   "cell_type": "code",
   "execution_count": 27,
   "id": "a1523d72",
   "metadata": {},
   "outputs": [
    {
     "data": {
      "text/plain": [
       "count    11568.000000\n",
       "mean        17.390909\n",
       "std          6.326803\n",
       "min          0.500000\n",
       "5%           7.244460\n",
       "25%         12.958437\n",
       "50%         17.326890\n",
       "75%         21.594071\n",
       "80%         22.648008\n",
       "95%         28.246500\n",
       "max         34.948498\n",
       "Name: duration, dtype: float64"
      ]
     },
     "execution_count": 27,
     "metadata": {},
     "output_type": "execute_result"
    },
    {
     "data": {
      "image/png": "[encoded data removed]",
      "text/plain": [
       "<Figure size 1200x600 with 1 Axes>"
      ]
     },
     "metadata": {},
     "output_type": "display_data"
    }
   ],
   "source": [
    "# исследуем время среди группы без подписок\n",
    "ax = sns.histplot(data_users_without_subscription.duration, color = 'yellow')\n",
    "ax.set(xlabel='Время (в минутах)', ylabel='Количество пользователей, чел.', \\\n",
    "       title='Время, которое пользователи без подписки сервиса GoFast тратят на 1 поездку (в минутах)');\n",
    "data_users_without_subscription.duration.describe(percentiles=[0.05, 0.25, 0.5, 0.75, 0.8, 0.95])"
   ]
  },
  {
   "cell_type": "code",
   "execution_count": 28,
   "id": "742bb426",
   "metadata": {},
   "outputs": [
    {
     "data": {
      "image/png": "[encoded data removed]",
      "text/plain": [
       "<Figure size 1200x600 with 1 Axes>"
      ]
     },
     "metadata": {},
     "output_type": "display_data"
    }
   ],
   "source": [
    "#совместим графики по времени\n",
    "ax = sns.histplot(data_users_with_subscription.duration, color = 'red')\n",
    "sns.histplot(data_users_without_subscription.duration, color = 'yellow', ax=ax, alpha=0.6)\n",
    "ax.set(xlabel='Время (в минутах)', ylabel='Количество пользователей, чел.', \\\n",
    "       title='Время, которое пользователи сервиса GoFast тратят на 1 поездку (в минутах)');"
   ]
  },
  {
   "cell_type": "markdown",
   "id": "b41497a5",
   "metadata": {},
   "source": [
    "Вот и ожидаемые отличия - среднее и медианное время поездки ниже группы пользователей с подписками. 17.39 минуты в этой группе против 18.54 минуты в группе с подписками; медиана 17.32 минуты в этой группе против 18.18 минут в группе пользователей с подписками. Максимальное время поездки в этой группе 34.95 минут в этой группе против 40.82 минуты в группе с подписками и минимальное время 0.5 минуты и относительно большой всплеск до 2 минут времени примерно 100 значений (минимальное время в группе с подписками - 3.76 минуты). Стандартное отклонение времени в этой группе выше, чем в группе с подписками - 6.32 минуты против 5.57 минуты. Скорее всего это из-за этого всплеска."
   ]
  },
  {
   "cell_type": "markdown",
   "id": "402d620f",
   "metadata": {},
   "source": [
    "##  Подсчёт выручки"
   ]
  },
  {
   "cell_type": "markdown",
   "id": "56844242",
   "metadata": {},
   "source": [
    "### Создаём датафрейм с агрегированными данными о поездках"
   ]
  },
  {
   "cell_type": "code",
   "execution_count": 29,
   "id": "53049e0a",
   "metadata": {},
   "outputs": [
    {
     "data": {
      "text/html": [
       "<div>\n",
       "<style scoped>\n",
       "    .dataframe tbody tr th:only-of-type {\n",
       "        vertical-align: middle;\n",
       "    }\n",
       "\n",
       "    .dataframe tbody tr th {\n",
       "        vertical-align: top;\n",
       "    }\n",
       "\n",
       "    .dataframe thead th {\n",
       "        text-align: right;\n",
       "    }\n",
       "</style>\n",
       "<table border=\"1\" class=\"dataframe\">\n",
       "  <thead>\n",
       "    <tr style=\"text-align: right;\">\n",
       "      <th></th>\n",
       "      <th>user_id</th>\n",
       "      <th>month</th>\n",
       "      <th>sum_distance</th>\n",
       "      <th>sum_duration</th>\n",
       "      <th>trips_per_month</th>\n",
       "    </tr>\n",
       "  </thead>\n",
       "  <tbody>\n",
       "    <tr>\n",
       "      <th>0</th>\n",
       "      <td>1</td>\n",
       "      <td>1</td>\n",
       "      <td>7027.511294</td>\n",
       "      <td>42</td>\n",
       "      <td>2</td>\n",
       "    </tr>\n",
       "    <tr>\n",
       "      <th>1</th>\n",
       "      <td>1</td>\n",
       "      <td>4</td>\n",
       "      <td>754.159807</td>\n",
       "      <td>7</td>\n",
       "      <td>1</td>\n",
       "    </tr>\n",
       "    <tr>\n",
       "      <th>2</th>\n",
       "      <td>1</td>\n",
       "      <td>8</td>\n",
       "      <td>6723.470560</td>\n",
       "      <td>46</td>\n",
       "      <td>2</td>\n",
       "    </tr>\n",
       "    <tr>\n",
       "      <th>3</th>\n",
       "      <td>1</td>\n",
       "      <td>10</td>\n",
       "      <td>5809.911100</td>\n",
       "      <td>32</td>\n",
       "      <td>2</td>\n",
       "    </tr>\n",
       "    <tr>\n",
       "      <th>4</th>\n",
       "      <td>1</td>\n",
       "      <td>11</td>\n",
       "      <td>7003.499363</td>\n",
       "      <td>56</td>\n",
       "      <td>3</td>\n",
       "    </tr>\n",
       "    <tr>\n",
       "      <th>5</th>\n",
       "      <td>1</td>\n",
       "      <td>12</td>\n",
       "      <td>6751.629942</td>\n",
       "      <td>28</td>\n",
       "      <td>2</td>\n",
       "    </tr>\n",
       "    <tr>\n",
       "      <th>6</th>\n",
       "      <td>2</td>\n",
       "      <td>3</td>\n",
       "      <td>10187.723006</td>\n",
       "      <td>63</td>\n",
       "      <td>3</td>\n",
       "    </tr>\n",
       "    <tr>\n",
       "      <th>7</th>\n",
       "      <td>2</td>\n",
       "      <td>4</td>\n",
       "      <td>6164.381824</td>\n",
       "      <td>40</td>\n",
       "      <td>2</td>\n",
       "    </tr>\n",
       "    <tr>\n",
       "      <th>8</th>\n",
       "      <td>2</td>\n",
       "      <td>6</td>\n",
       "      <td>3255.338202</td>\n",
       "      <td>14</td>\n",
       "      <td>1</td>\n",
       "    </tr>\n",
       "    <tr>\n",
       "      <th>9</th>\n",
       "      <td>2</td>\n",
       "      <td>7</td>\n",
       "      <td>6780.722964</td>\n",
       "      <td>48</td>\n",
       "      <td>2</td>\n",
       "    </tr>\n",
       "  </tbody>\n",
       "</table>\n",
       "</div>"
      ],
      "text/plain": [
       "   user_id  month  sum_distance  sum_duration  trips_per_month\n",
       "0        1      1   7027.511294            42                2\n",
       "1        1      4    754.159807             7                1\n",
       "2        1      8   6723.470560            46                2\n",
       "3        1     10   5809.911100            32                2\n",
       "4        1     11   7003.499363            56                3\n",
       "5        1     12   6751.629942            28                2\n",
       "6        2      3  10187.723006            63                3\n",
       "7        2      4   6164.381824            40                2\n",
       "8        2      6   3255.338202            14                1\n",
       "9        2      7   6780.722964            48                2"
      ]
     },
     "execution_count": 29,
     "metadata": {},
     "output_type": "execute_result"
    }
   ],
   "source": [
    "# создаём новый столбец для анализа данных - время использованное пользователем в пути,округлённое в большую сторону из-за поминутной тарификации\n",
    "def time_up(duration):\n",
    "    return math.ceil(duration)\n",
    "\n",
    "all_data['ceil_duration'] = all_data.duration.apply(time_up)\n",
    "\n",
    "# создаём новый датафрейм с агрегированными данными\n",
    "aggregated_data = all_data.groupby(['user_id', 'month'], as_index=False).aggregate({'distance': 'sum', 'ceil_duration': 'sum', 'name': 'count'})\n",
    "\n",
    "# переименуем столбцы для лучшего понимания, что чем является\n",
    "aggregated_data.columns = ['user_id', 'month', 'sum_distance', 'sum_duration', 'trips_per_month']\n",
    "# смотрим на результат агрегации\n",
    "aggregated_data.head(10)"
   ]
  },
  {
   "cell_type": "markdown",
   "id": "c696af32",
   "metadata": {},
   "source": [
    "### Производим подсчёт выручки"
   ]
  },
  {
   "cell_type": "code",
   "execution_count": 30,
   "id": "62903d59",
   "metadata": {},
   "outputs": [
    {
     "data": {
      "text/html": [
       "<div>\n",
       "<style scoped>\n",
       "    .dataframe tbody tr th:only-of-type {\n",
       "        vertical-align: middle;\n",
       "    }\n",
       "\n",
       "    .dataframe tbody tr th {\n",
       "        vertical-align: top;\n",
       "    }\n",
       "\n",
       "    .dataframe thead th {\n",
       "        text-align: right;\n",
       "    }\n",
       "</style>\n",
       "<table border=\"1\" class=\"dataframe\">\n",
       "  <thead>\n",
       "    <tr style=\"text-align: right;\">\n",
       "      <th></th>\n",
       "      <th>user_id</th>\n",
       "      <th>month</th>\n",
       "      <th>sum_distance</th>\n",
       "      <th>sum_duration</th>\n",
       "      <th>trips_per_month</th>\n",
       "      <th>name</th>\n",
       "      <th>age</th>\n",
       "      <th>city</th>\n",
       "      <th>subscription_type</th>\n",
       "      <th>minute_price</th>\n",
       "      <th>start_ride_price</th>\n",
       "      <th>subscription_fee</th>\n",
       "    </tr>\n",
       "  </thead>\n",
       "  <tbody>\n",
       "    <tr>\n",
       "      <th>0</th>\n",
       "      <td>1</td>\n",
       "      <td>1</td>\n",
       "      <td>7027.511294</td>\n",
       "      <td>42</td>\n",
       "      <td>2</td>\n",
       "      <td>Кира</td>\n",
       "      <td>22</td>\n",
       "      <td>Тюмень</td>\n",
       "      <td>ultra</td>\n",
       "      <td>6</td>\n",
       "      <td>0</td>\n",
       "      <td>199</td>\n",
       "    </tr>\n",
       "    <tr>\n",
       "      <th>1</th>\n",
       "      <td>1</td>\n",
       "      <td>4</td>\n",
       "      <td>754.159807</td>\n",
       "      <td>7</td>\n",
       "      <td>1</td>\n",
       "      <td>Кира</td>\n",
       "      <td>22</td>\n",
       "      <td>Тюмень</td>\n",
       "      <td>ultra</td>\n",
       "      <td>6</td>\n",
       "      <td>0</td>\n",
       "      <td>199</td>\n",
       "    </tr>\n",
       "    <tr>\n",
       "      <th>2</th>\n",
       "      <td>1</td>\n",
       "      <td>8</td>\n",
       "      <td>6723.470560</td>\n",
       "      <td>46</td>\n",
       "      <td>2</td>\n",
       "      <td>Кира</td>\n",
       "      <td>22</td>\n",
       "      <td>Тюмень</td>\n",
       "      <td>ultra</td>\n",
       "      <td>6</td>\n",
       "      <td>0</td>\n",
       "      <td>199</td>\n",
       "    </tr>\n",
       "    <tr>\n",
       "      <th>3</th>\n",
       "      <td>1</td>\n",
       "      <td>10</td>\n",
       "      <td>5809.911100</td>\n",
       "      <td>32</td>\n",
       "      <td>2</td>\n",
       "      <td>Кира</td>\n",
       "      <td>22</td>\n",
       "      <td>Тюмень</td>\n",
       "      <td>ultra</td>\n",
       "      <td>6</td>\n",
       "      <td>0</td>\n",
       "      <td>199</td>\n",
       "    </tr>\n",
       "    <tr>\n",
       "      <th>4</th>\n",
       "      <td>1</td>\n",
       "      <td>11</td>\n",
       "      <td>7003.499363</td>\n",
       "      <td>56</td>\n",
       "      <td>3</td>\n",
       "      <td>Кира</td>\n",
       "      <td>22</td>\n",
       "      <td>Тюмень</td>\n",
       "      <td>ultra</td>\n",
       "      <td>6</td>\n",
       "      <td>0</td>\n",
       "      <td>199</td>\n",
       "    </tr>\n",
       "    <tr>\n",
       "      <th>5</th>\n",
       "      <td>1</td>\n",
       "      <td>12</td>\n",
       "      <td>6751.629942</td>\n",
       "      <td>28</td>\n",
       "      <td>2</td>\n",
       "      <td>Кира</td>\n",
       "      <td>22</td>\n",
       "      <td>Тюмень</td>\n",
       "      <td>ultra</td>\n",
       "      <td>6</td>\n",
       "      <td>0</td>\n",
       "      <td>199</td>\n",
       "    </tr>\n",
       "    <tr>\n",
       "      <th>6</th>\n",
       "      <td>2</td>\n",
       "      <td>3</td>\n",
       "      <td>10187.723006</td>\n",
       "      <td>63</td>\n",
       "      <td>3</td>\n",
       "      <td>Станислав</td>\n",
       "      <td>31</td>\n",
       "      <td>Омск</td>\n",
       "      <td>ultra</td>\n",
       "      <td>6</td>\n",
       "      <td>0</td>\n",
       "      <td>199</td>\n",
       "    </tr>\n",
       "    <tr>\n",
       "      <th>7</th>\n",
       "      <td>2</td>\n",
       "      <td>4</td>\n",
       "      <td>6164.381824</td>\n",
       "      <td>40</td>\n",
       "      <td>2</td>\n",
       "      <td>Станислав</td>\n",
       "      <td>31</td>\n",
       "      <td>Омск</td>\n",
       "      <td>ultra</td>\n",
       "      <td>6</td>\n",
       "      <td>0</td>\n",
       "      <td>199</td>\n",
       "    </tr>\n",
       "    <tr>\n",
       "      <th>8</th>\n",
       "      <td>2</td>\n",
       "      <td>6</td>\n",
       "      <td>3255.338202</td>\n",
       "      <td>14</td>\n",
       "      <td>1</td>\n",
       "      <td>Станислав</td>\n",
       "      <td>31</td>\n",
       "      <td>Омск</td>\n",
       "      <td>ultra</td>\n",
       "      <td>6</td>\n",
       "      <td>0</td>\n",
       "      <td>199</td>\n",
       "    </tr>\n",
       "    <tr>\n",
       "      <th>9</th>\n",
       "      <td>2</td>\n",
       "      <td>7</td>\n",
       "      <td>6780.722964</td>\n",
       "      <td>48</td>\n",
       "      <td>2</td>\n",
       "      <td>Станислав</td>\n",
       "      <td>31</td>\n",
       "      <td>Омск</td>\n",
       "      <td>ultra</td>\n",
       "      <td>6</td>\n",
       "      <td>0</td>\n",
       "      <td>199</td>\n",
       "    </tr>\n",
       "  </tbody>\n",
       "</table>\n",
       "</div>"
      ],
      "text/plain": [
       "   user_id  month  sum_distance  sum_duration  trips_per_month       name  \\\n",
       "0        1      1   7027.511294            42                2       Кира   \n",
       "1        1      4    754.159807             7                1       Кира   \n",
       "2        1      8   6723.470560            46                2       Кира   \n",
       "3        1     10   5809.911100            32                2       Кира   \n",
       "4        1     11   7003.499363            56                3       Кира   \n",
       "5        1     12   6751.629942            28                2       Кира   \n",
       "6        2      3  10187.723006            63                3  Станислав   \n",
       "7        2      4   6164.381824            40                2  Станислав   \n",
       "8        2      6   3255.338202            14                1  Станислав   \n",
       "9        2      7   6780.722964            48                2  Станислав   \n",
       "\n",
       "   age    city subscription_type  minute_price  start_ride_price  \\\n",
       "0   22  Тюмень             ultra             6                 0   \n",
       "1   22  Тюмень             ultra             6                 0   \n",
       "2   22  Тюмень             ultra             6                 0   \n",
       "3   22  Тюмень             ultra             6                 0   \n",
       "4   22  Тюмень             ultra             6                 0   \n",
       "5   22  Тюмень             ultra             6                 0   \n",
       "6   31    Омск             ultra             6                 0   \n",
       "7   31    Омск             ultra             6                 0   \n",
       "8   31    Омск             ultra             6                 0   \n",
       "9   31    Омск             ultra             6                 0   \n",
       "\n",
       "   subscription_fee  \n",
       "0               199  \n",
       "1               199  \n",
       "2               199  \n",
       "3               199  \n",
       "4               199  \n",
       "5               199  \n",
       "6               199  \n",
       "7               199  \n",
       "8               199  \n",
       "9               199  "
      ]
     },
     "execution_count": 30,
     "metadata": {},
     "output_type": "execute_result"
    }
   ],
   "source": [
    "# объединим снова таблицы - не хватает данных о стоимости поездки и подписки для пользователей\n",
    "aggregated_data = aggregated_data.merge(users, on='user_id', how='inner')\n",
    "aggregated_data = aggregated_data.merge(subscriptions, on='subscription_type', how='inner')\n",
    "\n",
    "# смотрим на предварительный результат\n",
    "aggregated_data.head(10)"
   ]
  },
  {
   "cell_type": "code",
   "execution_count": 31,
   "id": "468a9793",
   "metadata": {},
   "outputs": [
    {
     "data": {
      "text/html": [
       "<div>\n",
       "<style scoped>\n",
       "    .dataframe tbody tr th:only-of-type {\n",
       "        vertical-align: middle;\n",
       "    }\n",
       "\n",
       "    .dataframe tbody tr th {\n",
       "        vertical-align: top;\n",
       "    }\n",
       "\n",
       "    .dataframe thead th {\n",
       "        text-align: right;\n",
       "    }\n",
       "</style>\n",
       "<table border=\"1\" class=\"dataframe\">\n",
       "  <thead>\n",
       "    <tr style=\"text-align: right;\">\n",
       "      <th></th>\n",
       "      <th>user_id</th>\n",
       "      <th>month</th>\n",
       "      <th>sum_distance</th>\n",
       "      <th>sum_duration</th>\n",
       "      <th>trips_per_month</th>\n",
       "      <th>name</th>\n",
       "      <th>age</th>\n",
       "      <th>city</th>\n",
       "      <th>subscription_type</th>\n",
       "      <th>minute_price</th>\n",
       "      <th>start_ride_price</th>\n",
       "      <th>subscription_fee</th>\n",
       "      <th>sum_revenue</th>\n",
       "    </tr>\n",
       "  </thead>\n",
       "  <tbody>\n",
       "    <tr>\n",
       "      <th>0</th>\n",
       "      <td>1</td>\n",
       "      <td>1</td>\n",
       "      <td>7027.511294</td>\n",
       "      <td>42</td>\n",
       "      <td>2</td>\n",
       "      <td>Кира</td>\n",
       "      <td>22</td>\n",
       "      <td>Тюмень</td>\n",
       "      <td>ultra</td>\n",
       "      <td>6</td>\n",
       "      <td>0</td>\n",
       "      <td>199</td>\n",
       "      <td>451</td>\n",
       "    </tr>\n",
       "    <tr>\n",
       "      <th>1</th>\n",
       "      <td>1</td>\n",
       "      <td>4</td>\n",
       "      <td>754.159807</td>\n",
       "      <td>7</td>\n",
       "      <td>1</td>\n",
       "      <td>Кира</td>\n",
       "      <td>22</td>\n",
       "      <td>Тюмень</td>\n",
       "      <td>ultra</td>\n",
       "      <td>6</td>\n",
       "      <td>0</td>\n",
       "      <td>199</td>\n",
       "      <td>241</td>\n",
       "    </tr>\n",
       "    <tr>\n",
       "      <th>2</th>\n",
       "      <td>1</td>\n",
       "      <td>8</td>\n",
       "      <td>6723.470560</td>\n",
       "      <td>46</td>\n",
       "      <td>2</td>\n",
       "      <td>Кира</td>\n",
       "      <td>22</td>\n",
       "      <td>Тюмень</td>\n",
       "      <td>ultra</td>\n",
       "      <td>6</td>\n",
       "      <td>0</td>\n",
       "      <td>199</td>\n",
       "      <td>475</td>\n",
       "    </tr>\n",
       "    <tr>\n",
       "      <th>3</th>\n",
       "      <td>1</td>\n",
       "      <td>10</td>\n",
       "      <td>5809.911100</td>\n",
       "      <td>32</td>\n",
       "      <td>2</td>\n",
       "      <td>Кира</td>\n",
       "      <td>22</td>\n",
       "      <td>Тюмень</td>\n",
       "      <td>ultra</td>\n",
       "      <td>6</td>\n",
       "      <td>0</td>\n",
       "      <td>199</td>\n",
       "      <td>391</td>\n",
       "    </tr>\n",
       "    <tr>\n",
       "      <th>4</th>\n",
       "      <td>1</td>\n",
       "      <td>11</td>\n",
       "      <td>7003.499363</td>\n",
       "      <td>56</td>\n",
       "      <td>3</td>\n",
       "      <td>Кира</td>\n",
       "      <td>22</td>\n",
       "      <td>Тюмень</td>\n",
       "      <td>ultra</td>\n",
       "      <td>6</td>\n",
       "      <td>0</td>\n",
       "      <td>199</td>\n",
       "      <td>535</td>\n",
       "    </tr>\n",
       "    <tr>\n",
       "      <th>5</th>\n",
       "      <td>1</td>\n",
       "      <td>12</td>\n",
       "      <td>6751.629942</td>\n",
       "      <td>28</td>\n",
       "      <td>2</td>\n",
       "      <td>Кира</td>\n",
       "      <td>22</td>\n",
       "      <td>Тюмень</td>\n",
       "      <td>ultra</td>\n",
       "      <td>6</td>\n",
       "      <td>0</td>\n",
       "      <td>199</td>\n",
       "      <td>367</td>\n",
       "    </tr>\n",
       "    <tr>\n",
       "      <th>6</th>\n",
       "      <td>2</td>\n",
       "      <td>3</td>\n",
       "      <td>10187.723006</td>\n",
       "      <td>63</td>\n",
       "      <td>3</td>\n",
       "      <td>Станислав</td>\n",
       "      <td>31</td>\n",
       "      <td>Омск</td>\n",
       "      <td>ultra</td>\n",
       "      <td>6</td>\n",
       "      <td>0</td>\n",
       "      <td>199</td>\n",
       "      <td>577</td>\n",
       "    </tr>\n",
       "    <tr>\n",
       "      <th>7</th>\n",
       "      <td>2</td>\n",
       "      <td>4</td>\n",
       "      <td>6164.381824</td>\n",
       "      <td>40</td>\n",
       "      <td>2</td>\n",
       "      <td>Станислав</td>\n",
       "      <td>31</td>\n",
       "      <td>Омск</td>\n",
       "      <td>ultra</td>\n",
       "      <td>6</td>\n",
       "      <td>0</td>\n",
       "      <td>199</td>\n",
       "      <td>439</td>\n",
       "    </tr>\n",
       "    <tr>\n",
       "      <th>8</th>\n",
       "      <td>2</td>\n",
       "      <td>6</td>\n",
       "      <td>3255.338202</td>\n",
       "      <td>14</td>\n",
       "      <td>1</td>\n",
       "      <td>Станислав</td>\n",
       "      <td>31</td>\n",
       "      <td>Омск</td>\n",
       "      <td>ultra</td>\n",
       "      <td>6</td>\n",
       "      <td>0</td>\n",
       "      <td>199</td>\n",
       "      <td>283</td>\n",
       "    </tr>\n",
       "    <tr>\n",
       "      <th>9</th>\n",
       "      <td>2</td>\n",
       "      <td>7</td>\n",
       "      <td>6780.722964</td>\n",
       "      <td>48</td>\n",
       "      <td>2</td>\n",
       "      <td>Станислав</td>\n",
       "      <td>31</td>\n",
       "      <td>Омск</td>\n",
       "      <td>ultra</td>\n",
       "      <td>6</td>\n",
       "      <td>0</td>\n",
       "      <td>199</td>\n",
       "      <td>487</td>\n",
       "    </tr>\n",
       "  </tbody>\n",
       "</table>\n",
       "</div>"
      ],
      "text/plain": [
       "   user_id  month  sum_distance  sum_duration  trips_per_month       name  \\\n",
       "0        1      1   7027.511294            42                2       Кира   \n",
       "1        1      4    754.159807             7                1       Кира   \n",
       "2        1      8   6723.470560            46                2       Кира   \n",
       "3        1     10   5809.911100            32                2       Кира   \n",
       "4        1     11   7003.499363            56                3       Кира   \n",
       "5        1     12   6751.629942            28                2       Кира   \n",
       "6        2      3  10187.723006            63                3  Станислав   \n",
       "7        2      4   6164.381824            40                2  Станислав   \n",
       "8        2      6   3255.338202            14                1  Станислав   \n",
       "9        2      7   6780.722964            48                2  Станислав   \n",
       "\n",
       "   age    city subscription_type  minute_price  start_ride_price  \\\n",
       "0   22  Тюмень             ultra             6                 0   \n",
       "1   22  Тюмень             ultra             6                 0   \n",
       "2   22  Тюмень             ultra             6                 0   \n",
       "3   22  Тюмень             ultra             6                 0   \n",
       "4   22  Тюмень             ultra             6                 0   \n",
       "5   22  Тюмень             ultra             6                 0   \n",
       "6   31    Омск             ultra             6                 0   \n",
       "7   31    Омск             ultra             6                 0   \n",
       "8   31    Омск             ultra             6                 0   \n",
       "9   31    Омск             ultra             6                 0   \n",
       "\n",
       "   subscription_fee  sum_revenue  \n",
       "0               199          451  \n",
       "1               199          241  \n",
       "2               199          475  \n",
       "3               199          391  \n",
       "4               199          535  \n",
       "5               199          367  \n",
       "6               199          577  \n",
       "7               199          439  \n",
       "8               199          283  \n",
       "9               199          487  "
      ]
     },
     "execution_count": 31,
     "metadata": {},
     "output_type": "execute_result"
    }
   ],
   "source": [
    "# создаём столбец с сумарной выручкой - для её подсчёта надо взять продолжительность поездки (уже округлено в большую сторону)\n",
    "# потом умножить результат на количество минут и прибавить к этому стоимость подписки\n",
    "def sum_revenue (row):\n",
    "    return row.sum_duration * row.minute_price + row.subscription_fee\n",
    "\n",
    "aggregated_data['sum_revenue'] = aggregated_data.apply(sum_revenue, axis=1)\n",
    "\n",
    "# проверям успешность создания столбца\n",
    "aggregated_data.head(10)"
   ]
  },
  {
   "cell_type": "code",
   "execution_count": 32,
   "id": "d1942a43",
   "metadata": {},
   "outputs": [
    {
     "data": {
      "text/plain": [
       "count    4533.000000\n",
       "mean      362.792191\n",
       "std        88.262737\n",
       "min       223.000000\n",
       "5%        271.000000\n",
       "25%       301.000000\n",
       "50%       337.000000\n",
       "75%       409.000000\n",
       "80%       427.000000\n",
       "95%       541.000000\n",
       "max       955.000000\n",
       "Name: sum_revenue, dtype: float64"
      ]
     },
     "execution_count": 32,
     "metadata": {},
     "output_type": "execute_result"
    },
    {
     "data": {
      "image/png": "[encoded data removed]",
      "text/plain": [
       "<Figure size 1200x600 with 1 Axes>"
      ]
     },
     "metadata": {},
     "output_type": "display_data"
    }
   ],
   "source": [
    "# исследуем выручку за месяц у пользователей с подпиской\n",
    "ax = sns.histplot(aggregated_data.query(\"subscription_type == 'ultra'\").sum_revenue, color='cyan')\n",
    "ax.set(title='Выручка за месяц от пользователей с подпиской ultra, руб.', xlabel='Выручка за месяц, руб.',\\\n",
    "       ylabel='Количество пользователей, чел.');\n",
    "aggregated_data.query(\"subscription_type == 'ultra'\").sum_revenue.describe(percentiles=[0.05, 0.25, 0.5, 0.75, 0.8, 0.95])"
   ]
  },
  {
   "cell_type": "code",
   "execution_count": 33,
   "id": "42aa0372",
   "metadata": {},
   "outputs": [
    {
     "data": {
      "text/plain": [
       "count    6798.000000\n",
       "mean      243.557517\n",
       "std       143.010897\n",
       "min         8.000000\n",
       "5%         80.000000\n",
       "25%       144.000000\n",
       "50%       208.000000\n",
       "75%       320.000000\n",
       "80%       352.000000\n",
       "95%       520.000000\n",
       "max      1144.000000\n",
       "Name: sum_revenue, dtype: float64"
      ]
     },
     "execution_count": 33,
     "metadata": {},
     "output_type": "execute_result"
    },
    {
     "data": {
      "image/png": "[encoded data removed]",
      "text/plain": [
       "<Figure size 1200x600 with 1 Axes>"
      ]
     },
     "metadata": {},
     "output_type": "display_data"
    }
   ],
   "source": [
    "# исследуем выручку за месяц у пользователей без подписки\n",
    "ax = sns.histplot(aggregated_data.query(\"subscription_type == 'free'\").sum_revenue, color='purple')\n",
    "ax.set(title='Выручка за месяц от пользователей без подписки, руб.', xlabel='Выручка за месяц, руб.',\\\n",
    "       ylabel='Количество пользователей, чел.');\n",
    "aggregated_data.query(\"subscription_type == 'free'\").sum_revenue.describe(percentiles=[0.05, 0.25, 0.5, 0.75, 0.8, 0.95])"
   ]
  },
  {
   "cell_type": "code",
   "execution_count": 34,
   "id": "c6b203e4",
   "metadata": {},
   "outputs": [
    {
     "data": {
      "image/png": "[encoded data removed]",
      "text/plain": [
       "<Figure size 1200x600 with 1 Axes>"
      ]
     },
     "metadata": {},
     "output_type": "display_data"
    }
   ],
   "source": [
    "# совмещаем графики для большей наглядности\n",
    "ax = sns.histplot(aggregated_data.query(\"subscription_type == 'ultra'\").sum_revenue, color='cyan')\n",
    "sns.histplot(aggregated_data.query(\"subscription_type == 'free'\").sum_revenue, color='purple', ax=ax, alpha=0.4)\n",
    "ax.set(title='Выручка за месяц от пользователей, руб.', xlabel='Выручка за месяц, руб.',\\\n",
    "       ylabel='Количество пользователей, чел.');"
   ]
  },
  {
   "cell_type": "markdown",
   "id": "acc92cfc",
   "metadata": {},
   "source": [
    "Пользователи с подпиской приносят больше заработков сервису в среднем - 362 рубля против 243 рублей у пользователей без подписки. Тоже самое с медианой - 337 рублей против 208 рублей у пользователей без подписки. Единственное, в чём пользователи без подписки превзошли пользователей с подпиской - это в максимальной сумме - 1144 рубля против 955 рублей. И соответственно из-за этого у пользователей без подписки выше стандартное отклонение - почти 143 рубля против 88 рублей. Отсюда проситься вывод: сервис заинтересован в пользователях с подпиской и при этом достаточно сильно."
   ]
  },
  {
   "cell_type": "markdown",
   "id": "41545ac0",
   "metadata": {},
   "source": [
    "## Проверка гипотез"
   ]
  },
  {
   "cell_type": "markdown",
   "id": "3e2215df",
   "metadata": {},
   "source": [
    "### Проверяем гипотезу о разности времени на поездку среди пользователей с подпиской и без неё"
   ]
  },
  {
   "cell_type": "markdown",
   "id": "eea6efc1",
   "metadata": {},
   "source": [
    "Нулевая гипотеза (H0) - Средняя продолжительность поездки пользователей с подпиской почти не отличается от пользователей без подписки.\n",
    "Альтернативная гипотеза (H1) - Средняя продолжительность поездки значительно больше у пользователей с подпиской, чем без неё.\n",
    "Проверим гипотезу с уровнем статистической значимости в 1%."
   ]
  },
  {
   "cell_type": "code",
   "execution_count": 35,
   "id": "23ea867b",
   "metadata": {},
   "outputs": [
    {
     "name": "stdout",
     "output_type": "stream",
     "text": [
      "p-значение 1.2804098316645618e-34\n",
      "Отвергаем гипотезу о равенстве среднего времени поездки\n",
      "Среднее время поездки в группе с подпиской ultra 18.54 минут\n",
      "Среднее время поездки в группе без подписки 17.39 минут\n"
     ]
    }
   ],
   "source": [
    "# проверка гипотезы - у пользователей с подпиской время на поездку больше\n",
    "alpha = 0.01 # уровень статистической значимости этой гипотезы\n",
    "\n",
    "results = st.ttest_ind(data_users_with_subscription.duration, data_users_without_subscription.duration, alternative='greater')\n",
    "print('p-значение', results.pvalue)\n",
    "print('Отвергаем гипотезу о равенстве среднего времени поездки' if results.pvalue < alpha \\\n",
    "      else 'Не удалось отвергнуть гипотезу о равенстве среднего времени 1 поездки')\n",
    "print(f'Среднее время поездки в группе с подпиской ultra {data_users_with_subscription.duration.mean():.2f} минут')\n",
    "print(f'Среднее время поездки в группе без подписки {data_users_without_subscription.duration.mean():.2f} минут')"
   ]
  },
  {
   "cell_type": "markdown",
   "id": "cfdc0d64",
   "metadata": {},
   "source": [
    "Гипотеза о равенстве среднего времени поездки целиком и полностью опровергнута. Значения несовпадают вообще никак. Попадают именно туда, где значения выше. Что полностью совпадает с гистограммами выше. Напомним о том, что получили выше - средняя продолжительность поездки у группы с подпиской - 18.54 минуты, и стандартное отклонение у неё - 5.57 минуты. А у группы без подписки - 17.39 минуты и стандартное отклонение - 6.32 минуты. Конечно, первая группа ездит дольше, а значит и денег приносит нам в итоге."
   ]
  },
  {
   "cell_type": "markdown",
   "id": "0e832ba9",
   "metadata": {},
   "source": [
    "### Проверяем гипотезу о поездках на расстояние не большее, чем 3130 метров за поезку среди пользователей с подпиской"
   ]
  },
  {
   "cell_type": "markdown",
   "id": "5d39e973",
   "metadata": {},
   "source": [
    "Нулевая гипотеза (H0) - Средняя поездка пользователей с подпиской больше или равна 3130 метрам.\n",
    "Альтернативная гипотеза (H1) - Средняя поездка пользователей с подпиской меньше, чем 3130 метров.\n",
    "Проверим гипотезу с уровнем статистической значимости в 5%."
   ]
  },
  {
   "cell_type": "code",
   "execution_count": 36,
   "id": "d6f06ddb",
   "metadata": {},
   "outputs": [
    {
     "name": "stdout",
     "output_type": "stream",
     "text": [
      "p-значение 0.08046311521502146\n",
      "Не удалось опровергнуть гипотезу о том, что поездки пользователей с подпиской больше или равны 3130 метрам\n",
      "Средняя поездка в группе с подпиской ultra - 3115.45 метров\n"
     ]
    }
   ],
   "source": [
    "# проверяем гипотезу о поездках на дистанцию не больше 3130 метров среди пользователей с подпиской\n",
    "alpha = 0.05\n",
    "optimal_distance = 3130 # пробег больше такого расстояния за поездку не очень желателен (в метрах)\n",
    "\n",
    "results = st.ttest_1samp(data_users_with_subscription.distance, optimal_distance, alternative='less')\n",
    "print('p-значение', results.pvalue)\n",
    "print('Опровергаем гипотезу о том, что поездки пользователей с подпиской больше или равны 3130 метрам' if results.pvalue < alpha \\\n",
    "     else 'Не удалось опровергнуть гипотезу о том, что поездки пользователей с подпиской больше или равны 3130 метрам')\n",
    "print(f'Средняя поездка в группе с подпиской ultra - {data_users_with_subscription.distance.mean():.2f} метров')"
   ]
  },
  {
   "cell_type": "markdown",
   "id": "f6e873c9",
   "metadata": {},
   "source": [
    "Итак, напомним статистктику о группе средней длине поездки пользователей с подпиской - среднее длина поездки 3115 метров, стандартное отклонение - 836 метров, медиана - 3148 метров. Оказывается этого отклонения не досточно, чтобы считать, что длина поездки значимо меньше, чем 3130 метров.\n",
    "Можно дополнительно проверить гипотезу о равенстве длины поездок с оптимальной длиной проката. Если она оправдается - это тоже результат."
   ]
  },
  {
   "cell_type": "markdown",
   "id": "0e59036f",
   "metadata": {},
   "source": [
    "Нулевая гипотеза (H0) - Средняя поездка пользователей с подпиской примерно равна 3130 метрам.\n",
    "Альтернативная гипотеза (H1) - Средняя поездка пользователей с подпиской не равна 3130 метрам.\n",
    "Проверим гипотезу с уровнем статистической значимости в 5%."
   ]
  },
  {
   "cell_type": "code",
   "execution_count": 37,
   "id": "d6200e6a",
   "metadata": {},
   "outputs": [
    {
     "name": "stdout",
     "output_type": "stream",
     "text": [
      "p-значение 0.16092623043004292\n",
      "Не удалось отвергнуть гипотезу, что длина поездки примерно не равна оптимальной\n",
      "Средняя поездка в группе с подпиской ultra 3115.45 метров\n"
     ]
    }
   ],
   "source": [
    "# не является ли наша длина поездки оптимальной?\n",
    "aplha = 0.05\n",
    "\n",
    "results = st.ttest_1samp(data_users_with_subscription.distance, optimal_distance)\n",
    "print('p-значение', results.pvalue)\n",
    "print('Отвергаем гипотезу о том, что длина поездки примерно не равна оптимальной' if results.pvalue < alpha \\\n",
    "      else 'Не удалось отвергнуть гипотезу, что длина поездки примерно не равна оптимальной')\n",
    "print(f'Средняя поездка в группе с подпиской ultra {data_users_with_subscription.distance.mean():.2f} метров')"
   ]
  },
  {
   "cell_type": "markdown",
   "id": "8908dfb7",
   "metadata": {},
   "source": [
    "Вообще говоря если смотреть по статистике об этом распределении это ожидаемый резльтат. Напомним ещё раз: среднее значение длины поездки в группе с подпиской - 3115 метров, медиана длины поездки в ней - 3148 метров, стандартное отклонение - 836 метров. Прочая статистика про длину поездок в этой группе: минимальное расстояние - 244 метра, максимальное расстояние - 5699 метров. И это может примерно соответствовать средней дистанции в 3130 метров, а вот доказать что это строго меньше - нам уже не удалось."
   ]
  },
  {
   "cell_type": "markdown",
   "id": "9d688295",
   "metadata": {},
   "source": [
    "### Проверка гипотезы о том, что помесячная выручка от пользователей с подпиской выше, чем от пользователей без неё"
   ]
  },
  {
   "cell_type": "markdown",
   "id": "6fddc459",
   "metadata": {},
   "source": [
    "Нулевая гипотеза (H0) - Средняя выручка группы пользователей с подписками равна выручке группы без подписок.\n",
    "Альтернативная гипотеза (H1) - Средняя выручка группы с подписками значительно выше, чем в группе без подписок.\n",
    "Проверим гипотезу с уровнем статистической значимости в 1%."
   ]
  },
  {
   "cell_type": "code",
   "execution_count": 38,
   "id": "5bf82f12",
   "metadata": {},
   "outputs": [
    {
     "name": "stdout",
     "output_type": "stream",
     "text": [
      "p-значение 0.0\n",
      "Отвергаем гипотезу о равенстве выручки от пользователей с подпиской и без неё\n",
      "Средняя выручка в группе с подпиской ultra - 362.79 рубля.\n",
      "Средняя выручка в группе без подписки - 243.56 рубля.\n"
     ]
    }
   ],
   "source": [
    "# проверка гипотезы - нам более выгоды пользователи с подпиской - они дают больше выручки\n",
    "alpha = 0.01 # уровень значимости этой гипотезы\n",
    "\n",
    "results = st.ttest_ind(aggregated_data.query(\"subscription_type == 'ultra'\").sum_revenue,\\\n",
    "                       aggregated_data.query(\"subscription_type == 'free'\").sum_revenue,\\\n",
    "                       equal_var=False, alternative='greater')\n",
    "print('p-значение', results.pvalue)\n",
    "print('Отвергаем гипотезу о равенстве выручки от пользователей с подпиской и без неё' if results.pvalue < alpha \\\n",
    "     else 'Не удалось отвергнуть гипотезу о равенстве выручки от пользователей с подпиской и без неё')\n",
    "print('Средняя выручка в группе с подпиской ultra -', aggregated_data.query(\"subscription_type == 'ultra'\").sum_revenue.mean().round(2), 'рубля.')\n",
    "print('Средняя выручка в группе без подписки -', aggregated_data.query(\"subscription_type == 'free'\").sum_revenue.mean().mean().round(2), 'рубля.')"
   ]
  },
  {
   "cell_type": "markdown",
   "id": "19c7be71",
   "metadata": {},
   "source": [
    "Голая статистика: средняя выручка в группе с подписками равна - 362 рубля, стандартное отклонение - 88 рублей. В группе без подписки - средняя выручка равна 243 рубля, а стандартное отклонение в группе без подписок - 143 рубля. И как результат:\n",
    "Как мы уже и видели - такой возможности о том, что наши выручки есть одно и тоже просто не существует вообще. Нам однозначно нужны пользователи с подпиской - они гораздо больше приносят дохода."
   ]
  },
  {
   "cell_type": "markdown",
   "id": "92191461",
   "metadata": {},
   "source": [
    "### Проверим гипотезу о том, что после обновления серверов количество обращений в службу поддержки значительно снизилось"
   ]
  },
  {
   "cell_type": "markdown",
   "id": "7d4b141a",
   "metadata": {},
   "source": [
    "К сожалению, это лишь теоретическая задача. Но решается она так:\n",
    "- считаем данные о раннем количестве обращений в службу поддержки и сохраним её в переменную выборка1\n",
    "- считаем данные о более позднем количестве обращений в службу поддержки и сохраним её в переменную выборка2\n",
    "- установим уровень значимости для этой задачи (чаще всего - 1% или 5%)\n",
    "- использем метод `scipy.stats.ttest_rel(выборка1, выборка2, alternative='greater')` сохраняем в переменную результат\n",
    "- сравниваем результат с уровнем значимости и если уровень значимости нашей задачи больше полученного, то гипотеза о том, что наше предположение верно - правдоподобно, в ином случае - признаём, что утверждать этого точно не можем."
   ]
  },
  {
   "cell_type": "markdown",
   "id": "61213c5e",
   "metadata": {},
   "source": [
    "## Распределения"
   ]
  },
  {
   "cell_type": "markdown",
   "id": "36900a61",
   "metadata": {},
   "source": [
    "### Произведём расчёт количества промокодов для рассылки пользователям, чтобы 100 существующих клиентов продлили подписку Ultra с вероятностью не выполнить этот план в 5%."
   ]
  },
  {
   "cell_type": "code",
   "execution_count": 39,
   "id": "95cd1d51",
   "metadata": {},
   "outputs": [
    {
     "name": "stdout",
     "output_type": "stream",
     "text": [
      "1172\n"
     ]
    }
   ],
   "source": [
    "# сколько нужно промокодов?\n",
    "p = 0.1 # вероятность продления подписки\n",
    "target = 100 # не меньше чего хотим получить\n",
    "n = 0 # количество требуемых отправок\n",
    "\n",
    "for i in range(300, 2000):\n",
    "    probability = st.binom.cdf(target, i, p)\n",
    "    if probability <= 0.05:\n",
    "        print(i)\n",
    "        n = i\n",
    "        break"
   ]
  },
  {
   "cell_type": "markdown",
   "id": "942e7f41",
   "metadata": {},
   "source": [
    "Итак нам нужны 1172 отправки, чтобы получить не меньше 100 клиентов, которые продлят её с вероятностью в 95%."
   ]
  },
  {
   "cell_type": "code",
   "execution_count": 40,
   "id": "7e35b7b2",
   "metadata": {},
   "outputs": [
    {
     "data": {
      "image/png": "[encoded data removed]",
      "text/plain": [
       "<Figure size 1200x600 with 1 Axes>"
      ]
     },
     "metadata": {},
     "output_type": "display_data"
    }
   ],
   "source": [
    "# апроксимируем к нормальному распределению\n",
    "mu = n * p\n",
    "std = (n * p * (1 - p))**0.5\n",
    "distr = st.norm(mu, std)\n",
    "# строим график\n",
    "plt.rcParams['figure.figsize'] = (12, 6)\n",
    "plt.plot(range(65, 165),distr.pdf(range(65,165)), color='orange', marker='o');"
   ]
  },
  {
   "cell_type": "markdown",
   "id": "ffcb394b",
   "metadata": {},
   "source": [
    "Нам нужны как минимум 1172 отправки промокодов, чтобы получить 100 клиентов, которые продлят эту подписку, с вероятностью неуспеха в 5%. При этом видно, что получить более 150 клиентов с подпиской почти невозможно при такой отправке - нужно больше отправок промокодов."
   ]
  },
  {
   "cell_type": "markdown",
   "id": "96b4d3f6",
   "metadata": {},
   "source": [
    "### Построим график распределения и оценим вероятность, того что после отсылки 11 млн push-уведомлений их откроют не более 399,5 тыс пользователей."
   ]
  },
  {
   "cell_type": "code",
   "execution_count": 41,
   "id": "6550faf0",
   "metadata": {},
   "outputs": [
    {
     "data": {
      "text/plain": [
       "0.0"
      ]
     },
     "execution_count": 41,
     "metadata": {},
     "output_type": "execute_result"
    }
   ],
   "source": [
    "# праметры отправки push-уведомлений\n",
    "p = 0.4 # вероятность открыть  push-уведомления\n",
    "n_push = 11000 # тысяч отправленных push-уведомлений\n",
    "\n",
    "# апроксимируем к нормальному распределению\n",
    "mu_push = p * n_push\n",
    "std_push = (p * n_push * (1 - p))**0.5\n",
    "\n",
    "distr_push = st.norm(mu_push, std_push)\n",
    "# выводим вероятность такого исхода\n",
    "distr_push.cdf(399.5)"
   ]
  },
  {
   "cell_type": "markdown",
   "id": "c67010b3",
   "metadata": {},
   "source": [
    "Это событие невероятно. Таких чудес не бывает. Ожидается в среднем 4400 тысяч открытых push-уведомлений."
   ]
  },
  {
   "cell_type": "code",
   "execution_count": 42,
   "id": "9ad0db98",
   "metadata": {},
   "outputs": [
    {
     "data": {
      "image/png": "[encoded data removed]",
      "text/plain": [
       "<Figure size 1200x600 with 1 Axes>"
      ]
     },
     "metadata": {},
     "output_type": "display_data"
    }
   ],
   "source": [
    "# строим график \n",
    "plt.plot(range(4150,4650),distr_push.pdf(range(4150,4650)), color='green', marker='o');"
   ]
  },
  {
   "cell_type": "markdown",
   "id": "330dcf8d",
   "metadata": {},
   "source": [
    "Мы можем получить примерно от 4200 тысяч открытых push - уведомлений до 4600 тысяч открытых push - уведомлений, а вот другие значения получить почти невозможно. И уж тем более невозможно получить столь мало как 399.5 тысяч открытых push - уведомлений."
   ]
  },
  {
   "cell_type": "markdown",
   "id": "57efa705",
   "metadata": {},
   "source": [
    "## Общий вывод"
   ]
  },
  {
   "cell_type": "markdown",
   "id": "dca5c376",
   "metadata": {},
   "source": [
    "У нашего сервиса немного больше пользователей без подписки - 54.43%, соответственно пользователей с подписой ultra - 45.57%. При этом количество поездок у пользователей без подписок значительно больше, чем у пользователей с подписками - и делятся они приблизительно 2 к 1. Наши клиенты - это люди в возрасте от 12 до 43 лет, при этом основную часть из них составляют молодые люди и девушки в возрасте от 22 до 28 лет. Наш сервис представлен в 8 городах и пользуются им примерно равномерно во всех этих городах. Наши пользователи проезжают от метра (хотя не очень понятно зачем) до 7211 метров. При этом люди с подписками в среднем ехдят на большее расстояние, но рекорд по расстояниям, которое проехал 1 пользователь за раз принадлежит пользователю без подписки. В среднем это расстояние ненамного больше 3 км. По времени 1 поездки - среднее время 17.8 минуты, но достигается она за счёт пользователей с подпиской - у них среднее время - 18.54 минуты, а вот у тех кого нет подписки среднее время больше, чем 1 минуту меньше - и оно составляет 17.32 минуты. Соответственно с выручкой тоже всё однозначно - из нашей выборки понятно, что намного большую выручку нам приносят пользователи с подпиской - в среднем 362 рубля против 243 рублей у группы без подписки. Но рекордную выручку нам всё-таки принёс пользователь без подписки - 1144 рубля за месяц. Все наши расхождения статистически значимы, кроме одного: мы не смогли опровергнуть, то что пользователи с подпиской в среднем ездят меньше оптимальной длины проезда в 3130 метров, но и это отнюдь не плохо для нас. Напоследок, мы выяснили, что для того, чтобы получить 100 новых пользователей с подписками нужно послать не меньше, чем 1172 промокода. И доказали, что при большом объёмме посылки push - уведолений (11 млн.), абсолютно невозможно, что наши уведомления посмотрят не очень много раз (400 тыс. или меньше)"
   ]
  }
 ],
 "metadata": {
  "ExecuteTimeLog": [
   {
    "duration": 381,
    "start_time": "2023-06-22T19:08:49.258Z"
   },
   {
    "duration": 235,
    "start_time": "2023-06-22T19:15:43.033Z"
   },
   {
    "duration": 23,
    "start_time": "2023-06-22T19:18:11.720Z"
   },
   {
    "duration": 12,
    "start_time": "2023-06-22T19:20:51.554Z"
   },
   {
    "duration": 17,
    "start_time": "2023-06-22T19:31:01.130Z"
   },
   {
    "duration": 15,
    "start_time": "2023-06-22T19:57:03.045Z"
   },
   {
    "duration": 50,
    "start_time": "2023-06-23T11:08:50.710Z"
   },
   {
    "duration": 370,
    "start_time": "2023-06-23T11:09:08.907Z"
   },
   {
    "duration": 280,
    "start_time": "2023-06-23T11:09:09.279Z"
   },
   {
    "duration": 16,
    "start_time": "2023-06-23T11:09:09.561Z"
   },
   {
    "duration": 11,
    "start_time": "2023-06-23T11:09:09.579Z"
   },
   {
    "duration": 37,
    "start_time": "2023-06-23T11:09:09.593Z"
   },
   {
    "duration": 14,
    "start_time": "2023-06-23T11:09:09.631Z"
   },
   {
    "duration": 19,
    "start_time": "2023-06-23T11:09:09.646Z"
   },
   {
    "duration": 13,
    "start_time": "2023-06-23T11:16:18.555Z"
   },
   {
    "duration": 12,
    "start_time": "2023-06-23T11:24:35.976Z"
   },
   {
    "duration": 5,
    "start_time": "2023-06-23T11:34:47.715Z"
   },
   {
    "duration": 8,
    "start_time": "2023-06-23T11:39:41.848Z"
   },
   {
    "duration": 9,
    "start_time": "2023-06-23T11:49:29.251Z"
   },
   {
    "duration": 7,
    "start_time": "2023-06-23T11:49:38.314Z"
   },
   {
    "duration": 11,
    "start_time": "2023-06-23T12:30:27.453Z"
   },
   {
    "duration": 61,
    "start_time": "2023-06-23T15:51:50.128Z"
   },
   {
    "duration": 515,
    "start_time": "2023-06-23T15:53:05.822Z"
   },
   {
    "duration": 251,
    "start_time": "2023-06-23T15:53:06.340Z"
   },
   {
    "duration": 27,
    "start_time": "2023-06-23T15:53:06.593Z"
   },
   {
    "duration": 54,
    "start_time": "2023-06-23T15:53:06.622Z"
   },
   {
    "duration": 53,
    "start_time": "2023-06-23T15:53:06.679Z"
   },
   {
    "duration": 45,
    "start_time": "2023-06-23T15:53:06.734Z"
   },
   {
    "duration": 18,
    "start_time": "2023-06-23T15:53:06.781Z"
   },
   {
    "duration": 38,
    "start_time": "2023-06-23T15:53:06.804Z"
   },
   {
    "duration": 29,
    "start_time": "2023-06-23T15:53:06.844Z"
   },
   {
    "duration": 5,
    "start_time": "2023-06-23T15:53:06.876Z"
   },
   {
    "duration": 17,
    "start_time": "2023-06-23T15:53:06.882Z"
   },
   {
    "duration": 14,
    "start_time": "2023-06-23T15:53:06.901Z"
   },
   {
    "duration": 132,
    "start_time": "2023-06-23T15:53:06.922Z"
   },
   {
    "duration": 0,
    "start_time": "2023-06-23T15:53:07.056Z"
   },
   {
    "duration": 10,
    "start_time": "2023-06-23T15:53:38.568Z"
   },
   {
    "duration": 1111,
    "start_time": "2023-06-23T15:53:41.416Z"
   },
   {
    "duration": 13,
    "start_time": "2023-06-23T15:55:27.844Z"
   },
   {
    "duration": 16,
    "start_time": "2023-06-23T15:57:14.927Z"
   },
   {
    "duration": 537,
    "start_time": "2023-06-23T15:58:08.131Z"
   },
   {
    "duration": 247,
    "start_time": "2023-06-23T15:59:14.244Z"
   },
   {
    "duration": 17,
    "start_time": "2023-06-23T16:00:07.367Z"
   },
   {
    "duration": 955,
    "start_time": "2023-06-23T16:02:17.133Z"
   },
   {
    "duration": 173,
    "start_time": "2023-06-23T16:05:01.938Z"
   },
   {
    "duration": 143,
    "start_time": "2023-06-23T16:08:33.628Z"
   },
   {
    "duration": 228,
    "start_time": "2023-06-23T16:09:42.556Z"
   },
   {
    "duration": 106,
    "start_time": "2023-06-23T16:10:01.050Z"
   },
   {
    "duration": 120,
    "start_time": "2023-06-23T16:11:06.932Z"
   },
   {
    "duration": 481,
    "start_time": "2023-06-23T16:24:58.761Z"
   },
   {
    "duration": 239,
    "start_time": "2023-06-23T16:25:24.526Z"
   },
   {
    "duration": 294,
    "start_time": "2023-06-23T16:26:33.497Z"
   },
   {
    "duration": 241,
    "start_time": "2023-06-23T16:35:46.218Z"
   },
   {
    "duration": 288,
    "start_time": "2023-06-23T16:36:28.375Z"
   },
   {
    "duration": 276,
    "start_time": "2023-06-23T16:43:08.753Z"
   },
   {
    "duration": 248,
    "start_time": "2023-06-23T16:53:12.570Z"
   },
   {
    "duration": 489,
    "start_time": "2023-06-23T17:18:01.429Z"
   },
   {
    "duration": 177,
    "start_time": "2023-06-23T17:18:01.921Z"
   },
   {
    "duration": 31,
    "start_time": "2023-06-23T17:18:02.099Z"
   },
   {
    "duration": 60,
    "start_time": "2023-06-23T17:18:02.132Z"
   },
   {
    "duration": 111,
    "start_time": "2023-06-23T17:18:02.194Z"
   },
   {
    "duration": 65,
    "start_time": "2023-06-23T17:18:02.307Z"
   },
   {
    "duration": 88,
    "start_time": "2023-06-23T17:18:02.374Z"
   },
   {
    "duration": 27,
    "start_time": "2023-06-23T17:18:02.464Z"
   },
   {
    "duration": 16,
    "start_time": "2023-06-23T17:18:02.493Z"
   },
   {
    "duration": 68,
    "start_time": "2023-06-23T17:18:02.510Z"
   },
   {
    "duration": 19,
    "start_time": "2023-06-23T17:18:02.580Z"
   },
   {
    "duration": 74,
    "start_time": "2023-06-23T17:18:02.600Z"
   },
   {
    "duration": 20,
    "start_time": "2023-06-23T17:18:02.675Z"
   },
   {
    "duration": 631,
    "start_time": "2023-06-23T17:18:02.699Z"
   },
   {
    "duration": 246,
    "start_time": "2023-06-23T17:18:03.337Z"
   },
   {
    "duration": 302,
    "start_time": "2023-06-23T17:18:03.584Z"
   },
   {
    "duration": 260,
    "start_time": "2023-06-23T17:23:41.988Z"
   },
   {
    "duration": 229,
    "start_time": "2023-06-23T17:25:48.438Z"
   },
   {
    "duration": 25191,
    "start_time": "2023-06-23T17:55:49.883Z"
   },
   {
    "duration": 492,
    "start_time": "2023-06-23T18:11:52.535Z"
   },
   {
    "duration": 411,
    "start_time": "2023-06-23T18:15:53.260Z"
   },
   {
    "duration": 493,
    "start_time": "2023-06-23T18:16:04.498Z"
   },
   {
    "duration": 146,
    "start_time": "2023-06-23T18:16:04.993Z"
   },
   {
    "duration": 44,
    "start_time": "2023-06-23T18:16:05.147Z"
   },
   {
    "duration": 48,
    "start_time": "2023-06-23T18:16:05.193Z"
   },
   {
    "duration": 46,
    "start_time": "2023-06-23T18:16:05.244Z"
   },
   {
    "duration": 77,
    "start_time": "2023-06-23T18:16:05.292Z"
   },
   {
    "duration": 54,
    "start_time": "2023-06-23T18:16:05.373Z"
   },
   {
    "duration": 89,
    "start_time": "2023-06-23T18:16:05.439Z"
   },
   {
    "duration": 72,
    "start_time": "2023-06-23T18:16:05.545Z"
   },
   {
    "duration": 70,
    "start_time": "2023-06-23T18:16:05.619Z"
   },
   {
    "duration": 10,
    "start_time": "2023-06-23T18:16:05.691Z"
   },
   {
    "duration": 57,
    "start_time": "2023-06-23T18:16:05.721Z"
   },
   {
    "duration": 16,
    "start_time": "2023-06-23T18:16:05.781Z"
   },
   {
    "duration": 623,
    "start_time": "2023-06-23T18:16:05.800Z"
   },
   {
    "duration": 445,
    "start_time": "2023-06-23T18:16:06.425Z"
   },
   {
    "duration": 273,
    "start_time": "2023-06-23T18:16:06.874Z"
   },
   {
    "duration": 376,
    "start_time": "2023-06-23T18:16:07.149Z"
   },
   {
    "duration": 106,
    "start_time": "2023-06-23T18:36:10.599Z"
   },
   {
    "duration": 135,
    "start_time": "2023-06-23T18:52:25.354Z"
   },
   {
    "duration": 215,
    "start_time": "2023-06-23T18:57:13.034Z"
   },
   {
    "duration": 2506,
    "start_time": "2023-06-23T19:09:42.115Z"
   },
   {
    "duration": 379,
    "start_time": "2023-06-23T19:10:27.094Z"
   },
   {
    "duration": 450,
    "start_time": "2023-06-23T19:10:56.683Z"
   },
   {
    "duration": 296,
    "start_time": "2023-06-23T19:12:00.300Z"
   },
   {
    "duration": 743,
    "start_time": "2023-06-23T19:46:24.514Z"
   },
   {
    "duration": 52,
    "start_time": "2023-06-24T15:02:53.910Z"
   },
   {
    "duration": 400,
    "start_time": "2023-06-24T15:03:15.236Z"
   },
   {
    "duration": 186,
    "start_time": "2023-06-24T15:03:15.640Z"
   },
   {
    "duration": 17,
    "start_time": "2023-06-24T15:03:15.828Z"
   },
   {
    "duration": 20,
    "start_time": "2023-06-24T15:03:15.848Z"
   },
   {
    "duration": 29,
    "start_time": "2023-06-24T15:03:15.871Z"
   },
   {
    "duration": 22,
    "start_time": "2023-06-24T15:03:15.902Z"
   },
   {
    "duration": 12,
    "start_time": "2023-06-24T15:03:15.926Z"
   },
   {
    "duration": 17,
    "start_time": "2023-06-24T15:03:15.939Z"
   },
   {
    "duration": 24,
    "start_time": "2023-06-24T15:03:15.958Z"
   },
   {
    "duration": 4,
    "start_time": "2023-06-24T15:03:15.984Z"
   },
   {
    "duration": 11,
    "start_time": "2023-06-24T15:03:15.990Z"
   },
   {
    "duration": 6,
    "start_time": "2023-06-24T15:03:16.002Z"
   },
   {
    "duration": 17,
    "start_time": "2023-06-24T15:03:16.010Z"
   },
   {
    "duration": 602,
    "start_time": "2023-06-24T15:03:16.030Z"
   },
   {
    "duration": 300,
    "start_time": "2023-06-24T15:03:16.634Z"
   },
   {
    "duration": 219,
    "start_time": "2023-06-24T15:03:16.936Z"
   },
   {
    "duration": 294,
    "start_time": "2023-06-24T15:03:17.157Z"
   },
   {
    "duration": 35,
    "start_time": "2023-06-24T15:03:17.453Z"
   },
   {
    "duration": 38,
    "start_time": "2023-06-24T15:03:17.489Z"
   },
   {
    "duration": 178,
    "start_time": "2023-06-24T15:03:17.529Z"
   },
   {
    "duration": 198,
    "start_time": "2023-06-24T15:03:17.710Z"
   },
   {
    "duration": 206,
    "start_time": "2023-06-24T15:03:17.910Z"
   },
   {
    "duration": 200,
    "start_time": "2023-06-24T15:26:22.517Z"
   },
   {
    "duration": 202,
    "start_time": "2023-06-24T15:43:05.335Z"
   },
   {
    "duration": 88,
    "start_time": "2023-06-24T16:40:07.924Z"
   },
   {
    "duration": 19,
    "start_time": "2023-06-24T16:40:40.002Z"
   },
   {
    "duration": 19,
    "start_time": "2023-06-24T16:41:22.941Z"
   },
   {
    "duration": 19,
    "start_time": "2023-06-24T16:46:19.260Z"
   },
   {
    "duration": 23,
    "start_time": "2023-06-24T17:01:05.435Z"
   },
   {
    "duration": 38,
    "start_time": "2023-06-24T17:14:02.203Z"
   },
   {
    "duration": 2,
    "start_time": "2023-06-24T17:14:46.849Z"
   },
   {
    "duration": 311,
    "start_time": "2023-06-24T17:15:41.339Z"
   },
   {
    "duration": 243,
    "start_time": "2023-06-24T17:31:39.207Z"
   },
   {
    "duration": 209,
    "start_time": "2023-06-24T17:34:33.157Z"
   },
   {
    "duration": 504,
    "start_time": "2023-06-24T18:14:24.648Z"
   },
   {
    "duration": 6,
    "start_time": "2023-06-24T18:34:02.633Z"
   },
   {
    "duration": 6,
    "start_time": "2023-06-24T18:35:36.648Z"
   },
   {
    "duration": 6,
    "start_time": "2023-06-24T19:08:07.334Z"
   },
   {
    "duration": 6,
    "start_time": "2023-06-24T19:18:33.358Z"
   },
   {
    "duration": 6,
    "start_time": "2023-06-24T19:19:38.813Z"
   },
   {
    "duration": 5,
    "start_time": "2023-06-24T19:21:09.687Z"
   },
   {
    "duration": 6,
    "start_time": "2023-06-24T19:21:45.998Z"
   },
   {
    "duration": 789,
    "start_time": "2023-06-24T19:22:11.127Z"
   },
   {
    "duration": 63,
    "start_time": "2023-06-24T19:22:11.918Z"
   },
   {
    "duration": 16,
    "start_time": "2023-06-24T19:22:11.983Z"
   },
   {
    "duration": 15,
    "start_time": "2023-06-24T19:22:12.001Z"
   },
   {
    "duration": 20,
    "start_time": "2023-06-24T19:22:12.017Z"
   },
   {
    "duration": 26,
    "start_time": "2023-06-24T19:22:12.038Z"
   },
   {
    "duration": 17,
    "start_time": "2023-06-24T19:22:12.066Z"
   },
   {
    "duration": 16,
    "start_time": "2023-06-24T19:22:12.085Z"
   },
   {
    "duration": 12,
    "start_time": "2023-06-24T19:22:12.103Z"
   },
   {
    "duration": 5,
    "start_time": "2023-06-24T19:22:12.119Z"
   },
   {
    "duration": 9,
    "start_time": "2023-06-24T19:22:12.126Z"
   },
   {
    "duration": 41,
    "start_time": "2023-06-24T19:22:12.137Z"
   },
   {
    "duration": 10,
    "start_time": "2023-06-24T19:22:12.179Z"
   },
   {
    "duration": 348,
    "start_time": "2023-06-24T19:22:12.191Z"
   },
   {
    "duration": 298,
    "start_time": "2023-06-24T19:22:12.541Z"
   },
   {
    "duration": 219,
    "start_time": "2023-06-24T19:22:12.841Z"
   },
   {
    "duration": 223,
    "start_time": "2023-06-24T19:22:13.061Z"
   },
   {
    "duration": 30,
    "start_time": "2023-06-24T19:22:13.286Z"
   },
   {
    "duration": 34,
    "start_time": "2023-06-24T19:22:13.318Z"
   },
   {
    "duration": 222,
    "start_time": "2023-06-24T19:22:13.375Z"
   },
   {
    "duration": 201,
    "start_time": "2023-06-24T19:22:13.599Z"
   },
   {
    "duration": 223,
    "start_time": "2023-06-24T19:22:13.802Z"
   },
   {
    "duration": 204,
    "start_time": "2023-06-24T19:22:14.027Z"
   },
   {
    "duration": 21,
    "start_time": "2023-06-24T19:22:14.233Z"
   },
   {
    "duration": 45,
    "start_time": "2023-06-24T19:22:14.257Z"
   },
   {
    "duration": 225,
    "start_time": "2023-06-24T19:22:14.304Z"
   },
   {
    "duration": 209,
    "start_time": "2023-06-24T19:22:14.531Z"
   },
   {
    "duration": 220,
    "start_time": "2023-06-24T19:22:14.743Z"
   },
   {
    "duration": 13,
    "start_time": "2023-06-24T19:22:14.964Z"
   },
   {
    "duration": 183,
    "start_time": "2023-06-24T19:22:14.979Z"
   },
   {
    "duration": 20,
    "start_time": "2023-06-24T19:22:15.164Z"
   },
   {
    "duration": 6,
    "start_time": "2023-06-24T19:33:21.143Z"
   },
   {
    "duration": 5,
    "start_time": "2023-06-24T19:36:21.028Z"
   },
   {
    "duration": 5,
    "start_time": "2023-06-24T19:37:45.363Z"
   },
   {
    "duration": 87,
    "start_time": "2023-06-24T19:39:22.476Z"
   },
   {
    "duration": 5,
    "start_time": "2023-06-24T19:39:51.143Z"
   },
   {
    "duration": 6,
    "start_time": "2023-06-24T19:41:03.897Z"
   },
   {
    "duration": 105,
    "start_time": "2023-06-24T20:11:01.230Z"
   },
   {
    "duration": 10,
    "start_time": "2023-06-24T20:11:25.435Z"
   },
   {
    "duration": 12,
    "start_time": "2023-06-24T20:15:33.847Z"
   },
   {
    "duration": 4,
    "start_time": "2023-06-24T21:17:55.093Z"
   },
   {
    "duration": 5,
    "start_time": "2023-06-24T21:21:05.940Z"
   },
   {
    "duration": 5,
    "start_time": "2023-06-24T21:21:19.259Z"
   },
   {
    "duration": 5,
    "start_time": "2023-06-24T21:21:40.279Z"
   },
   {
    "duration": 4,
    "start_time": "2023-06-24T21:21:53.757Z"
   },
   {
    "duration": 4,
    "start_time": "2023-06-24T21:21:56.390Z"
   },
   {
    "duration": 4,
    "start_time": "2023-06-24T21:22:04.339Z"
   },
   {
    "duration": 4,
    "start_time": "2023-06-24T21:22:24.539Z"
   },
   {
    "duration": 196,
    "start_time": "2023-06-24T21:38:18.092Z"
   },
   {
    "duration": 88,
    "start_time": "2023-06-24T21:44:47.749Z"
   },
   {
    "duration": 3,
    "start_time": "2023-06-24T21:52:04.102Z"
   },
   {
    "duration": 26,
    "start_time": "2023-06-24T21:54:52.840Z"
   },
   {
    "duration": 97,
    "start_time": "2023-06-24T22:11:59.041Z"
   },
   {
    "duration": 107,
    "start_time": "2023-06-24T22:36:20.635Z"
   },
   {
    "duration": 100,
    "start_time": "2023-06-24T22:36:50.182Z"
   },
   {
    "duration": 116,
    "start_time": "2023-06-24T22:37:31.328Z"
   },
   {
    "duration": 118,
    "start_time": "2023-06-24T22:37:51.981Z"
   },
   {
    "duration": 102,
    "start_time": "2023-06-24T22:38:50.665Z"
   },
   {
    "duration": 106,
    "start_time": "2023-06-24T22:39:23.673Z"
   },
   {
    "duration": 101,
    "start_time": "2023-06-24T22:41:19.913Z"
   },
   {
    "duration": 126,
    "start_time": "2023-06-24T22:41:38.407Z"
   },
   {
    "duration": 99,
    "start_time": "2023-06-24T22:47:01.714Z"
   },
   {
    "duration": 102,
    "start_time": "2023-06-24T22:49:10.627Z"
   },
   {
    "duration": 11,
    "start_time": "2023-06-24T22:51:02.246Z"
   },
   {
    "duration": 11,
    "start_time": "2023-06-24T22:51:14.041Z"
   },
   {
    "duration": 122,
    "start_time": "2023-06-24T22:52:20.749Z"
   },
   {
    "duration": 180,
    "start_time": "2023-06-24T22:57:59.041Z"
   },
   {
    "duration": 130,
    "start_time": "2023-06-24T22:58:43.153Z"
   },
   {
    "duration": 14381,
    "start_time": "2023-06-24T23:17:48.533Z"
   },
   {
    "duration": 106,
    "start_time": "2023-06-24T23:19:20.996Z"
   },
   {
    "duration": 1116,
    "start_time": "2023-06-24T23:19:30.734Z"
   },
   {
    "duration": 1070,
    "start_time": "2023-06-24T23:22:41.247Z"
   },
   {
    "duration": 6,
    "start_time": "2023-06-24T23:23:55.624Z"
   },
   {
    "duration": 6,
    "start_time": "2023-06-24T23:25:54.108Z"
   },
   {
    "duration": 116,
    "start_time": "2023-06-24T23:34:21.047Z"
   },
   {
    "duration": 128,
    "start_time": "2023-06-24T23:34:30.947Z"
   },
   {
    "duration": 10,
    "start_time": "2023-06-24T23:36:33.264Z"
   },
   {
    "duration": 129,
    "start_time": "2023-06-24T23:36:45.947Z"
   },
   {
    "duration": 125,
    "start_time": "2023-06-24T23:48:51.013Z"
   },
   {
    "duration": 8,
    "start_time": "2023-06-24T23:49:10.445Z"
   },
   {
    "duration": 105,
    "start_time": "2023-06-24T23:49:25.690Z"
   },
   {
    "duration": 11,
    "start_time": "2023-06-24T23:50:06.369Z"
   },
   {
    "duration": 8,
    "start_time": "2023-06-24T23:52:16.594Z"
   },
   {
    "duration": 8,
    "start_time": "2023-06-24T23:52:48.536Z"
   },
   {
    "duration": 9,
    "start_time": "2023-06-24T23:52:53.775Z"
   },
   {
    "duration": 104,
    "start_time": "2023-06-24T23:53:16.932Z"
   },
   {
    "duration": 142,
    "start_time": "2023-06-24T23:54:43.137Z"
   },
   {
    "duration": 130,
    "start_time": "2023-06-24T23:55:14.382Z"
   },
   {
    "duration": 133,
    "start_time": "2023-06-24T23:55:43.901Z"
   },
   {
    "duration": 204,
    "start_time": "2023-06-24T23:56:32.159Z"
   },
   {
    "duration": 137,
    "start_time": "2023-06-24T23:56:57.868Z"
   },
   {
    "duration": 145,
    "start_time": "2023-06-24T23:57:36.777Z"
   },
   {
    "duration": 1031,
    "start_time": "2023-06-25T00:05:38.027Z"
   },
   {
    "duration": 124,
    "start_time": "2023-06-25T00:05:39.060Z"
   },
   {
    "duration": 14,
    "start_time": "2023-06-25T00:05:39.186Z"
   },
   {
    "duration": 24,
    "start_time": "2023-06-25T00:05:39.203Z"
   },
   {
    "duration": 26,
    "start_time": "2023-06-25T00:05:39.228Z"
   },
   {
    "duration": 19,
    "start_time": "2023-06-25T00:05:39.256Z"
   },
   {
    "duration": 18,
    "start_time": "2023-06-25T00:05:39.277Z"
   },
   {
    "duration": 30,
    "start_time": "2023-06-25T00:05:39.297Z"
   },
   {
    "duration": 12,
    "start_time": "2023-06-25T00:05:39.329Z"
   },
   {
    "duration": 5,
    "start_time": "2023-06-25T00:05:39.345Z"
   },
   {
    "duration": 17,
    "start_time": "2023-06-25T00:05:39.351Z"
   },
   {
    "duration": 22,
    "start_time": "2023-06-25T00:05:39.370Z"
   },
   {
    "duration": 20,
    "start_time": "2023-06-25T00:05:39.394Z"
   },
   {
    "duration": 81,
    "start_time": "2023-06-25T00:05:39.416Z"
   },
   {
    "duration": 299,
    "start_time": "2023-06-25T00:05:39.499Z"
   },
   {
    "duration": 201,
    "start_time": "2023-06-25T00:05:39.800Z"
   },
   {
    "duration": 203,
    "start_time": "2023-06-25T00:05:40.003Z"
   },
   {
    "duration": 28,
    "start_time": "2023-06-25T00:05:40.208Z"
   },
   {
    "duration": 48,
    "start_time": "2023-06-25T00:05:40.238Z"
   },
   {
    "duration": 163,
    "start_time": "2023-06-25T00:05:40.288Z"
   },
   {
    "duration": 172,
    "start_time": "2023-06-25T00:05:40.452Z"
   },
   {
    "duration": 175,
    "start_time": "2023-06-25T00:05:40.626Z"
   },
   {
    "duration": 185,
    "start_time": "2023-06-25T00:05:40.803Z"
   },
   {
    "duration": 19,
    "start_time": "2023-06-25T00:05:40.989Z"
   },
   {
    "duration": 20,
    "start_time": "2023-06-25T00:05:41.010Z"
   },
   {
    "duration": 230,
    "start_time": "2023-06-25T00:05:41.032Z"
   },
   {
    "duration": 197,
    "start_time": "2023-06-25T00:05:41.264Z"
   },
   {
    "duration": 276,
    "start_time": "2023-06-25T00:05:41.464Z"
   },
   {
    "duration": 5,
    "start_time": "2023-06-25T00:05:41.742Z"
   },
   {
    "duration": 19,
    "start_time": "2023-06-25T00:05:41.749Z"
   },
   {
    "duration": 23,
    "start_time": "2023-06-25T00:05:41.769Z"
   },
   {
    "duration": 27,
    "start_time": "2023-06-25T00:05:41.794Z"
   },
   {
    "duration": 119,
    "start_time": "2023-06-25T00:05:41.822Z"
   },
   {
    "duration": 146,
    "start_time": "2023-06-25T00:05:41.943Z"
   },
   {
    "duration": 7,
    "start_time": "2023-06-25T00:05:42.091Z"
   },
   {
    "duration": 145,
    "start_time": "2023-06-25T00:05:42.100Z"
   },
   {
    "duration": 1237,
    "start_time": "2023-06-25T10:06:26.533Z"
   },
   {
    "duration": 265,
    "start_time": "2023-06-25T10:06:42.667Z"
   },
   {
    "duration": 14,
    "start_time": "2023-06-25T10:06:46.939Z"
   },
   {
    "duration": 16,
    "start_time": "2023-06-25T10:06:57.207Z"
   },
   {
    "duration": 19,
    "start_time": "2023-06-25T10:07:06.884Z"
   },
   {
    "duration": 17,
    "start_time": "2023-06-25T10:10:34.468Z"
   },
   {
    "duration": 15,
    "start_time": "2023-06-25T10:13:42.371Z"
   },
   {
    "duration": 8,
    "start_time": "2023-06-25T10:13:48.107Z"
   },
   {
    "duration": 12,
    "start_time": "2023-06-25T10:13:53.612Z"
   },
   {
    "duration": 12,
    "start_time": "2023-06-25T10:14:03.445Z"
   },
   {
    "duration": 6,
    "start_time": "2023-06-25T10:14:12.267Z"
   },
   {
    "duration": 10,
    "start_time": "2023-06-25T10:14:19.268Z"
   },
   {
    "duration": 8,
    "start_time": "2023-06-25T10:14:43.189Z"
   },
   {
    "duration": 89,
    "start_time": "2023-06-25T10:52:02.280Z"
   },
   {
    "duration": 132,
    "start_time": "2023-06-25T10:52:18.736Z"
   },
   {
    "duration": 200,
    "start_time": "2023-06-25T10:52:37.830Z"
   },
   {
    "duration": 144,
    "start_time": "2023-06-25T11:02:53.597Z"
   },
   {
    "duration": 115,
    "start_time": "2023-06-25T11:05:15.275Z"
   },
   {
    "duration": 110,
    "start_time": "2023-06-25T11:05:22.610Z"
   },
   {
    "duration": 109,
    "start_time": "2023-06-25T11:05:42.629Z"
   },
   {
    "duration": 109,
    "start_time": "2023-06-25T11:11:27.717Z"
   },
   {
    "duration": 196,
    "start_time": "2023-06-25T11:12:29.988Z"
   },
   {
    "duration": 113,
    "start_time": "2023-06-25T11:13:21.471Z"
   },
   {
    "duration": 1038,
    "start_time": "2023-06-25T11:14:22.737Z"
   },
   {
    "duration": 134,
    "start_time": "2023-06-25T11:14:23.777Z"
   },
   {
    "duration": 15,
    "start_time": "2023-06-25T11:14:23.913Z"
   },
   {
    "duration": 29,
    "start_time": "2023-06-25T11:14:23.930Z"
   },
   {
    "duration": 37,
    "start_time": "2023-06-25T11:14:23.961Z"
   },
   {
    "duration": 25,
    "start_time": "2023-06-25T11:14:24.000Z"
   },
   {
    "duration": 18,
    "start_time": "2023-06-25T11:14:24.027Z"
   },
   {
    "duration": 6,
    "start_time": "2023-06-25T11:14:24.047Z"
   },
   {
    "duration": 36,
    "start_time": "2023-06-25T11:14:24.055Z"
   },
   {
    "duration": 10,
    "start_time": "2023-06-25T11:14:24.094Z"
   },
   {
    "duration": 5,
    "start_time": "2023-06-25T11:14:24.106Z"
   },
   {
    "duration": 17,
    "start_time": "2023-06-25T11:14:24.113Z"
   },
   {
    "duration": 9,
    "start_time": "2023-06-25T11:14:24.132Z"
   },
   {
    "duration": 228,
    "start_time": "2023-06-25T11:14:24.143Z"
   },
   {
    "duration": 129,
    "start_time": "2023-06-25T11:14:24.373Z"
   },
   {
    "duration": 10,
    "start_time": "2023-06-25T11:14:55.935Z"
   },
   {
    "duration": 184,
    "start_time": "2023-06-25T11:21:24.101Z"
   },
   {
    "duration": 80,
    "start_time": "2023-06-25T11:22:23.430Z"
   },
   {
    "duration": 81,
    "start_time": "2023-06-25T11:23:12.908Z"
   },
   {
    "duration": 322,
    "start_time": "2023-06-25T11:28:25.726Z"
   },
   {
    "duration": 221,
    "start_time": "2023-06-25T11:34:32.289Z"
   },
   {
    "duration": 217,
    "start_time": "2023-06-25T11:35:39.811Z"
   },
   {
    "duration": 223,
    "start_time": "2023-06-25T11:46:04.907Z"
   },
   {
    "duration": 407,
    "start_time": "2023-06-25T11:55:36.322Z"
   },
   {
    "duration": 238,
    "start_time": "2023-06-25T11:55:53.668Z"
   },
   {
    "duration": 205,
    "start_time": "2023-06-25T12:16:26.193Z"
   },
   {
    "duration": 112,
    "start_time": "2023-06-25T12:21:10.472Z"
   },
   {
    "duration": 95,
    "start_time": "2023-06-25T12:27:25.720Z"
   },
   {
    "duration": 82,
    "start_time": "2023-06-25T12:28:15.455Z"
   },
   {
    "duration": 281,
    "start_time": "2023-06-25T12:28:37.252Z"
   },
   {
    "duration": 142,
    "start_time": "2023-06-25T12:29:43.942Z"
   },
   {
    "duration": 344,
    "start_time": "2023-06-25T12:31:56.712Z"
   },
   {
    "duration": 346,
    "start_time": "2023-06-25T12:32:16.397Z"
   },
   {
    "duration": 1304,
    "start_time": "2023-06-25T12:36:47.197Z"
   },
   {
    "duration": 73,
    "start_time": "2023-06-25T12:36:48.503Z"
   },
   {
    "duration": 21,
    "start_time": "2023-06-25T12:36:48.578Z"
   },
   {
    "duration": 14,
    "start_time": "2023-06-25T12:36:48.602Z"
   },
   {
    "duration": 38,
    "start_time": "2023-06-25T12:36:48.618Z"
   },
   {
    "duration": 44,
    "start_time": "2023-06-25T12:36:48.659Z"
   },
   {
    "duration": 35,
    "start_time": "2023-06-25T12:36:48.706Z"
   },
   {
    "duration": 17,
    "start_time": "2023-06-25T12:36:48.744Z"
   },
   {
    "duration": 91,
    "start_time": "2023-06-25T12:36:48.764Z"
   },
   {
    "duration": 38,
    "start_time": "2023-06-25T12:36:48.858Z"
   },
   {
    "duration": 6,
    "start_time": "2023-06-25T12:36:48.898Z"
   },
   {
    "duration": 14,
    "start_time": "2023-06-25T12:36:48.905Z"
   },
   {
    "duration": 9,
    "start_time": "2023-06-25T12:36:48.922Z"
   },
   {
    "duration": 262,
    "start_time": "2023-06-25T12:36:48.934Z"
   },
   {
    "duration": 139,
    "start_time": "2023-06-25T12:36:49.202Z"
   },
   {
    "duration": 10,
    "start_time": "2023-06-25T12:36:49.343Z"
   },
   {
    "duration": 109,
    "start_time": "2023-06-25T12:36:49.355Z"
   },
   {
    "duration": 378,
    "start_time": "2023-06-25T12:36:49.466Z"
   },
   {
    "duration": 393,
    "start_time": "2023-06-25T12:36:49.846Z"
   },
   {
    "duration": 331,
    "start_time": "2023-06-25T12:40:29.685Z"
   },
   {
    "duration": 40,
    "start_time": "2023-06-25T12:59:30.617Z"
   },
   {
    "duration": 48,
    "start_time": "2023-06-25T13:06:17.763Z"
   },
   {
    "duration": 512,
    "start_time": "2023-06-25T13:12:18.278Z"
   },
   {
    "duration": 338,
    "start_time": "2023-06-25T13:15:00.817Z"
   },
   {
    "duration": 64,
    "start_time": "2023-06-25T13:27:42.369Z"
   },
   {
    "duration": 77,
    "start_time": "2023-06-25T13:28:06.251Z"
   },
   {
    "duration": 404,
    "start_time": "2023-06-25T13:36:00.139Z"
   },
   {
    "duration": 554,
    "start_time": "2023-06-25T13:42:01.737Z"
   },
   {
    "duration": 420,
    "start_time": "2023-06-25T13:51:17.198Z"
   },
   {
    "duration": 617,
    "start_time": "2023-06-25T13:52:17.492Z"
   },
   {
    "duration": 1038,
    "start_time": "2023-06-25T13:52:47.078Z"
   },
   {
    "duration": 333,
    "start_time": "2023-06-25T13:57:57.187Z"
   },
   {
    "duration": 558,
    "start_time": "2023-06-25T14:00:36.460Z"
   },
   {
    "duration": 424,
    "start_time": "2023-06-25T14:01:56.896Z"
   },
   {
    "duration": 281,
    "start_time": "2023-06-25T14:03:02.620Z"
   },
   {
    "duration": 393,
    "start_time": "2023-06-25T14:03:49.742Z"
   },
   {
    "duration": 615,
    "start_time": "2023-06-25T14:04:10.444Z"
   },
   {
    "duration": 377,
    "start_time": "2023-06-25T14:04:25.547Z"
   },
   {
    "duration": 714,
    "start_time": "2023-06-25T14:05:32.023Z"
   },
   {
    "duration": 400,
    "start_time": "2023-06-25T14:05:41.511Z"
   },
   {
    "duration": 410,
    "start_time": "2023-06-25T14:05:49.646Z"
   },
   {
    "duration": 655,
    "start_time": "2023-06-25T14:05:56.700Z"
   },
   {
    "duration": 448,
    "start_time": "2023-06-25T14:06:53.101Z"
   },
   {
    "duration": 437,
    "start_time": "2023-06-25T14:07:55.406Z"
   },
   {
    "duration": 481,
    "start_time": "2023-06-25T14:08:11.897Z"
   },
   {
    "duration": 1281,
    "start_time": "2023-06-25T14:12:01.091Z"
   },
   {
    "duration": 83,
    "start_time": "2023-06-25T14:12:02.374Z"
   },
   {
    "duration": 15,
    "start_time": "2023-06-25T14:12:02.459Z"
   },
   {
    "duration": 39,
    "start_time": "2023-06-25T14:12:02.477Z"
   },
   {
    "duration": 51,
    "start_time": "2023-06-25T14:12:02.518Z"
   },
   {
    "duration": 20,
    "start_time": "2023-06-25T14:12:02.571Z"
   },
   {
    "duration": 33,
    "start_time": "2023-06-25T14:12:02.592Z"
   },
   {
    "duration": 35,
    "start_time": "2023-06-25T14:12:02.627Z"
   },
   {
    "duration": 25,
    "start_time": "2023-06-25T14:12:02.664Z"
   },
   {
    "duration": 11,
    "start_time": "2023-06-25T14:12:02.692Z"
   },
   {
    "duration": 15,
    "start_time": "2023-06-25T14:12:02.705Z"
   },
   {
    "duration": 24,
    "start_time": "2023-06-25T14:12:02.722Z"
   },
   {
    "duration": 9,
    "start_time": "2023-06-25T14:12:02.748Z"
   },
   {
    "duration": 236,
    "start_time": "2023-06-25T14:12:02.759Z"
   },
   {
    "duration": 142,
    "start_time": "2023-06-25T14:12:02.997Z"
   },
   {
    "duration": 9,
    "start_time": "2023-06-25T14:12:03.141Z"
   },
   {
    "duration": 111,
    "start_time": "2023-06-25T14:12:03.152Z"
   },
   {
    "duration": 353,
    "start_time": "2023-06-25T14:12:03.266Z"
   },
   {
    "duration": 408,
    "start_time": "2023-06-25T14:12:03.621Z"
   },
   {
    "duration": 359,
    "start_time": "2023-06-25T14:12:04.030Z"
   },
   {
    "duration": 36,
    "start_time": "2023-06-25T14:12:04.391Z"
   },
   {
    "duration": 33,
    "start_time": "2023-06-25T14:12:04.430Z"
   },
   {
    "duration": 412,
    "start_time": "2023-06-25T14:12:04.465Z"
   },
   {
    "duration": 339,
    "start_time": "2023-06-25T14:12:04.879Z"
   },
   {
    "duration": 420,
    "start_time": "2023-06-25T14:12:05.221Z"
   },
   {
    "duration": 352,
    "start_time": "2023-06-25T14:16:40.160Z"
   },
   {
    "duration": 392,
    "start_time": "2023-06-25T14:19:30.166Z"
   },
   {
    "duration": 361,
    "start_time": "2023-06-25T14:23:46.620Z"
   },
   {
    "duration": 562,
    "start_time": "2023-06-25T14:27:12.016Z"
   },
   {
    "duration": 609,
    "start_time": "2023-06-25T14:27:39.207Z"
   },
   {
    "duration": 521,
    "start_time": "2023-06-25T14:28:22.647Z"
   },
   {
    "duration": 570,
    "start_time": "2023-06-25T14:29:12.094Z"
   },
   {
    "duration": 524,
    "start_time": "2023-06-25T14:29:17.655Z"
   },
   {
    "duration": 118,
    "start_time": "2023-06-25T14:37:41.311Z"
   },
   {
    "duration": 23,
    "start_time": "2023-06-25T14:38:27.541Z"
   },
   {
    "duration": 16,
    "start_time": "2023-06-25T14:38:59.836Z"
   },
   {
    "duration": 22,
    "start_time": "2023-06-25T14:40:27.524Z"
   },
   {
    "duration": 25,
    "start_time": "2023-06-25T14:43:03.206Z"
   },
   {
    "duration": 406,
    "start_time": "2023-06-25T14:43:20.759Z"
   },
   {
    "duration": 543,
    "start_time": "2023-06-25T14:48:15.056Z"
   },
   {
    "duration": 385,
    "start_time": "2023-06-25T14:48:45.489Z"
   },
   {
    "duration": 405,
    "start_time": "2023-06-25T14:48:52.965Z"
   },
   {
    "duration": 366,
    "start_time": "2023-06-25T14:50:56.839Z"
   },
   {
    "duration": 12,
    "start_time": "2023-06-25T15:17:57.954Z"
   },
   {
    "duration": 10,
    "start_time": "2023-06-25T15:18:34.571Z"
   },
   {
    "duration": 32,
    "start_time": "2023-06-25T15:19:04.962Z"
   },
   {
    "duration": 24,
    "start_time": "2023-06-25T15:19:15.055Z"
   },
   {
    "duration": 256,
    "start_time": "2023-06-25T15:19:19.535Z"
   },
   {
    "duration": 1248,
    "start_time": "2023-06-25T15:25:09.162Z"
   },
   {
    "duration": 73,
    "start_time": "2023-06-25T15:25:10.412Z"
   },
   {
    "duration": 14,
    "start_time": "2023-06-25T15:25:10.486Z"
   },
   {
    "duration": 56,
    "start_time": "2023-06-25T15:25:10.502Z"
   },
   {
    "duration": 60,
    "start_time": "2023-06-25T15:25:10.560Z"
   },
   {
    "duration": 68,
    "start_time": "2023-06-25T15:25:10.622Z"
   },
   {
    "duration": 43,
    "start_time": "2023-06-25T15:25:10.693Z"
   },
   {
    "duration": 25,
    "start_time": "2023-06-25T15:25:10.739Z"
   },
   {
    "duration": 40,
    "start_time": "2023-06-25T15:25:10.766Z"
   },
   {
    "duration": 16,
    "start_time": "2023-06-25T15:25:10.811Z"
   },
   {
    "duration": 25,
    "start_time": "2023-06-25T15:25:10.830Z"
   },
   {
    "duration": 29,
    "start_time": "2023-06-25T15:25:10.858Z"
   },
   {
    "duration": 8,
    "start_time": "2023-06-25T15:25:10.888Z"
   },
   {
    "duration": 236,
    "start_time": "2023-06-25T15:25:10.898Z"
   },
   {
    "duration": 134,
    "start_time": "2023-06-25T15:25:11.136Z"
   },
   {
    "duration": 11,
    "start_time": "2023-06-25T15:25:11.271Z"
   },
   {
    "duration": 101,
    "start_time": "2023-06-25T15:25:11.284Z"
   },
   {
    "duration": 385,
    "start_time": "2023-06-25T15:25:11.388Z"
   },
   {
    "duration": 366,
    "start_time": "2023-06-25T15:25:11.776Z"
   },
   {
    "duration": 342,
    "start_time": "2023-06-25T15:25:12.144Z"
   },
   {
    "duration": 35,
    "start_time": "2023-06-25T15:25:12.488Z"
   },
   {
    "duration": 40,
    "start_time": "2023-06-25T15:25:12.525Z"
   },
   {
    "duration": 423,
    "start_time": "2023-06-25T15:25:12.567Z"
   },
   {
    "duration": 310,
    "start_time": "2023-06-25T15:25:12.992Z"
   },
   {
    "duration": 469,
    "start_time": "2023-06-25T15:25:13.304Z"
   },
   {
    "duration": 337,
    "start_time": "2023-06-25T15:25:13.775Z"
   },
   {
    "duration": 299,
    "start_time": "2023-06-25T15:25:14.114Z"
   },
   {
    "duration": 393,
    "start_time": "2023-06-25T15:25:14.418Z"
   },
   {
    "duration": 35,
    "start_time": "2023-06-25T15:36:03.617Z"
   },
   {
    "duration": 24,
    "start_time": "2023-06-25T15:38:10.765Z"
   },
   {
    "duration": 227,
    "start_time": "2023-06-25T15:41:04.087Z"
   },
   {
    "duration": 484,
    "start_time": "2023-06-25T15:44:34.718Z"
   },
   {
    "duration": 425,
    "start_time": "2023-06-25T15:49:15.129Z"
   },
   {
    "duration": 405,
    "start_time": "2023-06-25T15:59:16.104Z"
   },
   {
    "duration": 6,
    "start_time": "2023-06-25T16:09:51.963Z"
   },
   {
    "duration": 5,
    "start_time": "2023-06-25T16:29:16.233Z"
   },
   {
    "duration": 304,
    "start_time": "2023-06-25T18:05:06.628Z"
   },
   {
    "duration": 341,
    "start_time": "2023-06-25T18:05:31.326Z"
   },
   {
    "duration": 323,
    "start_time": "2023-06-25T18:06:32.917Z"
   },
   {
    "duration": 300,
    "start_time": "2023-06-25T18:08:29.139Z"
   },
   {
    "duration": 178,
    "start_time": "2023-06-25T18:08:55.636Z"
   },
   {
    "duration": 445,
    "start_time": "2023-06-25T18:09:42.553Z"
   },
   {
    "duration": 338,
    "start_time": "2023-06-25T18:11:22.350Z"
   },
   {
    "duration": 1227,
    "start_time": "2023-06-25T18:14:14.395Z"
   },
   {
    "duration": 72,
    "start_time": "2023-06-25T18:14:15.624Z"
   },
   {
    "duration": 18,
    "start_time": "2023-06-25T18:14:15.698Z"
   },
   {
    "duration": 20,
    "start_time": "2023-06-25T18:14:15.718Z"
   },
   {
    "duration": 23,
    "start_time": "2023-06-25T18:14:15.740Z"
   },
   {
    "duration": 17,
    "start_time": "2023-06-25T18:14:15.764Z"
   },
   {
    "duration": 39,
    "start_time": "2023-06-25T18:14:15.783Z"
   },
   {
    "duration": 8,
    "start_time": "2023-06-25T18:14:15.824Z"
   },
   {
    "duration": 14,
    "start_time": "2023-06-25T18:14:15.834Z"
   },
   {
    "duration": 11,
    "start_time": "2023-06-25T18:14:15.852Z"
   },
   {
    "duration": 50,
    "start_time": "2023-06-25T18:14:15.865Z"
   },
   {
    "duration": 10,
    "start_time": "2023-06-25T18:14:15.917Z"
   },
   {
    "duration": 7,
    "start_time": "2023-06-25T18:14:15.928Z"
   },
   {
    "duration": 228,
    "start_time": "2023-06-25T18:14:15.937Z"
   },
   {
    "duration": 156,
    "start_time": "2023-06-25T18:14:16.167Z"
   },
   {
    "duration": 10,
    "start_time": "2023-06-25T18:14:16.325Z"
   },
   {
    "duration": 96,
    "start_time": "2023-06-25T18:14:16.337Z"
   },
   {
    "duration": 349,
    "start_time": "2023-06-25T18:14:16.434Z"
   },
   {
    "duration": 355,
    "start_time": "2023-06-25T18:14:16.786Z"
   },
   {
    "duration": 338,
    "start_time": "2023-06-25T18:14:17.143Z"
   },
   {
    "duration": 41,
    "start_time": "2023-06-25T18:14:17.482Z"
   },
   {
    "duration": 32,
    "start_time": "2023-06-25T18:14:17.525Z"
   },
   {
    "duration": 436,
    "start_time": "2023-06-25T18:14:17.560Z"
   },
   {
    "duration": 298,
    "start_time": "2023-06-25T18:14:18.001Z"
   },
   {
    "duration": 425,
    "start_time": "2023-06-25T18:14:18.302Z"
   },
   {
    "duration": 314,
    "start_time": "2023-06-25T18:14:18.729Z"
   },
   {
    "duration": 340,
    "start_time": "2023-06-25T18:14:19.045Z"
   },
   {
    "duration": 403,
    "start_time": "2023-06-25T18:14:19.389Z"
   },
   {
    "duration": 41,
    "start_time": "2023-06-25T18:14:19.794Z"
   },
   {
    "duration": 28,
    "start_time": "2023-06-25T18:14:19.837Z"
   },
   {
    "duration": 271,
    "start_time": "2023-06-25T18:14:19.867Z"
   },
   {
    "duration": 492,
    "start_time": "2023-06-25T18:14:20.140Z"
   },
   {
    "duration": 378,
    "start_time": "2023-06-25T18:14:20.635Z"
   },
   {
    "duration": 381,
    "start_time": "2023-06-25T18:14:21.015Z"
   },
   {
    "duration": 12,
    "start_time": "2023-06-25T18:14:21.402Z"
   },
   {
    "duration": 17,
    "start_time": "2023-06-25T18:14:21.419Z"
   },
   {
    "duration": 10,
    "start_time": "2023-06-25T18:14:21.438Z"
   },
   {
    "duration": 17,
    "start_time": "2023-06-25T18:14:21.450Z"
   },
   {
    "duration": 117,
    "start_time": "2023-06-25T18:14:21.468Z"
   },
   {
    "duration": 198,
    "start_time": "2023-06-25T18:14:21.587Z"
   },
   {
    "duration": 18,
    "start_time": "2023-06-25T18:14:21.787Z"
   },
   {
    "duration": 214,
    "start_time": "2023-06-25T18:14:21.814Z"
   },
   {
    "duration": 1310,
    "start_time": "2023-06-26T15:29:59.576Z"
   },
   {
    "duration": 303,
    "start_time": "2023-06-26T15:30:00.888Z"
   },
   {
    "duration": 11,
    "start_time": "2023-06-26T15:30:01.193Z"
   },
   {
    "duration": 84,
    "start_time": "2023-06-26T15:30:01.206Z"
   },
   {
    "duration": 57,
    "start_time": "2023-06-26T15:30:01.292Z"
   },
   {
    "duration": 37,
    "start_time": "2023-06-26T15:30:01.351Z"
   },
   {
    "duration": 56,
    "start_time": "2023-06-26T15:30:01.389Z"
   },
   {
    "duration": 49,
    "start_time": "2023-06-26T15:30:01.446Z"
   },
   {
    "duration": 35,
    "start_time": "2023-06-26T15:30:01.497Z"
   },
   {
    "duration": 57,
    "start_time": "2023-06-26T15:30:01.534Z"
   },
   {
    "duration": 38,
    "start_time": "2023-06-26T15:30:01.593Z"
   },
   {
    "duration": 44,
    "start_time": "2023-06-26T15:30:01.633Z"
   },
   {
    "duration": 39,
    "start_time": "2023-06-26T15:30:01.678Z"
   },
   {
    "duration": 221,
    "start_time": "2023-06-26T15:30:01.718Z"
   },
   {
    "duration": 115,
    "start_time": "2023-06-26T15:31:17.731Z"
   },
   {
    "duration": 101,
    "start_time": "2023-06-26T15:31:31.320Z"
   },
   {
    "duration": 112,
    "start_time": "2023-06-26T15:31:52.901Z"
   },
   {
    "duration": 8,
    "start_time": "2023-06-26T15:31:58.621Z"
   },
   {
    "duration": 11,
    "start_time": "2023-06-26T15:32:46.862Z"
   },
   {
    "duration": 13,
    "start_time": "2023-06-26T15:42:14.935Z"
   },
   {
    "duration": 11,
    "start_time": "2023-06-26T15:42:53.961Z"
   },
   {
    "duration": 6,
    "start_time": "2023-06-26T15:43:14.765Z"
   },
   {
    "duration": 125,
    "start_time": "2023-06-26T15:51:34.506Z"
   },
   {
    "duration": 158,
    "start_time": "2023-06-26T16:20:08.922Z"
   },
   {
    "duration": 104,
    "start_time": "2023-06-26T16:24:28.360Z"
   },
   {
    "duration": 165,
    "start_time": "2023-06-26T16:24:41.496Z"
   },
   {
    "duration": 9,
    "start_time": "2023-06-26T16:40:47.030Z"
   },
   {
    "duration": 73,
    "start_time": "2023-06-26T16:47:24.329Z"
   },
   {
    "duration": 117,
    "start_time": "2023-06-26T16:47:50.756Z"
   },
   {
    "duration": 71,
    "start_time": "2023-06-26T16:48:08.865Z"
   },
   {
    "duration": 67,
    "start_time": "2023-06-26T17:05:47.721Z"
   },
   {
    "duration": 67,
    "start_time": "2023-06-26T17:06:03.696Z"
   },
   {
    "duration": 383,
    "start_time": "2023-06-26T17:10:12.421Z"
   },
   {
    "duration": 94,
    "start_time": "2023-06-26T17:10:43.456Z"
   },
   {
    "duration": 279,
    "start_time": "2023-06-26T17:11:52.503Z"
   },
   {
    "duration": 68,
    "start_time": "2023-06-26T17:12:27.058Z"
   },
   {
    "duration": 153,
    "start_time": "2023-06-26T17:12:51.172Z"
   },
   {
    "duration": 151,
    "start_time": "2023-06-26T17:13:25.587Z"
   },
   {
    "duration": 1071,
    "start_time": "2023-06-26T17:27:59.478Z"
   },
   {
    "duration": 67,
    "start_time": "2023-06-26T17:28:00.550Z"
   },
   {
    "duration": 10,
    "start_time": "2023-06-26T17:28:00.619Z"
   },
   {
    "duration": 39,
    "start_time": "2023-06-26T17:28:00.631Z"
   },
   {
    "duration": 41,
    "start_time": "2023-06-26T17:28:00.672Z"
   },
   {
    "duration": 36,
    "start_time": "2023-06-26T17:28:00.714Z"
   },
   {
    "duration": 40,
    "start_time": "2023-06-26T17:28:00.751Z"
   },
   {
    "duration": 24,
    "start_time": "2023-06-26T17:28:00.793Z"
   },
   {
    "duration": 37,
    "start_time": "2023-06-26T17:28:00.819Z"
   },
   {
    "duration": 24,
    "start_time": "2023-06-26T17:28:00.859Z"
   },
   {
    "duration": 25,
    "start_time": "2023-06-26T17:28:00.885Z"
   },
   {
    "duration": 45,
    "start_time": "2023-06-26T17:28:00.912Z"
   },
   {
    "duration": 49,
    "start_time": "2023-06-26T17:28:00.959Z"
   },
   {
    "duration": 196,
    "start_time": "2023-06-26T17:28:01.010Z"
   },
   {
    "duration": 155,
    "start_time": "2023-06-26T17:28:01.208Z"
   },
   {
    "duration": 9,
    "start_time": "2023-06-26T17:28:01.365Z"
   },
   {
    "duration": 98,
    "start_time": "2023-06-26T17:28:01.375Z"
   },
   {
    "duration": 265,
    "start_time": "2023-06-26T17:28:01.475Z"
   },
   {
    "duration": 276,
    "start_time": "2023-06-26T17:28:01.741Z"
   },
   {
    "duration": 273,
    "start_time": "2023-06-26T17:28:02.018Z"
   },
   {
    "duration": 28,
    "start_time": "2023-06-26T17:28:02.293Z"
   },
   {
    "duration": 27,
    "start_time": "2023-06-26T17:28:02.323Z"
   },
   {
    "duration": 344,
    "start_time": "2023-06-26T17:28:02.351Z"
   },
   {
    "duration": 234,
    "start_time": "2023-06-26T17:28:02.696Z"
   },
   {
    "duration": 314,
    "start_time": "2023-06-26T17:28:02.932Z"
   },
   {
    "duration": 237,
    "start_time": "2023-06-26T17:28:03.248Z"
   },
   {
    "duration": 230,
    "start_time": "2023-06-26T17:28:03.486Z"
   },
   {
    "duration": 300,
    "start_time": "2023-06-26T17:28:03.719Z"
   },
   {
    "duration": 23,
    "start_time": "2023-06-26T17:28:04.020Z"
   },
   {
    "duration": 18,
    "start_time": "2023-06-26T17:28:04.044Z"
   },
   {
    "duration": 220,
    "start_time": "2023-06-26T17:28:04.063Z"
   },
   {
    "duration": 238,
    "start_time": "2023-06-26T17:28:04.285Z"
   },
   {
    "duration": 321,
    "start_time": "2023-06-26T17:28:04.524Z"
   },
   {
    "duration": 304,
    "start_time": "2023-06-26T17:28:04.846Z"
   },
   {
    "duration": 6,
    "start_time": "2023-06-26T17:34:05.661Z"
   },
   {
    "duration": 6,
    "start_time": "2023-06-26T17:36:53.294Z"
   },
   {
    "duration": 6,
    "start_time": "2023-06-26T17:37:20.645Z"
   },
   {
    "duration": 6,
    "start_time": "2023-06-26T17:38:55.161Z"
   },
   {
    "duration": 120,
    "start_time": "2023-06-26T17:44:48.341Z"
   },
   {
    "duration": 16,
    "start_time": "2023-06-26T17:47:54.034Z"
   },
   {
    "duration": 15,
    "start_time": "2023-06-26T17:48:21.121Z"
   },
   {
    "duration": 94,
    "start_time": "2023-06-26T17:49:45.372Z"
   },
   {
    "duration": 15,
    "start_time": "2023-06-26T17:50:15.703Z"
   },
   {
    "duration": 157,
    "start_time": "2023-06-26T18:05:21.242Z"
   },
   {
    "duration": 72,
    "start_time": "2023-06-26T18:06:59.086Z"
   },
   {
    "duration": 72,
    "start_time": "2023-06-26T18:07:20.561Z"
   },
   {
    "duration": 1167,
    "start_time": "2023-06-26T18:07:59.502Z"
   },
   {
    "duration": 64,
    "start_time": "2023-06-26T18:08:00.671Z"
   },
   {
    "duration": 11,
    "start_time": "2023-06-26T18:08:00.736Z"
   },
   {
    "duration": 40,
    "start_time": "2023-06-26T18:08:00.749Z"
   },
   {
    "duration": 47,
    "start_time": "2023-06-26T18:08:00.791Z"
   },
   {
    "duration": 60,
    "start_time": "2023-06-26T18:08:00.840Z"
   },
   {
    "duration": 81,
    "start_time": "2023-06-26T18:08:00.902Z"
   },
   {
    "duration": 45,
    "start_time": "2023-06-26T18:08:00.984Z"
   },
   {
    "duration": 39,
    "start_time": "2023-06-26T18:08:01.031Z"
   },
   {
    "duration": 33,
    "start_time": "2023-06-26T18:08:01.072Z"
   },
   {
    "duration": 29,
    "start_time": "2023-06-26T18:08:01.106Z"
   },
   {
    "duration": 37,
    "start_time": "2023-06-26T18:08:01.136Z"
   },
   {
    "duration": 28,
    "start_time": "2023-06-26T18:08:01.175Z"
   },
   {
    "duration": 194,
    "start_time": "2023-06-26T18:08:01.205Z"
   },
   {
    "duration": 150,
    "start_time": "2023-06-26T18:08:01.401Z"
   },
   {
    "duration": 9,
    "start_time": "2023-06-26T18:08:01.553Z"
   },
   {
    "duration": 87,
    "start_time": "2023-06-26T18:08:01.563Z"
   },
   {
    "duration": 273,
    "start_time": "2023-06-26T18:08:01.651Z"
   },
   {
    "duration": 269,
    "start_time": "2023-06-26T18:08:01.925Z"
   },
   {
    "duration": 271,
    "start_time": "2023-06-26T18:08:02.195Z"
   },
   {
    "duration": 22,
    "start_time": "2023-06-26T18:08:02.467Z"
   },
   {
    "duration": 38,
    "start_time": "2023-06-26T18:08:02.490Z"
   },
   {
    "duration": 327,
    "start_time": "2023-06-26T18:08:02.529Z"
   },
   {
    "duration": 236,
    "start_time": "2023-06-26T18:08:02.857Z"
   },
   {
    "duration": 309,
    "start_time": "2023-06-26T18:08:03.094Z"
   },
   {
    "duration": 234,
    "start_time": "2023-06-26T18:08:03.406Z"
   },
   {
    "duration": 225,
    "start_time": "2023-06-26T18:08:03.642Z"
   },
   {
    "duration": 299,
    "start_time": "2023-06-26T18:08:03.869Z"
   },
   {
    "duration": 22,
    "start_time": "2023-06-26T18:08:04.170Z"
   },
   {
    "duration": 33,
    "start_time": "2023-06-26T18:08:04.193Z"
   },
   {
    "duration": 199,
    "start_time": "2023-06-26T18:08:04.227Z"
   },
   {
    "duration": 256,
    "start_time": "2023-06-26T18:08:04.428Z"
   },
   {
    "duration": 317,
    "start_time": "2023-06-26T18:08:04.685Z"
   },
   {
    "duration": 297,
    "start_time": "2023-06-26T18:08:05.004Z"
   },
   {
    "duration": 6,
    "start_time": "2023-06-26T18:08:05.303Z"
   },
   {
    "duration": 35,
    "start_time": "2023-06-26T18:08:05.311Z"
   },
   {
    "duration": 26,
    "start_time": "2023-06-26T18:08:05.348Z"
   },
   {
    "duration": 26,
    "start_time": "2023-06-26T18:08:05.376Z"
   },
   {
    "duration": 119,
    "start_time": "2023-06-26T18:08:05.403Z"
   },
   {
    "duration": 151,
    "start_time": "2023-06-26T18:08:05.524Z"
   },
   {
    "duration": 5,
    "start_time": "2023-06-26T18:08:05.679Z"
   },
   {
    "duration": 229,
    "start_time": "2023-06-26T18:08:05.685Z"
   }
  ],
  "kernelspec": {
   "display_name": "Python 3 (ipykernel)",
   "language": "python",
   "name": "python3"
  },
  "language_info": {
   "codemirror_mode": {
    "name": "ipython",
    "version": 3
   },
   "file_extension": ".py",
   "mimetype": "text/x-python",
   "name": "python",
   "nbconvert_exporter": "python",
   "pygments_lexer": "ipython3",
   "version": "3.10.9"
  },
  "toc": {
   "base_numbering": 1,
   "nav_menu": {},
   "number_sections": true,
   "sideBar": true,
   "skip_h1_title": true,
   "title_cell": "Table of Contents",
   "title_sidebar": "Contents",
   "toc_cell": false,
   "toc_position": {},
   "toc_section_display": true,
   "toc_window_display": false
  }
 },
 "nbformat": 4,
 "nbformat_minor": 5
}
