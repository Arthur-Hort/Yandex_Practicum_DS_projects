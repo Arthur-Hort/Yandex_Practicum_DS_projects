{
 "cells": [
  {
   "cell_type": "markdown",
   "metadata": {},
   "source": [
    "# Определение стоимости автомобилей"
   ]
  },
  {
   "cell_type": "markdown",
   "metadata": {},
   "source": [
    "Сервис по продаже автомобилей с пробегом «Не бит, не крашен» разрабатывает приложение для привлечения новых клиентов. В нём можно быстро узнать рыночную стоимость своего автомобиля. В вашем распоряжении исторические данные: технические характеристики, комплектации и цены автомобилей. Вам нужно построить модель для определения стоимости. \n",
    "\n",
    "Заказчику важны:\n",
    "\n",
    "- качество предсказания;\n",
    "- скорость предсказания;\n",
    "- время обучения."
   ]
  },
  {
   "cell_type": "markdown",
   "metadata": {},
   "source": [
    "**Наша задача:**\n",
    "1.\tЗагрузить и подготовить данные.\n",
    "2.\tОбучить разные модели. Для каждой попробуйте различные гиперпараметры.\n",
    "3.\tПроанализировать скорость работы и качество моделей.\n",
    "*Примечания:*\n",
    "-\tДля оценки качества моделей применяйте метрику RMSE.\n",
    "-\tИспользуйте библиотеку LightGBM и её средствами постройте модели градиентного бустинга.\n",
    "-\tПоскольку модель градиентного бустинга может обучаться долго, измените у неё только два-три параметра.\n",
    "\n",
    "**Наш план:**\n",
    "1.\tЗагрузим и подготовим данные.\n",
    "2.\tОбучим разные модели. Для каждой попробуем различные гиперпараметры.\n",
    "3.\tПроанализируем скорость работы и качество моделей."
   ]
  },
  {
   "cell_type": "markdown",
   "metadata": {},
   "source": [
    "**Описание данных:**\n",
    "Данные находятся в файле /datasets/autos.csv.\n",
    "\n",
    "**Признаки:**\n",
    "-\tDateCrawled — дата скачивания анкеты из базы\n",
    "-\tVehicleType — тип автомобильного кузова\n",
    "-\tRegistrationYear — год регистрации автомобиля\n",
    "-\tGearbox — тип коробки передач\n",
    "-\tPower — мощность (л. с.)\n",
    "-\tModel — модель автомобиля\n",
    "-\tKilometer — пробег (км)\n",
    "-\tRegistrationMonth — месяц регистрации автомобиля\n",
    "-\tFuelType — тип топлива\n",
    "-\tBrand — марка автомобиля\n",
    "-\tNotRepaired — была машина в ремонте или нет\n",
    "-\tDateCreated — дата создания анкеты\n",
    "-\tNumberOfPictures — количество фотографий автомобиля\n",
    "-\tPostalCode — почтовый индекс владельца анкеты (пользователя)\n",
    "-\tLastSeen — дата последней активности пользователя\n",
    "\n",
    "**Целевой признак:**\n",
    "-   Price — цена (евро)"
   ]
  },
  {
   "cell_type": "code",
   "execution_count": 1,
   "metadata": {},
   "outputs": [],
   "source": [
    "# ячейка для импорта библиотек\n",
    "import pandas as pd\n",
    "import numpy as np\n",
    "import seaborn as sns\n",
    "import matplotlib.pyplot as plt\n",
    "import lightgbm as lgb\n",
    "from sklearn.model_selection import train_test_split, GridSearchCV\n",
    "from sklearn.metrics import mean_squared_error\n",
    "from sklearn.linear_model import Ridge, RidgeCV\n",
    "from sklearn.tree import DecisionTreeRegressor\n",
    "from sklearn.ensemble import RandomForestRegressor\n",
    "from sklearn.dummy import DummyRegressor\n",
    "from sklearn.preprocessing import OrdinalEncoder, OneHotEncoder\n",
    "from time import time"
   ]
  },
  {
   "cell_type": "markdown",
   "metadata": {},
   "source": [
    "## Подготовка данных"
   ]
  },
  {
   "cell_type": "code",
   "execution_count": 2,
   "metadata": {
    "scrolled": true
   },
   "outputs": [
    {
     "data": {
      "text/html": [
       "<div>\n",
       "<style scoped>\n",
       "    .dataframe tbody tr th:only-of-type {\n",
       "        vertical-align: middle;\n",
       "    }\n",
       "\n",
       "    .dataframe tbody tr th {\n",
       "        vertical-align: top;\n",
       "    }\n",
       "\n",
       "    .dataframe thead th {\n",
       "        text-align: right;\n",
       "    }\n",
       "</style>\n",
       "<table border=\"1\" class=\"dataframe\">\n",
       "  <thead>\n",
       "    <tr style=\"text-align: right;\">\n",
       "      <th></th>\n",
       "      <th>DateCrawled</th>\n",
       "      <th>Price</th>\n",
       "      <th>VehicleType</th>\n",
       "      <th>RegistrationYear</th>\n",
       "      <th>Gearbox</th>\n",
       "      <th>Power</th>\n",
       "      <th>Model</th>\n",
       "      <th>Kilometer</th>\n",
       "      <th>RegistrationMonth</th>\n",
       "      <th>FuelType</th>\n",
       "      <th>Brand</th>\n",
       "      <th>Repaired</th>\n",
       "      <th>DateCreated</th>\n",
       "      <th>NumberOfPictures</th>\n",
       "      <th>PostalCode</th>\n",
       "      <th>LastSeen</th>\n",
       "    </tr>\n",
       "  </thead>\n",
       "  <tbody>\n",
       "    <tr>\n",
       "      <th>0</th>\n",
       "      <td>2016-03-24 11:52:17</td>\n",
       "      <td>480</td>\n",
       "      <td>NaN</td>\n",
       "      <td>1993</td>\n",
       "      <td>manual</td>\n",
       "      <td>0</td>\n",
       "      <td>golf</td>\n",
       "      <td>150000</td>\n",
       "      <td>0</td>\n",
       "      <td>petrol</td>\n",
       "      <td>volkswagen</td>\n",
       "      <td>NaN</td>\n",
       "      <td>2016-03-24 00:00:00</td>\n",
       "      <td>0</td>\n",
       "      <td>70435</td>\n",
       "      <td>2016-04-07 03:16:57</td>\n",
       "    </tr>\n",
       "    <tr>\n",
       "      <th>1</th>\n",
       "      <td>2016-03-24 10:58:45</td>\n",
       "      <td>18300</td>\n",
       "      <td>coupe</td>\n",
       "      <td>2011</td>\n",
       "      <td>manual</td>\n",
       "      <td>190</td>\n",
       "      <td>NaN</td>\n",
       "      <td>125000</td>\n",
       "      <td>5</td>\n",
       "      <td>gasoline</td>\n",
       "      <td>audi</td>\n",
       "      <td>yes</td>\n",
       "      <td>2016-03-24 00:00:00</td>\n",
       "      <td>0</td>\n",
       "      <td>66954</td>\n",
       "      <td>2016-04-07 01:46:50</td>\n",
       "    </tr>\n",
       "    <tr>\n",
       "      <th>2</th>\n",
       "      <td>2016-03-14 12:52:21</td>\n",
       "      <td>9800</td>\n",
       "      <td>suv</td>\n",
       "      <td>2004</td>\n",
       "      <td>auto</td>\n",
       "      <td>163</td>\n",
       "      <td>grand</td>\n",
       "      <td>125000</td>\n",
       "      <td>8</td>\n",
       "      <td>gasoline</td>\n",
       "      <td>jeep</td>\n",
       "      <td>NaN</td>\n",
       "      <td>2016-03-14 00:00:00</td>\n",
       "      <td>0</td>\n",
       "      <td>90480</td>\n",
       "      <td>2016-04-05 12:47:46</td>\n",
       "    </tr>\n",
       "    <tr>\n",
       "      <th>3</th>\n",
       "      <td>2016-03-17 16:54:04</td>\n",
       "      <td>1500</td>\n",
       "      <td>small</td>\n",
       "      <td>2001</td>\n",
       "      <td>manual</td>\n",
       "      <td>75</td>\n",
       "      <td>golf</td>\n",
       "      <td>150000</td>\n",
       "      <td>6</td>\n",
       "      <td>petrol</td>\n",
       "      <td>volkswagen</td>\n",
       "      <td>no</td>\n",
       "      <td>2016-03-17 00:00:00</td>\n",
       "      <td>0</td>\n",
       "      <td>91074</td>\n",
       "      <td>2016-03-17 17:40:17</td>\n",
       "    </tr>\n",
       "    <tr>\n",
       "      <th>4</th>\n",
       "      <td>2016-03-31 17:25:20</td>\n",
       "      <td>3600</td>\n",
       "      <td>small</td>\n",
       "      <td>2008</td>\n",
       "      <td>manual</td>\n",
       "      <td>69</td>\n",
       "      <td>fabia</td>\n",
       "      <td>90000</td>\n",
       "      <td>7</td>\n",
       "      <td>gasoline</td>\n",
       "      <td>skoda</td>\n",
       "      <td>no</td>\n",
       "      <td>2016-03-31 00:00:00</td>\n",
       "      <td>0</td>\n",
       "      <td>60437</td>\n",
       "      <td>2016-04-06 10:17:21</td>\n",
       "    </tr>\n",
       "    <tr>\n",
       "      <th>5</th>\n",
       "      <td>2016-04-04 17:36:23</td>\n",
       "      <td>650</td>\n",
       "      <td>sedan</td>\n",
       "      <td>1995</td>\n",
       "      <td>manual</td>\n",
       "      <td>102</td>\n",
       "      <td>3er</td>\n",
       "      <td>150000</td>\n",
       "      <td>10</td>\n",
       "      <td>petrol</td>\n",
       "      <td>bmw</td>\n",
       "      <td>yes</td>\n",
       "      <td>2016-04-04 00:00:00</td>\n",
       "      <td>0</td>\n",
       "      <td>33775</td>\n",
       "      <td>2016-04-06 19:17:07</td>\n",
       "    </tr>\n",
       "    <tr>\n",
       "      <th>6</th>\n",
       "      <td>2016-04-01 20:48:51</td>\n",
       "      <td>2200</td>\n",
       "      <td>convertible</td>\n",
       "      <td>2004</td>\n",
       "      <td>manual</td>\n",
       "      <td>109</td>\n",
       "      <td>2_reihe</td>\n",
       "      <td>150000</td>\n",
       "      <td>8</td>\n",
       "      <td>petrol</td>\n",
       "      <td>peugeot</td>\n",
       "      <td>no</td>\n",
       "      <td>2016-04-01 00:00:00</td>\n",
       "      <td>0</td>\n",
       "      <td>67112</td>\n",
       "      <td>2016-04-05 18:18:39</td>\n",
       "    </tr>\n",
       "    <tr>\n",
       "      <th>7</th>\n",
       "      <td>2016-03-21 18:54:38</td>\n",
       "      <td>0</td>\n",
       "      <td>sedan</td>\n",
       "      <td>1980</td>\n",
       "      <td>manual</td>\n",
       "      <td>50</td>\n",
       "      <td>other</td>\n",
       "      <td>40000</td>\n",
       "      <td>7</td>\n",
       "      <td>petrol</td>\n",
       "      <td>volkswagen</td>\n",
       "      <td>no</td>\n",
       "      <td>2016-03-21 00:00:00</td>\n",
       "      <td>0</td>\n",
       "      <td>19348</td>\n",
       "      <td>2016-03-25 16:47:58</td>\n",
       "    </tr>\n",
       "    <tr>\n",
       "      <th>8</th>\n",
       "      <td>2016-04-04 23:42:13</td>\n",
       "      <td>14500</td>\n",
       "      <td>bus</td>\n",
       "      <td>2014</td>\n",
       "      <td>manual</td>\n",
       "      <td>125</td>\n",
       "      <td>c_max</td>\n",
       "      <td>30000</td>\n",
       "      <td>8</td>\n",
       "      <td>petrol</td>\n",
       "      <td>ford</td>\n",
       "      <td>NaN</td>\n",
       "      <td>2016-04-04 00:00:00</td>\n",
       "      <td>0</td>\n",
       "      <td>94505</td>\n",
       "      <td>2016-04-04 23:42:13</td>\n",
       "    </tr>\n",
       "    <tr>\n",
       "      <th>9</th>\n",
       "      <td>2016-03-17 10:53:50</td>\n",
       "      <td>999</td>\n",
       "      <td>small</td>\n",
       "      <td>1998</td>\n",
       "      <td>manual</td>\n",
       "      <td>101</td>\n",
       "      <td>golf</td>\n",
       "      <td>150000</td>\n",
       "      <td>0</td>\n",
       "      <td>NaN</td>\n",
       "      <td>volkswagen</td>\n",
       "      <td>NaN</td>\n",
       "      <td>2016-03-17 00:00:00</td>\n",
       "      <td>0</td>\n",
       "      <td>27472</td>\n",
       "      <td>2016-03-31 17:17:06</td>\n",
       "    </tr>\n",
       "  </tbody>\n",
       "</table>\n",
       "</div>"
      ],
      "text/plain": [
       "           DateCrawled  Price  VehicleType  RegistrationYear Gearbox  Power  \\\n",
       "0  2016-03-24 11:52:17    480          NaN              1993  manual      0   \n",
       "1  2016-03-24 10:58:45  18300        coupe              2011  manual    190   \n",
       "2  2016-03-14 12:52:21   9800          suv              2004    auto    163   \n",
       "3  2016-03-17 16:54:04   1500        small              2001  manual     75   \n",
       "4  2016-03-31 17:25:20   3600        small              2008  manual     69   \n",
       "5  2016-04-04 17:36:23    650        sedan              1995  manual    102   \n",
       "6  2016-04-01 20:48:51   2200  convertible              2004  manual    109   \n",
       "7  2016-03-21 18:54:38      0        sedan              1980  manual     50   \n",
       "8  2016-04-04 23:42:13  14500          bus              2014  manual    125   \n",
       "9  2016-03-17 10:53:50    999        small              1998  manual    101   \n",
       "\n",
       "     Model  Kilometer  RegistrationMonth  FuelType       Brand Repaired  \\\n",
       "0     golf     150000                  0    petrol  volkswagen      NaN   \n",
       "1      NaN     125000                  5  gasoline        audi      yes   \n",
       "2    grand     125000                  8  gasoline        jeep      NaN   \n",
       "3     golf     150000                  6    petrol  volkswagen       no   \n",
       "4    fabia      90000                  7  gasoline       skoda       no   \n",
       "5      3er     150000                 10    petrol         bmw      yes   \n",
       "6  2_reihe     150000                  8    petrol     peugeot       no   \n",
       "7    other      40000                  7    petrol  volkswagen       no   \n",
       "8    c_max      30000                  8    petrol        ford      NaN   \n",
       "9     golf     150000                  0       NaN  volkswagen      NaN   \n",
       "\n",
       "           DateCreated  NumberOfPictures  PostalCode             LastSeen  \n",
       "0  2016-03-24 00:00:00                 0       70435  2016-04-07 03:16:57  \n",
       "1  2016-03-24 00:00:00                 0       66954  2016-04-07 01:46:50  \n",
       "2  2016-03-14 00:00:00                 0       90480  2016-04-05 12:47:46  \n",
       "3  2016-03-17 00:00:00                 0       91074  2016-03-17 17:40:17  \n",
       "4  2016-03-31 00:00:00                 0       60437  2016-04-06 10:17:21  \n",
       "5  2016-04-04 00:00:00                 0       33775  2016-04-06 19:17:07  \n",
       "6  2016-04-01 00:00:00                 0       67112  2016-04-05 18:18:39  \n",
       "7  2016-03-21 00:00:00                 0       19348  2016-03-25 16:47:58  \n",
       "8  2016-04-04 00:00:00                 0       94505  2016-04-04 23:42:13  \n",
       "9  2016-03-17 00:00:00                 0       27472  2016-03-31 17:17:06  "
      ]
     },
     "metadata": {},
     "output_type": "display_data"
    }
   ],
   "source": [
    "# скачиваем и открываем файл\n",
    "try:\n",
    "    autos = pd.read_csv(r'/datasets/autos.csv')\n",
    "except:\n",
    "    autos = pd.read_csv(r'https://code.s3.yandex.net/datasets/autos.csv')\n",
    "\n",
    "display(autos.head(10))"
   ]
  },
  {
   "cell_type": "markdown",
   "metadata": {},
   "source": [
    "На первый взгляд мы имеем: \n",
    "- DateCrawled (дата скачивания анкеты из базы), \n",
    "- DateCreated (дата создания анктеты), \n",
    "- LastSeen (дата последней активности пользователя) в виде даты, но непонятно как она записана - датой или же строкой. \n",
    "- VehicleType (тип кузова) - строка, но есть пропуски - непонятно сколько их. RegistrationYear (год регистрации автомобиля) - в виде целого числа. Предварительно - в этом столбце пропусков не будет. \n",
    "- Gearbox (тип коробки передач) - строка (ручная коробка или же автомат). \n",
    "- Ситуация со столбцами Power (мощность двигателя) и Kilometer (пробег в км) аналогична ситуации в столбце RegistrationYear - целые числа и скорее всего пропусков не будет. \n",
    "- RegistrationMonth - похоже был снят с даты и преобразован по типу Ordinal Encoding. \n",
    "- В столбце FuelType (тип топлива) (записаного строкой) точно есть пропуски, но не ясно сколько их. \n",
    "- Со столбцом Repaired (была машина в ремонте или нет) - ситуация аналогична столбцу FuelType. \n",
    "- Brand (марка машины) - строка, но не ясно есть ли пропуски.  \n",
    "- Столбец NumberOfPictures - целое число, скорее всего пропусков нет. \n",
    "- PostalCode - целое число, скорее всего пропусков нет, но связь с ценой вообще не ясна - скорее это просто для связи с владельцем."
   ]
  },
  {
   "cell_type": "code",
   "execution_count": 3,
   "metadata": {},
   "outputs": [
    {
     "name": "stdout",
     "output_type": "stream",
     "text": [
      "<class 'pandas.core.frame.DataFrame'>\n",
      "RangeIndex: 354369 entries, 0 to 354368\n",
      "Data columns (total 16 columns):\n",
      " #   Column             Non-Null Count   Dtype \n",
      "---  ------             --------------   ----- \n",
      " 0   DateCrawled        354369 non-null  object\n",
      " 1   Price              354369 non-null  int64 \n",
      " 2   VehicleType        316879 non-null  object\n",
      " 3   RegistrationYear   354369 non-null  int64 \n",
      " 4   Gearbox            334536 non-null  object\n",
      " 5   Power              354369 non-null  int64 \n",
      " 6   Model              334664 non-null  object\n",
      " 7   Kilometer          354369 non-null  int64 \n",
      " 8   RegistrationMonth  354369 non-null  int64 \n",
      " 9   FuelType           321474 non-null  object\n",
      " 10  Brand              354369 non-null  object\n",
      " 11  Repaired           283215 non-null  object\n",
      " 12  DateCreated        354369 non-null  object\n",
      " 13  NumberOfPictures   354369 non-null  int64 \n",
      " 14  PostalCode         354369 non-null  int64 \n",
      " 15  LastSeen           354369 non-null  object\n",
      "dtypes: int64(7), object(9)\n",
      "memory usage: 43.3+ MB\n",
      "None\n"
     ]
    }
   ],
   "source": [
    "# выводим информацию о нашем датафрейме\n",
    "print(autos.info())"
   ]
  },
  {
   "cell_type": "markdown",
   "metadata": {},
   "source": [
    "Неожиданностей не много - в столбах, где было целое число пропусков не оказалось - это верно. Пропуски есть в столбце VehicleType - примерно 37.5 тысяч пропусков. В столбце Gearbox - немногим менее 20 тыс. пропусков. FuelType - примерно 33 тысячи пропусков. В столбце Repaired - немногим более 71 тысячи пропусков. Для выборки в 354 тысячи строк - это большие пропуски - надо заполять. Во всех столбцах с датой записаны строки, а не дата."
   ]
  },
  {
   "cell_type": "code",
   "execution_count": 4,
   "metadata": {},
   "outputs": [
    {
     "name": "stdout",
     "output_type": "stream",
     "text": [
      "4\n"
     ]
    }
   ],
   "source": [
    "# проверка на явные дубликаты\n",
    "print(autos.duplicated().sum())"
   ]
  },
  {
   "cell_type": "markdown",
   "metadata": {},
   "source": [
    "Есть совсем немного явных дубликатов - надо удалять."
   ]
  },
  {
   "cell_type": "code",
   "execution_count": 5,
   "metadata": {},
   "outputs": [
    {
     "name": "stdout",
     "output_type": "stream",
     "text": [
      "0\n"
     ]
    }
   ],
   "source": [
    "# удаляем явные дубликаты и снова проверяем на их наличие (проверка удаления)\n",
    "autos.drop_duplicates(inplace=True, ignore_index=True)\n",
    "print(autos.duplicated().sum())"
   ]
  },
  {
   "cell_type": "markdown",
   "metadata": {},
   "source": [
    "Явные дубликаты удалены. Теперь приведёе стрки с датой к дате, а далее нужно думать как заполнить пропуски в данных."
   ]
  },
  {
   "cell_type": "code",
   "execution_count": 6,
   "metadata": {
    "scrolled": true
   },
   "outputs": [
    {
     "data": {
      "text/html": [
       "<div>\n",
       "<style scoped>\n",
       "    .dataframe tbody tr th:only-of-type {\n",
       "        vertical-align: middle;\n",
       "    }\n",
       "\n",
       "    .dataframe tbody tr th {\n",
       "        vertical-align: top;\n",
       "    }\n",
       "\n",
       "    .dataframe thead th {\n",
       "        text-align: right;\n",
       "    }\n",
       "</style>\n",
       "<table border=\"1\" class=\"dataframe\">\n",
       "  <thead>\n",
       "    <tr style=\"text-align: right;\">\n",
       "      <th></th>\n",
       "      <th>DateCrawled</th>\n",
       "      <th>Price</th>\n",
       "      <th>VehicleType</th>\n",
       "      <th>RegistrationYear</th>\n",
       "      <th>Gearbox</th>\n",
       "      <th>Power</th>\n",
       "      <th>Model</th>\n",
       "      <th>Kilometer</th>\n",
       "      <th>RegistrationMonth</th>\n",
       "      <th>FuelType</th>\n",
       "      <th>Brand</th>\n",
       "      <th>Repaired</th>\n",
       "      <th>DateCreated</th>\n",
       "      <th>NumberOfPictures</th>\n",
       "      <th>PostalCode</th>\n",
       "      <th>LastSeen</th>\n",
       "    </tr>\n",
       "  </thead>\n",
       "  <tbody>\n",
       "    <tr>\n",
       "      <th>0</th>\n",
       "      <td>2016-03-24</td>\n",
       "      <td>480</td>\n",
       "      <td>NaN</td>\n",
       "      <td>1993</td>\n",
       "      <td>manual</td>\n",
       "      <td>0</td>\n",
       "      <td>golf</td>\n",
       "      <td>150000</td>\n",
       "      <td>0</td>\n",
       "      <td>petrol</td>\n",
       "      <td>volkswagen</td>\n",
       "      <td>NaN</td>\n",
       "      <td>2016-03-24</td>\n",
       "      <td>0</td>\n",
       "      <td>70435</td>\n",
       "      <td>2016-04-07</td>\n",
       "    </tr>\n",
       "    <tr>\n",
       "      <th>1</th>\n",
       "      <td>2016-03-24</td>\n",
       "      <td>18300</td>\n",
       "      <td>coupe</td>\n",
       "      <td>2011</td>\n",
       "      <td>manual</td>\n",
       "      <td>190</td>\n",
       "      <td>NaN</td>\n",
       "      <td>125000</td>\n",
       "      <td>5</td>\n",
       "      <td>gasoline</td>\n",
       "      <td>audi</td>\n",
       "      <td>yes</td>\n",
       "      <td>2016-03-24</td>\n",
       "      <td>0</td>\n",
       "      <td>66954</td>\n",
       "      <td>2016-04-07</td>\n",
       "    </tr>\n",
       "    <tr>\n",
       "      <th>2</th>\n",
       "      <td>2016-03-14</td>\n",
       "      <td>9800</td>\n",
       "      <td>suv</td>\n",
       "      <td>2004</td>\n",
       "      <td>auto</td>\n",
       "      <td>163</td>\n",
       "      <td>grand</td>\n",
       "      <td>125000</td>\n",
       "      <td>8</td>\n",
       "      <td>gasoline</td>\n",
       "      <td>jeep</td>\n",
       "      <td>NaN</td>\n",
       "      <td>2016-03-14</td>\n",
       "      <td>0</td>\n",
       "      <td>90480</td>\n",
       "      <td>2016-04-05</td>\n",
       "    </tr>\n",
       "    <tr>\n",
       "      <th>3</th>\n",
       "      <td>2016-03-17</td>\n",
       "      <td>1500</td>\n",
       "      <td>small</td>\n",
       "      <td>2001</td>\n",
       "      <td>manual</td>\n",
       "      <td>75</td>\n",
       "      <td>golf</td>\n",
       "      <td>150000</td>\n",
       "      <td>6</td>\n",
       "      <td>petrol</td>\n",
       "      <td>volkswagen</td>\n",
       "      <td>no</td>\n",
       "      <td>2016-03-17</td>\n",
       "      <td>0</td>\n",
       "      <td>91074</td>\n",
       "      <td>2016-03-17</td>\n",
       "    </tr>\n",
       "    <tr>\n",
       "      <th>4</th>\n",
       "      <td>2016-03-31</td>\n",
       "      <td>3600</td>\n",
       "      <td>small</td>\n",
       "      <td>2008</td>\n",
       "      <td>manual</td>\n",
       "      <td>69</td>\n",
       "      <td>fabia</td>\n",
       "      <td>90000</td>\n",
       "      <td>7</td>\n",
       "      <td>gasoline</td>\n",
       "      <td>skoda</td>\n",
       "      <td>no</td>\n",
       "      <td>2016-03-31</td>\n",
       "      <td>0</td>\n",
       "      <td>60437</td>\n",
       "      <td>2016-04-06</td>\n",
       "    </tr>\n",
       "    <tr>\n",
       "      <th>5</th>\n",
       "      <td>2016-04-04</td>\n",
       "      <td>650</td>\n",
       "      <td>sedan</td>\n",
       "      <td>1995</td>\n",
       "      <td>manual</td>\n",
       "      <td>102</td>\n",
       "      <td>3er</td>\n",
       "      <td>150000</td>\n",
       "      <td>10</td>\n",
       "      <td>petrol</td>\n",
       "      <td>bmw</td>\n",
       "      <td>yes</td>\n",
       "      <td>2016-04-04</td>\n",
       "      <td>0</td>\n",
       "      <td>33775</td>\n",
       "      <td>2016-04-06</td>\n",
       "    </tr>\n",
       "    <tr>\n",
       "      <th>6</th>\n",
       "      <td>2016-04-01</td>\n",
       "      <td>2200</td>\n",
       "      <td>convertible</td>\n",
       "      <td>2004</td>\n",
       "      <td>manual</td>\n",
       "      <td>109</td>\n",
       "      <td>2_reihe</td>\n",
       "      <td>150000</td>\n",
       "      <td>8</td>\n",
       "      <td>petrol</td>\n",
       "      <td>peugeot</td>\n",
       "      <td>no</td>\n",
       "      <td>2016-04-01</td>\n",
       "      <td>0</td>\n",
       "      <td>67112</td>\n",
       "      <td>2016-04-05</td>\n",
       "    </tr>\n",
       "    <tr>\n",
       "      <th>7</th>\n",
       "      <td>2016-03-21</td>\n",
       "      <td>0</td>\n",
       "      <td>sedan</td>\n",
       "      <td>1980</td>\n",
       "      <td>manual</td>\n",
       "      <td>50</td>\n",
       "      <td>other</td>\n",
       "      <td>40000</td>\n",
       "      <td>7</td>\n",
       "      <td>petrol</td>\n",
       "      <td>volkswagen</td>\n",
       "      <td>no</td>\n",
       "      <td>2016-03-21</td>\n",
       "      <td>0</td>\n",
       "      <td>19348</td>\n",
       "      <td>2016-03-25</td>\n",
       "    </tr>\n",
       "    <tr>\n",
       "      <th>8</th>\n",
       "      <td>2016-04-04</td>\n",
       "      <td>14500</td>\n",
       "      <td>bus</td>\n",
       "      <td>2014</td>\n",
       "      <td>manual</td>\n",
       "      <td>125</td>\n",
       "      <td>c_max</td>\n",
       "      <td>30000</td>\n",
       "      <td>8</td>\n",
       "      <td>petrol</td>\n",
       "      <td>ford</td>\n",
       "      <td>NaN</td>\n",
       "      <td>2016-04-04</td>\n",
       "      <td>0</td>\n",
       "      <td>94505</td>\n",
       "      <td>2016-04-04</td>\n",
       "    </tr>\n",
       "    <tr>\n",
       "      <th>9</th>\n",
       "      <td>2016-03-17</td>\n",
       "      <td>999</td>\n",
       "      <td>small</td>\n",
       "      <td>1998</td>\n",
       "      <td>manual</td>\n",
       "      <td>101</td>\n",
       "      <td>golf</td>\n",
       "      <td>150000</td>\n",
       "      <td>0</td>\n",
       "      <td>NaN</td>\n",
       "      <td>volkswagen</td>\n",
       "      <td>NaN</td>\n",
       "      <td>2016-03-17</td>\n",
       "      <td>0</td>\n",
       "      <td>27472</td>\n",
       "      <td>2016-03-31</td>\n",
       "    </tr>\n",
       "  </tbody>\n",
       "</table>\n",
       "</div>"
      ],
      "text/plain": [
       "  DateCrawled  Price  VehicleType  RegistrationYear Gearbox  Power    Model  \\\n",
       "0  2016-03-24    480          NaN              1993  manual      0     golf   \n",
       "1  2016-03-24  18300        coupe              2011  manual    190      NaN   \n",
       "2  2016-03-14   9800          suv              2004    auto    163    grand   \n",
       "3  2016-03-17   1500        small              2001  manual     75     golf   \n",
       "4  2016-03-31   3600        small              2008  manual     69    fabia   \n",
       "5  2016-04-04    650        sedan              1995  manual    102      3er   \n",
       "6  2016-04-01   2200  convertible              2004  manual    109  2_reihe   \n",
       "7  2016-03-21      0        sedan              1980  manual     50    other   \n",
       "8  2016-04-04  14500          bus              2014  manual    125    c_max   \n",
       "9  2016-03-17    999        small              1998  manual    101     golf   \n",
       "\n",
       "   Kilometer  RegistrationMonth  FuelType       Brand Repaired DateCreated  \\\n",
       "0     150000                  0    petrol  volkswagen      NaN  2016-03-24   \n",
       "1     125000                  5  gasoline        audi      yes  2016-03-24   \n",
       "2     125000                  8  gasoline        jeep      NaN  2016-03-14   \n",
       "3     150000                  6    petrol  volkswagen       no  2016-03-17   \n",
       "4      90000                  7  gasoline       skoda       no  2016-03-31   \n",
       "5     150000                 10    petrol         bmw      yes  2016-04-04   \n",
       "6     150000                  8    petrol     peugeot       no  2016-04-01   \n",
       "7      40000                  7    petrol  volkswagen       no  2016-03-21   \n",
       "8      30000                  8    petrol        ford      NaN  2016-04-04   \n",
       "9     150000                  0       NaN  volkswagen      NaN  2016-03-17   \n",
       "\n",
       "   NumberOfPictures  PostalCode   LastSeen  \n",
       "0                 0       70435 2016-04-07  \n",
       "1                 0       66954 2016-04-07  \n",
       "2                 0       90480 2016-04-05  \n",
       "3                 0       91074 2016-03-17  \n",
       "4                 0       60437 2016-04-06  \n",
       "5                 0       33775 2016-04-06  \n",
       "6                 0       67112 2016-04-05  \n",
       "7                 0       19348 2016-03-25  \n",
       "8                 0       94505 2016-04-04  \n",
       "9                 0       27472 2016-03-31  "
      ]
     },
     "metadata": {},
     "output_type": "display_data"
    },
    {
     "name": "stdout",
     "output_type": "stream",
     "text": [
      "<class 'pandas.core.frame.DataFrame'>\n",
      "RangeIndex: 354365 entries, 0 to 354364\n",
      "Data columns (total 16 columns):\n",
      " #   Column             Non-Null Count   Dtype         \n",
      "---  ------             --------------   -----         \n",
      " 0   DateCrawled        354365 non-null  datetime64[ns]\n",
      " 1   Price              354365 non-null  int64         \n",
      " 2   VehicleType        316875 non-null  object        \n",
      " 3   RegistrationYear   354365 non-null  int64         \n",
      " 4   Gearbox            334532 non-null  object        \n",
      " 5   Power              354365 non-null  int64         \n",
      " 6   Model              334660 non-null  object        \n",
      " 7   Kilometer          354365 non-null  int64         \n",
      " 8   RegistrationMonth  354365 non-null  int64         \n",
      " 9   FuelType           321470 non-null  object        \n",
      " 10  Brand              354365 non-null  object        \n",
      " 11  Repaired           283211 non-null  object        \n",
      " 12  DateCreated        354365 non-null  datetime64[ns]\n",
      " 13  NumberOfPictures   354365 non-null  int64         \n",
      " 14  PostalCode         354365 non-null  int64         \n",
      " 15  LastSeen           354365 non-null  datetime64[ns]\n",
      "dtypes: datetime64[ns](3), int64(7), object(6)\n",
      "memory usage: 43.3+ MB\n",
      "None\n"
     ]
    }
   ],
   "source": [
    "# приводим столбцы к типу дата-время\n",
    "autos['DateCrawled'] = pd.to_datetime(autos['DateCrawled'], format='%Y-%m-%d %H:%M:%S')\n",
    "autos['DateCreated'] = pd.to_datetime(autos['DateCreated'], format='%Y-%m-%d %H:%M:%S')\n",
    "autos['LastSeen'] = pd.to_datetime(autos['LastSeen'], format='%Y-%m-%d %H:%M:%S')\n",
    "\n",
    "# округляем данные до дня вниз\n",
    "autos['DateCrawled'] = autos['DateCrawled'].dt.floor('1d')\n",
    "autos['DateCreated'] = autos['DateCreated'].dt.floor('1d')\n",
    "autos['LastSeen'] = autos['LastSeen'].dt.floor('1d')\n",
    "\n",
    "# смотрим на результат\n",
    "display(autos.head(10))\n",
    "print(autos.info())"
   ]
  },
  {
   "cell_type": "markdown",
   "metadata": {},
   "source": [
    "Преобразования успешны. Далее смотрим на столбцы с пропусками."
   ]
  },
  {
   "cell_type": "code",
   "execution_count": 7,
   "metadata": {
    "scrolled": true
   },
   "outputs": [
    {
     "name": "stdout",
     "output_type": "stream",
     "text": [
      "  Repaired  RegistrationYear\n",
      "0       no            247158\n",
      "1      yes             36053\n"
     ]
    }
   ],
   "source": [
    "# что с починками? сколько их?\n",
    "print(autos.groupby(by='Repaired', as_index=False).RegistrationYear.count())"
   ]
  },
  {
   "cell_type": "markdown",
   "metadata": {},
   "source": [
    "Итак, вероятность встретить машину без ремонта почти в 7 раз выше, чем побывавшую в нём. В таком случае, с пропусками сделаем так: посчитаем , что если информации о ремонте нет, то будем считать, что машина не была в аварии и ремонт ей не требовался, либо строго наоборот: машина была в аварии и всё дошло до той стадии, что стоимость ремонта превышает цену новой машины и поэтому её не ремонтировали."
   ]
  },
  {
   "cell_type": "code",
   "execution_count": 8,
   "metadata": {},
   "outputs": [],
   "source": [
    "# заполняем пропуски в столбце Repaired\n",
    "autos.Repaired.fillna('no', inplace=True)"
   ]
  },
  {
   "cell_type": "code",
   "execution_count": 9,
   "metadata": {},
   "outputs": [
    {
     "data": {
      "image/png": "[encoded data removed]",
      "text/plain": [
       "<Figure size 1080x504 with 1 Axes>"
      ]
     },
     "metadata": {},
     "output_type": "display_data"
    }
   ],
   "source": [
    "# что с типом кузова?\n",
    "sns.set(rc={'figure.figsize': (15, 7)})\n",
    "ax = sns.barplot(data=autos.groupby(by='VehicleType', as_index=False).RegistrationYear.count().sort_values(by='RegistrationYear'),\\\n",
    "                 x='VehicleType', y='RegistrationYear', color='darkgreen')\n",
    "ax.set(title='Разделение машин по типу кузова', xlabel='Тип кузова у машины', ylabel='Количество машин, штук')\n",
    "plt.show()"
   ]
  },
  {
   "cell_type": "markdown",
   "metadata": {},
   "source": [
    "У нас 8 разных типов кузова у машин. Самый распостранённый - седан (примерно 90 тысяч штук), затем маленькие машины (примерно 80 тысяч штук), затем тип wagon (вагоны!?) - их примерно 62 - 63 тысячи штук. Остальные типы кузова не так распостранены. Поскольку у нас нет самих фотографий и какой - либо программы для определения типа кузова, мы можем только создать свою категорию - Неизвестно (unknown). Единственный минус - эта категория будет достаточно многочисленна и будет занимать 4ую место по популярности, но лучше варианта предложить сложно - любое добавление в текущие категории может оказаться не точным."
   ]
  },
  {
   "cell_type": "code",
   "execution_count": 10,
   "metadata": {},
   "outputs": [],
   "source": [
    "# заполняем пропуски в столбце VehicleType\n",
    "autos.VehicleType.fillna('unknown', inplace=True)"
   ]
  },
  {
   "cell_type": "markdown",
   "metadata": {},
   "source": [
    "Пропуски в столбце модель как - то осмысленно заполнить сложно: для этого надо иметь знатока различных автомобильных фирм рядом и фотографии машины как минимум и то не факт, что всё правильно заполнит. Можно сделать проще - заменить пропуски на неизвестный например.\n",
    "\n",
    "А вот посмотреть как распределены коробки передач можно, особенно в связи с годом выхода машины. Вполне может быть взаимосвязь."
   ]
  },
  {
   "cell_type": "code",
   "execution_count": 11,
   "metadata": {},
   "outputs": [],
   "source": [
    "# заполняем пропуски в столбце Model\n",
    "autos.Model.fillna('unknown', inplace=True)"
   ]
  },
  {
   "cell_type": "code",
   "execution_count": 12,
   "metadata": {},
   "outputs": [
    {
     "data": {
      "image/png": "[encoded data removed]",
      "text/plain": [
       "<Figure size 1080x504 with 1 Axes>"
      ]
     },
     "metadata": {},
     "output_type": "display_data"
    }
   ],
   "source": [
    "# смотрим что с распределением коробок передач в автомобиле\n",
    "ax = sns.barplot(data=autos.groupby(by='Gearbox', as_index=False).RegistrationYear.count().sort_values(by='RegistrationYear'),\\\n",
    "                 x='Gearbox', y='RegistrationYear', color='lightblue')\n",
    "ax.set(title='Разделение машин по типу коробки передач', xlabel='Тип коробки передач у машины', ylabel='Количество машин, штук');"
   ]
  },
  {
   "cell_type": "markdown",
   "metadata": {},
   "source": [
    "Ручные коробки передач у машин встречаются более чем в 4 раза чаще, чем автоматические. А Если посмотреть на ситуацию с учётом года выхода машины? Может будет лучше прослеживаться какая-либо тенденция!?"
   ]
  },
  {
   "cell_type": "code",
   "execution_count": 13,
   "metadata": {},
   "outputs": [
    {
     "data": {
      "image/png": "[encoded data removed]",
      "text/plain": [
       "<Figure size 1440x720 with 1 Axes>"
      ]
     },
     "metadata": {},
     "output_type": "display_data"
    }
   ],
   "source": [
    "# типы коробки передач с учётом выхода автомобиля\n",
    "sns.set(rc={'figure.figsize': (20, 10)})\n",
    "ax = sns.barplot(data=autos.groupby(by=['Gearbox', 'RegistrationYear'], as_index=False).Brand.count().sort_values(by='RegistrationYear'),\\\n",
    "                 x='RegistrationYear', y='Brand', hue='Gearbox')\n",
    "ax.set(title='Разделение машин по типу коробки передач', xlabel='Тип коробки передач у машины', ylabel='Количество машин, штук')\n",
    "ax.set_xticklabels(ax.get_xticklabels(), rotation=90);"
   ]
  },
  {
   "cell_type": "markdown",
   "metadata": {},
   "source": [
    "К сожалению, нам не удалось выявить тенденцию. Хоть заполняй случайно (соблюдая пропорцию). А вот что мы увидели - это дефектные данные. Не может быть год регистрации машины раньше 1910 и больше даты выгрузки из базы. Такие данные надо удалить."
   ]
  },
  {
   "cell_type": "code",
   "execution_count": 14,
   "metadata": {
    "scrolled": false
   },
   "outputs": [
    {
     "name": "stdout",
     "output_type": "stream",
     "text": [
      "(339769, 16)\n"
     ]
    }
   ],
   "source": [
    "# удаляем дефектные данные, обнаруженные в столбце RegistrationYear\n",
    "autos = autos.query('RegistrationYear >= 1910 & RegistrationYear <= DateCrawled.dt.year')\n",
    "\n",
    "# сколько строк осталось?\n",
    "print(autos.shape)"
   ]
  },
  {
   "cell_type": "markdown",
   "metadata": {},
   "source": [
    "Данных потеряли прилично (более 4% или 14600 строк), а вот данные стали чище. Заполним пропуски в этом столбце (Gearbox) исходя из предведущих данных по совпадающей марке машины и году, а потом проверим всё ли заполнилось."
   ]
  },
  {
   "cell_type": "code",
   "execution_count": 15,
   "metadata": {},
   "outputs": [
    {
     "name": "stdout",
     "output_type": "stream",
     "text": [
      "['manual' 'auto']\n",
      "<class 'pandas.core.frame.DataFrame'>\n",
      "Int64Index: 339769 entries, 0 to 354364\n",
      "Data columns (total 16 columns):\n",
      " #   Column             Non-Null Count   Dtype         \n",
      "---  ------             --------------   -----         \n",
      " 0   DateCrawled        339769 non-null  datetime64[ns]\n",
      " 1   Price              339769 non-null  int64         \n",
      " 2   VehicleType        339769 non-null  object        \n",
      " 3   RegistrationYear   339769 non-null  int64         \n",
      " 4   Gearbox            339769 non-null  object        \n",
      " 5   Power              339769 non-null  int64         \n",
      " 6   Model              339769 non-null  object        \n",
      " 7   Kilometer          339769 non-null  int64         \n",
      " 8   RegistrationMonth  339769 non-null  int64         \n",
      " 9   FuelType           312520 non-null  object        \n",
      " 10  Brand              339769 non-null  object        \n",
      " 11  Repaired           339769 non-null  object        \n",
      " 12  DateCreated        339769 non-null  datetime64[ns]\n",
      " 13  NumberOfPictures   339769 non-null  int64         \n",
      " 14  PostalCode         339769 non-null  int64         \n",
      " 15  LastSeen           339769 non-null  datetime64[ns]\n",
      "dtypes: datetime64[ns](3), int64(7), object(6)\n",
      "memory usage: 44.1+ MB\n",
      "None\n"
     ]
    }
   ],
   "source": [
    "# заполняем пропуски в столбце Gearbox\n",
    "autos[\"Gearbox\"] = autos.groupby(['Brand', 'RegistrationYear'])[\"Gearbox\"].transform(lambda x: x.ffill())\n",
    "# если остались незаполенные значения - будет manual (наиболее распостранённое)\n",
    "autos.Gearbox.fillna('manual', inplace=True)\n",
    "\n",
    "# проверем уникальные значения столбца Gearbox и выводим общую информацию о датафрейме\n",
    "print(autos.Gearbox.unique())\n",
    "print(autos.info())"
   ]
  },
  {
   "cell_type": "markdown",
   "metadata": {},
   "source": [
    "Осталось только заняться пропусками в столбце FuelType. Посмотрим, что там за данные."
   ]
  },
  {
   "cell_type": "code",
   "execution_count": 16,
   "metadata": {},
   "outputs": [
    {
     "data": {
      "image/png": "[encoded data removed]",
      "text/plain": [
       "<Figure size 1080x504 with 1 Axes>"
      ]
     },
     "metadata": {},
     "output_type": "display_data"
    }
   ],
   "source": [
    "# изучаем распределение машин по типу топлива\n",
    "sns.set(rc={'figure.figsize': (15, 7)})\n",
    "ax = sns.barplot(data=autos.groupby(by=['FuelType'], as_index=False).Brand.count().sort_values(by='Brand'),\\\n",
    "                 x='FuelType', y='Brand')\n",
    "ax.set(title='Распределение машин по типу топлива', xlabel='Тип топлива у машины', ylabel='Количество машин, штук');"
   ]
  },
  {
   "cell_type": "markdown",
   "metadata": {},
   "source": [
    "Итак - самые рапостранённые варианты - бензин, горючее топливо и сжиженный нефтяной газ. Притом бензин встречается на порядок чаще остальных. Заполним пропуски на наиболее часто встречающиеся значение - petrol (бензин)."
   ]
  },
  {
   "cell_type": "code",
   "execution_count": 17,
   "metadata": {},
   "outputs": [],
   "source": [
    "# незаполенные значения в столбце FuelType заполняем значением petrol\n",
    "autos.FuelType.fillna('petrol', inplace=True)"
   ]
  },
  {
   "cell_type": "code",
   "execution_count": 18,
   "metadata": {
    "scrolled": true
   },
   "outputs": [
    {
     "name": "stdout",
     "output_type": "stream",
     "text": [
      "<class 'pandas.core.frame.DataFrame'>\n",
      "Int64Index: 339769 entries, 0 to 354364\n",
      "Data columns (total 16 columns):\n",
      " #   Column             Non-Null Count   Dtype         \n",
      "---  ------             --------------   -----         \n",
      " 0   DateCrawled        339769 non-null  datetime64[ns]\n",
      " 1   Price              339769 non-null  int64         \n",
      " 2   VehicleType        339769 non-null  object        \n",
      " 3   RegistrationYear   339769 non-null  int64         \n",
      " 4   Gearbox            339769 non-null  object        \n",
      " 5   Power              339769 non-null  int64         \n",
      " 6   Model              339769 non-null  object        \n",
      " 7   Kilometer          339769 non-null  int64         \n",
      " 8   RegistrationMonth  339769 non-null  int64         \n",
      " 9   FuelType           339769 non-null  object        \n",
      " 10  Brand              339769 non-null  object        \n",
      " 11  Repaired           339769 non-null  object        \n",
      " 12  DateCreated        339769 non-null  datetime64[ns]\n",
      " 13  NumberOfPictures   339769 non-null  int64         \n",
      " 14  PostalCode         339769 non-null  int64         \n",
      " 15  LastSeen           339769 non-null  datetime64[ns]\n",
      "dtypes: datetime64[ns](3), int64(7), object(6)\n",
      "memory usage: 44.1+ MB\n",
      "None\n"
     ]
    }
   ],
   "source": [
    "# проверяем заполненность данных\n",
    "print(autos.info())"
   ]
  },
  {
   "cell_type": "markdown",
   "metadata": {},
   "source": [
    "Теперь построим распределение всех числовых столбцов, чтобы понять с чем мы имеем дело."
   ]
  },
  {
   "cell_type": "code",
   "execution_count": 19,
   "metadata": {},
   "outputs": [
    {
     "name": "stdout",
     "output_type": "stream",
     "text": [
      "count    339769.000000\n",
      "mean       4471.332061\n",
      "std        4546.037804\n",
      "min           0.000000\n",
      "5%          200.000000\n",
      "25%        1099.000000\n",
      "50%        2799.000000\n",
      "75%        6500.000000\n",
      "95%       14800.000000\n",
      "max       20000.000000\n",
      "Name: Price, dtype: float64\n"
     ]
    },
    {
     "data": {
      "image/png": "[encoded data removed]",
      "text/plain": [
       "<Figure size 1080x504 with 1 Axes>"
      ]
     },
     "metadata": {},
     "output_type": "display_data"
    }
   ],
   "source": [
    "# исследование автомобилей по их цене\n",
    "print(autos.Price.describe(percentiles=[0.05, 0.25, 0.5, 0.75, 0.95]))\n",
    "ax = sns.histplot(autos.Price, color='yellow')\n",
    "ax.set(title='Распределение автомобилей по цене', xlabel='Цена автомобиля', \\\n",
    "       ylabel='Количество автомобилей');"
   ]
  },
  {
   "cell_type": "markdown",
   "metadata": {},
   "source": [
    "Цены на машины сильно растянуты - до 20000 евро. А вот средняя цена - 4400 евро, да и медиана не далеко. Также отметим достаточно большое число машин без стоимости. Но машины с нулевой стоимостью это бред. Даже металлолом и то денег стоит. В связи с этим удалим машины, чья стоимость меньше 50 евро."
   ]
  },
  {
   "cell_type": "code",
   "execution_count": 20,
   "metadata": {},
   "outputs": [
    {
     "name": "stdout",
     "output_type": "stream",
     "text": [
      "(328192, 16)\n"
     ]
    }
   ],
   "source": [
    "# удаляем машины, чья стоимость меньше 50 евро\n",
    "autos = autos.query('Price >= 50')\n",
    "\n",
    "# смотрим на то, сколько данных у нас осталось\n",
    "print(autos.shape)"
   ]
  },
  {
   "cell_type": "code",
   "execution_count": 21,
   "metadata": {},
   "outputs": [
    {
     "name": "stdout",
     "output_type": "stream",
     "text": [
      "count    328192.000000\n",
      "mean        112.135055\n",
      "std         185.103679\n",
      "min           0.000000\n",
      "5%            0.000000\n",
      "25%          71.000000\n",
      "50%         105.000000\n",
      "75%         143.000000\n",
      "95%         218.000000\n",
      "99.5%       334.000000\n",
      "max       20000.000000\n",
      "Name: Power, dtype: float64\n"
     ]
    },
    {
     "data": {
      "image/png": "[encoded data removed]",
      "text/plain": [
       "<Figure size 1080x504 with 1 Axes>"
      ]
     },
     "metadata": {},
     "output_type": "display_data"
    }
   ],
   "source": [
    "# исследование автомобилей по их мощности\n",
    "print(autos.Power.describe(percentiles=[0.05, 0.25, 0.5, 0.75, 0.95, 0.995]))\n",
    "ax = sns.histplot(autos.Power, color='cyan')\n",
    "ax.set(title='Распределение автомобилей по их мощности', \\\n",
    "       xlabel='Мощность автомобиля', ylabel='Количество автомобилей');"
   ]
  },
  {
   "cell_type": "markdown",
   "metadata": {},
   "source": [
    "Снова кривые данные! Мощность автомобиля не должна быть больше 350 л.с., иначе это уже не автомобиль, а ракета, не иначе и также надо удалить данные, где мощность менее 5 л.с. - где вы видели такие автомобили!?."
   ]
  },
  {
   "cell_type": "code",
   "execution_count": 22,
   "metadata": {},
   "outputs": [],
   "source": [
    "# удаляем машины с мощьюстью выше 350 л.с. и менее 5 л.с.\n",
    "autos = autos.query('Power <= 350 & Power >= 5')"
   ]
  },
  {
   "cell_type": "code",
   "execution_count": 23,
   "metadata": {},
   "outputs": [
    {
     "name": "stdout",
     "output_type": "stream",
     "text": [
      "(294959, 16)\n"
     ]
    },
    {
     "data": {
      "image/png": "[encoded data removed]",
      "text/plain": [
       "<Figure size 1080x504 with 1 Axes>"
      ]
     },
     "metadata": {},
     "output_type": "display_data"
    }
   ],
   "source": [
    "# смотрим на остатки данных\n",
    "print(autos.shape)\n",
    "\n",
    "# строим новый график для наглядности мощности автомобилей\n",
    "ax = sns.histplot(autos.Power, color='cyan')\n",
    "ax.set(title='Распределение автомобилей по их мощности', \\\n",
    "       xlabel='Мощность автомобиля', ylabel='Количество автомобилей');"
   ]
  },
  {
   "cell_type": "markdown",
   "metadata": {},
   "source": [
    "От кривых данных по мощности автомобилей избавились. Теперь посмотрим, что с километражом, который проехала каждая машина. Единственный момент, который не нравиться - количество этих самых кривых данных - мы уже удалили немногим менее 17% от первоначальных данных."
   ]
  },
  {
   "cell_type": "code",
   "execution_count": 24,
   "metadata": {},
   "outputs": [
    {
     "name": "stdout",
     "output_type": "stream",
     "text": [
      "count    294959.000000\n",
      "mean     128266.420079\n",
      "std       36759.769309\n",
      "min        5000.000000\n",
      "5%        40000.000000\n",
      "25%      125000.000000\n",
      "50%      150000.000000\n",
      "75%      150000.000000\n",
      "95%      150000.000000\n",
      "99.5%    150000.000000\n",
      "max      150000.000000\n",
      "Name: Kilometer, dtype: float64\n"
     ]
    },
    {
     "data": {
      "image/png": "[encoded data removed]",
      "text/plain": [
       "<Figure size 1080x504 with 1 Axes>"
      ]
     },
     "metadata": {},
     "output_type": "display_data"
    }
   ],
   "source": [
    "# исследование машин по километражу проеханному\n",
    "ax = sns.histplot(autos.Kilometer, color='violet')\n",
    "ax.set(title='Распределение автомобилей по пройденному расстоянию', \\\n",
    "       xlabel='Пробег автомобиля, км', ylabel='Количество автомобилей')\n",
    "print(autos.Kilometer.describe(percentiles=[0.05, 0.25, 0.5, 0.75, 0.95, 0.995]))"
   ]
  },
  {
   "cell_type": "markdown",
   "metadata": {},
   "source": [
    "Неожиданно! Похоже, весь пробег автомобилей очень сильно округляли. В любом случае в основном ожидается или пробег в 125000 или в 150000 километров. Остальное встречается намного реже."
   ]
  },
  {
   "cell_type": "code",
   "execution_count": 25,
   "metadata": {},
   "outputs": [
    {
     "data": {
      "image/png": "[encoded data removed]",
      "text/plain": [
       "<Figure size 1080x504 with 1 Axes>"
      ]
     },
     "metadata": {},
     "output_type": "display_data"
    }
   ],
   "source": [
    "# исследование по столбцу месяц регистрации (RegistrationMonth)\n",
    "ax = sns.barplot(data=autos.groupby('RegistrationMonth', as_index=False).Brand.count(),\\\n",
    "                 x='RegistrationMonth', y='Brand', color='gold')\n",
    "ax.set(title='Распределение автомобилей по месяцу регистрации автомобиля', \\\n",
    "       xlabel='Месяц регистрации автомобиля', ylabel='Количество автомобилей');"
   ]
  },
  {
   "cell_type": "markdown",
   "metadata": {},
   "source": [
    "Ещё одна несостыковка: а именно - в году 12 месяцев, а не 13! Можно только предположить, что месяцы с 1 по 12 - это двенадцать месяцев года, а месяц 0 - это для тех машин в котором неизвестно в каком месяце была регистрация. Но уверенности в этом нет никакой. Пока что можно сказать, что два самых полулярных месяца для регистрации автомобиля - это месяца за номерами - 3 и 6, далее следуют месяца 4 и 5. В любом случае этот признак рассматривать для построении моделей не стоит - на стоимость он не должен влиять."
   ]
  },
  {
   "cell_type": "code",
   "execution_count": 26,
   "metadata": {},
   "outputs": [
    {
     "data": {
      "image/png": "[encoded data removed]",
      "text/plain": [
       "<Figure size 1080x504 with 1 Axes>"
      ]
     },
     "metadata": {},
     "output_type": "display_data"
    }
   ],
   "source": [
    "# исследуем столбец с количеством фотографий машины (NumberOfPictures)\n",
    "ax = sns.barplot(data=autos.groupby('NumberOfPictures', as_index=False).Brand.count(),\\\n",
    "                 x='NumberOfPictures', y='Brand', color='silver')\n",
    "ax.set(title='Распределение автомобилей по количеству их фотографий', \\\n",
    "       xlabel='Количество фотографий автомобиля, штук', ylabel='Количество автомобилей');"
   ]
  },
  {
   "cell_type": "markdown",
   "metadata": {},
   "source": [
    "Это либо плохая шутка, либо сбой в программе. Притом, скорее второе. В таком виде пользы от этого столбца для анализа нет.\n",
    "\n",
    "В любом случае пора исключать из анализа бесполезные столбцы. Далее перевести все оставшиеся столбцы к численному виду. И наконец, делить выборку на признаки и цель, а также на обучающую и тестовую выборки."
   ]
  },
  {
   "cell_type": "code",
   "execution_count": 27,
   "metadata": {},
   "outputs": [],
   "source": [
    "# исключаем из анализа бесполезные столбцы\n",
    "autos_clean = autos.drop(['DateCrawled', 'RegistrationMonth', \\\n",
    "                          'DateCreated', 'NumberOfPictures', 'PostalCode', 'LastSeen'], axis=1)"
   ]
  },
  {
   "cell_type": "code",
   "execution_count": 28,
   "metadata": {},
   "outputs": [],
   "source": [
    "# столбец Kilometer приводим к типу object - он дискретный и по сути является категорией, а не значением\n",
    "autos_clean['Kilometer'] = autos_clean['Kilometer'].astype('object')"
   ]
  },
  {
   "cell_type": "markdown",
   "metadata": {},
   "source": [
    "Сначала разделим данные, а потом преобразуем их по типу OrdinalEncoder. После этого мы будем готовы обучать модели"
   ]
  },
  {
   "cell_type": "code",
   "execution_count": 29,
   "metadata": {},
   "outputs": [
    {
     "name": "stdout",
     "output_type": "stream",
     "text": [
      "(221219, 9) (221219,)\n",
      "(73740, 9) (73740,)\n"
     ]
    }
   ],
   "source": [
    "# делим данные на цель и признаки\n",
    "features_auto = autos_clean.drop('Price', axis=1)\n",
    "target_auto = autos_clean.Price\n",
    "\n",
    "# делим выборку на обучающую и тестовую \n",
    "features_auto_train, features_auto_test, target_auto_train, target_auto_test = train_test_split(features_auto, target_auto, \\\n",
    "                                                                                               test_size=0.25, random_state=123)\n",
    "# делаем копии для второго кодирования для линейных моделей\n",
    "features_auto_train_ohe = features_auto_train.copy()\n",
    "features_auto_test_ohe = features_auto_test.copy()\n",
    "\n",
    "# сколько данных в обучающей выборке и в тесте?\n",
    "print(features_auto_train.shape, target_auto_train.shape)\n",
    "print(features_auto_test.shape, target_auto_test.shape)"
   ]
  },
  {
   "cell_type": "code",
   "execution_count": 30,
   "metadata": {},
   "outputs": [],
   "source": [
    "# перебираем все сбившиеся индексы\n",
    "features_auto.reset_index(drop=True, inplace=True)\n",
    "features_auto_train.reset_index(drop=True, inplace=True)\n",
    "features_auto_test.reset_index(drop=True, inplace=True)\n",
    "target_auto.reset_index(drop=True, inplace=True)\n",
    "target_auto_train.reset_index(drop=True, inplace=True)\n",
    "target_auto_test.reset_index(drop=True, inplace=True)\n",
    "features_auto_train_ohe.reset_index(drop=True, inplace=True)\n",
    "features_auto_test_ohe.reset_index(drop=True, inplace=True)"
   ]
  },
  {
   "cell_type": "code",
   "execution_count": 31,
   "metadata": {},
   "outputs": [
    {
     "data": {
      "text/plain": [
       "OrdinalEncoder(dtype='uint32')"
      ]
     },
     "execution_count": 31,
     "metadata": {},
     "output_type": "execute_result"
    }
   ],
   "source": [
    "# кодируем столбцы по типу OrdinalEncoder\n",
    "categories = ['VehicleType', 'Gearbox', 'Model', 'Kilometer', 'FuelType', 'Brand', 'Repaired']\n",
    "encoder = OrdinalEncoder(dtype='uint32')\n",
    "encoder.fit(features_auto_train[categories])"
   ]
  },
  {
   "cell_type": "code",
   "execution_count": 32,
   "metadata": {},
   "outputs": [
    {
     "name": "stderr",
     "output_type": "stream",
     "text": [
      "/opt/conda/lib/python3.9/site-packages/pandas/core/indexing.py:1787: SettingWithCopyWarning: \n",
      "A value is trying to be set on a copy of a slice from a DataFrame.\n",
      "Try using .loc[row_indexer,col_indexer] = value instead\n",
      "\n",
      "See the caveats in the documentation: https://pandas.pydata.org/pandas-docs/stable/user_guide/indexing.html#returning-a-view-versus-a-copy\n",
      "  self._setitem_single_column(loc, val, pi)\n",
      "/opt/conda/lib/python3.9/site-packages/pandas/core/indexing.py:1787: SettingWithCopyWarning: \n",
      "A value is trying to be set on a copy of a slice from a DataFrame.\n",
      "Try using .loc[row_indexer,col_indexer] = value instead\n",
      "\n",
      "See the caveats in the documentation: https://pandas.pydata.org/pandas-docs/stable/user_guide/indexing.html#returning-a-view-versus-a-copy\n",
      "  self._setitem_single_column(loc, val, pi)\n"
     ]
    },
    {
     "name": "stdout",
     "output_type": "stream",
     "text": [
      "<class 'pandas.core.frame.DataFrame'>\n",
      "RangeIndex: 221219 entries, 0 to 221218\n",
      "Data columns (total 9 columns):\n",
      " #   Column            Non-Null Count   Dtype \n",
      "---  ------            --------------   ----- \n",
      " 0   VehicleType       221219 non-null  uint32\n",
      " 1   RegistrationYear  221219 non-null  int64 \n",
      " 2   Gearbox           221219 non-null  uint32\n",
      " 3   Power             221219 non-null  int64 \n",
      " 4   Model             221219 non-null  uint32\n",
      " 5   Kilometer         221219 non-null  uint32\n",
      " 6   FuelType          221219 non-null  uint32\n",
      " 7   Brand             221219 non-null  uint32\n",
      " 8   Repaired          221219 non-null  uint32\n",
      "dtypes: int64(2), uint32(7)\n",
      "memory usage: 9.3 MB\n",
      "None\n",
      "<class 'pandas.core.frame.DataFrame'>\n",
      "RangeIndex: 73740 entries, 0 to 73739\n",
      "Data columns (total 9 columns):\n",
      " #   Column            Non-Null Count  Dtype \n",
      "---  ------            --------------  ----- \n",
      " 0   VehicleType       73740 non-null  uint32\n",
      " 1   RegistrationYear  73740 non-null  int64 \n",
      " 2   Gearbox           73740 non-null  uint32\n",
      " 3   Power             73740 non-null  int64 \n",
      " 4   Model             73740 non-null  uint32\n",
      " 5   Kilometer         73740 non-null  uint32\n",
      " 6   FuelType          73740 non-null  uint32\n",
      " 7   Brand             73740 non-null  uint32\n",
      " 8   Repaired          73740 non-null  uint32\n",
      "dtypes: int64(2), uint32(7)\n",
      "memory usage: 3.1 MB\n",
      "None\n"
     ]
    }
   ],
   "source": [
    "features_auto_train.loc[:, categories] = pd.DataFrame(encoder.transform(features_auto_train[categories]), \\\n",
    "                                   columns=categories)\n",
    "features_auto_test.loc[:, categories] = pd.DataFrame(encoder.transform(features_auto_test[categories]), \\\n",
    "                                  columns=categories)\n",
    "features_auto.loc[:, categories] = pd.DataFrame(encoder.transform(features_auto[categories]), \\\n",
    "                                  columns=categories)\n",
    "\n",
    "# проверяем типы данных в признаках обучающей и тестовой модели\n",
    "print(features_auto_train.info())\n",
    "print(features_auto_test.info())"
   ]
  },
  {
   "cell_type": "code",
   "execution_count": 33,
   "metadata": {
    "scrolled": false
   },
   "outputs": [
    {
     "data": {
      "text/html": [
       "<div>\n",
       "<style scoped>\n",
       "    .dataframe tbody tr th:only-of-type {\n",
       "        vertical-align: middle;\n",
       "    }\n",
       "\n",
       "    .dataframe tbody tr th {\n",
       "        vertical-align: top;\n",
       "    }\n",
       "\n",
       "    .dataframe thead th {\n",
       "        text-align: right;\n",
       "    }\n",
       "</style>\n",
       "<table border=\"1\" class=\"dataframe\">\n",
       "  <thead>\n",
       "    <tr style=\"text-align: right;\">\n",
       "      <th></th>\n",
       "      <th>VehicleType</th>\n",
       "      <th>RegistrationYear</th>\n",
       "      <th>Gearbox</th>\n",
       "      <th>Power</th>\n",
       "      <th>Model</th>\n",
       "      <th>Kilometer</th>\n",
       "      <th>FuelType</th>\n",
       "      <th>Brand</th>\n",
       "      <th>Repaired</th>\n",
       "    </tr>\n",
       "  </thead>\n",
       "  <tbody>\n",
       "    <tr>\n",
       "      <th>0</th>\n",
       "      <td>4</td>\n",
       "      <td>2013</td>\n",
       "      <td>1</td>\n",
       "      <td>99</td>\n",
       "      <td>119</td>\n",
       "      <td>5</td>\n",
       "      <td>6</td>\n",
       "      <td>12</td>\n",
       "      <td>0</td>\n",
       "    </tr>\n",
       "    <tr>\n",
       "      <th>1</th>\n",
       "      <td>4</td>\n",
       "      <td>2005</td>\n",
       "      <td>1</td>\n",
       "      <td>109</td>\n",
       "      <td>57</td>\n",
       "      <td>11</td>\n",
       "      <td>2</td>\n",
       "      <td>5</td>\n",
       "      <td>0</td>\n",
       "    </tr>\n",
       "    <tr>\n",
       "      <th>2</th>\n",
       "      <td>0</td>\n",
       "      <td>2004</td>\n",
       "      <td>1</td>\n",
       "      <td>136</td>\n",
       "      <td>103</td>\n",
       "      <td>12</td>\n",
       "      <td>2</td>\n",
       "      <td>10</td>\n",
       "      <td>0</td>\n",
       "    </tr>\n",
       "    <tr>\n",
       "      <th>3</th>\n",
       "      <td>2</td>\n",
       "      <td>1999</td>\n",
       "      <td>1</td>\n",
       "      <td>170</td>\n",
       "      <td>11</td>\n",
       "      <td>12</td>\n",
       "      <td>6</td>\n",
       "      <td>2</td>\n",
       "      <td>1</td>\n",
       "    </tr>\n",
       "    <tr>\n",
       "      <th>4</th>\n",
       "      <td>8</td>\n",
       "      <td>1998</td>\n",
       "      <td>1</td>\n",
       "      <td>90</td>\n",
       "      <td>17</td>\n",
       "      <td>12</td>\n",
       "      <td>6</td>\n",
       "      <td>19</td>\n",
       "      <td>0</td>\n",
       "    </tr>\n",
       "    <tr>\n",
       "      <th>5</th>\n",
       "      <td>4</td>\n",
       "      <td>1989</td>\n",
       "      <td>1</td>\n",
       "      <td>115</td>\n",
       "      <td>22</td>\n",
       "      <td>12</td>\n",
       "      <td>6</td>\n",
       "      <td>1</td>\n",
       "      <td>1</td>\n",
       "    </tr>\n",
       "    <tr>\n",
       "      <th>6</th>\n",
       "      <td>5</td>\n",
       "      <td>1996</td>\n",
       "      <td>1</td>\n",
       "      <td>75</td>\n",
       "      <td>173</td>\n",
       "      <td>12</td>\n",
       "      <td>6</td>\n",
       "      <td>38</td>\n",
       "      <td>0</td>\n",
       "    </tr>\n",
       "    <tr>\n",
       "      <th>7</th>\n",
       "      <td>8</td>\n",
       "      <td>2003</td>\n",
       "      <td>1</td>\n",
       "      <td>107</td>\n",
       "      <td>10</td>\n",
       "      <td>12</td>\n",
       "      <td>2</td>\n",
       "      <td>25</td>\n",
       "      <td>0</td>\n",
       "    </tr>\n",
       "    <tr>\n",
       "      <th>8</th>\n",
       "      <td>0</td>\n",
       "      <td>2011</td>\n",
       "      <td>1</td>\n",
       "      <td>170</td>\n",
       "      <td>38</td>\n",
       "      <td>12</td>\n",
       "      <td>2</td>\n",
       "      <td>30</td>\n",
       "      <td>0</td>\n",
       "    </tr>\n",
       "    <tr>\n",
       "      <th>9</th>\n",
       "      <td>8</td>\n",
       "      <td>2000</td>\n",
       "      <td>1</td>\n",
       "      <td>116</td>\n",
       "      <td>227</td>\n",
       "      <td>12</td>\n",
       "      <td>6</td>\n",
       "      <td>10</td>\n",
       "      <td>0</td>\n",
       "    </tr>\n",
       "  </tbody>\n",
       "</table>\n",
       "</div>"
      ],
      "text/plain": [
       "   VehicleType  RegistrationYear  Gearbox  Power  Model  Kilometer  FuelType  \\\n",
       "0            4              2013        1     99    119          5         6   \n",
       "1            4              2005        1    109     57         11         2   \n",
       "2            0              2004        1    136    103         12         2   \n",
       "3            2              1999        1    170     11         12         6   \n",
       "4            8              1998        1     90     17         12         6   \n",
       "5            4              1989        1    115     22         12         6   \n",
       "6            5              1996        1     75    173         12         6   \n",
       "7            8              2003        1    107     10         12         2   \n",
       "8            0              2011        1    170     38         12         2   \n",
       "9            8              2000        1    116    227         12         6   \n",
       "\n",
       "   Brand  Repaired  \n",
       "0     12         0  \n",
       "1      5         0  \n",
       "2     10         0  \n",
       "3      2         1  \n",
       "4     19         0  \n",
       "5      1         1  \n",
       "6     38         0  \n",
       "7     25         0  \n",
       "8     30         0  \n",
       "9     10         0  "
      ]
     },
     "metadata": {},
     "output_type": "display_data"
    },
    {
     "data": {
      "text/html": [
       "<div>\n",
       "<style scoped>\n",
       "    .dataframe tbody tr th:only-of-type {\n",
       "        vertical-align: middle;\n",
       "    }\n",
       "\n",
       "    .dataframe tbody tr th {\n",
       "        vertical-align: top;\n",
       "    }\n",
       "\n",
       "    .dataframe thead th {\n",
       "        text-align: right;\n",
       "    }\n",
       "</style>\n",
       "<table border=\"1\" class=\"dataframe\">\n",
       "  <thead>\n",
       "    <tr style=\"text-align: right;\">\n",
       "      <th></th>\n",
       "      <th>VehicleType</th>\n",
       "      <th>RegistrationYear</th>\n",
       "      <th>Gearbox</th>\n",
       "      <th>Power</th>\n",
       "      <th>Model</th>\n",
       "      <th>Kilometer</th>\n",
       "      <th>FuelType</th>\n",
       "      <th>Brand</th>\n",
       "      <th>Repaired</th>\n",
       "    </tr>\n",
       "  </thead>\n",
       "  <tbody>\n",
       "    <tr>\n",
       "      <th>0</th>\n",
       "      <td>5</td>\n",
       "      <td>2010</td>\n",
       "      <td>1</td>\n",
       "      <td>98</td>\n",
       "      <td>165</td>\n",
       "      <td>7</td>\n",
       "      <td>6</td>\n",
       "      <td>21</td>\n",
       "      <td>0</td>\n",
       "    </tr>\n",
       "    <tr>\n",
       "      <th>1</th>\n",
       "      <td>5</td>\n",
       "      <td>2000</td>\n",
       "      <td>1</td>\n",
       "      <td>80</td>\n",
       "      <td>247</td>\n",
       "      <td>12</td>\n",
       "      <td>6</td>\n",
       "      <td>17</td>\n",
       "      <td>0</td>\n",
       "    </tr>\n",
       "    <tr>\n",
       "      <th>2</th>\n",
       "      <td>4</td>\n",
       "      <td>1998</td>\n",
       "      <td>1</td>\n",
       "      <td>55</td>\n",
       "      <td>176</td>\n",
       "      <td>2</td>\n",
       "      <td>6</td>\n",
       "      <td>9</td>\n",
       "      <td>0</td>\n",
       "    </tr>\n",
       "    <tr>\n",
       "      <th>3</th>\n",
       "      <td>4</td>\n",
       "      <td>2005</td>\n",
       "      <td>1</td>\n",
       "      <td>98</td>\n",
       "      <td>37</td>\n",
       "      <td>11</td>\n",
       "      <td>6</td>\n",
       "      <td>23</td>\n",
       "      <td>0</td>\n",
       "    </tr>\n",
       "    <tr>\n",
       "      <th>4</th>\n",
       "      <td>8</td>\n",
       "      <td>2005</td>\n",
       "      <td>1</td>\n",
       "      <td>115</td>\n",
       "      <td>163</td>\n",
       "      <td>12</td>\n",
       "      <td>6</td>\n",
       "      <td>31</td>\n",
       "      <td>0</td>\n",
       "    </tr>\n",
       "    <tr>\n",
       "      <th>5</th>\n",
       "      <td>4</td>\n",
       "      <td>2005</td>\n",
       "      <td>1</td>\n",
       "      <td>272</td>\n",
       "      <td>116</td>\n",
       "      <td>12</td>\n",
       "      <td>6</td>\n",
       "      <td>38</td>\n",
       "      <td>0</td>\n",
       "    </tr>\n",
       "    <tr>\n",
       "      <th>6</th>\n",
       "      <td>8</td>\n",
       "      <td>2002</td>\n",
       "      <td>1</td>\n",
       "      <td>130</td>\n",
       "      <td>154</td>\n",
       "      <td>12</td>\n",
       "      <td>2</td>\n",
       "      <td>10</td>\n",
       "      <td>0</td>\n",
       "    </tr>\n",
       "    <tr>\n",
       "      <th>7</th>\n",
       "      <td>4</td>\n",
       "      <td>1998</td>\n",
       "      <td>1</td>\n",
       "      <td>101</td>\n",
       "      <td>170</td>\n",
       "      <td>12</td>\n",
       "      <td>6</td>\n",
       "      <td>38</td>\n",
       "      <td>0</td>\n",
       "    </tr>\n",
       "    <tr>\n",
       "      <th>8</th>\n",
       "      <td>4</td>\n",
       "      <td>2000</td>\n",
       "      <td>1</td>\n",
       "      <td>204</td>\n",
       "      <td>116</td>\n",
       "      <td>12</td>\n",
       "      <td>6</td>\n",
       "      <td>38</td>\n",
       "      <td>0</td>\n",
       "    </tr>\n",
       "    <tr>\n",
       "      <th>9</th>\n",
       "      <td>5</td>\n",
       "      <td>1999</td>\n",
       "      <td>1</td>\n",
       "      <td>56</td>\n",
       "      <td>227</td>\n",
       "      <td>12</td>\n",
       "      <td>6</td>\n",
       "      <td>24</td>\n",
       "      <td>1</td>\n",
       "    </tr>\n",
       "  </tbody>\n",
       "</table>\n",
       "</div>"
      ],
      "text/plain": [
       "   VehicleType  RegistrationYear  Gearbox  Power  Model  Kilometer  FuelType  \\\n",
       "0            5              2010        1     98    165          7         6   \n",
       "1            5              2000        1     80    247         12         6   \n",
       "2            4              1998        1     55    176          2         6   \n",
       "3            4              2005        1     98     37         11         6   \n",
       "4            8              2005        1    115    163         12         6   \n",
       "5            4              2005        1    272    116         12         6   \n",
       "6            8              2002        1    130    154         12         2   \n",
       "7            4              1998        1    101    170         12         6   \n",
       "8            4              2000        1    204    116         12         6   \n",
       "9            5              1999        1     56    227         12         6   \n",
       "\n",
       "   Brand  Repaired  \n",
       "0     21         0  \n",
       "1     17         0  \n",
       "2      9         0  \n",
       "3     23         0  \n",
       "4     31         0  \n",
       "5     38         0  \n",
       "6     10         0  \n",
       "7     38         0  \n",
       "8     38         0  \n",
       "9     24         1  "
      ]
     },
     "metadata": {},
     "output_type": "display_data"
    }
   ],
   "source": [
    "# октроем признаки и увидим новые таблицы\n",
    "display(features_auto_train.head(10))\n",
    "display(features_auto_test.head(10))"
   ]
  },
  {
   "cell_type": "code",
   "execution_count": 34,
   "metadata": {},
   "outputs": [
    {
     "name": "stdout",
     "output_type": "stream",
     "text": [
      "(221219, 318)\n",
      "(73740, 315)\n"
     ]
    }
   ],
   "source": [
    "# кодируем данные по типу OHE\n",
    "features_auto_train_ohe = pd.get_dummies(data=features_auto_train_ohe, drop_first=True, columns=categories, dtype='uint32')\n",
    "features_auto_test_ohe = pd.get_dummies(data=features_auto_test_ohe, drop_first=True, columns=categories, dtype='uint32')\n",
    "\n",
    "# проверяем размер для проверки\n",
    "print(features_auto_train_ohe.shape)\n",
    "print(features_auto_test_ohe.shape)"
   ]
  },
  {
   "cell_type": "markdown",
   "metadata": {},
   "source": [
    "Бывает и такое, что какие-то признаки встречаются только в обучающем или тестовом датафрейме. Но даже в случае равенства признаков надо проверять их всех поимённо. Лишние (не встречающиеся в тесте/ обучающей выборке надо удалить. Для такого поиска напишем функцию."
   ]
  },
  {
   "cell_type": "code",
   "execution_count": 35,
   "metadata": {},
   "outputs": [
    {
     "name": "stdout",
     "output_type": "stream",
     "text": [
      "(221219, 315)\n",
      "(73740, 315)\n"
     ]
    }
   ],
   "source": [
    "# функция для поиска лишних столбцов в тесте и в трейне\n",
    "def search_extra_columns(df_train, df_test):\n",
    "    columns_train = df_train.columns\n",
    "    columns_test = df_test.columns\n",
    "    lst_drop_train, lst_drop_test = [], []\n",
    "    for i in range(len(columns_train)):\n",
    "        if columns_train[i] not in columns_test:\n",
    "            lst_drop_train.append(columns_train[i])\n",
    "    for i in range(len(columns_test)):\n",
    "        if columns_test[i] not in columns_train:\n",
    "            lst_drop_test.append(columns_test[i])\n",
    "    return (lst_drop_train, lst_drop_test)\n",
    "\n",
    "# применяем функцию для поиска лишних столбцов в выборках\n",
    "drop_train, drop_test = search_extra_columns(features_auto_train_ohe, features_auto_test_ohe)\n",
    "# удаляем лишние столбцы\n",
    "features_auto_train_ohe.drop(drop_train, axis=1, inplace=True)\n",
    "features_auto_test_ohe.drop(drop_test, axis=1, inplace=True)\n",
    "# проверяем форму теперь\n",
    "print(features_auto_train_ohe.shape)\n",
    "print(features_auto_test_ohe.shape)"
   ]
  },
  {
   "cell_type": "markdown",
   "metadata": {},
   "source": [
    "Теперь мы готовы обучать динейные модели."
   ]
  },
  {
   "cell_type": "markdown",
   "metadata": {},
   "source": [
    "Всё в порядке, хотя данные выглядят и так довольно объёмными. В любом случае мы  избавились от повторов, от дефектных данных и от бесполезных столбцов. Пора обучать модели. Но  сначала стоит проверить (на всякий случай) корреляцию наших признаков общей матрице признаков."
   ]
  },
  {
   "cell_type": "code",
   "execution_count": 36,
   "metadata": {},
   "outputs": [
    {
     "data": {
      "image/png": "[encoded data removed]",
      "text/plain": [
       "<Figure size 1080x504 with 2 Axes>"
      ]
     },
     "metadata": {},
     "output_type": "display_data"
    }
   ],
   "source": [
    "# строим график корреляции на общей выборке\n",
    "ax = sns.heatmap(data=features_auto.corr(), annot=True, cmap='rainbow')\n",
    "ax.set(title='График - матрица корреляций признаков');"
   ]
  },
  {
   "cell_type": "markdown",
   "metadata": {},
   "source": [
    "Теперь мы точно уверены, что признаки не очень сильно вляют друг на друга. Пора обучать модели!"
   ]
  },
  {
   "cell_type": "markdown",
   "metadata": {},
   "source": [
    "## Обучение моделей"
   ]
  },
  {
   "cell_type": "markdown",
   "metadata": {},
   "source": [
    "Обучим 3 обычных модели: Гребневую регрессию, Решающее дерево и Случайный лес, а также модель с градиентным бустингом. Для обычных моделей Решающего дерева и Случайного леса будем использовать кросс - валидацию для уменьшения переобучения."
   ]
  },
  {
   "cell_type": "code",
   "execution_count": 37,
   "metadata": {},
   "outputs": [
    {
     "name": "stdout",
     "output_type": "stream",
     "text": [
      "Время поика оптимальных параметров гребневой регрессии: 0.8663651386896769\n"
     ]
    }
   ],
   "source": [
    "start_ridge = time()\n",
    "# поиск оптимальных параметров гребневой регрессии с кросс - валидацией\n",
    "model_ridge = RidgeCV(alphas=(0.1, 1.0, 5.0, 10.0), scoring='neg_root_mean_squared_error', cv=5)\n",
    "model_ridge.fit(features_auto_train_ohe, target_auto_train)\n",
    "end_ridge = time()\n",
    "model_time_ridge = (end_ridge - start_ridge) / 60 # время поиска оптимальных параметров гребневой регрессии в минутах\n",
    "print('Время поика оптимальных параметров гребневой регрессии:', model_time_ridge)"
   ]
  },
  {
   "cell_type": "code",
   "execution_count": 38,
   "metadata": {},
   "outputs": [
    {
     "name": "stdout",
     "output_type": "stream",
     "text": [
      "RMSE гребневой регрессии равна: 2531.15\n",
      "Параметр альфа для гребневой регрессии равен: 1.0\n"
     ]
    }
   ],
   "source": [
    "# выводим оценку гребневой регрессии\n",
    "best_score_ridge = -model_ridge.best_score_.round(2)\n",
    "alpha = model_ridge.alpha_\n",
    "print('RMSE гребневой регрессии равна:', best_score_ridge)\n",
    "print('Параметр альфа для гребневой регрессии равен:', alpha)"
   ]
  },
  {
   "cell_type": "code",
   "execution_count": 39,
   "metadata": {},
   "outputs": [
    {
     "name": "stdout",
     "output_type": "stream",
     "text": [
      "Время обучения гребневой регрессии в минутах: 0.03666228453318278\n"
     ]
    }
   ],
   "source": [
    "# обучаем гребневую регрессию\n",
    "start_ridge = time()\n",
    "model_ridge = Ridge(alpha=alpha, random_state=123)\n",
    "model_ridge.fit(features_auto_train_ohe, target_auto_train)\n",
    "end_ridge = time()\n",
    "time_train_ridge = (end_ridge - start_ridge) / 60 # время обучения гребневой регрессии в минутах\n",
    "print('Время обучения гребневой регрессии в минутах:', time_train_ridge)"
   ]
  },
  {
   "cell_type": "code",
   "execution_count": 40,
   "metadata": {},
   "outputs": [
    {
     "name": "stdout",
     "output_type": "stream",
     "text": [
      "Время предсказания гребневой регрессии в минутах: 0.014928015073140462\n"
     ]
    }
   ],
   "source": [
    "# измеряем время предсказания гребневой регрессии\n",
    "start_pred_ridge = time()\n",
    "model_ridge.predict(features_auto_train_ohe)\n",
    "end_pred_ridge = time()\n",
    "time_pred_ridge = (end_pred_ridge - start_pred_ridge) / 60 # время предсказания гребневой регрессии в минутах\n",
    "print('Время предсказания гребневой регрессии в минутах:', time_pred_ridge)"
   ]
  },
  {
   "cell_type": "markdown",
   "metadata": {},
   "source": [
    "Обучение гребневой регрессии с кросс - валидацией очень быстрое, но качество оценки скорее всего далеко не лучшее..."
   ]
  },
  {
   "cell_type": "code",
   "execution_count": 41,
   "metadata": {},
   "outputs": [
    {
     "name": "stdout",
     "output_type": "stream",
     "text": [
      "CPU times: user 0 ns, sys: 234 µs, total: 234 µs\n",
      "Wall time: 114 µs\n"
     ]
    }
   ],
   "source": [
    "%%time\n",
    "\n",
    "# обучаем решающее дерево с кросс - валидацией\n",
    "param_grid_tree = {'max_depth': range(2, 21, 2), 'min_samples_split': range(2, 23, 2), \\\n",
    "                   'min_impurity_decrease': np.arange(0.0, 0.05, 0.01)}\n",
    "model_tree = DecisionTreeRegressor(random_state=123)\n",
    "gsearch_tree = GridSearchCV(estimator=model_tree, cv=3, param_grid=param_grid_tree,\\\n",
    "                            scoring ='neg_root_mean_squared_error')"
   ]
  },
  {
   "cell_type": "code",
   "execution_count": 42,
   "metadata": {
    "scrolled": true
   },
   "outputs": [
    {
     "name": "stdout",
     "output_type": "stream",
     "text": [
      "Оценка дерева с кросс - валидацией: 1794.73\n",
      "Параметры дерева с кросс - валидацией: {'max_depth': 18, 'min_impurity_decrease': 0.01, 'min_samples_split': 22}\n",
      "Время поиска и обучения решающего дерева: 6.7060725013415015\n"
     ]
    }
   ],
   "source": [
    "start_tree = time()\n",
    "\n",
    "gsearch_tree.fit(features_auto_train, target_auto_train)\n",
    "best_model_tree = gsearch_tree.best_estimator_\n",
    "best_score_tree = gsearch_tree.best_score_\n",
    "params_tree = gsearch_tree.best_params_\n",
    "end_tree = time()\n",
    "model_time_tree = (end_tree - start_tree) / 60 # время обучения дерева в минутах\n",
    "print(f'Оценка дерева с кросс - валидацией: {-best_score_tree.round(2)}', \\\n",
    "      f'Параметры дерева с кросс - валидацией: {params_tree}', \\\n",
    "      f'Время поиска и обучения решающего дерева: {model_time_tree}', sep='\\n')"
   ]
  },
  {
   "cell_type": "code",
   "execution_count": 43,
   "metadata": {},
   "outputs": [
    {
     "name": "stdout",
     "output_type": "stream",
     "text": [
      "Чистое время обучения дерева (без поиска гиперпараметров): 0.008246962229410808\n"
     ]
    }
   ],
   "source": [
    "# измеряем время обучения модели дерева\n",
    "start_train_tree = time()\n",
    "best_model_tree.fit(features_auto_train, target_auto_train)\n",
    "end_train_tree = time()\n",
    "time_train_tree = (end_train_tree - start_train_tree) / 60 # время обучения дерева в минутах\n",
    "print('Чистое время обучения дерева (без поиска гиперпараметров):', time_train_tree)"
   ]
  },
  {
   "cell_type": "code",
   "execution_count": 44,
   "metadata": {},
   "outputs": [
    {
     "name": "stdout",
     "output_type": "stream",
     "text": [
      "Время предсказаний дерева: 0.0007678866386413574\n"
     ]
    }
   ],
   "source": [
    "start_pred_tree = time()\n",
    "# измеряем скорость предсказаний\n",
    "pred_tree_train = best_model_tree.predict(features_auto_train)\n",
    "end_pred_tree = time()\n",
    "time_pred_tree = (end_pred_tree - start_pred_tree) / 60 # время предсказания дерева в минутах\n",
    "print('Время предсказаний дерева:', time_pred_tree)"
   ]
  },
  {
   "cell_type": "markdown",
   "metadata": {},
   "source": [
    "Учит модель дерева не очень долго. Точность у неё заметно выше, чем у гребневой регрессии (1795 против 2531). Гиперпараметры дерева почти максимально возможные - max_depth - 18, min_samples_split - 22 и min_impurity_decrease - 0.01. Скорость предсказаний - быстрая.\n",
    "\n",
    "Но что будет на тесте..."
   ]
  },
  {
   "cell_type": "code",
   "execution_count": 45,
   "metadata": {},
   "outputs": [
    {
     "name": "stdout",
     "output_type": "stream",
     "text": [
      "Оценка случайного леса с кросс - валидацией: 1588.57\n",
      "Параметры случайного леса с кросс - валидацией: {'max_depth': 19, 'n_estimators': 150}\n",
      "Время поиска гиперпараметров и обучения модели леса: 53.194153281052905\n"
     ]
    }
   ],
   "source": [
    "start_forest = time()\n",
    "\n",
    "# обучаем случайный лес\n",
    "param_grid_forest = {'n_estimators': range(50, 151, 20), 'max_depth': range(3, 22, 2)}\n",
    "model_forest = RandomForestRegressor(criterion='friedman_mse' ,random_state=123)\n",
    "gsearch_forest = GridSearchCV(estimator=model_forest, cv=3, param_grid=param_grid_forest,\\\n",
    "                            scoring = 'neg_root_mean_squared_error')\n",
    "gsearch_forest.fit(features_auto_train, target_auto_train)\n",
    "best_model_forest = gsearch_forest.best_estimator_\n",
    "best_score_forest = gsearch_forest.best_score_\n",
    "params_forest = gsearch_forest.best_params_\n",
    "end_forest = time()\n",
    "time_model_forest = (end_forest - start_forest) / 60 # время обучения модели случайного леса\n",
    "print(f'Оценка случайного леса с кросс - валидацией: {-best_score_forest.round(2)}', \\\n",
    "      f'Параметры случайного леса с кросс - валидацией: {params_forest}', \\\n",
    "      f'Время поиска гиперпараметров и обучения модели леса: {time_model_forest}', sep='\\n')     "
   ]
  },
  {
   "cell_type": "markdown",
   "metadata": {},
   "source": [
    "Лес с кросс - валидацией учиться долго! Больше часа! Это много по сравнению с другими моделями. Качество ожидаемо выше по сравнению с решающим деревом (1589 против 1795). Но стоит ли улучшение потраченного времени? Параметры леса: 'max_depth': 19, 'n_estimators': 150, criterion='friedman_mse'. Осталось понять как долго он делает предсказания и посмотреть на модель градиентного бустинга."
   ]
  },
  {
   "cell_type": "code",
   "execution_count": 46,
   "metadata": {},
   "outputs": [
    {
     "name": "stdout",
     "output_type": "stream",
     "text": [
      "Чистое время обучения случайного леса (без поиска гиперпараметров): 0.9063564459482829\n"
     ]
    }
   ],
   "source": [
    "# измеряем время обучения модели случайного леса\n",
    "start_train_forest = time()\n",
    "best_model_forest.fit(features_auto_train, target_auto_train)\n",
    "end_train_forest = time()\n",
    "time_train_forest = (end_train_forest - start_train_forest) / 60 # время обучения дерева в минутах\n",
    "print('Чистое время обучения случайного леса (без поиска гиперпараметров):', time_train_forest)"
   ]
  },
  {
   "cell_type": "markdown",
   "metadata": {},
   "source": [
    "Даже время обучения около 2 минут! Долго, однако."
   ]
  },
  {
   "cell_type": "code",
   "execution_count": 47,
   "metadata": {},
   "outputs": [
    {
     "name": "stdout",
     "output_type": "stream",
     "text": [
      "Время предсказаний у случайного леса: 0.12154570817947388\n"
     ]
    }
   ],
   "source": [
    "start_pred_forest = time()\n",
    "\n",
    "# Измеряем время предсказания случайного леса\n",
    "pred_forest_train = best_model_forest.predict(features_auto_train)\n",
    "end_pred_forest = time()\n",
    "time_pred_forest = (end_pred_forest - start_pred_forest) / 60 # время пресказаний леса в минутах\n",
    "print('Время предсказаний у случайного леса:', time_pred_forest)"
   ]
  },
  {
   "cell_type": "markdown",
   "metadata": {},
   "source": [
    "Предсказания по времени относительно долгие! Примерно 8.5 секунд. Что же сможет показать модель градиентного бустинга?"
   ]
  },
  {
   "cell_type": "code",
   "execution_count": 48,
   "metadata": {},
   "outputs": [
    {
     "name": "stdout",
     "output_type": "stream",
     "text": [
      "CPU times: user 103 µs, sys: 1e+03 ns, total: 104 µs\n",
      "Wall time: 108 µs\n"
     ]
    }
   ],
   "source": [
    "%%time\n",
    "\n",
    "# ставим параметры модели градиентного бустинга\n",
    "model_lgb = lgb.LGBMRegressor(objective=\"regression\",random_state=123)\n",
    "gsearch_lgb = GridSearchCV(estimator=model_lgb, cv=3, param_grid={'num_iterations': range(140, 201, 30), \\\n",
    "                                                                  'learning_rate': np.arange(0.1, 0.21, 0.05),\\\n",
    "                                                                  'num_leaves': [31, 63, 127, 255]},\\\n",
    "                           scoring ='neg_root_mean_squared_error')"
   ]
  },
  {
   "cell_type": "code",
   "execution_count": 49,
   "metadata": {},
   "outputs": [
    {
     "name": "stderr",
     "output_type": "stream",
     "text": [
      "/opt/conda/lib/python3.9/site-packages/lightgbm/engine.py:177: UserWarning: Found `num_iterations` in params. Will use it instead of argument\n",
      "  _log_warning(f\"Found `{alias}` in params. Will use it instead of argument\")\n",
      "/opt/conda/lib/python3.9/site-packages/lightgbm/engine.py:177: UserWarning: Found `num_iterations` in params. Will use it instead of argument\n",
      "  _log_warning(f\"Found `{alias}` in params. Will use it instead of argument\")\n",
      "/opt/conda/lib/python3.9/site-packages/lightgbm/engine.py:177: UserWarning: Found `num_iterations` in params. Will use it instead of argument\n",
      "  _log_warning(f\"Found `{alias}` in params. Will use it instead of argument\")\n",
      "/opt/conda/lib/python3.9/site-packages/lightgbm/engine.py:177: UserWarning: Found `num_iterations` in params. Will use it instead of argument\n",
      "  _log_warning(f\"Found `{alias}` in params. Will use it instead of argument\")\n",
      "/opt/conda/lib/python3.9/site-packages/lightgbm/engine.py:177: UserWarning: Found `num_iterations` in params. Will use it instead of argument\n",
      "  _log_warning(f\"Found `{alias}` in params. Will use it instead of argument\")\n",
      "/opt/conda/lib/python3.9/site-packages/lightgbm/engine.py:177: UserWarning: Found `num_iterations` in params. Will use it instead of argument\n",
      "  _log_warning(f\"Found `{alias}` in params. Will use it instead of argument\")\n",
      "/opt/conda/lib/python3.9/site-packages/lightgbm/engine.py:177: UserWarning: Found `num_iterations` in params. Will use it instead of argument\n",
      "  _log_warning(f\"Found `{alias}` in params. Will use it instead of argument\")\n",
      "/opt/conda/lib/python3.9/site-packages/lightgbm/engine.py:177: UserWarning: Found `num_iterations` in params. Will use it instead of argument\n",
      "  _log_warning(f\"Found `{alias}` in params. Will use it instead of argument\")\n",
      "/opt/conda/lib/python3.9/site-packages/lightgbm/engine.py:177: UserWarning: Found `num_iterations` in params. Will use it instead of argument\n",
      "  _log_warning(f\"Found `{alias}` in params. Will use it instead of argument\")\n",
      "/opt/conda/lib/python3.9/site-packages/lightgbm/engine.py:177: UserWarning: Found `num_iterations` in params. Will use it instead of argument\n",
      "  _log_warning(f\"Found `{alias}` in params. Will use it instead of argument\")\n",
      "/opt/conda/lib/python3.9/site-packages/lightgbm/engine.py:177: UserWarning: Found `num_iterations` in params. Will use it instead of argument\n",
      "  _log_warning(f\"Found `{alias}` in params. Will use it instead of argument\")\n",
      "/opt/conda/lib/python3.9/site-packages/lightgbm/engine.py:177: UserWarning: Found `num_iterations` in params. Will use it instead of argument\n",
      "  _log_warning(f\"Found `{alias}` in params. Will use it instead of argument\")\n",
      "/opt/conda/lib/python3.9/site-packages/lightgbm/engine.py:177: UserWarning: Found `num_iterations` in params. Will use it instead of argument\n",
      "  _log_warning(f\"Found `{alias}` in params. Will use it instead of argument\")\n",
      "/opt/conda/lib/python3.9/site-packages/lightgbm/engine.py:177: UserWarning: Found `num_iterations` in params. Will use it instead of argument\n",
      "  _log_warning(f\"Found `{alias}` in params. Will use it instead of argument\")\n",
      "/opt/conda/lib/python3.9/site-packages/lightgbm/engine.py:177: UserWarning: Found `num_iterations` in params. Will use it instead of argument\n",
      "  _log_warning(f\"Found `{alias}` in params. Will use it instead of argument\")\n",
      "/opt/conda/lib/python3.9/site-packages/lightgbm/engine.py:177: UserWarning: Found `num_iterations` in params. Will use it instead of argument\n",
      "  _log_warning(f\"Found `{alias}` in params. Will use it instead of argument\")\n",
      "/opt/conda/lib/python3.9/site-packages/lightgbm/engine.py:177: UserWarning: Found `num_iterations` in params. Will use it instead of argument\n",
      "  _log_warning(f\"Found `{alias}` in params. Will use it instead of argument\")\n",
      "/opt/conda/lib/python3.9/site-packages/lightgbm/engine.py:177: UserWarning: Found `num_iterations` in params. Will use it instead of argument\n",
      "  _log_warning(f\"Found `{alias}` in params. Will use it instead of argument\")\n",
      "/opt/conda/lib/python3.9/site-packages/lightgbm/engine.py:177: UserWarning: Found `num_iterations` in params. Will use it instead of argument\n",
      "  _log_warning(f\"Found `{alias}` in params. Will use it instead of argument\")\n",
      "/opt/conda/lib/python3.9/site-packages/lightgbm/engine.py:177: UserWarning: Found `num_iterations` in params. Will use it instead of argument\n",
      "  _log_warning(f\"Found `{alias}` in params. Will use it instead of argument\")\n",
      "/opt/conda/lib/python3.9/site-packages/lightgbm/engine.py:177: UserWarning: Found `num_iterations` in params. Will use it instead of argument\n",
      "  _log_warning(f\"Found `{alias}` in params. Will use it instead of argument\")\n",
      "/opt/conda/lib/python3.9/site-packages/lightgbm/engine.py:177: UserWarning: Found `num_iterations` in params. Will use it instead of argument\n",
      "  _log_warning(f\"Found `{alias}` in params. Will use it instead of argument\")\n",
      "/opt/conda/lib/python3.9/site-packages/lightgbm/engine.py:177: UserWarning: Found `num_iterations` in params. Will use it instead of argument\n",
      "  _log_warning(f\"Found `{alias}` in params. Will use it instead of argument\")\n",
      "/opt/conda/lib/python3.9/site-packages/lightgbm/engine.py:177: UserWarning: Found `num_iterations` in params. Will use it instead of argument\n",
      "  _log_warning(f\"Found `{alias}` in params. Will use it instead of argument\")\n",
      "/opt/conda/lib/python3.9/site-packages/lightgbm/engine.py:177: UserWarning: Found `num_iterations` in params. Will use it instead of argument\n",
      "  _log_warning(f\"Found `{alias}` in params. Will use it instead of argument\")\n",
      "/opt/conda/lib/python3.9/site-packages/lightgbm/engine.py:177: UserWarning: Found `num_iterations` in params. Will use it instead of argument\n",
      "  _log_warning(f\"Found `{alias}` in params. Will use it instead of argument\")\n",
      "/opt/conda/lib/python3.9/site-packages/lightgbm/engine.py:177: UserWarning: Found `num_iterations` in params. Will use it instead of argument\n",
      "  _log_warning(f\"Found `{alias}` in params. Will use it instead of argument\")\n",
      "/opt/conda/lib/python3.9/site-packages/lightgbm/engine.py:177: UserWarning: Found `num_iterations` in params. Will use it instead of argument\n",
      "  _log_warning(f\"Found `{alias}` in params. Will use it instead of argument\")\n",
      "/opt/conda/lib/python3.9/site-packages/lightgbm/engine.py:177: UserWarning: Found `num_iterations` in params. Will use it instead of argument\n",
      "  _log_warning(f\"Found `{alias}` in params. Will use it instead of argument\")\n",
      "/opt/conda/lib/python3.9/site-packages/lightgbm/engine.py:177: UserWarning: Found `num_iterations` in params. Will use it instead of argument\n",
      "  _log_warning(f\"Found `{alias}` in params. Will use it instead of argument\")\n",
      "/opt/conda/lib/python3.9/site-packages/lightgbm/engine.py:177: UserWarning: Found `num_iterations` in params. Will use it instead of argument\n",
      "  _log_warning(f\"Found `{alias}` in params. Will use it instead of argument\")\n",
      "/opt/conda/lib/python3.9/site-packages/lightgbm/engine.py:177: UserWarning: Found `num_iterations` in params. Will use it instead of argument\n",
      "  _log_warning(f\"Found `{alias}` in params. Will use it instead of argument\")\n",
      "/opt/conda/lib/python3.9/site-packages/lightgbm/engine.py:177: UserWarning: Found `num_iterations` in params. Will use it instead of argument\n",
      "  _log_warning(f\"Found `{alias}` in params. Will use it instead of argument\")\n",
      "/opt/conda/lib/python3.9/site-packages/lightgbm/engine.py:177: UserWarning: Found `num_iterations` in params. Will use it instead of argument\n",
      "  _log_warning(f\"Found `{alias}` in params. Will use it instead of argument\")\n",
      "/opt/conda/lib/python3.9/site-packages/lightgbm/engine.py:177: UserWarning: Found `num_iterations` in params. Will use it instead of argument\n",
      "  _log_warning(f\"Found `{alias}` in params. Will use it instead of argument\")\n",
      "/opt/conda/lib/python3.9/site-packages/lightgbm/engine.py:177: UserWarning: Found `num_iterations` in params. Will use it instead of argument\n",
      "  _log_warning(f\"Found `{alias}` in params. Will use it instead of argument\")\n",
      "/opt/conda/lib/python3.9/site-packages/lightgbm/engine.py:177: UserWarning: Found `num_iterations` in params. Will use it instead of argument\n",
      "  _log_warning(f\"Found `{alias}` in params. Will use it instead of argument\")\n",
      "/opt/conda/lib/python3.9/site-packages/lightgbm/engine.py:177: UserWarning: Found `num_iterations` in params. Will use it instead of argument\n",
      "  _log_warning(f\"Found `{alias}` in params. Will use it instead of argument\")\n",
      "/opt/conda/lib/python3.9/site-packages/lightgbm/engine.py:177: UserWarning: Found `num_iterations` in params. Will use it instead of argument\n",
      "  _log_warning(f\"Found `{alias}` in params. Will use it instead of argument\")\n",
      "/opt/conda/lib/python3.9/site-packages/lightgbm/engine.py:177: UserWarning: Found `num_iterations` in params. Will use it instead of argument\n",
      "  _log_warning(f\"Found `{alias}` in params. Will use it instead of argument\")\n",
      "/opt/conda/lib/python3.9/site-packages/lightgbm/engine.py:177: UserWarning: Found `num_iterations` in params. Will use it instead of argument\n",
      "  _log_warning(f\"Found `{alias}` in params. Will use it instead of argument\")\n",
      "/opt/conda/lib/python3.9/site-packages/lightgbm/engine.py:177: UserWarning: Found `num_iterations` in params. Will use it instead of argument\n",
      "  _log_warning(f\"Found `{alias}` in params. Will use it instead of argument\")\n",
      "/opt/conda/lib/python3.9/site-packages/lightgbm/engine.py:177: UserWarning: Found `num_iterations` in params. Will use it instead of argument\n",
      "  _log_warning(f\"Found `{alias}` in params. Will use it instead of argument\")\n",
      "/opt/conda/lib/python3.9/site-packages/lightgbm/engine.py:177: UserWarning: Found `num_iterations` in params. Will use it instead of argument\n",
      "  _log_warning(f\"Found `{alias}` in params. Will use it instead of argument\")\n",
      "/opt/conda/lib/python3.9/site-packages/lightgbm/engine.py:177: UserWarning: Found `num_iterations` in params. Will use it instead of argument\n",
      "  _log_warning(f\"Found `{alias}` in params. Will use it instead of argument\")\n",
      "/opt/conda/lib/python3.9/site-packages/lightgbm/engine.py:177: UserWarning: Found `num_iterations` in params. Will use it instead of argument\n",
      "  _log_warning(f\"Found `{alias}` in params. Will use it instead of argument\")\n",
      "/opt/conda/lib/python3.9/site-packages/lightgbm/engine.py:177: UserWarning: Found `num_iterations` in params. Will use it instead of argument\n",
      "  _log_warning(f\"Found `{alias}` in params. Will use it instead of argument\")\n",
      "/opt/conda/lib/python3.9/site-packages/lightgbm/engine.py:177: UserWarning: Found `num_iterations` in params. Will use it instead of argument\n",
      "  _log_warning(f\"Found `{alias}` in params. Will use it instead of argument\")\n",
      "/opt/conda/lib/python3.9/site-packages/lightgbm/engine.py:177: UserWarning: Found `num_iterations` in params. Will use it instead of argument\n",
      "  _log_warning(f\"Found `{alias}` in params. Will use it instead of argument\")\n",
      "/opt/conda/lib/python3.9/site-packages/lightgbm/engine.py:177: UserWarning: Found `num_iterations` in params. Will use it instead of argument\n",
      "  _log_warning(f\"Found `{alias}` in params. Will use it instead of argument\")\n",
      "/opt/conda/lib/python3.9/site-packages/lightgbm/engine.py:177: UserWarning: Found `num_iterations` in params. Will use it instead of argument\n",
      "  _log_warning(f\"Found `{alias}` in params. Will use it instead of argument\")\n",
      "/opt/conda/lib/python3.9/site-packages/lightgbm/engine.py:177: UserWarning: Found `num_iterations` in params. Will use it instead of argument\n",
      "  _log_warning(f\"Found `{alias}` in params. Will use it instead of argument\")\n",
      "/opt/conda/lib/python3.9/site-packages/lightgbm/engine.py:177: UserWarning: Found `num_iterations` in params. Will use it instead of argument\n",
      "  _log_warning(f\"Found `{alias}` in params. Will use it instead of argument\")\n",
      "/opt/conda/lib/python3.9/site-packages/lightgbm/engine.py:177: UserWarning: Found `num_iterations` in params. Will use it instead of argument\n",
      "  _log_warning(f\"Found `{alias}` in params. Will use it instead of argument\")\n",
      "/opt/conda/lib/python3.9/site-packages/lightgbm/engine.py:177: UserWarning: Found `num_iterations` in params. Will use it instead of argument\n",
      "  _log_warning(f\"Found `{alias}` in params. Will use it instead of argument\")\n",
      "/opt/conda/lib/python3.9/site-packages/lightgbm/engine.py:177: UserWarning: Found `num_iterations` in params. Will use it instead of argument\n",
      "  _log_warning(f\"Found `{alias}` in params. Will use it instead of argument\")\n",
      "/opt/conda/lib/python3.9/site-packages/lightgbm/engine.py:177: UserWarning: Found `num_iterations` in params. Will use it instead of argument\n",
      "  _log_warning(f\"Found `{alias}` in params. Will use it instead of argument\")\n",
      "/opt/conda/lib/python3.9/site-packages/lightgbm/engine.py:177: UserWarning: Found `num_iterations` in params. Will use it instead of argument\n",
      "  _log_warning(f\"Found `{alias}` in params. Will use it instead of argument\")\n",
      "/opt/conda/lib/python3.9/site-packages/lightgbm/engine.py:177: UserWarning: Found `num_iterations` in params. Will use it instead of argument\n",
      "  _log_warning(f\"Found `{alias}` in params. Will use it instead of argument\")\n",
      "/opt/conda/lib/python3.9/site-packages/lightgbm/engine.py:177: UserWarning: Found `num_iterations` in params. Will use it instead of argument\n",
      "  _log_warning(f\"Found `{alias}` in params. Will use it instead of argument\")\n",
      "/opt/conda/lib/python3.9/site-packages/lightgbm/engine.py:177: UserWarning: Found `num_iterations` in params. Will use it instead of argument\n",
      "  _log_warning(f\"Found `{alias}` in params. Will use it instead of argument\")\n",
      "/opt/conda/lib/python3.9/site-packages/lightgbm/engine.py:177: UserWarning: Found `num_iterations` in params. Will use it instead of argument\n",
      "  _log_warning(f\"Found `{alias}` in params. Will use it instead of argument\")\n",
      "/opt/conda/lib/python3.9/site-packages/lightgbm/engine.py:177: UserWarning: Found `num_iterations` in params. Will use it instead of argument\n",
      "  _log_warning(f\"Found `{alias}` in params. Will use it instead of argument\")\n",
      "/opt/conda/lib/python3.9/site-packages/lightgbm/engine.py:177: UserWarning: Found `num_iterations` in params. Will use it instead of argument\n",
      "  _log_warning(f\"Found `{alias}` in params. Will use it instead of argument\")\n",
      "/opt/conda/lib/python3.9/site-packages/lightgbm/engine.py:177: UserWarning: Found `num_iterations` in params. Will use it instead of argument\n",
      "  _log_warning(f\"Found `{alias}` in params. Will use it instead of argument\")\n",
      "/opt/conda/lib/python3.9/site-packages/lightgbm/engine.py:177: UserWarning: Found `num_iterations` in params. Will use it instead of argument\n",
      "  _log_warning(f\"Found `{alias}` in params. Will use it instead of argument\")\n",
      "/opt/conda/lib/python3.9/site-packages/lightgbm/engine.py:177: UserWarning: Found `num_iterations` in params. Will use it instead of argument\n",
      "  _log_warning(f\"Found `{alias}` in params. Will use it instead of argument\")\n",
      "/opt/conda/lib/python3.9/site-packages/lightgbm/engine.py:177: UserWarning: Found `num_iterations` in params. Will use it instead of argument\n",
      "  _log_warning(f\"Found `{alias}` in params. Will use it instead of argument\")\n",
      "/opt/conda/lib/python3.9/site-packages/lightgbm/engine.py:177: UserWarning: Found `num_iterations` in params. Will use it instead of argument\n",
      "  _log_warning(f\"Found `{alias}` in params. Will use it instead of argument\")\n",
      "/opt/conda/lib/python3.9/site-packages/lightgbm/engine.py:177: UserWarning: Found `num_iterations` in params. Will use it instead of argument\n",
      "  _log_warning(f\"Found `{alias}` in params. Will use it instead of argument\")\n",
      "/opt/conda/lib/python3.9/site-packages/lightgbm/engine.py:177: UserWarning: Found `num_iterations` in params. Will use it instead of argument\n",
      "  _log_warning(f\"Found `{alias}` in params. Will use it instead of argument\")\n",
      "/opt/conda/lib/python3.9/site-packages/lightgbm/engine.py:177: UserWarning: Found `num_iterations` in params. Will use it instead of argument\n",
      "  _log_warning(f\"Found `{alias}` in params. Will use it instead of argument\")\n",
      "/opt/conda/lib/python3.9/site-packages/lightgbm/engine.py:177: UserWarning: Found `num_iterations` in params. Will use it instead of argument\n",
      "  _log_warning(f\"Found `{alias}` in params. Will use it instead of argument\")\n",
      "/opt/conda/lib/python3.9/site-packages/lightgbm/engine.py:177: UserWarning: Found `num_iterations` in params. Will use it instead of argument\n",
      "  _log_warning(f\"Found `{alias}` in params. Will use it instead of argument\")\n",
      "/opt/conda/lib/python3.9/site-packages/lightgbm/engine.py:177: UserWarning: Found `num_iterations` in params. Will use it instead of argument\n",
      "  _log_warning(f\"Found `{alias}` in params. Will use it instead of argument\")\n",
      "/opt/conda/lib/python3.9/site-packages/lightgbm/engine.py:177: UserWarning: Found `num_iterations` in params. Will use it instead of argument\n",
      "  _log_warning(f\"Found `{alias}` in params. Will use it instead of argument\")\n",
      "/opt/conda/lib/python3.9/site-packages/lightgbm/engine.py:177: UserWarning: Found `num_iterations` in params. Will use it instead of argument\n",
      "  _log_warning(f\"Found `{alias}` in params. Will use it instead of argument\")\n",
      "/opt/conda/lib/python3.9/site-packages/lightgbm/engine.py:177: UserWarning: Found `num_iterations` in params. Will use it instead of argument\n",
      "  _log_warning(f\"Found `{alias}` in params. Will use it instead of argument\")\n",
      "/opt/conda/lib/python3.9/site-packages/lightgbm/engine.py:177: UserWarning: Found `num_iterations` in params. Will use it instead of argument\n",
      "  _log_warning(f\"Found `{alias}` in params. Will use it instead of argument\")\n",
      "/opt/conda/lib/python3.9/site-packages/lightgbm/engine.py:177: UserWarning: Found `num_iterations` in params. Will use it instead of argument\n",
      "  _log_warning(f\"Found `{alias}` in params. Will use it instead of argument\")\n",
      "/opt/conda/lib/python3.9/site-packages/lightgbm/engine.py:177: UserWarning: Found `num_iterations` in params. Will use it instead of argument\n",
      "  _log_warning(f\"Found `{alias}` in params. Will use it instead of argument\")\n",
      "/opt/conda/lib/python3.9/site-packages/lightgbm/engine.py:177: UserWarning: Found `num_iterations` in params. Will use it instead of argument\n",
      "  _log_warning(f\"Found `{alias}` in params. Will use it instead of argument\")\n",
      "/opt/conda/lib/python3.9/site-packages/lightgbm/engine.py:177: UserWarning: Found `num_iterations` in params. Will use it instead of argument\n",
      "  _log_warning(f\"Found `{alias}` in params. Will use it instead of argument\")\n",
      "/opt/conda/lib/python3.9/site-packages/lightgbm/engine.py:177: UserWarning: Found `num_iterations` in params. Will use it instead of argument\n",
      "  _log_warning(f\"Found `{alias}` in params. Will use it instead of argument\")\n",
      "/opt/conda/lib/python3.9/site-packages/lightgbm/engine.py:177: UserWarning: Found `num_iterations` in params. Will use it instead of argument\n",
      "  _log_warning(f\"Found `{alias}` in params. Will use it instead of argument\")\n",
      "/opt/conda/lib/python3.9/site-packages/lightgbm/engine.py:177: UserWarning: Found `num_iterations` in params. Will use it instead of argument\n",
      "  _log_warning(f\"Found `{alias}` in params. Will use it instead of argument\")\n",
      "/opt/conda/lib/python3.9/site-packages/lightgbm/engine.py:177: UserWarning: Found `num_iterations` in params. Will use it instead of argument\n",
      "  _log_warning(f\"Found `{alias}` in params. Will use it instead of argument\")\n",
      "/opt/conda/lib/python3.9/site-packages/lightgbm/engine.py:177: UserWarning: Found `num_iterations` in params. Will use it instead of argument\n",
      "  _log_warning(f\"Found `{alias}` in params. Will use it instead of argument\")\n",
      "/opt/conda/lib/python3.9/site-packages/lightgbm/engine.py:177: UserWarning: Found `num_iterations` in params. Will use it instead of argument\n",
      "  _log_warning(f\"Found `{alias}` in params. Will use it instead of argument\")\n",
      "/opt/conda/lib/python3.9/site-packages/lightgbm/engine.py:177: UserWarning: Found `num_iterations` in params. Will use it instead of argument\n",
      "  _log_warning(f\"Found `{alias}` in params. Will use it instead of argument\")\n",
      "/opt/conda/lib/python3.9/site-packages/lightgbm/engine.py:177: UserWarning: Found `num_iterations` in params. Will use it instead of argument\n",
      "  _log_warning(f\"Found `{alias}` in params. Will use it instead of argument\")\n",
      "/opt/conda/lib/python3.9/site-packages/lightgbm/engine.py:177: UserWarning: Found `num_iterations` in params. Will use it instead of argument\n",
      "  _log_warning(f\"Found `{alias}` in params. Will use it instead of argument\")\n",
      "/opt/conda/lib/python3.9/site-packages/lightgbm/engine.py:177: UserWarning: Found `num_iterations` in params. Will use it instead of argument\n",
      "  _log_warning(f\"Found `{alias}` in params. Will use it instead of argument\")\n",
      "/opt/conda/lib/python3.9/site-packages/lightgbm/engine.py:177: UserWarning: Found `num_iterations` in params. Will use it instead of argument\n",
      "  _log_warning(f\"Found `{alias}` in params. Will use it instead of argument\")\n",
      "/opt/conda/lib/python3.9/site-packages/lightgbm/engine.py:177: UserWarning: Found `num_iterations` in params. Will use it instead of argument\n",
      "  _log_warning(f\"Found `{alias}` in params. Will use it instead of argument\")\n",
      "/opt/conda/lib/python3.9/site-packages/lightgbm/engine.py:177: UserWarning: Found `num_iterations` in params. Will use it instead of argument\n",
      "  _log_warning(f\"Found `{alias}` in params. Will use it instead of argument\")\n",
      "/opt/conda/lib/python3.9/site-packages/lightgbm/engine.py:177: UserWarning: Found `num_iterations` in params. Will use it instead of argument\n",
      "  _log_warning(f\"Found `{alias}` in params. Will use it instead of argument\")\n",
      "/opt/conda/lib/python3.9/site-packages/lightgbm/engine.py:177: UserWarning: Found `num_iterations` in params. Will use it instead of argument\n",
      "  _log_warning(f\"Found `{alias}` in params. Will use it instead of argument\")\n",
      "/opt/conda/lib/python3.9/site-packages/lightgbm/engine.py:177: UserWarning: Found `num_iterations` in params. Will use it instead of argument\n",
      "  _log_warning(f\"Found `{alias}` in params. Will use it instead of argument\")\n",
      "/opt/conda/lib/python3.9/site-packages/lightgbm/engine.py:177: UserWarning: Found `num_iterations` in params. Will use it instead of argument\n",
      "  _log_warning(f\"Found `{alias}` in params. Will use it instead of argument\")\n",
      "/opt/conda/lib/python3.9/site-packages/lightgbm/engine.py:177: UserWarning: Found `num_iterations` in params. Will use it instead of argument\n",
      "  _log_warning(f\"Found `{alias}` in params. Will use it instead of argument\")\n",
      "/opt/conda/lib/python3.9/site-packages/lightgbm/engine.py:177: UserWarning: Found `num_iterations` in params. Will use it instead of argument\n",
      "  _log_warning(f\"Found `{alias}` in params. Will use it instead of argument\")\n",
      "/opt/conda/lib/python3.9/site-packages/lightgbm/engine.py:177: UserWarning: Found `num_iterations` in params. Will use it instead of argument\n",
      "  _log_warning(f\"Found `{alias}` in params. Will use it instead of argument\")\n",
      "/opt/conda/lib/python3.9/site-packages/lightgbm/engine.py:177: UserWarning: Found `num_iterations` in params. Will use it instead of argument\n",
      "  _log_warning(f\"Found `{alias}` in params. Will use it instead of argument\")\n",
      "/opt/conda/lib/python3.9/site-packages/lightgbm/engine.py:177: UserWarning: Found `num_iterations` in params. Will use it instead of argument\n",
      "  _log_warning(f\"Found `{alias}` in params. Will use it instead of argument\")\n",
      "/opt/conda/lib/python3.9/site-packages/lightgbm/engine.py:177: UserWarning: Found `num_iterations` in params. Will use it instead of argument\n",
      "  _log_warning(f\"Found `{alias}` in params. Will use it instead of argument\")\n",
      "/opt/conda/lib/python3.9/site-packages/lightgbm/engine.py:177: UserWarning: Found `num_iterations` in params. Will use it instead of argument\n",
      "  _log_warning(f\"Found `{alias}` in params. Will use it instead of argument\")\n",
      "/opt/conda/lib/python3.9/site-packages/lightgbm/engine.py:177: UserWarning: Found `num_iterations` in params. Will use it instead of argument\n",
      "  _log_warning(f\"Found `{alias}` in params. Will use it instead of argument\")\n",
      "/opt/conda/lib/python3.9/site-packages/lightgbm/engine.py:177: UserWarning: Found `num_iterations` in params. Will use it instead of argument\n",
      "  _log_warning(f\"Found `{alias}` in params. Will use it instead of argument\")\n"
     ]
    },
    {
     "name": "stdout",
     "output_type": "stream",
     "text": [
      "Оценка градиентного бустинга с кросс - валидацией: 1525.95\n",
      "Параметры градиентного бустинга с кросс - валидацией: {'learning_rate': 0.1, 'num_iterations': 200, 'num_leaves': 255}\n",
      "Время обучения градиентного бустинга с кросс - валидацией: 21.287200061480203\n"
     ]
    }
   ],
   "source": [
    "# обучаем модель градиентного бустинга\n",
    "start_model_lgb = time()\n",
    "gsearch_lgb.fit(features_auto_train, target_auto_train)\n",
    "best_model_lgb = gsearch_lgb.best_estimator_\n",
    "best_score_lgb = gsearch_lgb.best_score_\n",
    "params_lgb = gsearch_lgb.best_params_\n",
    "end_model_lgb = time()\n",
    "time_model_lgb = (end_model_lgb - start_model_lgb) / 60 # время обучения модели градиентного бустинга\n",
    "print(f'Оценка градиентного бустинга с кросс - валидацией: {-best_score_lgb.round(2)}', \\\n",
    "      f'Параметры градиентного бустинга с кросс - валидацией: {params_lgb}', \\\n",
    "      f'Время обучения градиентного бустинга с кросс - валидацией: {time_model_lgb}', sep='\\n')"
   ]
  },
  {
   "cell_type": "markdown",
   "metadata": {},
   "source": [
    "Качество модели градиентного бустинга с кросс - валидацией оказалось даже выше модели случайного леса (1526 против 1588), а вот скорость обучения намного - 4.5 минуты! Параметры градиентного бустинга модели LGBMRegressor - 'learning_rate': 0.1, 'num_iterations': 200, 'num_leaves'= 255"
   ]
  },
  {
   "cell_type": "code",
   "execution_count": 50,
   "metadata": {},
   "outputs": [
    {
     "name": "stdout",
     "output_type": "stream",
     "text": [
      "Чистое время обучения градиентного бустинга (без поиска гиперпараметров): 0.4115392009417216\n"
     ]
    }
   ],
   "source": [
    "# измеряем время обучения модели градиентного бустинга\n",
    "start_train_lgb = time()\n",
    "best_model_lgb.fit(features_auto_train, target_auto_train)\n",
    "end_train_lgb = time()\n",
    "time_train_lgb = (end_train_lgb - start_train_lgb) / 60 # время обучения дерева в минутах\n",
    "print('Чистое время обучения градиентного бустинга (без поиска гиперпараметров):', time_train_lgb)"
   ]
  },
  {
   "cell_type": "code",
   "execution_count": 51,
   "metadata": {},
   "outputs": [
    {
     "name": "stdout",
     "output_type": "stream",
     "text": [
      "Время предсказаний у градиентного бустинга: 0.0968030571937561\n"
     ]
    }
   ],
   "source": [
    "# измеряем время предсказаний градиентного спуска\n",
    "start_pred_lgb = time()\n",
    "pred_lgb_train = best_model_lgb.predict(features_auto_train)\n",
    "end_pred_lgb = time()\n",
    "time_pred_lgb = (end_pred_lgb - start_pred_lgb) / 60 # время пресказаний леса в минутах\n",
    "print('Время предсказаний у градиентного бустинга:', time_pred_lgb)"
   ]
  },
  {
   "cell_type": "markdown",
   "metadata": {},
   "source": [
    "Скорость предсказаний неплоха (сравнима с решающим деревом и значительно быстрее, чем случайный лес). Точность тоже в норме."
   ]
  },
  {
   "cell_type": "markdown",
   "metadata": {},
   "source": [
    "## Анализ моделей"
   ]
  },
  {
   "cell_type": "markdown",
   "metadata": {},
   "source": [
    "Для наглядности сделаем небольшой датафрейм с названием модели, временем обучения, точностью прогнозов по RMSE и скоростью предсказаний."
   ]
  },
  {
   "cell_type": "code",
   "execution_count": 52,
   "metadata": {
    "scrolled": true
   },
   "outputs": [
    {
     "data": {
      "text/html": [
       "<div>\n",
       "<style scoped>\n",
       "    .dataframe tbody tr th:only-of-type {\n",
       "        vertical-align: middle;\n",
       "    }\n",
       "\n",
       "    .dataframe tbody tr th {\n",
       "        vertical-align: top;\n",
       "    }\n",
       "\n",
       "    .dataframe thead th {\n",
       "        text-align: right;\n",
       "    }\n",
       "</style>\n",
       "<table border=\"1\" class=\"dataframe\">\n",
       "  <thead>\n",
       "    <tr style=\"text-align: right;\">\n",
       "      <th></th>\n",
       "      <th>0</th>\n",
       "      <th>1</th>\n",
       "      <th>2</th>\n",
       "      <th>3</th>\n",
       "    </tr>\n",
       "  </thead>\n",
       "  <tbody>\n",
       "    <tr>\n",
       "      <th>name_model</th>\n",
       "      <td>Ridge</td>\n",
       "      <td>DecisionTreeRegressor</td>\n",
       "      <td>RandomForestRegressor</td>\n",
       "      <td>LGBMRegressor</td>\n",
       "    </tr>\n",
       "    <tr>\n",
       "      <th>time_train</th>\n",
       "      <td>0.036662</td>\n",
       "      <td>0.008247</td>\n",
       "      <td>0.906356</td>\n",
       "      <td>0.411539</td>\n",
       "    </tr>\n",
       "    <tr>\n",
       "      <th>rmse</th>\n",
       "      <td>2531.15</td>\n",
       "      <td>1794.732824</td>\n",
       "      <td>1588.570028</td>\n",
       "      <td>1525.946725</td>\n",
       "    </tr>\n",
       "    <tr>\n",
       "      <th>time_pred</th>\n",
       "      <td>0.014928</td>\n",
       "      <td>0.000768</td>\n",
       "      <td>0.121546</td>\n",
       "      <td>0.096803</td>\n",
       "    </tr>\n",
       "  </tbody>\n",
       "</table>\n",
       "</div>"
      ],
      "text/plain": [
       "                   0                      1                      2  \\\n",
       "name_model     Ridge  DecisionTreeRegressor  RandomForestRegressor   \n",
       "time_train  0.036662               0.008247               0.906356   \n",
       "rmse         2531.15            1794.732824            1588.570028   \n",
       "time_pred   0.014928               0.000768               0.121546   \n",
       "\n",
       "                        3  \n",
       "name_model  LGBMRegressor  \n",
       "time_train       0.411539  \n",
       "rmse          1525.946725  \n",
       "time_pred        0.096803  "
      ]
     },
     "metadata": {},
     "output_type": "display_data"
    }
   ],
   "source": [
    "# делаем датафрейм для наглядности\n",
    "data_model = [['Ridge', 'DecisionTreeRegressor', 'RandomForestRegressor', 'LGBMRegressor'], \\\n",
    "              [time_train_ridge, time_train_tree, time_train_forest, time_train_lgb], \\\n",
    "              [best_score_ridge, -best_score_tree, -best_score_forest, -best_score_lgb], \\\n",
    "              [time_pred_ridge, time_pred_tree, time_pred_forest, time_pred_lgb]]\n",
    "data_model = pd.DataFrame(data=data_model, index=['name_model', 'time_train', 'rmse', 'time_pred'])\n",
    "display(data_model)"
   ]
  },
  {
   "cell_type": "markdown",
   "metadata": {},
   "source": [
    "Все модели быстры и проворны в обучении и предсказании, кроме модели Случайного леса. Она и долго обучается (в разы дольше всех) и медленнее всех даёт результаты, но это уже не так критично (8-9 секунд найдут почти все). По возрастанию точности прогноза порядок такой: гребневая регрессия, решающее дерево, случайный лес, и наконец, самый точный - градиентный бустинг.\n",
    "\n",
    "В таких условиях, конечно, надо выбирать градиентный бустинг и смотреть его предсказания на тестовой выборке."
   ]
  },
  {
   "cell_type": "code",
   "execution_count": 53,
   "metadata": {},
   "outputs": [
    {
     "name": "stdout",
     "output_type": "stream",
     "text": [
      "RMSE градиентного бустинга на тестовой выборке 1505.45\n",
      "CPU times: user 2 s, sys: 736 µs, total: 2 s\n",
      "Wall time: 1.94 s\n"
     ]
    }
   ],
   "source": [
    "%%time\n",
    "\n",
    "# модель градиентного бустинга на тестовой выборке\n",
    "pred_lgb_test = best_model_lgb.predict(features_auto_test)\n",
    "print('RMSE градиентного бустинга на тестовой выборке' ,mean_squared_error(target_auto_test, pred_lgb_test,\\\n",
    "                                                                           squared=False).round(2))"
   ]
  },
  {
   "cell_type": "markdown",
   "metadata": {},
   "source": [
    "Быстрые и достаточно точные результаты (даже немного превосходя результат обучения с кросс - валидацией) даёт нам модель градиентного спуска. Но в любом случае надо проверить нашу модель со стандартной - на вменяемость."
   ]
  },
  {
   "cell_type": "code",
   "execution_count": 54,
   "metadata": {},
   "outputs": [
    {
     "name": "stdout",
     "output_type": "stream",
     "text": [
      "RMSE константной модели на тестовой выборке 4582.28\n"
     ]
    }
   ],
   "source": [
    "# проверка - сравнение с моделью DummyRegressor\n",
    "model_dummy = DummyRegressor(strategy='mean')\n",
    "model_dummy.fit(features_auto_train, target_auto_train)\n",
    "pred_dummy = model_dummy.predict(features_auto_test)\n",
    "print('RMSE константной модели на тестовой выборке' , mean_squared_error(target_auto_test, pred_dummy, squared=False).round(2))"
   ]
  },
  {
   "cell_type": "markdown",
   "metadata": {},
   "source": [
    "Успех! Наша модель градиентного бустинга в разы лучше константной модели, что означет что она адекватна."
   ]
  },
  {
   "cell_type": "markdown",
   "metadata": {},
   "source": [
    "## Вывод"
   ]
  },
  {
   "cell_type": "markdown",
   "metadata": {},
   "source": [
    "По итогу обучения всех моделей можно сделать вывод о том что по соотношению скорость обучения/скорость прогнозов/точность результата однозначно лидирует модель градиентного бустинга с параметрами 'num_iterations': 200, 'num_leaves': 255, 'learning_rate': 0.1. Сравниться по точности с нашей моделью может лишь модель случайного леса, но она значительно дольше обучается и также значительно дольше делает прогнозы."
   ]
  }
 ],
 "metadata": {
  "ExecuteTimeLog": [
   {
    "duration": 2052,
    "start_time": "2023-09-28T20:49:30.796Z"
   },
   {
    "duration": 1385,
    "start_time": "2023-09-28T21:00:47.310Z"
   },
   {
    "duration": 138,
    "start_time": "2023-09-28T21:48:23.499Z"
   },
   {
    "duration": 549,
    "start_time": "2023-09-28T22:01:29.828Z"
   },
   {
    "duration": 52,
    "start_time": "2023-09-29T09:16:39.427Z"
   },
   {
    "duration": 1903,
    "start_time": "2023-09-29T09:16:55.826Z"
   },
   {
    "duration": 1458,
    "start_time": "2023-09-29T09:16:57.732Z"
   },
   {
    "duration": 187,
    "start_time": "2023-09-29T09:16:59.192Z"
   },
   {
    "duration": 593,
    "start_time": "2023-09-29T09:16:59.383Z"
   },
   {
    "duration": 137,
    "start_time": "2023-09-29T09:16:59.978Z"
   },
   {
    "duration": 1246,
    "start_time": "2023-09-29T09:18:07.590Z"
   },
   {
    "duration": 532,
    "start_time": "2023-09-29T09:51:23.731Z"
   },
   {
    "duration": 38,
    "start_time": "2023-09-29T10:07:43.170Z"
   },
   {
    "duration": 23,
    "start_time": "2023-09-29T10:17:59.958Z"
   },
   {
    "duration": 207,
    "start_time": "2023-09-29T10:26:07.283Z"
   },
   {
    "duration": 256,
    "start_time": "2023-09-29T10:27:27.808Z"
   },
   {
    "duration": 241,
    "start_time": "2023-09-29T10:28:47.926Z"
   },
   {
    "duration": 20,
    "start_time": "2023-09-29T10:52:01.946Z"
   },
   {
    "duration": 62,
    "start_time": "2023-09-29T18:16:17.638Z"
   },
   {
    "duration": 1682,
    "start_time": "2023-09-29T18:16:25.574Z"
   },
   {
    "duration": 3008,
    "start_time": "2023-09-29T18:16:27.258Z"
   },
   {
    "duration": 190,
    "start_time": "2023-09-29T18:16:30.268Z"
   },
   {
    "duration": 503,
    "start_time": "2023-09-29T18:16:30.460Z"
   },
   {
    "duration": 953,
    "start_time": "2023-09-29T18:16:30.965Z"
   },
   {
    "duration": 422,
    "start_time": "2023-09-29T18:16:31.920Z"
   },
   {
    "duration": 44,
    "start_time": "2023-09-29T18:16:32.343Z"
   },
   {
    "duration": 20,
    "start_time": "2023-09-29T18:16:32.389Z"
   },
   {
    "duration": 258,
    "start_time": "2023-09-29T18:16:32.411Z"
   },
   {
    "duration": 19,
    "start_time": "2023-09-29T18:16:32.672Z"
   },
   {
    "duration": 51,
    "start_time": "2023-09-29T18:16:32.693Z"
   },
   {
    "duration": 170,
    "start_time": "2023-09-29T18:21:15.525Z"
   },
   {
    "duration": 158,
    "start_time": "2023-09-29T18:30:51.914Z"
   },
   {
    "duration": 4343,
    "start_time": "2023-09-29T18:31:11.556Z"
   },
   {
    "duration": 4624,
    "start_time": "2023-09-29T18:36:18.083Z"
   },
   {
    "duration": 4579,
    "start_time": "2023-09-29T18:38:48.667Z"
   },
   {
    "duration": 4373,
    "start_time": "2023-09-29T18:41:48.377Z"
   },
   {
    "duration": 4982,
    "start_time": "2023-09-29T19:24:50.300Z"
   },
   {
    "duration": 49,
    "start_time": "2023-09-29T19:38:40.943Z"
   },
   {
    "duration": 36,
    "start_time": "2023-09-29T19:38:52.800Z"
   },
   {
    "duration": 1004,
    "start_time": "2023-09-29T20:09:48.904Z"
   },
   {
    "duration": 793,
    "start_time": "2023-09-29T20:14:19.323Z"
   },
   {
    "duration": 223,
    "start_time": "2023-09-29T20:26:11.170Z"
   },
   {
    "duration": 337,
    "start_time": "2023-09-29T20:40:00.059Z"
   },
   {
    "duration": 547,
    "start_time": "2023-09-29T20:57:24.606Z"
   },
   {
    "duration": 558,
    "start_time": "2023-09-29T20:59:35.688Z"
   },
   {
    "duration": 845,
    "start_time": "2023-09-29T21:10:26.105Z"
   },
   {
    "duration": 13305,
    "start_time": "2023-09-29T21:12:57.560Z"
   },
   {
    "duration": 47,
    "start_time": "2023-09-30T14:07:50.896Z"
   },
   {
    "duration": 1703,
    "start_time": "2023-09-30T14:08:04.833Z"
   },
   {
    "duration": 1109,
    "start_time": "2023-09-30T14:08:06.538Z"
   },
   {
    "duration": 143,
    "start_time": "2023-09-30T14:08:07.648Z"
   },
   {
    "duration": 444,
    "start_time": "2023-09-30T14:08:07.793Z"
   },
   {
    "duration": 906,
    "start_time": "2023-09-30T14:08:08.238Z"
   },
   {
    "duration": 364,
    "start_time": "2023-09-30T14:08:09.146Z"
   },
   {
    "duration": 42,
    "start_time": "2023-09-30T14:08:09.513Z"
   },
   {
    "duration": 103,
    "start_time": "2023-09-30T14:08:09.557Z"
   },
   {
    "duration": 253,
    "start_time": "2023-09-30T14:08:09.662Z"
   },
   {
    "duration": 18,
    "start_time": "2023-09-30T14:08:09.917Z"
   },
   {
    "duration": 32,
    "start_time": "2023-09-30T14:08:09.936Z"
   },
   {
    "duration": 183,
    "start_time": "2023-09-30T14:08:09.970Z"
   },
   {
    "duration": 4885,
    "start_time": "2023-09-30T14:08:10.155Z"
   },
   {
    "duration": 49,
    "start_time": "2023-09-30T14:08:15.042Z"
   },
   {
    "duration": 941,
    "start_time": "2023-09-30T14:08:15.093Z"
   },
   {
    "duration": 286,
    "start_time": "2023-09-30T14:08:16.036Z"
   },
   {
    "duration": 398,
    "start_time": "2023-09-30T14:08:16.325Z"
   },
   {
    "duration": 538,
    "start_time": "2023-09-30T14:08:16.726Z"
   },
   {
    "duration": 13142,
    "start_time": "2023-09-30T14:08:17.266Z"
   },
   {
    "duration": 518,
    "start_time": "2023-09-30T14:08:30.409Z"
   },
   {
    "duration": 1378,
    "start_time": "2023-09-30T14:10:03.582Z"
   },
   {
    "duration": 827,
    "start_time": "2023-09-30T14:10:04.962Z"
   },
   {
    "duration": 163,
    "start_time": "2023-09-30T14:10:05.791Z"
   },
   {
    "duration": 479,
    "start_time": "2023-09-30T14:10:05.957Z"
   },
   {
    "duration": 899,
    "start_time": "2023-09-30T14:10:06.437Z"
   },
   {
    "duration": 374,
    "start_time": "2023-09-30T14:10:07.338Z"
   },
   {
    "duration": 38,
    "start_time": "2023-09-30T14:10:07.713Z"
   },
   {
    "duration": 18,
    "start_time": "2023-09-30T14:10:07.753Z"
   },
   {
    "duration": 226,
    "start_time": "2023-09-30T14:10:07.773Z"
   },
   {
    "duration": 18,
    "start_time": "2023-09-30T14:10:08.001Z"
   },
   {
    "duration": 29,
    "start_time": "2023-09-30T14:10:08.020Z"
   },
   {
    "duration": 170,
    "start_time": "2023-09-30T14:10:08.051Z"
   },
   {
    "duration": 4438,
    "start_time": "2023-09-30T14:10:08.223Z"
   },
   {
    "duration": 40,
    "start_time": "2023-09-30T14:10:12.662Z"
   },
   {
    "duration": 926,
    "start_time": "2023-09-30T14:10:12.704Z"
   },
   {
    "duration": 234,
    "start_time": "2023-09-30T14:10:13.632Z"
   },
   {
    "duration": 353,
    "start_time": "2023-09-30T14:10:13.868Z"
   },
   {
    "duration": 498,
    "start_time": "2023-09-30T14:10:14.223Z"
   },
   {
    "duration": 12191,
    "start_time": "2023-09-30T14:10:14.722Z"
   },
   {
    "duration": 524,
    "start_time": "2023-09-30T14:12:04.358Z"
   },
   {
    "duration": 1344,
    "start_time": "2023-09-30T14:23:33.299Z"
   },
   {
    "duration": 836,
    "start_time": "2023-09-30T14:23:34.645Z"
   },
   {
    "duration": 131,
    "start_time": "2023-09-30T14:23:35.483Z"
   },
   {
    "duration": 477,
    "start_time": "2023-09-30T14:23:35.616Z"
   },
   {
    "duration": 890,
    "start_time": "2023-09-30T14:23:36.095Z"
   },
   {
    "duration": 375,
    "start_time": "2023-09-30T14:23:36.986Z"
   },
   {
    "duration": 31,
    "start_time": "2023-09-30T14:23:37.362Z"
   },
   {
    "duration": 20,
    "start_time": "2023-09-30T14:23:37.394Z"
   },
   {
    "duration": 225,
    "start_time": "2023-09-30T14:23:37.416Z"
   },
   {
    "duration": 17,
    "start_time": "2023-09-30T14:23:37.649Z"
   },
   {
    "duration": 34,
    "start_time": "2023-09-30T14:23:37.668Z"
   },
   {
    "duration": 155,
    "start_time": "2023-09-30T14:23:37.704Z"
   },
   {
    "duration": 4389,
    "start_time": "2023-09-30T14:23:37.861Z"
   },
   {
    "duration": 39,
    "start_time": "2023-09-30T14:23:42.252Z"
   },
   {
    "duration": 874,
    "start_time": "2023-09-30T14:23:42.293Z"
   },
   {
    "duration": 207,
    "start_time": "2023-09-30T14:23:43.169Z"
   },
   {
    "duration": 338,
    "start_time": "2023-09-30T14:23:43.377Z"
   },
   {
    "duration": 494,
    "start_time": "2023-09-30T14:23:43.717Z"
   },
   {
    "duration": 12393,
    "start_time": "2023-09-30T14:23:44.213Z"
   },
   {
    "duration": 559,
    "start_time": "2023-09-30T14:24:31.597Z"
   },
   {
    "duration": 552,
    "start_time": "2023-09-30T14:55:14.684Z"
   },
   {
    "duration": 242,
    "start_time": "2023-09-30T15:25:36.768Z"
   },
   {
    "duration": 241,
    "start_time": "2023-09-30T15:26:45.320Z"
   },
   {
    "duration": 781,
    "start_time": "2023-09-30T15:39:37.650Z"
   },
   {
    "duration": 26,
    "start_time": "2023-09-30T15:44:32.346Z"
   },
   {
    "duration": 6,
    "start_time": "2023-09-30T15:45:22.279Z"
   },
   {
    "duration": 23,
    "start_time": "2023-09-30T16:19:39.619Z"
   },
   {
    "duration": 754,
    "start_time": "2023-09-30T16:36:09.942Z"
   },
   {
    "duration": 310,
    "start_time": "2023-09-30T16:45:16.912Z"
   },
   {
    "duration": 499,
    "start_time": "2023-09-30T16:45:46.008Z"
   },
   {
    "duration": 438,
    "start_time": "2023-09-30T16:49:26.543Z"
   },
   {
    "duration": 1417,
    "start_time": "2023-09-30T16:52:40.729Z"
   },
   {
    "duration": 780,
    "start_time": "2023-09-30T16:52:42.148Z"
   },
   {
    "duration": 133,
    "start_time": "2023-09-30T16:52:42.930Z"
   },
   {
    "duration": 419,
    "start_time": "2023-09-30T16:52:43.065Z"
   },
   {
    "duration": 838,
    "start_time": "2023-09-30T16:52:43.485Z"
   },
   {
    "duration": 371,
    "start_time": "2023-09-30T16:52:44.325Z"
   },
   {
    "duration": 32,
    "start_time": "2023-09-30T16:52:44.698Z"
   },
   {
    "duration": 24,
    "start_time": "2023-09-30T16:52:44.732Z"
   },
   {
    "duration": 213,
    "start_time": "2023-09-30T16:52:44.757Z"
   },
   {
    "duration": 18,
    "start_time": "2023-09-30T16:52:44.972Z"
   },
   {
    "duration": 21,
    "start_time": "2023-09-30T16:52:44.992Z"
   },
   {
    "duration": 193,
    "start_time": "2023-09-30T16:52:45.015Z"
   },
   {
    "duration": 4310,
    "start_time": "2023-09-30T16:52:45.210Z"
   },
   {
    "duration": 44,
    "start_time": "2023-09-30T16:52:49.522Z"
   },
   {
    "duration": 882,
    "start_time": "2023-09-30T16:52:49.568Z"
   },
   {
    "duration": 222,
    "start_time": "2023-09-30T16:52:50.452Z"
   },
   {
    "duration": 338,
    "start_time": "2023-09-30T16:52:50.676Z"
   },
   {
    "duration": 484,
    "start_time": "2023-09-30T16:52:51.015Z"
   },
   {
    "duration": 12178,
    "start_time": "2023-09-30T16:52:51.501Z"
   },
   {
    "duration": 541,
    "start_time": "2023-09-30T16:53:03.681Z"
   },
   {
    "duration": 549,
    "start_time": "2023-09-30T16:53:04.223Z"
   },
   {
    "duration": 237,
    "start_time": "2023-09-30T16:53:04.774Z"
   },
   {
    "duration": 156,
    "start_time": "2023-09-30T16:53:05.013Z"
   },
   {
    "duration": 20,
    "start_time": "2023-09-30T16:53:05.170Z"
   },
   {
    "duration": 757,
    "start_time": "2023-09-30T16:53:05.191Z"
   },
   {
    "duration": 548,
    "start_time": "2023-09-30T16:53:05.950Z"
   },
   {
    "duration": 40087,
    "start_time": "2023-09-30T17:28:46.264Z"
   },
   {
    "duration": 198,
    "start_time": "2023-09-30T18:25:29.528Z"
   },
   {
    "duration": 99,
    "start_time": "2023-09-30T18:26:17.150Z"
   },
   {
    "duration": 1331,
    "start_time": "2023-09-30T18:41:50.597Z"
   },
   {
    "duration": 833,
    "start_time": "2023-09-30T18:41:51.929Z"
   },
   {
    "duration": 137,
    "start_time": "2023-09-30T18:41:52.764Z"
   },
   {
    "duration": 436,
    "start_time": "2023-09-30T18:41:52.903Z"
   },
   {
    "duration": 900,
    "start_time": "2023-09-30T18:41:53.341Z"
   },
   {
    "duration": 403,
    "start_time": "2023-09-30T18:41:54.243Z"
   },
   {
    "duration": 41,
    "start_time": "2023-09-30T18:41:54.649Z"
   },
   {
    "duration": 23,
    "start_time": "2023-09-30T18:41:54.691Z"
   },
   {
    "duration": 227,
    "start_time": "2023-09-30T18:41:54.715Z"
   },
   {
    "duration": 30,
    "start_time": "2023-09-30T18:41:54.943Z"
   },
   {
    "duration": 30,
    "start_time": "2023-09-30T18:41:54.974Z"
   },
   {
    "duration": 187,
    "start_time": "2023-09-30T18:41:55.006Z"
   },
   {
    "duration": 4522,
    "start_time": "2023-09-30T18:41:55.194Z"
   },
   {
    "duration": 48,
    "start_time": "2023-09-30T18:41:59.719Z"
   },
   {
    "duration": 931,
    "start_time": "2023-09-30T18:41:59.769Z"
   },
   {
    "duration": 216,
    "start_time": "2023-09-30T18:42:00.701Z"
   },
   {
    "duration": 367,
    "start_time": "2023-09-30T18:42:00.919Z"
   },
   {
    "duration": 555,
    "start_time": "2023-09-30T18:42:01.288Z"
   },
   {
    "duration": 13218,
    "start_time": "2023-09-30T18:42:01.844Z"
   },
   {
    "duration": 611,
    "start_time": "2023-09-30T18:42:15.063Z"
   },
   {
    "duration": 751,
    "start_time": "2023-09-30T18:42:15.677Z"
   },
   {
    "duration": 294,
    "start_time": "2023-09-30T18:42:16.429Z"
   },
   {
    "duration": 170,
    "start_time": "2023-09-30T18:42:16.725Z"
   },
   {
    "duration": 21,
    "start_time": "2023-09-30T18:42:16.896Z"
   },
   {
    "duration": 774,
    "start_time": "2023-09-30T18:42:16.919Z"
   },
   {
    "duration": 550,
    "start_time": "2023-09-30T18:42:17.695Z"
   },
   {
    "duration": 68811,
    "start_time": "2023-09-30T18:42:18.249Z"
   },
   {
    "duration": 1459,
    "start_time": "2023-10-01T05:03:35.145Z"
   },
   {
    "duration": 835,
    "start_time": "2023-10-01T05:03:36.606Z"
   },
   {
    "duration": 137,
    "start_time": "2023-10-01T05:03:37.442Z"
   },
   {
    "duration": 471,
    "start_time": "2023-10-01T05:03:37.580Z"
   },
   {
    "duration": 928,
    "start_time": "2023-10-01T05:03:38.053Z"
   },
   {
    "duration": 387,
    "start_time": "2023-10-01T05:03:38.983Z"
   },
   {
    "duration": 33,
    "start_time": "2023-10-01T05:03:39.371Z"
   },
   {
    "duration": 21,
    "start_time": "2023-10-01T05:03:39.405Z"
   },
   {
    "duration": 245,
    "start_time": "2023-10-01T05:03:39.427Z"
   },
   {
    "duration": 18,
    "start_time": "2023-10-01T05:03:39.673Z"
   },
   {
    "duration": 22,
    "start_time": "2023-10-01T05:03:39.693Z"
   },
   {
    "duration": 178,
    "start_time": "2023-10-01T05:03:39.717Z"
   },
   {
    "duration": 4686,
    "start_time": "2023-10-01T05:03:39.896Z"
   },
   {
    "duration": 42,
    "start_time": "2023-10-01T05:03:44.586Z"
   },
   {
    "duration": 959,
    "start_time": "2023-10-01T05:03:44.630Z"
   },
   {
    "duration": 235,
    "start_time": "2023-10-01T05:03:45.591Z"
   },
   {
    "duration": 368,
    "start_time": "2023-10-01T05:03:45.827Z"
   },
   {
    "duration": 533,
    "start_time": "2023-10-01T05:03:46.197Z"
   },
   {
    "duration": 12927,
    "start_time": "2023-10-01T05:03:46.731Z"
   },
   {
    "duration": 585,
    "start_time": "2023-10-01T05:03:59.660Z"
   },
   {
    "duration": 586,
    "start_time": "2023-10-01T05:04:00.247Z"
   },
   {
    "duration": 261,
    "start_time": "2023-10-01T05:04:00.834Z"
   },
   {
    "duration": 166,
    "start_time": "2023-10-01T05:04:01.097Z"
   },
   {
    "duration": 22,
    "start_time": "2023-10-01T05:04:01.265Z"
   },
   {
    "duration": 1056,
    "start_time": "2023-10-01T05:04:01.288Z"
   },
   {
    "duration": 547,
    "start_time": "2023-10-01T05:04:02.345Z"
   },
   {
    "duration": 22960,
    "start_time": "2023-10-01T05:04:02.894Z"
   },
   {
    "duration": 5425694,
    "start_time": "2023-10-01T05:04:25.857Z"
   },
   {
    "duration": 96,
    "start_time": "2023-10-01T06:34:51.552Z"
   },
   {
    "duration": 5578669,
    "start_time": "2023-10-01T06:49:31.661Z"
   },
   {
    "duration": 131,
    "start_time": "2023-10-01T08:28:16.520Z"
   },
   {
    "duration": 127,
    "start_time": "2023-10-01T08:33:43.142Z"
   },
   {
    "duration": 10,
    "start_time": "2023-10-01T09:28:29.353Z"
   },
   {
    "duration": 4,
    "start_time": "2023-10-01T09:29:51.668Z"
   },
   {
    "duration": 367,
    "start_time": "2023-10-01T10:45:44.231Z"
   },
   {
    "duration": 1557,
    "start_time": "2023-10-01T19:38:30.561Z"
   },
   {
    "duration": 970,
    "start_time": "2023-10-01T19:38:32.121Z"
   },
   {
    "duration": 160,
    "start_time": "2023-10-01T19:38:33.092Z"
   },
   {
    "duration": 507,
    "start_time": "2023-10-01T19:38:33.258Z"
   },
   {
    "duration": 1030,
    "start_time": "2023-10-01T19:38:33.768Z"
   },
   {
    "duration": 401,
    "start_time": "2023-10-01T19:38:34.800Z"
   },
   {
    "duration": 32,
    "start_time": "2023-10-01T19:38:35.203Z"
   },
   {
    "duration": 38,
    "start_time": "2023-10-01T19:38:35.237Z"
   },
   {
    "duration": 308,
    "start_time": "2023-10-01T19:38:35.277Z"
   },
   {
    "duration": 27,
    "start_time": "2023-10-01T19:38:35.588Z"
   },
   {
    "duration": 26,
    "start_time": "2023-10-01T19:38:35.617Z"
   },
   {
    "duration": 180,
    "start_time": "2023-10-01T19:38:35.644Z"
   },
   {
    "duration": 4760,
    "start_time": "2023-10-01T19:38:35.826Z"
   },
   {
    "duration": 45,
    "start_time": "2023-10-01T19:38:40.589Z"
   },
   {
    "duration": 969,
    "start_time": "2023-10-01T19:38:40.636Z"
   },
   {
    "duration": 227,
    "start_time": "2023-10-01T19:38:41.607Z"
   },
   {
    "duration": 374,
    "start_time": "2023-10-01T19:38:41.836Z"
   },
   {
    "duration": 658,
    "start_time": "2023-10-01T19:38:42.212Z"
   },
   {
    "duration": 13795,
    "start_time": "2023-10-01T19:38:42.872Z"
   },
   {
    "duration": 698,
    "start_time": "2023-10-01T19:38:56.671Z"
   },
   {
    "duration": 633,
    "start_time": "2023-10-01T19:38:57.373Z"
   },
   {
    "duration": 291,
    "start_time": "2023-10-01T19:38:58.009Z"
   },
   {
    "duration": 180,
    "start_time": "2023-10-01T19:38:58.301Z"
   },
   {
    "duration": 23,
    "start_time": "2023-10-01T19:38:58.483Z"
   },
   {
    "duration": 902,
    "start_time": "2023-10-01T19:38:58.507Z"
   },
   {
    "duration": 551,
    "start_time": "2023-10-01T19:38:59.411Z"
   },
   {
    "duration": 51987,
    "start_time": "2023-10-01T19:38:59.964Z"
   },
   {
    "duration": 452642,
    "start_time": "2023-10-01T19:45:48.831Z"
   },
   {
    "duration": 91,
    "start_time": "2023-10-01T20:08:32.980Z"
   },
   {
    "duration": 9411,
    "start_time": "2023-10-01T20:08:58.675Z"
   },
   {
    "duration": 659103,
    "start_time": "2023-10-01T20:22:31.743Z"
   },
   {
    "duration": 261,
    "start_time": "2023-10-01T20:38:17.592Z"
   },
   {
    "duration": 177,
    "start_time": "2023-10-01T20:44:04.724Z"
   },
   {
    "duration": 2640,
    "start_time": "2023-10-01T20:48:09.085Z"
   },
   {
    "duration": 1217,
    "start_time": "2023-10-01T20:54:16.076Z"
   },
   {
    "duration": 1811,
    "start_time": "2023-10-02T09:03:50.267Z"
   },
   {
    "duration": 4,
    "start_time": "2023-10-02T09:04:23.006Z"
   },
   {
    "duration": 1356,
    "start_time": "2023-10-02T09:06:01.082Z"
   },
   {
    "duration": 1451,
    "start_time": "2023-10-02T09:08:37.851Z"
   },
   {
    "duration": 849,
    "start_time": "2023-10-02T09:08:47.021Z"
   },
   {
    "duration": 144,
    "start_time": "2023-10-02T09:08:59.847Z"
   },
   {
    "duration": 408,
    "start_time": "2023-10-02T09:10:07.438Z"
   },
   {
    "duration": 1678,
    "start_time": "2023-10-02T20:24:10.161Z"
   },
   {
    "duration": 1317,
    "start_time": "2023-10-02T20:24:15.561Z"
   },
   {
    "duration": 133,
    "start_time": "2023-10-02T20:25:28.910Z"
   },
   {
    "duration": 419,
    "start_time": "2023-10-02T20:25:42.517Z"
   },
   {
    "duration": 946,
    "start_time": "2023-10-02T20:25:46.018Z"
   },
   {
    "duration": 374,
    "start_time": "2023-10-02T20:26:02.776Z"
   },
   {
    "duration": 34,
    "start_time": "2023-10-02T20:27:21.504Z"
   },
   {
    "duration": 20,
    "start_time": "2023-10-02T20:27:25.420Z"
   },
   {
    "duration": 4,
    "start_time": "2023-10-02T20:29:16.223Z"
   },
   {
    "duration": 209,
    "start_time": "2023-10-02T20:29:47.780Z"
   },
   {
    "duration": 31,
    "start_time": "2023-10-02T20:31:55.884Z"
   },
   {
    "duration": 20,
    "start_time": "2023-10-02T20:32:32.547Z"
   },
   {
    "duration": 159,
    "start_time": "2023-10-02T20:32:46.860Z"
   },
   {
    "duration": 4284,
    "start_time": "2023-10-02T20:33:57.180Z"
   },
   {
    "duration": 98,
    "start_time": "2023-10-02T20:39:14.447Z"
   },
   {
    "duration": 979,
    "start_time": "2023-10-02T20:52:15.666Z"
   },
   {
    "duration": 23,
    "start_time": "2023-10-02T20:58:37.142Z"
   },
   {
    "duration": 106,
    "start_time": "2023-10-02T20:59:01.347Z"
   },
   {
    "duration": 229,
    "start_time": "2023-10-02T21:07:57.908Z"
   },
   {
    "duration": 22,
    "start_time": "2023-10-02T21:08:09.062Z"
   },
   {
    "duration": 96,
    "start_time": "2023-10-02T21:08:13.766Z"
   },
   {
    "duration": 1429,
    "start_time": "2023-10-02T21:09:09.345Z"
   },
   {
    "duration": 893,
    "start_time": "2023-10-02T21:09:10.775Z"
   },
   {
    "duration": 143,
    "start_time": "2023-10-02T21:09:11.669Z"
   },
   {
    "duration": 480,
    "start_time": "2023-10-02T21:09:11.814Z"
   },
   {
    "duration": 1036,
    "start_time": "2023-10-02T21:09:12.296Z"
   },
   {
    "duration": 404,
    "start_time": "2023-10-02T21:09:13.334Z"
   },
   {
    "duration": 45,
    "start_time": "2023-10-02T21:09:13.739Z"
   },
   {
    "duration": 18,
    "start_time": "2023-10-02T21:09:13.786Z"
   },
   {
    "duration": 250,
    "start_time": "2023-10-02T21:09:13.805Z"
   },
   {
    "duration": 22,
    "start_time": "2023-10-02T21:09:14.058Z"
   },
   {
    "duration": 40,
    "start_time": "2023-10-02T21:09:14.082Z"
   },
   {
    "duration": 206,
    "start_time": "2023-10-02T21:09:14.124Z"
   },
   {
    "duration": 4805,
    "start_time": "2023-10-02T21:09:14.332Z"
   },
   {
    "duration": 81,
    "start_time": "2023-10-02T21:09:19.139Z"
   },
   {
    "duration": 898,
    "start_time": "2023-10-02T21:09:19.221Z"
   },
   {
    "duration": 247,
    "start_time": "2023-10-02T21:09:20.121Z"
   },
   {
    "duration": 17,
    "start_time": "2023-10-02T21:09:20.370Z"
   },
   {
    "duration": 141,
    "start_time": "2023-10-02T21:09:20.389Z"
   },
   {
    "duration": 546,
    "start_time": "2023-10-02T21:10:01.865Z"
   },
   {
    "duration": 38,
    "start_time": "2023-10-02T21:17:24.267Z"
   },
   {
    "duration": 13452,
    "start_time": "2023-10-02T21:24:22.158Z"
   },
   {
    "duration": 14398,
    "start_time": "2023-10-02T21:24:47.334Z"
   },
   {
    "duration": 32,
    "start_time": "2023-10-02T21:28:08.318Z"
   },
   {
    "duration": 507,
    "start_time": "2023-10-02T21:28:43.640Z"
   },
   {
    "duration": 573,
    "start_time": "2023-10-02T21:32:40.856Z"
   },
   {
    "duration": 264,
    "start_time": "2023-10-02T21:33:36.225Z"
   },
   {
    "duration": 1717,
    "start_time": "2023-10-02T21:35:15.177Z"
   },
   {
    "duration": 13,
    "start_time": "2023-10-02T21:35:55.117Z"
   },
   {
    "duration": 1402,
    "start_time": "2023-10-02T21:38:04.434Z"
   },
   {
    "duration": 869,
    "start_time": "2023-10-02T21:38:05.838Z"
   },
   {
    "duration": 137,
    "start_time": "2023-10-02T21:38:06.708Z"
   },
   {
    "duration": 451,
    "start_time": "2023-10-02T21:38:06.849Z"
   },
   {
    "duration": 981,
    "start_time": "2023-10-02T21:38:07.301Z"
   },
   {
    "duration": 372,
    "start_time": "2023-10-02T21:38:08.284Z"
   },
   {
    "duration": 31,
    "start_time": "2023-10-02T21:38:08.658Z"
   },
   {
    "duration": 18,
    "start_time": "2023-10-02T21:38:08.690Z"
   },
   {
    "duration": 208,
    "start_time": "2023-10-02T21:38:08.710Z"
   },
   {
    "duration": 17,
    "start_time": "2023-10-02T21:38:08.920Z"
   },
   {
    "duration": 70,
    "start_time": "2023-10-02T21:38:08.939Z"
   },
   {
    "duration": 175,
    "start_time": "2023-10-02T21:38:09.011Z"
   },
   {
    "duration": 4389,
    "start_time": "2023-10-02T21:38:09.187Z"
   },
   {
    "duration": 73,
    "start_time": "2023-10-02T21:38:13.578Z"
   },
   {
    "duration": 954,
    "start_time": "2023-10-02T21:38:13.653Z"
   },
   {
    "duration": 241,
    "start_time": "2023-10-02T21:38:14.609Z"
   },
   {
    "duration": 20,
    "start_time": "2023-10-02T21:38:14.852Z"
   },
   {
    "duration": 109,
    "start_time": "2023-10-02T21:38:14.873Z"
   },
   {
    "duration": 564,
    "start_time": "2023-10-02T21:38:14.983Z"
   },
   {
    "duration": 41,
    "start_time": "2023-10-02T21:38:15.549Z"
   },
   {
    "duration": 12589,
    "start_time": "2023-10-02T21:38:15.592Z"
   },
   {
    "duration": 28,
    "start_time": "2023-10-02T21:38:28.183Z"
   },
   {
    "duration": 499,
    "start_time": "2023-10-02T21:38:28.213Z"
   },
   {
    "duration": 568,
    "start_time": "2023-10-02T21:38:28.713Z"
   },
   {
    "duration": 250,
    "start_time": "2023-10-02T21:38:29.282Z"
   },
   {
    "duration": 1115,
    "start_time": "2023-10-02T21:38:29.534Z"
   },
   {
    "duration": 13,
    "start_time": "2023-10-02T21:38:30.651Z"
   },
   {
    "duration": 118,
    "start_time": "2023-10-02T21:50:11.941Z"
   },
   {
    "duration": 3,
    "start_time": "2023-10-02T21:50:34.035Z"
   },
   {
    "duration": 15,
    "start_time": "2023-10-02T21:59:03.398Z"
   },
   {
    "duration": 157,
    "start_time": "2023-10-02T22:10:58.052Z"
   },
   {
    "duration": 1486,
    "start_time": "2023-10-02T22:13:55.985Z"
   },
   {
    "duration": 823,
    "start_time": "2023-10-02T22:13:57.473Z"
   },
   {
    "duration": 166,
    "start_time": "2023-10-02T22:13:58.297Z"
   },
   {
    "duration": 452,
    "start_time": "2023-10-02T22:13:58.466Z"
   },
   {
    "duration": 942,
    "start_time": "2023-10-02T22:13:58.919Z"
   },
   {
    "duration": 406,
    "start_time": "2023-10-02T22:13:59.864Z"
   },
   {
    "duration": 42,
    "start_time": "2023-10-02T22:14:00.272Z"
   },
   {
    "duration": 45,
    "start_time": "2023-10-02T22:14:00.317Z"
   },
   {
    "duration": 250,
    "start_time": "2023-10-02T22:14:00.363Z"
   },
   {
    "duration": 18,
    "start_time": "2023-10-02T22:14:00.616Z"
   },
   {
    "duration": 64,
    "start_time": "2023-10-02T22:14:00.635Z"
   },
   {
    "duration": 214,
    "start_time": "2023-10-02T22:14:00.700Z"
   },
   {
    "duration": 4348,
    "start_time": "2023-10-02T22:14:00.915Z"
   },
   {
    "duration": 65,
    "start_time": "2023-10-02T22:14:05.265Z"
   },
   {
    "duration": 933,
    "start_time": "2023-10-02T22:14:05.332Z"
   },
   {
    "duration": 260,
    "start_time": "2023-10-02T22:14:06.266Z"
   },
   {
    "duration": 24,
    "start_time": "2023-10-02T22:14:06.527Z"
   },
   {
    "duration": 95,
    "start_time": "2023-10-02T22:14:06.564Z"
   },
   {
    "duration": 489,
    "start_time": "2023-10-02T22:14:06.660Z"
   },
   {
    "duration": 40,
    "start_time": "2023-10-02T22:14:07.154Z"
   },
   {
    "duration": 13392,
    "start_time": "2023-10-02T22:14:07.196Z"
   },
   {
    "duration": 27,
    "start_time": "2023-10-02T22:14:20.590Z"
   },
   {
    "duration": 557,
    "start_time": "2023-10-02T22:14:20.619Z"
   },
   {
    "duration": 567,
    "start_time": "2023-10-02T22:14:21.177Z"
   },
   {
    "duration": 281,
    "start_time": "2023-10-02T22:14:21.746Z"
   },
   {
    "duration": 1102,
    "start_time": "2023-10-02T22:14:22.028Z"
   },
   {
    "duration": 27,
    "start_time": "2023-10-02T22:14:23.132Z"
   },
   {
    "duration": 14,
    "start_time": "2023-10-02T22:14:23.162Z"
   },
   {
    "duration": 136,
    "start_time": "2023-10-02T22:14:23.177Z"
   },
   {
    "duration": 216,
    "start_time": "2023-10-02T22:25:23.318Z"
   },
   {
    "duration": 676,
    "start_time": "2023-10-02T22:33:06.984Z"
   },
   {
    "duration": 210,
    "start_time": "2023-10-02T22:35:43.591Z"
   },
   {
    "duration": 222,
    "start_time": "2023-10-02T22:37:08.178Z"
   },
   {
    "duration": 1636,
    "start_time": "2023-10-02T22:40:15.249Z"
   },
   {
    "duration": 888,
    "start_time": "2023-10-02T22:40:16.887Z"
   },
   {
    "duration": 156,
    "start_time": "2023-10-02T22:40:17.776Z"
   },
   {
    "duration": 508,
    "start_time": "2023-10-02T22:40:17.934Z"
   },
   {
    "duration": 1015,
    "start_time": "2023-10-02T22:40:18.444Z"
   },
   {
    "duration": 385,
    "start_time": "2023-10-02T22:40:19.461Z"
   },
   {
    "duration": 32,
    "start_time": "2023-10-02T22:40:19.864Z"
   },
   {
    "duration": 18,
    "start_time": "2023-10-02T22:40:19.898Z"
   },
   {
    "duration": 217,
    "start_time": "2023-10-02T22:40:19.917Z"
   },
   {
    "duration": 28,
    "start_time": "2023-10-02T22:40:20.136Z"
   },
   {
    "duration": 28,
    "start_time": "2023-10-02T22:40:20.166Z"
   },
   {
    "duration": 168,
    "start_time": "2023-10-02T22:40:20.195Z"
   },
   {
    "duration": 4398,
    "start_time": "2023-10-02T22:40:20.365Z"
   },
   {
    "duration": 68,
    "start_time": "2023-10-02T22:40:24.766Z"
   },
   {
    "duration": 940,
    "start_time": "2023-10-02T22:40:24.835Z"
   },
   {
    "duration": 255,
    "start_time": "2023-10-02T22:40:25.777Z"
   },
   {
    "duration": 37,
    "start_time": "2023-10-02T22:40:26.034Z"
   },
   {
    "duration": 114,
    "start_time": "2023-10-02T22:40:26.073Z"
   },
   {
    "duration": 522,
    "start_time": "2023-10-02T22:40:26.188Z"
   },
   {
    "duration": 52,
    "start_time": "2023-10-02T22:40:26.712Z"
   },
   {
    "duration": 13157,
    "start_time": "2023-10-02T22:40:26.765Z"
   },
   {
    "duration": 40,
    "start_time": "2023-10-02T22:40:39.924Z"
   },
   {
    "duration": 555,
    "start_time": "2023-10-02T22:40:39.967Z"
   },
   {
    "duration": 584,
    "start_time": "2023-10-02T22:40:40.524Z"
   },
   {
    "duration": 262,
    "start_time": "2023-10-02T22:40:41.109Z"
   },
   {
    "duration": 1140,
    "start_time": "2023-10-02T22:40:41.373Z"
   },
   {
    "duration": 13,
    "start_time": "2023-10-02T22:40:42.515Z"
   },
   {
    "duration": 23,
    "start_time": "2023-10-02T22:40:42.531Z"
   },
   {
    "duration": 132,
    "start_time": "2023-10-02T22:40:42.564Z"
   },
   {
    "duration": 832,
    "start_time": "2023-10-02T22:40:45.069Z"
   },
   {
    "duration": 26,
    "start_time": "2023-10-02T22:43:20.765Z"
   },
   {
    "duration": 1530,
    "start_time": "2023-10-02T22:56:44.199Z"
   },
   {
    "duration": 956,
    "start_time": "2023-10-02T22:56:45.731Z"
   },
   {
    "duration": 145,
    "start_time": "2023-10-02T22:56:46.689Z"
   },
   {
    "duration": 473,
    "start_time": "2023-10-02T22:56:46.837Z"
   },
   {
    "duration": 913,
    "start_time": "2023-10-02T22:56:47.311Z"
   },
   {
    "duration": 433,
    "start_time": "2023-10-02T22:56:48.226Z"
   },
   {
    "duration": 32,
    "start_time": "2023-10-02T22:56:48.661Z"
   },
   {
    "duration": 17,
    "start_time": "2023-10-02T22:56:48.695Z"
   },
   {
    "duration": 215,
    "start_time": "2023-10-02T22:56:48.714Z"
   },
   {
    "duration": 29,
    "start_time": "2023-10-02T22:56:48.931Z"
   },
   {
    "duration": 54,
    "start_time": "2023-10-02T22:56:48.961Z"
   },
   {
    "duration": 180,
    "start_time": "2023-10-02T22:56:49.017Z"
   },
   {
    "duration": 4318,
    "start_time": "2023-10-02T22:56:49.198Z"
   },
   {
    "duration": 81,
    "start_time": "2023-10-02T22:56:53.517Z"
   },
   {
    "duration": 918,
    "start_time": "2023-10-02T22:56:53.600Z"
   },
   {
    "duration": 228,
    "start_time": "2023-10-02T22:56:54.519Z"
   },
   {
    "duration": 26,
    "start_time": "2023-10-02T22:56:54.750Z"
   },
   {
    "duration": 249,
    "start_time": "2023-10-02T22:56:54.777Z"
   },
   {
    "duration": 498,
    "start_time": "2023-10-02T22:56:55.027Z"
   },
   {
    "duration": 45,
    "start_time": "2023-10-02T22:56:55.527Z"
   },
   {
    "duration": 12688,
    "start_time": "2023-10-02T22:56:55.574Z"
   },
   {
    "duration": 28,
    "start_time": "2023-10-02T22:57:08.264Z"
   },
   {
    "duration": 488,
    "start_time": "2023-10-02T22:57:08.294Z"
   },
   {
    "duration": 558,
    "start_time": "2023-10-02T22:57:08.784Z"
   },
   {
    "duration": 259,
    "start_time": "2023-10-02T22:57:09.344Z"
   },
   {
    "duration": 1102,
    "start_time": "2023-10-02T22:57:09.604Z"
   },
   {
    "duration": 13,
    "start_time": "2023-10-02T22:57:10.707Z"
   },
   {
    "duration": 32,
    "start_time": "2023-10-02T22:57:10.723Z"
   },
   {
    "duration": 143,
    "start_time": "2023-10-02T22:57:10.756Z"
   },
   {
    "duration": 797,
    "start_time": "2023-10-02T22:57:34.266Z"
   },
   {
    "duration": 1431,
    "start_time": "2023-10-02T23:05:58.807Z"
   },
   {
    "duration": 932,
    "start_time": "2023-10-02T23:06:00.240Z"
   },
   {
    "duration": 158,
    "start_time": "2023-10-02T23:06:01.174Z"
   },
   {
    "duration": 517,
    "start_time": "2023-10-02T23:06:01.334Z"
   },
   {
    "duration": 1047,
    "start_time": "2023-10-02T23:06:01.853Z"
   },
   {
    "duration": 385,
    "start_time": "2023-10-02T23:06:02.902Z"
   },
   {
    "duration": 33,
    "start_time": "2023-10-02T23:06:03.289Z"
   },
   {
    "duration": 39,
    "start_time": "2023-10-02T23:06:03.324Z"
   },
   {
    "duration": 233,
    "start_time": "2023-10-02T23:06:03.365Z"
   },
   {
    "duration": 19,
    "start_time": "2023-10-02T23:06:03.601Z"
   },
   {
    "duration": 58,
    "start_time": "2023-10-02T23:06:03.622Z"
   },
   {
    "duration": 186,
    "start_time": "2023-10-02T23:06:03.682Z"
   },
   {
    "duration": 4696,
    "start_time": "2023-10-02T23:06:03.870Z"
   },
   {
    "duration": 68,
    "start_time": "2023-10-02T23:06:08.568Z"
   },
   {
    "duration": 924,
    "start_time": "2023-10-02T23:06:08.655Z"
   },
   {
    "duration": 241,
    "start_time": "2023-10-02T23:06:09.581Z"
   },
   {
    "duration": 18,
    "start_time": "2023-10-02T23:06:09.823Z"
   },
   {
    "duration": 133,
    "start_time": "2023-10-02T23:06:09.842Z"
   },
   {
    "duration": 530,
    "start_time": "2023-10-02T23:06:09.977Z"
   },
   {
    "duration": 52,
    "start_time": "2023-10-02T23:06:10.510Z"
   },
   {
    "duration": 14404,
    "start_time": "2023-10-02T23:06:10.564Z"
   },
   {
    "duration": 27,
    "start_time": "2023-10-02T23:06:24.970Z"
   },
   {
    "duration": 519,
    "start_time": "2023-10-02T23:06:24.999Z"
   },
   {
    "duration": 667,
    "start_time": "2023-10-02T23:06:25.519Z"
   },
   {
    "duration": 283,
    "start_time": "2023-10-02T23:06:26.188Z"
   },
   {
    "duration": 1171,
    "start_time": "2023-10-02T23:06:26.473Z"
   },
   {
    "duration": 17,
    "start_time": "2023-10-02T23:06:27.646Z"
   },
   {
    "duration": 31,
    "start_time": "2023-10-02T23:06:27.666Z"
   },
   {
    "duration": 136,
    "start_time": "2023-10-02T23:06:27.699Z"
   },
   {
    "duration": 4,
    "start_time": "2023-10-02T23:06:27.836Z"
   },
   {
    "duration": 739,
    "start_time": "2023-10-02T23:06:32.345Z"
   },
   {
    "duration": 35,
    "start_time": "2023-10-02T23:07:15.832Z"
   },
   {
    "duration": 303,
    "start_time": "2023-10-02T23:12:48.128Z"
   },
   {
    "duration": 1353,
    "start_time": "2023-10-02T23:13:09.200Z"
   },
   {
    "duration": 836,
    "start_time": "2023-10-02T23:13:10.560Z"
   },
   {
    "duration": 145,
    "start_time": "2023-10-02T23:13:11.398Z"
   },
   {
    "duration": 465,
    "start_time": "2023-10-02T23:13:11.546Z"
   },
   {
    "duration": 931,
    "start_time": "2023-10-02T23:13:12.013Z"
   },
   {
    "duration": 419,
    "start_time": "2023-10-02T23:13:12.946Z"
   },
   {
    "duration": 32,
    "start_time": "2023-10-02T23:13:13.367Z"
   },
   {
    "duration": 29,
    "start_time": "2023-10-02T23:13:13.401Z"
   },
   {
    "duration": 251,
    "start_time": "2023-10-02T23:13:13.431Z"
   },
   {
    "duration": 18,
    "start_time": "2023-10-02T23:13:13.684Z"
   },
   {
    "duration": 29,
    "start_time": "2023-10-02T23:13:13.703Z"
   },
   {
    "duration": 178,
    "start_time": "2023-10-02T23:13:13.734Z"
   },
   {
    "duration": 4462,
    "start_time": "2023-10-02T23:13:13.914Z"
   },
   {
    "duration": 82,
    "start_time": "2023-10-02T23:13:18.378Z"
   },
   {
    "duration": 899,
    "start_time": "2023-10-02T23:13:18.464Z"
   },
   {
    "duration": 222,
    "start_time": "2023-10-02T23:13:19.365Z"
   },
   {
    "duration": 17,
    "start_time": "2023-10-02T23:13:19.589Z"
   },
   {
    "duration": 104,
    "start_time": "2023-10-02T23:13:19.607Z"
   },
   {
    "duration": 504,
    "start_time": "2023-10-02T23:13:19.712Z"
   },
   {
    "duration": 50,
    "start_time": "2023-10-02T23:13:20.218Z"
   },
   {
    "duration": 12825,
    "start_time": "2023-10-02T23:13:20.270Z"
   },
   {
    "duration": 26,
    "start_time": "2023-10-02T23:13:33.097Z"
   },
   {
    "duration": 484,
    "start_time": "2023-10-02T23:13:33.124Z"
   },
   {
    "duration": 560,
    "start_time": "2023-10-02T23:13:33.609Z"
   },
   {
    "duration": 234,
    "start_time": "2023-10-02T23:13:34.171Z"
   },
   {
    "duration": 1090,
    "start_time": "2023-10-02T23:13:34.407Z"
   },
   {
    "duration": 12,
    "start_time": "2023-10-02T23:13:35.499Z"
   },
   {
    "duration": 13,
    "start_time": "2023-10-02T23:13:35.514Z"
   },
   {
    "duration": 160,
    "start_time": "2023-10-02T23:13:35.528Z"
   },
   {
    "duration": 4,
    "start_time": "2023-10-02T23:13:35.689Z"
   },
   {
    "duration": 648,
    "start_time": "2023-10-02T23:13:46.118Z"
   },
   {
    "duration": 697,
    "start_time": "2023-10-02T23:14:26.626Z"
   },
   {
    "duration": 1402,
    "start_time": "2023-10-02T23:18:21.768Z"
   },
   {
    "duration": 914,
    "start_time": "2023-10-02T23:18:23.172Z"
   },
   {
    "duration": 151,
    "start_time": "2023-10-02T23:18:24.088Z"
   },
   {
    "duration": 483,
    "start_time": "2023-10-02T23:18:24.241Z"
   },
   {
    "duration": 982,
    "start_time": "2023-10-02T23:18:24.726Z"
   },
   {
    "duration": 408,
    "start_time": "2023-10-02T23:18:25.709Z"
   },
   {
    "duration": 42,
    "start_time": "2023-10-02T23:18:26.119Z"
   },
   {
    "duration": 19,
    "start_time": "2023-10-02T23:18:26.162Z"
   },
   {
    "duration": 249,
    "start_time": "2023-10-02T23:18:26.182Z"
   },
   {
    "duration": 20,
    "start_time": "2023-10-02T23:18:26.434Z"
   },
   {
    "duration": 31,
    "start_time": "2023-10-02T23:18:26.456Z"
   },
   {
    "duration": 186,
    "start_time": "2023-10-02T23:18:26.488Z"
   },
   {
    "duration": 4441,
    "start_time": "2023-10-02T23:18:26.676Z"
   },
   {
    "duration": 77,
    "start_time": "2023-10-02T23:18:31.119Z"
   },
   {
    "duration": 904,
    "start_time": "2023-10-02T23:18:31.197Z"
   },
   {
    "duration": 244,
    "start_time": "2023-10-02T23:18:32.102Z"
   },
   {
    "duration": 24,
    "start_time": "2023-10-02T23:18:32.360Z"
   },
   {
    "duration": 114,
    "start_time": "2023-10-02T23:18:32.386Z"
   },
   {
    "duration": 510,
    "start_time": "2023-10-02T23:18:32.502Z"
   },
   {
    "duration": 49,
    "start_time": "2023-10-02T23:18:33.014Z"
   },
   {
    "duration": 13146,
    "start_time": "2023-10-02T23:18:33.065Z"
   },
   {
    "duration": 26,
    "start_time": "2023-10-02T23:18:46.213Z"
   },
   {
    "duration": 505,
    "start_time": "2023-10-02T23:18:46.249Z"
   },
   {
    "duration": 548,
    "start_time": "2023-10-02T23:18:46.755Z"
   },
   {
    "duration": 265,
    "start_time": "2023-10-02T23:18:47.305Z"
   },
   {
    "duration": 1103,
    "start_time": "2023-10-02T23:18:47.572Z"
   },
   {
    "duration": 13,
    "start_time": "2023-10-02T23:18:48.677Z"
   },
   {
    "duration": 39,
    "start_time": "2023-10-02T23:18:48.694Z"
   },
   {
    "duration": 146,
    "start_time": "2023-10-02T23:18:48.735Z"
   },
   {
    "duration": 4,
    "start_time": "2023-10-02T23:18:48.883Z"
   },
   {
    "duration": 723,
    "start_time": "2023-10-02T23:18:54.438Z"
   },
   {
    "duration": 14,
    "start_time": "2023-10-02T23:19:12.601Z"
   },
   {
    "duration": 265,
    "start_time": "2023-10-02T23:28:32.490Z"
   },
   {
    "duration": 1436,
    "start_time": "2023-10-02T23:29:53.030Z"
   },
   {
    "duration": 850,
    "start_time": "2023-10-02T23:29:54.469Z"
   },
   {
    "duration": 159,
    "start_time": "2023-10-02T23:29:55.320Z"
   },
   {
    "duration": 479,
    "start_time": "2023-10-02T23:29:55.482Z"
   },
   {
    "duration": 977,
    "start_time": "2023-10-02T23:29:55.969Z"
   },
   {
    "duration": 411,
    "start_time": "2023-10-02T23:29:56.949Z"
   },
   {
    "duration": 33,
    "start_time": "2023-10-02T23:29:57.362Z"
   },
   {
    "duration": 19,
    "start_time": "2023-10-02T23:29:57.396Z"
   },
   {
    "duration": 209,
    "start_time": "2023-10-02T23:29:57.416Z"
   },
   {
    "duration": 27,
    "start_time": "2023-10-02T23:29:57.628Z"
   },
   {
    "duration": 21,
    "start_time": "2023-10-02T23:29:57.656Z"
   },
   {
    "duration": 180,
    "start_time": "2023-10-02T23:29:57.679Z"
   },
   {
    "duration": 4482,
    "start_time": "2023-10-02T23:29:57.861Z"
   },
   {
    "duration": 71,
    "start_time": "2023-10-02T23:30:02.345Z"
   },
   {
    "duration": 880,
    "start_time": "2023-10-02T23:30:02.418Z"
   },
   {
    "duration": 230,
    "start_time": "2023-10-02T23:30:03.300Z"
   },
   {
    "duration": 31,
    "start_time": "2023-10-02T23:30:03.532Z"
   },
   {
    "duration": 129,
    "start_time": "2023-10-02T23:30:03.564Z"
   },
   {
    "duration": 504,
    "start_time": "2023-10-02T23:30:03.695Z"
   },
   {
    "duration": 34,
    "start_time": "2023-10-02T23:30:04.201Z"
   },
   {
    "duration": 13011,
    "start_time": "2023-10-02T23:30:04.253Z"
   },
   {
    "duration": 29,
    "start_time": "2023-10-02T23:30:17.266Z"
   },
   {
    "duration": 503,
    "start_time": "2023-10-02T23:30:17.296Z"
   },
   {
    "duration": 537,
    "start_time": "2023-10-02T23:30:17.800Z"
   },
   {
    "duration": 255,
    "start_time": "2023-10-02T23:30:18.339Z"
   },
   {
    "duration": 1103,
    "start_time": "2023-10-02T23:30:18.595Z"
   },
   {
    "duration": 13,
    "start_time": "2023-10-02T23:30:19.700Z"
   },
   {
    "duration": 18,
    "start_time": "2023-10-02T23:30:19.716Z"
   },
   {
    "duration": 145,
    "start_time": "2023-10-02T23:30:19.736Z"
   },
   {
    "duration": 4,
    "start_time": "2023-10-02T23:30:19.882Z"
   },
   {
    "duration": 1210,
    "start_time": "2023-10-02T23:30:19.887Z"
   },
   {
    "duration": 14,
    "start_time": "2023-10-02T23:30:21.098Z"
   },
   {
    "duration": 894,
    "start_time": "2023-10-02T23:30:21.113Z"
   },
   {
    "duration": 113,
    "start_time": "2023-10-02T23:34:15.241Z"
   },
   {
    "duration": 4,
    "start_time": "2023-10-02T23:34:47.807Z"
   },
   {
    "duration": 1748,
    "start_time": "2023-10-03T18:54:00.765Z"
   },
   {
    "duration": 1462,
    "start_time": "2023-10-03T19:01:09.113Z"
   },
   {
    "duration": 3216,
    "start_time": "2023-10-03T19:01:10.577Z"
   },
   {
    "duration": 154,
    "start_time": "2023-10-03T19:01:13.794Z"
   },
   {
    "duration": 506,
    "start_time": "2023-10-03T19:01:13.950Z"
   },
   {
    "duration": 1053,
    "start_time": "2023-10-03T19:01:14.458Z"
   },
   {
    "duration": 371,
    "start_time": "2023-10-03T19:01:15.513Z"
   },
   {
    "duration": 35,
    "start_time": "2023-10-03T19:01:15.886Z"
   },
   {
    "duration": 19,
    "start_time": "2023-10-03T19:01:15.922Z"
   },
   {
    "duration": 215,
    "start_time": "2023-10-03T19:01:15.957Z"
   },
   {
    "duration": 19,
    "start_time": "2023-10-03T19:01:16.175Z"
   },
   {
    "duration": 22,
    "start_time": "2023-10-03T19:01:16.196Z"
   },
   {
    "duration": 183,
    "start_time": "2023-10-03T19:01:16.220Z"
   },
   {
    "duration": 4931,
    "start_time": "2023-10-03T19:01:16.405Z"
   },
   {
    "duration": 83,
    "start_time": "2023-10-03T19:01:21.338Z"
   },
   {
    "duration": 940,
    "start_time": "2023-10-03T19:01:21.424Z"
   },
   {
    "duration": 260,
    "start_time": "2023-10-03T19:01:22.366Z"
   },
   {
    "duration": 19,
    "start_time": "2023-10-03T19:01:22.628Z"
   },
   {
    "duration": 119,
    "start_time": "2023-10-03T19:01:22.648Z"
   },
   {
    "duration": 547,
    "start_time": "2023-10-03T19:01:22.768Z"
   },
   {
    "duration": 44,
    "start_time": "2023-10-03T19:01:23.317Z"
   },
   {
    "duration": 14546,
    "start_time": "2023-10-03T19:01:23.363Z"
   },
   {
    "duration": 50,
    "start_time": "2023-10-03T19:01:37.910Z"
   },
   {
    "duration": 517,
    "start_time": "2023-10-03T19:01:37.962Z"
   },
   {
    "duration": 661,
    "start_time": "2023-10-03T19:01:38.481Z"
   },
   {
    "duration": 255,
    "start_time": "2023-10-03T19:01:39.144Z"
   },
   {
    "duration": 1225,
    "start_time": "2023-10-03T19:01:39.401Z"
   },
   {
    "duration": 16,
    "start_time": "2023-10-03T19:01:40.627Z"
   },
   {
    "duration": 25,
    "start_time": "2023-10-03T19:01:40.647Z"
   },
   {
    "duration": 140,
    "start_time": "2023-10-03T19:01:40.674Z"
   },
   {
    "duration": 5,
    "start_time": "2023-10-03T19:01:40.816Z"
   },
   {
    "duration": 1250,
    "start_time": "2023-10-03T19:01:40.823Z"
   },
   {
    "duration": 17,
    "start_time": "2023-10-03T19:01:42.075Z"
   },
   {
    "duration": 927,
    "start_time": "2023-10-03T19:01:42.094Z"
   },
   {
    "duration": 4038,
    "start_time": "2023-10-03T19:21:28.038Z"
   },
   {
    "duration": 7,
    "start_time": "2023-10-03T19:24:45.270Z"
   },
   {
    "duration": 4,
    "start_time": "2023-10-03T19:24:52.533Z"
   },
   {
    "duration": 4,
    "start_time": "2023-10-03T19:25:52.670Z"
   },
   {
    "duration": 5,
    "start_time": "2023-10-03T19:32:38.705Z"
   },
   {
    "duration": 495235,
    "start_time": "2023-10-03T19:33:14.226Z"
   },
   {
    "duration": 63,
    "start_time": "2023-10-03T19:59:03.011Z"
   },
   {
    "duration": 3808516,
    "start_time": "2023-10-03T20:04:29.176Z"
   },
   {
    "duration": 236,
    "start_time": "2023-10-03T21:23:05.456Z"
   },
   {
    "duration": 8467,
    "start_time": "2023-10-03T21:23:40.756Z"
   },
   {
    "duration": 127,
    "start_time": "2023-10-03T21:59:55.729Z"
   },
   {
    "duration": 133,
    "start_time": "2023-10-03T22:00:17.459Z"
   },
   {
    "duration": 124,
    "start_time": "2023-10-03T22:00:31.127Z"
   },
   {
    "duration": 18444,
    "start_time": "2023-10-03T22:04:26.017Z"
   },
   {
    "duration": 11,
    "start_time": "2023-10-03T22:05:09.298Z"
   },
   {
    "duration": 18763,
    "start_time": "2023-10-03T22:07:33.996Z"
   },
   {
    "duration": 9,
    "start_time": "2023-10-03T22:08:01.611Z"
   },
   {
    "duration": 11,
    "start_time": "2023-10-03T22:43:42.556Z"
   },
   {
    "duration": 4,
    "start_time": "2023-10-03T22:52:23.656Z"
   },
   {
    "duration": 94,
    "start_time": "2023-10-04T00:22:42.766Z"
   },
   {
    "duration": 1764,
    "start_time": "2023-10-04T09:31:32.977Z"
   },
   {
    "duration": 3176,
    "start_time": "2023-10-04T09:31:34.743Z"
   },
   {
    "duration": 177,
    "start_time": "2023-10-04T09:31:37.921Z"
   },
   {
    "duration": 505,
    "start_time": "2023-10-04T09:31:38.101Z"
   },
   {
    "duration": 1130,
    "start_time": "2023-10-04T09:31:38.608Z"
   },
   {
    "duration": 420,
    "start_time": "2023-10-04T09:31:39.740Z"
   },
   {
    "duration": 36,
    "start_time": "2023-10-04T09:31:40.161Z"
   },
   {
    "duration": 21,
    "start_time": "2023-10-04T09:31:40.199Z"
   },
   {
    "duration": 268,
    "start_time": "2023-10-04T09:31:40.222Z"
   },
   {
    "duration": 20,
    "start_time": "2023-10-04T09:31:40.492Z"
   },
   {
    "duration": 42,
    "start_time": "2023-10-04T09:31:40.514Z"
   },
   {
    "duration": 180,
    "start_time": "2023-10-04T09:31:40.558Z"
   },
   {
    "duration": 5142,
    "start_time": "2023-10-04T09:31:40.740Z"
   },
   {
    "duration": 80,
    "start_time": "2023-10-04T09:31:45.884Z"
   },
   {
    "duration": 1028,
    "start_time": "2023-10-04T09:31:45.966Z"
   },
   {
    "duration": 308,
    "start_time": "2023-10-04T09:31:46.996Z"
   },
   {
    "duration": 20,
    "start_time": "2023-10-04T09:31:47.306Z"
   },
   {
    "duration": 129,
    "start_time": "2023-10-04T09:31:47.329Z"
   },
   {
    "duration": 578,
    "start_time": "2023-10-04T09:31:47.460Z"
   },
   {
    "duration": 50,
    "start_time": "2023-10-04T09:31:48.040Z"
   },
   {
    "duration": 14772,
    "start_time": "2023-10-04T09:31:48.092Z"
   },
   {
    "duration": 33,
    "start_time": "2023-10-04T09:32:02.866Z"
   },
   {
    "duration": 699,
    "start_time": "2023-10-04T09:32:02.901Z"
   },
   {
    "duration": 625,
    "start_time": "2023-10-04T09:32:03.602Z"
   },
   {
    "duration": 271,
    "start_time": "2023-10-04T09:32:04.229Z"
   },
   {
    "duration": 1226,
    "start_time": "2023-10-04T09:32:04.502Z"
   },
   {
    "duration": 15,
    "start_time": "2023-10-04T09:32:05.730Z"
   },
   {
    "duration": 45,
    "start_time": "2023-10-04T09:32:05.759Z"
   },
   {
    "duration": 160,
    "start_time": "2023-10-04T09:32:05.805Z"
   },
   {
    "duration": 4,
    "start_time": "2023-10-04T09:32:05.967Z"
   },
   {
    "duration": 1388,
    "start_time": "2023-10-04T09:32:05.973Z"
   },
   {
    "duration": 17,
    "start_time": "2023-10-04T09:32:07.363Z"
   },
   {
    "duration": 1066,
    "start_time": "2023-10-04T09:32:07.382Z"
   },
   {
    "duration": 4048,
    "start_time": "2023-10-04T09:40:55.228Z"
   },
   {
    "duration": 4045,
    "start_time": "2023-10-04T09:41:12.225Z"
   },
   {
    "duration": 4,
    "start_time": "2023-10-04T09:42:09.571Z"
   },
   {
    "duration": 5,
    "start_time": "2023-10-04T09:44:41.606Z"
   },
   {
    "duration": 522015,
    "start_time": "2023-10-04T09:49:54.221Z"
   },
   {
    "duration": 64,
    "start_time": "2023-10-04T10:00:57.213Z"
   },
   {
    "duration": 4084943,
    "start_time": "2023-10-04T10:08:33.013Z"
   },
   {
    "duration": 8934,
    "start_time": "2023-10-04T11:16:37.958Z"
   },
   {
    "duration": 1842,
    "start_time": "2023-10-04T15:05:44.775Z"
   },
   {
    "duration": 1332,
    "start_time": "2023-10-04T15:05:46.619Z"
   },
   {
    "duration": 164,
    "start_time": "2023-10-04T15:05:47.952Z"
   },
   {
    "duration": 520,
    "start_time": "2023-10-04T15:05:48.119Z"
   },
   {
    "duration": 1025,
    "start_time": "2023-10-04T15:05:48.641Z"
   },
   {
    "duration": 402,
    "start_time": "2023-10-04T15:05:49.668Z"
   },
   {
    "duration": 45,
    "start_time": "2023-10-04T15:05:50.072Z"
   },
   {
    "duration": 22,
    "start_time": "2023-10-04T15:05:50.119Z"
   },
   {
    "duration": 272,
    "start_time": "2023-10-04T15:05:50.142Z"
   },
   {
    "duration": 22,
    "start_time": "2023-10-04T15:05:50.417Z"
   },
   {
    "duration": 23,
    "start_time": "2023-10-04T15:05:50.440Z"
   },
   {
    "duration": 198,
    "start_time": "2023-10-04T15:05:50.465Z"
   },
   {
    "duration": 5130,
    "start_time": "2023-10-04T15:05:50.665Z"
   },
   {
    "duration": 84,
    "start_time": "2023-10-04T15:05:55.797Z"
   },
   {
    "duration": 1086,
    "start_time": "2023-10-04T15:05:55.883Z"
   },
   {
    "duration": 286,
    "start_time": "2023-10-04T15:05:56.971Z"
   },
   {
    "duration": 31,
    "start_time": "2023-10-04T15:05:57.259Z"
   },
   {
    "duration": 120,
    "start_time": "2023-10-04T15:05:57.292Z"
   },
   {
    "duration": 555,
    "start_time": "2023-10-04T15:05:57.414Z"
   },
   {
    "duration": 44,
    "start_time": "2023-10-04T15:05:57.971Z"
   },
   {
    "duration": 14658,
    "start_time": "2023-10-04T15:05:58.017Z"
   },
   {
    "duration": 29,
    "start_time": "2023-10-04T15:06:12.681Z"
   },
   {
    "duration": 544,
    "start_time": "2023-10-04T15:06:12.712Z"
   },
   {
    "duration": 645,
    "start_time": "2023-10-04T15:06:13.257Z"
   },
   {
    "duration": 302,
    "start_time": "2023-10-04T15:06:13.905Z"
   },
   {
    "duration": 1133,
    "start_time": "2023-10-04T15:06:14.209Z"
   },
   {
    "duration": 14,
    "start_time": "2023-10-04T15:06:15.344Z"
   },
   {
    "duration": 32,
    "start_time": "2023-10-04T15:06:15.361Z"
   },
   {
    "duration": 153,
    "start_time": "2023-10-04T15:06:15.395Z"
   },
   {
    "duration": 4,
    "start_time": "2023-10-04T15:06:15.550Z"
   },
   {
    "duration": 1338,
    "start_time": "2023-10-04T15:06:15.556Z"
   },
   {
    "duration": 15,
    "start_time": "2023-10-04T15:06:16.896Z"
   },
   {
    "duration": 1168,
    "start_time": "2023-10-04T15:06:16.913Z"
   },
   {
    "duration": 4021,
    "start_time": "2023-10-04T15:06:18.083Z"
   },
   {
    "duration": 5,
    "start_time": "2023-10-04T15:06:22.106Z"
   },
   {
    "duration": 71,
    "start_time": "2023-10-04T15:06:22.113Z"
   },
   {
    "duration": 478224,
    "start_time": "2023-10-04T15:06:22.186Z"
   },
   {
    "duration": 58,
    "start_time": "2023-10-04T15:14:20.412Z"
   },
   {
    "duration": 4010213,
    "start_time": "2023-10-04T15:17:03.800Z"
   },
   {
    "duration": 8890,
    "start_time": "2023-10-04T16:23:54.015Z"
   },
   {
    "duration": 5,
    "start_time": "2023-10-04T16:24:36.433Z"
   },
   {
    "duration": 1761,
    "start_time": "2023-10-05T19:44:37.073Z"
   },
   {
    "duration": 1455,
    "start_time": "2023-10-05T19:45:26.876Z"
   },
   {
    "duration": 1289,
    "start_time": "2023-10-05T19:45:31.571Z"
   },
   {
    "duration": 158,
    "start_time": "2023-10-05T19:45:46.776Z"
   },
   {
    "duration": 478,
    "start_time": "2023-10-05T19:45:54.726Z"
   },
   {
    "duration": 936,
    "start_time": "2023-10-05T19:45:59.176Z"
   },
   {
    "duration": 338,
    "start_time": "2023-10-05T19:46:08.568Z"
   },
   {
    "duration": 55,
    "start_time": "2023-10-05T19:46:26.119Z"
   },
   {
    "duration": 32,
    "start_time": "2023-10-05T19:46:47.176Z"
   },
   {
    "duration": 223,
    "start_time": "2023-10-05T19:47:01.793Z"
   },
   {
    "duration": 23,
    "start_time": "2023-10-05T19:47:24.162Z"
   },
   {
    "duration": 30,
    "start_time": "2023-10-05T19:47:28.144Z"
   },
   {
    "duration": 174,
    "start_time": "2023-10-05T19:47:31.285Z"
   },
   {
    "duration": 4990,
    "start_time": "2023-10-05T19:47:45.031Z"
   },
   {
    "duration": 66,
    "start_time": "2023-10-05T19:48:13.618Z"
   },
   {
    "duration": 907,
    "start_time": "2023-10-05T19:48:34.737Z"
   },
   {
    "duration": 215,
    "start_time": "2023-10-05T19:49:00.501Z"
   },
   {
    "duration": 29,
    "start_time": "2023-10-05T19:49:23.176Z"
   },
   {
    "duration": 102,
    "start_time": "2023-10-05T19:49:30.372Z"
   },
   {
    "duration": 542,
    "start_time": "2023-10-05T19:49:43.501Z"
   },
   {
    "duration": 43,
    "start_time": "2023-10-05T19:50:04.421Z"
   },
   {
    "duration": 14237,
    "start_time": "2023-10-05T19:50:45.177Z"
   },
   {
    "duration": 26,
    "start_time": "2023-10-05T19:51:25.802Z"
   },
   {
    "duration": 620,
    "start_time": "2023-10-05T19:51:49.273Z"
   },
   {
    "duration": 606,
    "start_time": "2023-10-05T19:52:26.185Z"
   },
   {
    "duration": 237,
    "start_time": "2023-10-05T19:52:46.712Z"
   },
   {
    "duration": 1156,
    "start_time": "2023-10-05T19:53:49.875Z"
   },
   {
    "duration": 13,
    "start_time": "2023-10-05T19:54:12.705Z"
   },
   {
    "duration": 16,
    "start_time": "2023-10-05T19:54:27.839Z"
   },
   {
    "duration": 141,
    "start_time": "2023-10-05T19:54:36.597Z"
   },
   {
    "duration": 4,
    "start_time": "2023-10-05T19:54:40.608Z"
   },
   {
    "duration": 1443,
    "start_time": "2023-10-05T20:13:15.379Z"
   },
   {
    "duration": 14,
    "start_time": "2023-10-05T20:15:09.307Z"
   },
   {
    "duration": 1727,
    "start_time": "2023-10-05T20:44:55.805Z"
   },
   {
    "duration": 1089,
    "start_time": "2023-10-05T20:44:57.534Z"
   },
   {
    "duration": 191,
    "start_time": "2023-10-05T20:44:58.624Z"
   },
   {
    "duration": 617,
    "start_time": "2023-10-05T20:44:58.817Z"
   },
   {
    "duration": 1202,
    "start_time": "2023-10-05T20:44:59.435Z"
   },
   {
    "duration": 503,
    "start_time": "2023-10-05T20:45:00.639Z"
   },
   {
    "duration": 57,
    "start_time": "2023-10-05T20:45:01.144Z"
   },
   {
    "duration": 24,
    "start_time": "2023-10-05T20:45:01.202Z"
   },
   {
    "duration": 377,
    "start_time": "2023-10-05T20:45:01.227Z"
   },
   {
    "duration": 31,
    "start_time": "2023-10-05T20:45:01.607Z"
   },
   {
    "duration": 80,
    "start_time": "2023-10-05T20:45:01.640Z"
   },
   {
    "duration": 299,
    "start_time": "2023-10-05T20:45:01.722Z"
   },
   {
    "duration": 5541,
    "start_time": "2023-10-05T20:45:02.023Z"
   },
   {
    "duration": 76,
    "start_time": "2023-10-05T20:45:07.565Z"
   },
   {
    "duration": 1071,
    "start_time": "2023-10-05T20:45:07.642Z"
   },
   {
    "duration": 298,
    "start_time": "2023-10-05T20:45:08.716Z"
   },
   {
    "duration": 22,
    "start_time": "2023-10-05T20:45:09.017Z"
   },
   {
    "duration": 171,
    "start_time": "2023-10-05T20:45:09.040Z"
   },
   {
    "duration": 708,
    "start_time": "2023-10-05T20:45:09.213Z"
   },
   {
    "duration": 60,
    "start_time": "2023-10-05T20:45:09.923Z"
   },
   {
    "duration": 15870,
    "start_time": "2023-10-05T20:45:09.984Z"
   },
   {
    "duration": 34,
    "start_time": "2023-10-05T20:45:25.856Z"
   },
   {
    "duration": 716,
    "start_time": "2023-10-05T20:45:25.891Z"
   },
   {
    "duration": 752,
    "start_time": "2023-10-05T20:45:26.608Z"
   },
   {
    "duration": 321,
    "start_time": "2023-10-05T20:45:27.366Z"
   },
   {
    "duration": 1180,
    "start_time": "2023-10-05T20:45:27.689Z"
   },
   {
    "duration": 27,
    "start_time": "2023-10-05T20:45:28.878Z"
   },
   {
    "duration": 18,
    "start_time": "2023-10-05T20:45:28.910Z"
   },
   {
    "duration": 286,
    "start_time": "2023-10-05T20:45:28.930Z"
   },
   {
    "duration": 9,
    "start_time": "2023-10-05T20:45:29.219Z"
   },
   {
    "duration": 1583,
    "start_time": "2023-10-05T20:45:29.229Z"
   },
   {
    "duration": 14,
    "start_time": "2023-10-05T20:45:30.814Z"
   },
   {
    "duration": 189,
    "start_time": "2023-10-05T20:45:30.830Z"
   },
   {
    "duration": 28,
    "start_time": "2023-10-05T20:46:22.200Z"
   },
   {
    "duration": 38,
    "start_time": "2023-10-05T20:49:15.301Z"
   },
   {
    "duration": 1067,
    "start_time": "2023-10-05T20:54:21.922Z"
   },
   {
    "duration": 1758,
    "start_time": "2023-10-05T20:55:18.471Z"
   },
   {
    "duration": 1032,
    "start_time": "2023-10-05T20:55:20.231Z"
   },
   {
    "duration": 202,
    "start_time": "2023-10-05T20:55:21.270Z"
   },
   {
    "duration": 595,
    "start_time": "2023-10-05T20:55:21.476Z"
   },
   {
    "duration": 1328,
    "start_time": "2023-10-05T20:55:22.074Z"
   },
   {
    "duration": 508,
    "start_time": "2023-10-05T20:55:23.406Z"
   },
   {
    "duration": 63,
    "start_time": "2023-10-05T20:55:23.917Z"
   },
   {
    "duration": 38,
    "start_time": "2023-10-05T20:55:23.987Z"
   },
   {
    "duration": 376,
    "start_time": "2023-10-05T20:55:24.028Z"
   },
   {
    "duration": 20,
    "start_time": "2023-10-05T20:55:24.407Z"
   },
   {
    "duration": 83,
    "start_time": "2023-10-05T20:55:24.429Z"
   },
   {
    "duration": 222,
    "start_time": "2023-10-05T20:55:24.515Z"
   },
   {
    "duration": 5703,
    "start_time": "2023-10-05T20:55:24.739Z"
   },
   {
    "duration": 80,
    "start_time": "2023-10-05T20:55:30.450Z"
   },
   {
    "duration": 1064,
    "start_time": "2023-10-05T20:55:30.532Z"
   },
   {
    "duration": 255,
    "start_time": "2023-10-05T20:55:31.600Z"
   },
   {
    "duration": 31,
    "start_time": "2023-10-05T20:55:31.857Z"
   },
   {
    "duration": 149,
    "start_time": "2023-10-05T20:55:31.890Z"
   },
   {
    "duration": 737,
    "start_time": "2023-10-05T20:55:32.041Z"
   },
   {
    "duration": 44,
    "start_time": "2023-10-05T20:55:32.780Z"
   },
   {
    "duration": 17275,
    "start_time": "2023-10-05T20:55:32.826Z"
   },
   {
    "duration": 59,
    "start_time": "2023-10-05T20:55:50.106Z"
   },
   {
    "duration": 647,
    "start_time": "2023-10-05T20:55:50.171Z"
   },
   {
    "duration": 701,
    "start_time": "2023-10-05T20:55:50.821Z"
   },
   {
    "duration": 301,
    "start_time": "2023-10-05T20:55:51.524Z"
   },
   {
    "duration": 1166,
    "start_time": "2023-10-05T20:55:51.827Z"
   },
   {
    "duration": 23,
    "start_time": "2023-10-05T20:55:52.994Z"
   },
   {
    "duration": 28,
    "start_time": "2023-10-05T20:55:53.018Z"
   },
   {
    "duration": 180,
    "start_time": "2023-10-05T20:55:53.047Z"
   },
   {
    "duration": 5,
    "start_time": "2023-10-05T20:55:53.229Z"
   },
   {
    "duration": 1597,
    "start_time": "2023-10-05T20:55:53.236Z"
   },
   {
    "duration": 32,
    "start_time": "2023-10-05T20:55:54.835Z"
   },
   {
    "duration": 894,
    "start_time": "2023-10-05T20:55:54.869Z"
   },
   {
    "duration": 1559,
    "start_time": "2023-10-05T20:58:26.473Z"
   },
   {
    "duration": 980,
    "start_time": "2023-10-05T20:58:28.034Z"
   },
   {
    "duration": 200,
    "start_time": "2023-10-05T20:58:29.016Z"
   },
   {
    "duration": 587,
    "start_time": "2023-10-05T20:58:29.218Z"
   },
   {
    "duration": 1119,
    "start_time": "2023-10-05T20:58:29.807Z"
   },
   {
    "duration": 491,
    "start_time": "2023-10-05T20:58:30.927Z"
   },
   {
    "duration": 48,
    "start_time": "2023-10-05T20:58:31.420Z"
   },
   {
    "duration": 28,
    "start_time": "2023-10-05T20:58:31.480Z"
   },
   {
    "duration": 326,
    "start_time": "2023-10-05T20:58:31.509Z"
   },
   {
    "duration": 34,
    "start_time": "2023-10-05T20:58:31.837Z"
   },
   {
    "duration": 55,
    "start_time": "2023-10-05T20:58:31.875Z"
   },
   {
    "duration": 204,
    "start_time": "2023-10-05T20:58:31.932Z"
   },
   {
    "duration": 5277,
    "start_time": "2023-10-05T20:58:32.138Z"
   },
   {
    "duration": 76,
    "start_time": "2023-10-05T20:58:37.417Z"
   },
   {
    "duration": 1005,
    "start_time": "2023-10-05T20:58:37.495Z"
   },
   {
    "duration": 294,
    "start_time": "2023-10-05T20:58:38.502Z"
   },
   {
    "duration": 18,
    "start_time": "2023-10-05T20:58:38.798Z"
   },
   {
    "duration": 123,
    "start_time": "2023-10-05T20:58:38.818Z"
   },
   {
    "duration": 659,
    "start_time": "2023-10-05T20:58:38.942Z"
   },
   {
    "duration": 57,
    "start_time": "2023-10-05T20:58:39.604Z"
   },
   {
    "duration": 16968,
    "start_time": "2023-10-05T20:58:39.662Z"
   },
   {
    "duration": 34,
    "start_time": "2023-10-05T20:58:56.635Z"
   },
   {
    "duration": 730,
    "start_time": "2023-10-05T20:58:56.675Z"
   },
   {
    "duration": 765,
    "start_time": "2023-10-05T20:58:57.407Z"
   },
   {
    "duration": 339,
    "start_time": "2023-10-05T20:58:58.177Z"
   },
   {
    "duration": 1305,
    "start_time": "2023-10-05T20:58:58.524Z"
   },
   {
    "duration": 36,
    "start_time": "2023-10-05T20:58:59.831Z"
   },
   {
    "duration": 29,
    "start_time": "2023-10-05T20:58:59.884Z"
   },
   {
    "duration": 230,
    "start_time": "2023-10-05T20:58:59.915Z"
   },
   {
    "duration": 5,
    "start_time": "2023-10-05T20:59:00.153Z"
   },
   {
    "duration": 1770,
    "start_time": "2023-10-05T20:59:00.160Z"
   },
   {
    "duration": 24,
    "start_time": "2023-10-05T20:59:01.932Z"
   },
   {
    "duration": 924,
    "start_time": "2023-10-05T20:59:01.958Z"
   },
   {
    "duration": 1591,
    "start_time": "2023-10-05T21:03:37.380Z"
   },
   {
    "duration": 1040,
    "start_time": "2023-10-05T21:03:38.976Z"
   },
   {
    "duration": 204,
    "start_time": "2023-10-05T21:03:40.018Z"
   },
   {
    "duration": 604,
    "start_time": "2023-10-05T21:03:40.225Z"
   },
   {
    "duration": 1202,
    "start_time": "2023-10-05T21:03:40.831Z"
   },
   {
    "duration": 491,
    "start_time": "2023-10-05T21:03:42.035Z"
   },
   {
    "duration": 69,
    "start_time": "2023-10-05T21:03:42.528Z"
   },
   {
    "duration": 32,
    "start_time": "2023-10-05T21:03:42.599Z"
   },
   {
    "duration": 271,
    "start_time": "2023-10-05T21:03:42.633Z"
   },
   {
    "duration": 20,
    "start_time": "2023-10-05T21:03:42.907Z"
   },
   {
    "duration": 67,
    "start_time": "2023-10-05T21:03:42.929Z"
   },
   {
    "duration": 186,
    "start_time": "2023-10-05T21:03:42.998Z"
   },
   {
    "duration": 5869,
    "start_time": "2023-10-05T21:03:43.186Z"
   },
   {
    "duration": 99,
    "start_time": "2023-10-05T21:03:49.060Z"
   },
   {
    "duration": 1138,
    "start_time": "2023-10-05T21:03:49.161Z"
   },
   {
    "duration": 304,
    "start_time": "2023-10-05T21:03:50.301Z"
   },
   {
    "duration": 18,
    "start_time": "2023-10-05T21:03:50.606Z"
   },
   {
    "duration": 174,
    "start_time": "2023-10-05T21:03:50.626Z"
   },
   {
    "duration": 624,
    "start_time": "2023-10-05T21:03:50.802Z"
   },
   {
    "duration": 61,
    "start_time": "2023-10-05T21:03:51.428Z"
   },
   {
    "duration": 16511,
    "start_time": "2023-10-05T21:03:51.492Z"
   },
   {
    "duration": 32,
    "start_time": "2023-10-05T21:04:08.006Z"
   },
   {
    "duration": 936,
    "start_time": "2023-10-05T21:04:08.040Z"
   },
   {
    "duration": 747,
    "start_time": "2023-10-05T21:04:08.978Z"
   },
   {
    "duration": 313,
    "start_time": "2023-10-05T21:04:09.727Z"
   },
   {
    "duration": 1260,
    "start_time": "2023-10-05T21:04:10.042Z"
   },
   {
    "duration": 15,
    "start_time": "2023-10-05T21:04:11.305Z"
   },
   {
    "duration": 32,
    "start_time": "2023-10-05T21:04:11.323Z"
   },
   {
    "duration": 192,
    "start_time": "2023-10-05T21:04:11.357Z"
   },
   {
    "duration": 10,
    "start_time": "2023-10-05T21:04:11.552Z"
   },
   {
    "duration": 1619,
    "start_time": "2023-10-05T21:04:11.572Z"
   },
   {
    "duration": 18,
    "start_time": "2023-10-05T21:04:13.195Z"
   },
   {
    "duration": 104,
    "start_time": "2023-10-05T21:04:13.215Z"
   },
   {
    "duration": 110,
    "start_time": "2023-10-05T21:05:35.885Z"
   },
   {
    "duration": 1599,
    "start_time": "2023-10-05T21:13:37.226Z"
   },
   {
    "duration": 1045,
    "start_time": "2023-10-05T21:13:38.828Z"
   },
   {
    "duration": 189,
    "start_time": "2023-10-05T21:13:39.875Z"
   },
   {
    "duration": 576,
    "start_time": "2023-10-05T21:13:40.070Z"
   },
   {
    "duration": 1100,
    "start_time": "2023-10-05T21:13:40.647Z"
   },
   {
    "duration": 455,
    "start_time": "2023-10-05T21:13:41.754Z"
   },
   {
    "duration": 46,
    "start_time": "2023-10-05T21:13:42.211Z"
   },
   {
    "duration": 40,
    "start_time": "2023-10-05T21:13:42.265Z"
   },
   {
    "duration": 247,
    "start_time": "2023-10-05T21:13:42.306Z"
   },
   {
    "duration": 37,
    "start_time": "2023-10-05T21:13:42.555Z"
   },
   {
    "duration": 19,
    "start_time": "2023-10-05T21:13:42.597Z"
   },
   {
    "duration": 205,
    "start_time": "2023-10-05T21:13:42.618Z"
   },
   {
    "duration": 5429,
    "start_time": "2023-10-05T21:13:42.825Z"
   },
   {
    "duration": 109,
    "start_time": "2023-10-05T21:13:48.267Z"
   },
   {
    "duration": 1078,
    "start_time": "2023-10-05T21:13:48.385Z"
   },
   {
    "duration": 301,
    "start_time": "2023-10-05T21:13:49.475Z"
   },
   {
    "duration": 30,
    "start_time": "2023-10-05T21:13:49.780Z"
   },
   {
    "duration": 137,
    "start_time": "2023-10-05T21:13:49.812Z"
   },
   {
    "duration": 642,
    "start_time": "2023-10-05T21:13:49.951Z"
   },
   {
    "duration": 38,
    "start_time": "2023-10-05T21:13:50.598Z"
   },
   {
    "duration": 14977,
    "start_time": "2023-10-05T21:13:50.638Z"
   },
   {
    "duration": 46,
    "start_time": "2023-10-05T21:14:05.616Z"
   },
   {
    "duration": 628,
    "start_time": "2023-10-05T21:14:05.666Z"
   },
   {
    "duration": 681,
    "start_time": "2023-10-05T21:14:06.298Z"
   },
   {
    "duration": 280,
    "start_time": "2023-10-05T21:14:06.981Z"
   },
   {
    "duration": 1330,
    "start_time": "2023-10-05T21:14:07.269Z"
   },
   {
    "duration": 14,
    "start_time": "2023-10-05T21:14:08.601Z"
   },
   {
    "duration": 74,
    "start_time": "2023-10-05T21:14:08.617Z"
   },
   {
    "duration": 192,
    "start_time": "2023-10-05T21:14:08.698Z"
   },
   {
    "duration": 5,
    "start_time": "2023-10-05T21:14:08.892Z"
   },
   {
    "duration": 1566,
    "start_time": "2023-10-05T21:14:08.899Z"
   },
   {
    "duration": 23,
    "start_time": "2023-10-05T21:14:10.466Z"
   },
   {
    "duration": 97,
    "start_time": "2023-10-05T21:14:10.499Z"
   },
   {
    "duration": 162,
    "start_time": "2023-10-05T21:14:51.093Z"
   },
   {
    "duration": 889,
    "start_time": "2023-10-05T21:17:56.749Z"
   },
   {
    "duration": 1011,
    "start_time": "2023-10-05T21:18:33.616Z"
   },
   {
    "duration": 29,
    "start_time": "2023-10-05T21:19:22.985Z"
   },
   {
    "duration": 17,
    "start_time": "2023-10-05T21:19:53.769Z"
   },
   {
    "duration": 18,
    "start_time": "2023-10-05T21:20:06.271Z"
   },
   {
    "duration": 1530,
    "start_time": "2023-10-05T21:39:10.401Z"
   },
   {
    "duration": 983,
    "start_time": "2023-10-05T21:39:11.933Z"
   },
   {
    "duration": 202,
    "start_time": "2023-10-05T21:39:12.918Z"
   },
   {
    "duration": 556,
    "start_time": "2023-10-05T21:39:13.122Z"
   },
   {
    "duration": 1131,
    "start_time": "2023-10-05T21:39:13.680Z"
   },
   {
    "duration": 503,
    "start_time": "2023-10-05T21:39:14.813Z"
   },
   {
    "duration": 45,
    "start_time": "2023-10-05T21:39:15.318Z"
   },
   {
    "duration": 36,
    "start_time": "2023-10-05T21:39:15.365Z"
   },
   {
    "duration": 326,
    "start_time": "2023-10-05T21:39:15.402Z"
   },
   {
    "duration": 22,
    "start_time": "2023-10-05T21:39:15.729Z"
   },
   {
    "duration": 49,
    "start_time": "2023-10-05T21:39:15.754Z"
   },
   {
    "duration": 213,
    "start_time": "2023-10-05T21:39:15.805Z"
   },
   {
    "duration": 5155,
    "start_time": "2023-10-05T21:39:16.021Z"
   },
   {
    "duration": 76,
    "start_time": "2023-10-05T21:39:21.184Z"
   },
   {
    "duration": 1025,
    "start_time": "2023-10-05T21:39:21.265Z"
   },
   {
    "duration": 255,
    "start_time": "2023-10-05T21:39:22.292Z"
   },
   {
    "duration": 38,
    "start_time": "2023-10-05T21:39:22.556Z"
   },
   {
    "duration": 122,
    "start_time": "2023-10-05T21:39:22.598Z"
   },
   {
    "duration": 618,
    "start_time": "2023-10-05T21:39:22.722Z"
   },
   {
    "duration": 55,
    "start_time": "2023-10-05T21:39:23.342Z"
   },
   {
    "duration": 14938,
    "start_time": "2023-10-05T21:39:23.399Z"
   },
   {
    "duration": 49,
    "start_time": "2023-10-05T21:39:38.338Z"
   },
   {
    "duration": 539,
    "start_time": "2023-10-05T21:39:38.394Z"
   },
   {
    "duration": 652,
    "start_time": "2023-10-05T21:39:38.935Z"
   },
   {
    "duration": 267,
    "start_time": "2023-10-05T21:39:39.588Z"
   },
   {
    "duration": 1184,
    "start_time": "2023-10-05T21:39:39.857Z"
   },
   {
    "duration": 23,
    "start_time": "2023-10-05T21:39:41.043Z"
   },
   {
    "duration": 25,
    "start_time": "2023-10-05T21:39:41.072Z"
   },
   {
    "duration": 196,
    "start_time": "2023-10-05T21:39:41.099Z"
   },
   {
    "duration": 4,
    "start_time": "2023-10-05T21:39:41.297Z"
   },
   {
    "duration": 1471,
    "start_time": "2023-10-05T21:39:41.303Z"
   },
   {
    "duration": 27,
    "start_time": "2023-10-05T21:39:42.776Z"
   },
   {
    "duration": 93,
    "start_time": "2023-10-05T21:39:42.808Z"
   },
   {
    "duration": 126,
    "start_time": "2023-10-05T21:41:10.465Z"
   },
   {
    "duration": 113,
    "start_time": "2023-10-05T21:42:10.042Z"
   },
   {
    "duration": 140,
    "start_time": "2023-10-05T21:42:24.366Z"
   },
   {
    "duration": 846,
    "start_time": "2023-10-05T21:43:27.588Z"
   },
   {
    "duration": 760,
    "start_time": "2023-10-05T21:45:42.977Z"
   },
   {
    "duration": 7794,
    "start_time": "2023-10-07T21:19:46.715Z"
   },
   {
    "duration": 3696,
    "start_time": "2023-10-07T21:20:13.812Z"
   },
   {
    "duration": 1586,
    "start_time": "2023-10-07T21:20:17.510Z"
   },
   {
    "duration": 189,
    "start_time": "2023-10-07T21:20:19.098Z"
   },
   {
    "duration": 578,
    "start_time": "2023-10-07T21:20:19.289Z"
   },
   {
    "duration": 1176,
    "start_time": "2023-10-07T21:20:19.869Z"
   },
   {
    "duration": 457,
    "start_time": "2023-10-07T21:20:21.049Z"
   },
   {
    "duration": 64,
    "start_time": "2023-10-07T21:20:21.508Z"
   },
   {
    "duration": 23,
    "start_time": "2023-10-07T21:20:21.574Z"
   },
   {
    "duration": 282,
    "start_time": "2023-10-07T21:20:21.600Z"
   },
   {
    "duration": 18,
    "start_time": "2023-10-07T21:20:21.884Z"
   },
   {
    "duration": 83,
    "start_time": "2023-10-07T21:20:21.904Z"
   },
   {
    "duration": 220,
    "start_time": "2023-10-07T21:20:21.989Z"
   },
   {
    "duration": 5466,
    "start_time": "2023-10-07T21:20:22.211Z"
   },
   {
    "duration": 81,
    "start_time": "2023-10-07T21:20:27.681Z"
   },
   {
    "duration": 1129,
    "start_time": "2023-10-07T21:20:27.764Z"
   },
   {
    "duration": 300,
    "start_time": "2023-10-07T21:20:28.895Z"
   },
   {
    "duration": 43,
    "start_time": "2023-10-07T21:20:29.197Z"
   },
   {
    "duration": 250,
    "start_time": "2023-10-07T21:20:29.241Z"
   },
   {
    "duration": 684,
    "start_time": "2023-10-07T21:20:29.493Z"
   },
   {
    "duration": 53,
    "start_time": "2023-10-07T21:20:30.180Z"
   },
   {
    "duration": 16168,
    "start_time": "2023-10-07T21:20:30.235Z"
   },
   {
    "duration": 39,
    "start_time": "2023-10-07T21:20:46.405Z"
   },
   {
    "duration": 565,
    "start_time": "2023-10-07T21:20:46.448Z"
   },
   {
    "duration": 662,
    "start_time": "2023-10-07T21:20:47.015Z"
   },
   {
    "duration": 333,
    "start_time": "2023-10-07T21:20:47.680Z"
   },
   {
    "duration": 1288,
    "start_time": "2023-10-07T21:20:48.015Z"
   },
   {
    "duration": 32,
    "start_time": "2023-10-07T21:20:49.304Z"
   },
   {
    "duration": 21,
    "start_time": "2023-10-07T21:20:49.341Z"
   },
   {
    "duration": 188,
    "start_time": "2023-10-07T21:20:49.364Z"
   },
   {
    "duration": 9,
    "start_time": "2023-10-07T21:20:49.553Z"
   },
   {
    "duration": 1754,
    "start_time": "2023-10-08T05:35:35.873Z"
   },
   {
    "duration": 1159,
    "start_time": "2023-10-08T05:35:37.629Z"
   },
   {
    "duration": 117,
    "start_time": "2023-10-08T05:35:38.789Z"
   },
   {
    "duration": 394,
    "start_time": "2023-10-08T05:35:38.908Z"
   },
   {
    "duration": 867,
    "start_time": "2023-10-08T05:35:39.304Z"
   },
   {
    "duration": 377,
    "start_time": "2023-10-08T05:35:40.173Z"
   },
   {
    "duration": 37,
    "start_time": "2023-10-08T05:35:40.552Z"
   },
   {
    "duration": 22,
    "start_time": "2023-10-08T05:35:40.591Z"
   },
   {
    "duration": 237,
    "start_time": "2023-10-08T05:35:40.614Z"
   },
   {
    "duration": 27,
    "start_time": "2023-10-08T05:35:40.868Z"
   },
   {
    "duration": 30,
    "start_time": "2023-10-08T05:35:40.897Z"
   },
   {
    "duration": 202,
    "start_time": "2023-10-08T05:35:40.928Z"
   },
   {
    "duration": 3889,
    "start_time": "2023-10-08T05:35:41.131Z"
   },
   {
    "duration": 62,
    "start_time": "2023-10-08T05:35:45.021Z"
   },
   {
    "duration": 793,
    "start_time": "2023-10-08T05:35:45.084Z"
   },
   {
    "duration": 212,
    "start_time": "2023-10-08T05:35:45.878Z"
   },
   {
    "duration": 14,
    "start_time": "2023-10-08T05:35:46.092Z"
   },
   {
    "duration": 99,
    "start_time": "2023-10-08T05:35:46.107Z"
   },
   {
    "duration": 512,
    "start_time": "2023-10-08T05:35:46.207Z"
   },
   {
    "duration": 51,
    "start_time": "2023-10-08T05:35:46.721Z"
   },
   {
    "duration": 11431,
    "start_time": "2023-10-08T05:35:46.773Z"
   },
   {
    "duration": 25,
    "start_time": "2023-10-08T05:35:58.205Z"
   },
   {
    "duration": 461,
    "start_time": "2023-10-08T05:35:58.232Z"
   },
   {
    "duration": 530,
    "start_time": "2023-10-08T05:35:58.695Z"
   },
   {
    "duration": 247,
    "start_time": "2023-10-08T05:35:59.227Z"
   },
   {
    "duration": 896,
    "start_time": "2023-10-08T05:35:59.475Z"
   },
   {
    "duration": 14,
    "start_time": "2023-10-08T05:36:00.372Z"
   },
   {
    "duration": 34,
    "start_time": "2023-10-08T05:36:00.389Z"
   },
   {
    "duration": 140,
    "start_time": "2023-10-08T05:36:00.424Z"
   },
   {
    "duration": 5,
    "start_time": "2023-10-08T05:36:00.569Z"
   },
   {
    "duration": 139,
    "start_time": "2023-10-08T05:36:00.575Z"
   },
   {
    "duration": 1063,
    "start_time": "2023-10-08T05:36:00.715Z"
   },
   {
    "duration": 12,
    "start_time": "2023-10-08T05:36:01.780Z"
   },
   {
    "duration": 133,
    "start_time": "2023-10-08T06:07:54.788Z"
   },
   {
    "duration": 33,
    "start_time": "2023-10-08T06:08:24.804Z"
   },
   {
    "duration": 733,
    "start_time": "2023-10-08T06:11:12.328Z"
   },
   {
    "duration": 809,
    "start_time": "2023-10-08T06:11:46.849Z"
   },
   {
    "duration": 1513,
    "start_time": "2024-01-03T12:37:19.957Z"
   },
   {
    "duration": 1005,
    "start_time": "2024-01-03T12:37:21.472Z"
   },
   {
    "duration": 128,
    "start_time": "2024-01-03T12:37:22.479Z"
   },
   {
    "duration": 389,
    "start_time": "2024-01-03T12:37:22.609Z"
   },
   {
    "duration": 815,
    "start_time": "2024-01-03T12:37:22.999Z"
   },
   {
    "duration": 367,
    "start_time": "2024-01-03T12:37:23.815Z"
   },
   {
    "duration": 31,
    "start_time": "2024-01-03T12:37:24.183Z"
   },
   {
    "duration": 17,
    "start_time": "2024-01-03T12:37:24.215Z"
   },
   {
    "duration": 201,
    "start_time": "2024-01-03T12:37:24.245Z"
   },
   {
    "duration": 17,
    "start_time": "2024-01-03T12:37:24.448Z"
   },
   {
    "duration": 35,
    "start_time": "2024-01-03T12:37:24.467Z"
   },
   {
    "duration": 182,
    "start_time": "2024-01-03T12:37:24.503Z"
   },
   {
    "duration": 4141,
    "start_time": "2024-01-03T12:37:24.687Z"
   },
   {
    "duration": 66,
    "start_time": "2024-01-03T12:37:28.830Z"
   },
   {
    "duration": 808,
    "start_time": "2024-01-03T12:37:28.898Z"
   },
   {
    "duration": 214,
    "start_time": "2024-01-03T12:37:29.708Z"
   },
   {
    "duration": 23,
    "start_time": "2024-01-03T12:37:29.924Z"
   },
   {
    "duration": 86,
    "start_time": "2024-01-03T12:37:29.949Z"
   },
   {
    "duration": 483,
    "start_time": "2024-01-03T12:37:30.044Z"
   },
   {
    "duration": 46,
    "start_time": "2024-01-03T12:37:30.529Z"
   },
   {
    "duration": 11873,
    "start_time": "2024-01-03T12:37:30.577Z"
   },
   {
    "duration": 24,
    "start_time": "2024-01-03T12:37:42.453Z"
   },
   {
    "duration": 452,
    "start_time": "2024-01-03T12:37:42.478Z"
   },
   {
    "duration": 524,
    "start_time": "2024-01-03T12:37:42.932Z"
   },
   {
    "duration": 243,
    "start_time": "2024-01-03T12:37:43.458Z"
   },
   {
    "duration": 928,
    "start_time": "2024-01-03T12:37:43.702Z"
   },
   {
    "duration": 16,
    "start_time": "2024-01-03T12:37:44.632Z"
   },
   {
    "duration": 16,
    "start_time": "2024-01-03T12:37:44.652Z"
   },
   {
    "duration": 156,
    "start_time": "2024-01-03T12:37:44.669Z"
   },
   {
    "duration": 3,
    "start_time": "2024-01-03T12:37:44.827Z"
   },
   {
    "duration": 114,
    "start_time": "2024-01-03T12:37:44.832Z"
   },
   {
    "duration": 984,
    "start_time": "2024-01-03T12:37:44.947Z"
   },
   {
    "duration": 20,
    "start_time": "2024-01-03T12:37:45.932Z"
   },
   {
    "duration": 727,
    "start_time": "2024-01-03T12:37:45.953Z"
   },
   {
    "duration": 648,
    "start_time": "2024-01-03T12:37:46.682Z"
   },
   {
    "duration": 935,
    "start_time": "2024-01-03T12:37:47.332Z"
   },
   {
    "duration": 52076,
    "start_time": "2024-01-03T12:37:48.269Z"
   },
   {
    "duration": 5,
    "start_time": "2024-01-03T12:38:40.347Z"
   },
   {
    "duration": 2296,
    "start_time": "2024-01-03T12:38:40.354Z"
   },
   {
    "duration": 900,
    "start_time": "2024-01-03T12:38:42.652Z"
   },
   {
    "duration": 93,
    "start_time": "2024-01-03T12:38:43.554Z"
   },
   {
    "duration": 402370,
    "start_time": "2024-01-03T12:38:43.649Z"
   },
   {
    "duration": 498,
    "start_time": "2024-01-03T12:45:26.021Z"
   },
   {
    "duration": 50,
    "start_time": "2024-01-03T12:45:26.520Z"
   },
   {
    "duration": 3191655,
    "start_time": "2024-01-03T12:45:26.571Z"
   },
   {
    "duration": 54385,
    "start_time": "2024-01-03T13:38:38.227Z"
   },
   {
    "duration": 7296,
    "start_time": "2024-01-03T13:39:32.614Z"
   },
   {
    "duration": 4,
    "start_time": "2024-01-03T13:39:39.911Z"
   },
   {
    "duration": 1277239,
    "start_time": "2024-01-03T13:39:39.917Z"
   },
   {
    "duration": 24696,
    "start_time": "2024-01-03T14:00:57.158Z"
   },
   {
    "duration": 5812,
    "start_time": "2024-01-03T14:01:21.855Z"
   },
   {
    "duration": 9,
    "start_time": "2024-01-03T14:01:27.668Z"
   },
   {
    "duration": 1986,
    "start_time": "2024-01-03T14:01:27.679Z"
   },
   {
    "duration": 79,
    "start_time": "2024-01-03T14:01:29.666Z"
   }
  ],
  "kernelspec": {
   "display_name": "Python 3 (ipykernel)",
   "language": "python",
   "name": "python3"
  },
  "language_info": {
   "codemirror_mode": {
    "name": "ipython",
    "version": 3
   },
   "file_extension": ".py",
   "mimetype": "text/x-python",
   "name": "python",
   "nbconvert_exporter": "python",
   "pygments_lexer": "ipython3",
   "version": "3.10.9"
  },
  "toc": {
   "base_numbering": 1,
   "nav_menu": {},
   "number_sections": true,
   "sideBar": true,
   "skip_h1_title": true,
   "title_cell": "Table of Contents",
   "title_sidebar": "Contents",
   "toc_cell": false,
   "toc_position": {},
   "toc_section_display": true,
   "toc_window_display": true
  }
 },
 "nbformat": 4,
 "nbformat_minor": 2
}
