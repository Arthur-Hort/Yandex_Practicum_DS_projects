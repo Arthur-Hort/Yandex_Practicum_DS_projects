{
 "cells": [
  {
   "cell_type": "markdown",
   "metadata": {
    "toc": true
   },
   "source": [
    "<h1>Содержание<span class=\"tocSkip\"></span></h1>\n",
    "<div class=\"toc\"><ul class=\"toc-item\"><li><span><a href=\"#Подготовка-данных\" data-toc-modified-id=\"Подготовка-данных-1\"><span class=\"toc-item-num\">1&nbsp;&nbsp;</span>Подготовка данных</a></span></li><li><span><a href=\"#Исследование-задачи\" data-toc-modified-id=\"Исследование-задачи-2\"><span class=\"toc-item-num\">2&nbsp;&nbsp;</span>Исследование задачи</a></span></li><li><span><a href=\"#Борьба-с-дисбалансом\" data-toc-modified-id=\"Борьба-с-дисбалансом-3\"><span class=\"toc-item-num\">3&nbsp;&nbsp;</span>Борьба с дисбалансом</a></span></li><li><span><a href=\"#Тестирование-модели\" data-toc-modified-id=\"Тестирование-модели-4\"><span class=\"toc-item-num\">4&nbsp;&nbsp;</span>Тестирование модели</a></span></li><li><span><a href=\"#Общий-вывод\" data-toc-modified-id=\"Общий-вывод-5\"><span class=\"toc-item-num\">5&nbsp;&nbsp;</span>Общий вывод</a></span></li><li><span><a href=\"#Чек-лист-готовности-проекта\" data-toc-modified-id=\"Чек-лист-готовности-проекта-6\"><span class=\"toc-item-num\">6&nbsp;&nbsp;</span>Чек-лист готовности проекта</a></span></li></ul></div>"
   ]
  },
  {
   "cell_type": "markdown",
   "metadata": {},
   "source": [
    "# Отток клиентов Бета - Банка"
   ]
  },
  {
   "cell_type": "markdown",
   "metadata": {},
   "source": [
    "Из «Бета-Банка» стали уходить клиенты. Каждый месяц. Немного, но заметно. Банковские маркетологи посчитали: сохранять текущих клиентов дешевле, чем привлекать новых.\n",
    "\n",
    "Нужно спрогнозировать, уйдёт клиент из банка в ближайшее время или нет. Вам предоставлены исторические данные о поведении клиентов и расторжении договоров с банком. \n",
    "\n",
    "Постройте модель с предельно большим значением *F1*-меры. Чтобы сдать проект успешно, нужно довести метрику до 0.59. Проверьте *F1*-меру на тестовой выборке самостоятельно.\n",
    "\n",
    "Дополнительно измеряйте *AUC-ROC*, сравнивайте её значение с *F1*-мерой.\n",
    "\n",
    "Источник данных: [https://www.kaggle.com/barelydedicated/bank-customer-churn-modeling](https://www.kaggle.com/barelydedicated/bank-customer-churn-modeling)"
   ]
  },
  {
   "cell_type": "markdown",
   "metadata": {},
   "source": [
    "**Описание данных**\n",
    "\n",
    "Данные находятся в файле /datasets/Churn.csv (англ. «отток клиентов»).\n",
    "\n",
    "**Признаки**\n",
    "\n",
    "- RowNumber — индекс строки в данных\n",
    "- CustomerId — уникальный идентификатор клиента\n",
    "- Surname — фамилия\n",
    "- CreditScore — кредитный рейтинг\n",
    "- Geography — страна проживания\n",
    "- Gender — пол\n",
    "- Age — возраст\n",
    "- Tenure — сколько лет человек является клиентом банка\n",
    "- Balance — баланс на счёте\n",
    "- NumOfProducts — количество продуктов банка, используемых клиентом\n",
    "- HasCrCard — наличие кредитной карты\n",
    "- IsActiveMember — активность клиента\n",
    "- EstimatedSalary — предполагаемая зарплата\n",
    "\n",
    "**Целевой признак**\n",
    "- Exited — факт ухода клиента"
   ]
  },
  {
   "cell_type": "markdown",
   "metadata": {},
   "source": [
    "**Наша цель:**\n",
    "\n",
    "1.\tЗагрузить и подготовить данные. Пояснить порядок действий.\n",
    "2.\tИсследовать баланс классов, обучите модель без учёта дисбаланса. Кратко описать выводы.\n",
    "3.\tУлучшить качество модели, учитывая дисбаланс классов. Обучить разные модели и найти лучшую. Кратко описать выводы.\n",
    "4.\tПровести финальное тестирование.\n",
    "\n",
    "**Наш план:**\n",
    "\n",
    "1. Загрузим данные и подготовим их\n",
    "    - Проверить на дубликаты (явные и неявные). Если нужно, обработать или удалить их.\n",
    "    - Обработать пропуски в данных, если таковы имеются.\n",
    "    - Подготовить данные к машинному обучению\n",
    "2.\tИсследовуем баланс классов, обучим модель без учёта дисбаланса. Кратко опишем выводы.\n",
    "3.\tУлучшим качество модели, учитывая дисбаланс классов. Обучим разные модели и найдём лучшую. Кратко опишем выводы.\n",
    "4.\tПроведём финальное тестирование."
   ]
  },
  {
   "cell_type": "code",
   "execution_count": 1,
   "metadata": {},
   "outputs": [],
   "source": [
    "# ячейка для импорта библиотек\n",
    "import pandas as pd\n",
    "import numpy as np\n",
    "import seaborn as sns\n",
    "from sklearn.model_selection import train_test_split\n",
    "from sklearn.tree import DecisionTreeClassifier\n",
    "from sklearn.ensemble import RandomForestClassifier\n",
    "from sklearn.linear_model import LogisticRegression\n",
    "from sklearn.preprocessing import StandardScaler\n",
    "from sklearn.metrics import f1_score, roc_curve, roc_auc_score, recall_score\n",
    "from sklearn.utils import shuffle\n",
    "from sklearn.dummy import DummyClassifier\n",
    "import matplotlib.pyplot as plt"
   ]
  },
  {
   "cell_type": "markdown",
   "metadata": {},
   "source": [
    "## Подготовка данных"
   ]
  },
  {
   "cell_type": "code",
   "execution_count": 2,
   "metadata": {},
   "outputs": [
    {
     "data": {
      "text/html": [
       "<div>\n",
       "<style scoped>\n",
       "    .dataframe tbody tr th:only-of-type {\n",
       "        vertical-align: middle;\n",
       "    }\n",
       "\n",
       "    .dataframe tbody tr th {\n",
       "        vertical-align: top;\n",
       "    }\n",
       "\n",
       "    .dataframe thead th {\n",
       "        text-align: right;\n",
       "    }\n",
       "</style>\n",
       "<table border=\"1\" class=\"dataframe\">\n",
       "  <thead>\n",
       "    <tr style=\"text-align: right;\">\n",
       "      <th></th>\n",
       "      <th>RowNumber</th>\n",
       "      <th>CustomerId</th>\n",
       "      <th>Surname</th>\n",
       "      <th>CreditScore</th>\n",
       "      <th>Geography</th>\n",
       "      <th>Gender</th>\n",
       "      <th>Age</th>\n",
       "      <th>Tenure</th>\n",
       "      <th>Balance</th>\n",
       "      <th>NumOfProducts</th>\n",
       "      <th>HasCrCard</th>\n",
       "      <th>IsActiveMember</th>\n",
       "      <th>EstimatedSalary</th>\n",
       "      <th>Exited</th>\n",
       "    </tr>\n",
       "  </thead>\n",
       "  <tbody>\n",
       "    <tr>\n",
       "      <th>0</th>\n",
       "      <td>1</td>\n",
       "      <td>15634602</td>\n",
       "      <td>Hargrave</td>\n",
       "      <td>619</td>\n",
       "      <td>France</td>\n",
       "      <td>Female</td>\n",
       "      <td>42</td>\n",
       "      <td>2.0</td>\n",
       "      <td>0.00</td>\n",
       "      <td>1</td>\n",
       "      <td>1</td>\n",
       "      <td>1</td>\n",
       "      <td>101348.88</td>\n",
       "      <td>1</td>\n",
       "    </tr>\n",
       "    <tr>\n",
       "      <th>1</th>\n",
       "      <td>2</td>\n",
       "      <td>15647311</td>\n",
       "      <td>Hill</td>\n",
       "      <td>608</td>\n",
       "      <td>Spain</td>\n",
       "      <td>Female</td>\n",
       "      <td>41</td>\n",
       "      <td>1.0</td>\n",
       "      <td>83807.86</td>\n",
       "      <td>1</td>\n",
       "      <td>0</td>\n",
       "      <td>1</td>\n",
       "      <td>112542.58</td>\n",
       "      <td>0</td>\n",
       "    </tr>\n",
       "    <tr>\n",
       "      <th>2</th>\n",
       "      <td>3</td>\n",
       "      <td>15619304</td>\n",
       "      <td>Onio</td>\n",
       "      <td>502</td>\n",
       "      <td>France</td>\n",
       "      <td>Female</td>\n",
       "      <td>42</td>\n",
       "      <td>8.0</td>\n",
       "      <td>159660.80</td>\n",
       "      <td>3</td>\n",
       "      <td>1</td>\n",
       "      <td>0</td>\n",
       "      <td>113931.57</td>\n",
       "      <td>1</td>\n",
       "    </tr>\n",
       "    <tr>\n",
       "      <th>3</th>\n",
       "      <td>4</td>\n",
       "      <td>15701354</td>\n",
       "      <td>Boni</td>\n",
       "      <td>699</td>\n",
       "      <td>France</td>\n",
       "      <td>Female</td>\n",
       "      <td>39</td>\n",
       "      <td>1.0</td>\n",
       "      <td>0.00</td>\n",
       "      <td>2</td>\n",
       "      <td>0</td>\n",
       "      <td>0</td>\n",
       "      <td>93826.63</td>\n",
       "      <td>0</td>\n",
       "    </tr>\n",
       "    <tr>\n",
       "      <th>4</th>\n",
       "      <td>5</td>\n",
       "      <td>15737888</td>\n",
       "      <td>Mitchell</td>\n",
       "      <td>850</td>\n",
       "      <td>Spain</td>\n",
       "      <td>Female</td>\n",
       "      <td>43</td>\n",
       "      <td>2.0</td>\n",
       "      <td>125510.82</td>\n",
       "      <td>1</td>\n",
       "      <td>1</td>\n",
       "      <td>1</td>\n",
       "      <td>79084.10</td>\n",
       "      <td>0</td>\n",
       "    </tr>\n",
       "    <tr>\n",
       "      <th>5</th>\n",
       "      <td>6</td>\n",
       "      <td>15574012</td>\n",
       "      <td>Chu</td>\n",
       "      <td>645</td>\n",
       "      <td>Spain</td>\n",
       "      <td>Male</td>\n",
       "      <td>44</td>\n",
       "      <td>8.0</td>\n",
       "      <td>113755.78</td>\n",
       "      <td>2</td>\n",
       "      <td>1</td>\n",
       "      <td>0</td>\n",
       "      <td>149756.71</td>\n",
       "      <td>1</td>\n",
       "    </tr>\n",
       "    <tr>\n",
       "      <th>6</th>\n",
       "      <td>7</td>\n",
       "      <td>15592531</td>\n",
       "      <td>Bartlett</td>\n",
       "      <td>822</td>\n",
       "      <td>France</td>\n",
       "      <td>Male</td>\n",
       "      <td>50</td>\n",
       "      <td>7.0</td>\n",
       "      <td>0.00</td>\n",
       "      <td>2</td>\n",
       "      <td>1</td>\n",
       "      <td>1</td>\n",
       "      <td>10062.80</td>\n",
       "      <td>0</td>\n",
       "    </tr>\n",
       "    <tr>\n",
       "      <th>7</th>\n",
       "      <td>8</td>\n",
       "      <td>15656148</td>\n",
       "      <td>Obinna</td>\n",
       "      <td>376</td>\n",
       "      <td>Germany</td>\n",
       "      <td>Female</td>\n",
       "      <td>29</td>\n",
       "      <td>4.0</td>\n",
       "      <td>115046.74</td>\n",
       "      <td>4</td>\n",
       "      <td>1</td>\n",
       "      <td>0</td>\n",
       "      <td>119346.88</td>\n",
       "      <td>1</td>\n",
       "    </tr>\n",
       "    <tr>\n",
       "      <th>8</th>\n",
       "      <td>9</td>\n",
       "      <td>15792365</td>\n",
       "      <td>He</td>\n",
       "      <td>501</td>\n",
       "      <td>France</td>\n",
       "      <td>Male</td>\n",
       "      <td>44</td>\n",
       "      <td>4.0</td>\n",
       "      <td>142051.07</td>\n",
       "      <td>2</td>\n",
       "      <td>0</td>\n",
       "      <td>1</td>\n",
       "      <td>74940.50</td>\n",
       "      <td>0</td>\n",
       "    </tr>\n",
       "    <tr>\n",
       "      <th>9</th>\n",
       "      <td>10</td>\n",
       "      <td>15592389</td>\n",
       "      <td>H?</td>\n",
       "      <td>684</td>\n",
       "      <td>France</td>\n",
       "      <td>Male</td>\n",
       "      <td>27</td>\n",
       "      <td>2.0</td>\n",
       "      <td>134603.88</td>\n",
       "      <td>1</td>\n",
       "      <td>1</td>\n",
       "      <td>1</td>\n",
       "      <td>71725.73</td>\n",
       "      <td>0</td>\n",
       "    </tr>\n",
       "  </tbody>\n",
       "</table>\n",
       "</div>"
      ],
      "text/plain": [
       "   RowNumber  CustomerId   Surname  CreditScore Geography  Gender  Age  \\\n",
       "0          1    15634602  Hargrave          619    France  Female   42   \n",
       "1          2    15647311      Hill          608     Spain  Female   41   \n",
       "2          3    15619304      Onio          502    France  Female   42   \n",
       "3          4    15701354      Boni          699    France  Female   39   \n",
       "4          5    15737888  Mitchell          850     Spain  Female   43   \n",
       "5          6    15574012       Chu          645     Spain    Male   44   \n",
       "6          7    15592531  Bartlett          822    France    Male   50   \n",
       "7          8    15656148    Obinna          376   Germany  Female   29   \n",
       "8          9    15792365        He          501    France    Male   44   \n",
       "9         10    15592389        H?          684    France    Male   27   \n",
       "\n",
       "   Tenure    Balance  NumOfProducts  HasCrCard  IsActiveMember  \\\n",
       "0     2.0       0.00              1          1               1   \n",
       "1     1.0   83807.86              1          0               1   \n",
       "2     8.0  159660.80              3          1               0   \n",
       "3     1.0       0.00              2          0               0   \n",
       "4     2.0  125510.82              1          1               1   \n",
       "5     8.0  113755.78              2          1               0   \n",
       "6     7.0       0.00              2          1               1   \n",
       "7     4.0  115046.74              4          1               0   \n",
       "8     4.0  142051.07              2          0               1   \n",
       "9     2.0  134603.88              1          1               1   \n",
       "\n",
       "   EstimatedSalary  Exited  \n",
       "0        101348.88       1  \n",
       "1        112542.58       0  \n",
       "2        113931.57       1  \n",
       "3         93826.63       0  \n",
       "4         79084.10       0  \n",
       "5        149756.71       1  \n",
       "6         10062.80       0  \n",
       "7        119346.88       1  \n",
       "8         74940.50       0  \n",
       "9         71725.73       0  "
      ]
     },
     "execution_count": 2,
     "metadata": {},
     "output_type": "execute_result"
    }
   ],
   "source": [
    "# знакомимся с данными\n",
    "clients = pd.read_csv(r'https://code.s3.yandex.net/datasets/Churn.csv')\n",
    "clients.head(10)"
   ]
  },
  {
   "cell_type": "markdown",
   "metadata": {},
   "source": [
    "На вскидку - пропусков, скорее всего, нет. Но, это мы ещё проверим. Есть как числовые данные, так и строки. Также не помешает проверить данные на дубликаты. "
   ]
  },
  {
   "cell_type": "code",
   "execution_count": 3,
   "metadata": {},
   "outputs": [
    {
     "name": "stdout",
     "output_type": "stream",
     "text": [
      "<class 'pandas.core.frame.DataFrame'>\n",
      "RangeIndex: 10000 entries, 0 to 9999\n",
      "Data columns (total 14 columns):\n",
      " #   Column           Non-Null Count  Dtype  \n",
      "---  ------           --------------  -----  \n",
      " 0   RowNumber        10000 non-null  int64  \n",
      " 1   CustomerId       10000 non-null  int64  \n",
      " 2   Surname          10000 non-null  object \n",
      " 3   CreditScore      10000 non-null  int64  \n",
      " 4   Geography        10000 non-null  object \n",
      " 5   Gender           10000 non-null  object \n",
      " 6   Age              10000 non-null  int64  \n",
      " 7   Tenure           9091 non-null   float64\n",
      " 8   Balance          10000 non-null  float64\n",
      " 9   NumOfProducts    10000 non-null  int64  \n",
      " 10  HasCrCard        10000 non-null  int64  \n",
      " 11  IsActiveMember   10000 non-null  int64  \n",
      " 12  EstimatedSalary  10000 non-null  float64\n",
      " 13  Exited           10000 non-null  int64  \n",
      "dtypes: float64(3), int64(8), object(3)\n",
      "memory usage: 1.1+ MB\n"
     ]
    }
   ],
   "source": [
    "# проверяем на пропуски\n",
    "clients.info()"
   ]
  },
  {
   "cell_type": "markdown",
   "metadata": {},
   "source": [
    "Все данные полные, кроме пропусков в столце Tenure (909). Столбцы Surname, Geography, Gender - ожидаемо строки. Столбец CustomerId нужен только для проверки уникальности клиента при равенстве остальных строк (для обучения почти бесполезен)."
   ]
  },
  {
   "cell_type": "code",
   "execution_count": 4,
   "metadata": {},
   "outputs": [
    {
     "data": {
      "text/plain": [
       "0"
      ]
     },
     "execution_count": 4,
     "metadata": {},
     "output_type": "execute_result"
    }
   ],
   "source": [
    "# проверка на явные дубликаты\n",
    "clients.duplicated().sum()"
   ]
  },
  {
   "cell_type": "markdown",
   "metadata": {},
   "source": [
    "Явных дубликатов нет. Неявные дубликаты могут возникнуть из-за столбцов Surname и Geography. На всякий случай надо проверить."
   ]
  },
  {
   "cell_type": "code",
   "execution_count": 5,
   "metadata": {},
   "outputs": [
    {
     "name": "stdout",
     "output_type": "stream",
     "text": [
      "['France' 'Germany' 'Spain']\n"
     ]
    },
    {
     "data": {
      "text/plain": [
       "array(['Abazu', 'Abbie', 'Abbott', ..., 'Zuev', 'Zuyev', 'Zuyeva'],\n",
       "      dtype=object)"
      ]
     },
     "execution_count": 5,
     "metadata": {},
     "output_type": "execute_result"
    }
   ],
   "source": [
    "# проверяем  на  неявные дубликаты столбцы Surname и Geography\n",
    "print(clients.sort_values(by='Geography').Geography.unique())\n",
    "clients.sort_values(by='Surname').Surname.unique()"
   ]
  },
  {
   "cell_type": "markdown",
   "metadata": {},
   "source": [
    "В странах нет точно неявных дубликатов. В фамилиях только если есть ошибки в написании - а так все начинаются с заглавной буквы и написаны латиницей. Список слишком большой - все названия не выводит. будем считать, что тут скрытых дубликатов нет."
   ]
  },
  {
   "cell_type": "code",
   "execution_count": 6,
   "metadata": {},
   "outputs": [
    {
     "data": {
      "text/plain": [
       "array([ 0.,  1.,  2.,  3.,  4.,  5.,  6.,  7.,  8.,  9., 10., nan])"
      ]
     },
     "execution_count": 6,
     "metadata": {},
     "output_type": "execute_result"
    }
   ],
   "source": [
    "# проверяем уникальные данные в столце с пропусками (Tenure)\n",
    "clients.sort_values(by='Tenure').Tenure.unique()"
   ]
  },
  {
   "cell_type": "markdown",
   "metadata": {},
   "source": [
    "Данные разбиты по годам - нецелые числа возникли только из-за пропусков. Можно было бы предположить, что это данные недавних клиентов, но это нам не подтвердить никак. В таком случае постоим график распределения и посмотрим наиболее возможноные значения, чтобы при заполнении не исказить значения столбца."
   ]
  },
  {
   "cell_type": "code",
   "execution_count": 7,
   "metadata": {},
   "outputs": [
    {
     "data": {
      "image/png": "[encoded data removed]",
      "text/plain": [
       "<Figure size 1500x600 with 1 Axes>"
      ]
     },
     "metadata": {},
     "output_type": "display_data"
    }
   ],
   "source": [
    "# строим график распределения столбца Tenure (срок обслуживания в банке)\n",
    "sns.set(rc={'figure.figsize': (15, 6)})\n",
    "ax = sns.histplot(x=clients.Tenure, color='lime')\n",
    "ax.set(xlabel='Срок обслуживания в банке (в годах)', ylabel='Количество людей', \\\n",
    "       title='Срок обслуживания клиентов в банке по годам');"
   ]
  },
  {
   "cell_type": "markdown",
   "metadata": {},
   "source": [
    "Значения распределены равномерно. Притом, сильно отличаются лишь 0 и 10 лет. Для того, чтобы не искажать данные заполним значение медианой."
   ]
  },
  {
   "cell_type": "code",
   "execution_count": 8,
   "metadata": {},
   "outputs": [
    {
     "name": "stdout",
     "output_type": "stream",
     "text": [
      "<class 'pandas.core.frame.DataFrame'>\n",
      "RangeIndex: 10000 entries, 0 to 9999\n",
      "Data columns (total 14 columns):\n",
      " #   Column           Non-Null Count  Dtype  \n",
      "---  ------           --------------  -----  \n",
      " 0   RowNumber        10000 non-null  int64  \n",
      " 1   CustomerId       10000 non-null  int64  \n",
      " 2   Surname          10000 non-null  object \n",
      " 3   CreditScore      10000 non-null  int64  \n",
      " 4   Geography        10000 non-null  object \n",
      " 5   Gender           10000 non-null  object \n",
      " 6   Age              10000 non-null  int64  \n",
      " 7   Tenure           10000 non-null  float64\n",
      " 8   Balance          10000 non-null  float64\n",
      " 9   NumOfProducts    10000 non-null  int64  \n",
      " 10  HasCrCard        10000 non-null  int64  \n",
      " 11  IsActiveMember   10000 non-null  int64  \n",
      " 12  EstimatedSalary  10000 non-null  float64\n",
      " 13  Exited           10000 non-null  int64  \n",
      "dtypes: float64(3), int64(8), object(3)\n",
      "memory usage: 1.1+ MB\n"
     ]
    }
   ],
   "source": [
    "# заполняем пропуски в столбце Tenure медианой\n",
    "clients.Tenure.fillna(clients.Tenure.median(), inplace=True)\n",
    "\n",
    "# проверка на пропуски\n",
    "clients.info()"
   ]
  },
  {
   "cell_type": "markdown",
   "metadata": {},
   "source": [
    "Как представляется номер строки, уникальный идентификационных номер клиента и фамилия не очень важны для дальнейшего анализа данных, а вот столбцы со страной и полом надо преобразовать в числа. Сделаем это по технологии OHE (One-Hot-Encoding)."
   ]
  },
  {
   "cell_type": "code",
   "execution_count": 9,
   "metadata": {},
   "outputs": [
    {
     "name": "stdout",
     "output_type": "stream",
     "text": [
      "<class 'pandas.core.frame.DataFrame'>\n",
      "RangeIndex: 10000 entries, 0 to 9999\n",
      "Data columns (total 12 columns):\n",
      " #   Column             Non-Null Count  Dtype  \n",
      "---  ------             --------------  -----  \n",
      " 0   CreditScore        10000 non-null  int64  \n",
      " 1   Age                10000 non-null  int64  \n",
      " 2   Tenure             10000 non-null  float64\n",
      " 3   Balance            10000 non-null  float64\n",
      " 4   NumOfProducts      10000 non-null  int64  \n",
      " 5   HasCrCard          10000 non-null  int64  \n",
      " 6   IsActiveMember     10000 non-null  int64  \n",
      " 7   EstimatedSalary    10000 non-null  float64\n",
      " 8   Exited             10000 non-null  int64  \n",
      " 9   Geography_Germany  10000 non-null  uint32 \n",
      " 10  Geography_Spain    10000 non-null  uint32 \n",
      " 11  Gender_Male        10000 non-null  uint32 \n",
      "dtypes: float64(3), int64(6), uint32(3)\n",
      "memory usage: 820.4 KB\n"
     ]
    }
   ],
   "source": [
    "# преобразуем столбцы Geography и Gender по технологии OHE\n",
    "clients_ohe = pd.get_dummies(data=clients, columns=['Geography', 'Gender'], drop_first=True, dtype='uint32')\n",
    "\n",
    "clients_ohe = clients_ohe.drop(['RowNumber', 'CustomerId', 'Surname'], axis=1)\n",
    "\n",
    "# смотрим на результат преобразований\n",
    "clients_ohe.info()"
   ]
  },
  {
   "cell_type": "code",
   "execution_count": 10,
   "metadata": {},
   "outputs": [
    {
     "data": {
      "image/png": "[encoded data removed]",
      "text/plain": [
       "<Figure size 1500x600 with 2 Axes>"
      ]
     },
     "metadata": {},
     "output_type": "display_data"
    }
   ],
   "source": [
    "# проверим как наши данные соотносятся с фактом выхода - постоим график корреляции\n",
    "ax = sns.heatmap(data=clients_ohe.corr(), annot=True, cmap='rainbow_r')\n",
    "ax.set(title='График - матрица корреляции');"
   ]
  },
  {
   "cell_type": "markdown",
   "metadata": {},
   "source": [
    "Сверхсильно влияющих друг на друга данных у нас нет. Но, правда, тоже самое касается и целевой переменной.\n",
    "\n",
    "Следующее, что надо сделать в рамках подготовки данных - отмасшабировать все изначальные количественные переменные. Нужно это затем, чтобы не было например, сверхсильного влияния зарплаты на факт ухода, а возраст вообще влияния не оказывал. Нам важны все данные, а не их часть."
   ]
  },
  {
   "cell_type": "code",
   "execution_count": 11,
   "metadata": {},
   "outputs": [
    {
     "name": "stdout",
     "output_type": "stream",
     "text": [
      "(6000, 11)\n",
      "(2000, 11)\n",
      "(2000, 11)\n",
      "(6000,)\n",
      "(2000,)\n",
      "(2000,)\n"
     ]
    },
    {
     "data": {
      "text/html": [
       "<div>\n",
       "<style scoped>\n",
       "    .dataframe tbody tr th:only-of-type {\n",
       "        vertical-align: middle;\n",
       "    }\n",
       "\n",
       "    .dataframe tbody tr th {\n",
       "        vertical-align: top;\n",
       "    }\n",
       "\n",
       "    .dataframe thead th {\n",
       "        text-align: right;\n",
       "    }\n",
       "</style>\n",
       "<table border=\"1\" class=\"dataframe\">\n",
       "  <thead>\n",
       "    <tr style=\"text-align: right;\">\n",
       "      <th></th>\n",
       "      <th>CreditScore</th>\n",
       "      <th>Age</th>\n",
       "      <th>Tenure</th>\n",
       "      <th>Balance</th>\n",
       "      <th>NumOfProducts</th>\n",
       "      <th>HasCrCard</th>\n",
       "      <th>IsActiveMember</th>\n",
       "      <th>EstimatedSalary</th>\n",
       "      <th>Geography_Germany</th>\n",
       "      <th>Geography_Spain</th>\n",
       "      <th>Gender_Male</th>\n",
       "    </tr>\n",
       "  </thead>\n",
       "  <tbody>\n",
       "    <tr>\n",
       "      <th>5079</th>\n",
       "      <td>-2.297469</td>\n",
       "      <td>-0.186789</td>\n",
       "      <td>0.007897</td>\n",
       "      <td>-1.231362</td>\n",
       "      <td>0.782433</td>\n",
       "      <td>1</td>\n",
       "      <td>1</td>\n",
       "      <td>0.370785</td>\n",
       "      <td>0</td>\n",
       "      <td>0</td>\n",
       "      <td>1</td>\n",
       "    </tr>\n",
       "    <tr>\n",
       "      <th>9887</th>\n",
       "      <td>0.339634</td>\n",
       "      <td>-1.444956</td>\n",
       "      <td>1.092997</td>\n",
       "      <td>1.061898</td>\n",
       "      <td>-0.910534</td>\n",
       "      <td>1</td>\n",
       "      <td>1</td>\n",
       "      <td>-1.343116</td>\n",
       "      <td>0</td>\n",
       "      <td>1</td>\n",
       "      <td>1</td>\n",
       "    </tr>\n",
       "    <tr>\n",
       "      <th>4157</th>\n",
       "      <td>2.042977</td>\n",
       "      <td>2.232762</td>\n",
       "      <td>0.007897</td>\n",
       "      <td>-1.231362</td>\n",
       "      <td>0.782433</td>\n",
       "      <td>1</td>\n",
       "      <td>1</td>\n",
       "      <td>1.388453</td>\n",
       "      <td>0</td>\n",
       "      <td>1</td>\n",
       "      <td>1</td>\n",
       "    </tr>\n",
       "    <tr>\n",
       "      <th>291</th>\n",
       "      <td>0.986083</td>\n",
       "      <td>0.200339</td>\n",
       "      <td>0.007897</td>\n",
       "      <td>0.278300</td>\n",
       "      <td>0.782433</td>\n",
       "      <td>1</td>\n",
       "      <td>0</td>\n",
       "      <td>1.642761</td>\n",
       "      <td>0</td>\n",
       "      <td>1</td>\n",
       "      <td>0</td>\n",
       "    </tr>\n",
       "    <tr>\n",
       "      <th>5511</th>\n",
       "      <td>0.165195</td>\n",
       "      <td>-0.670700</td>\n",
       "      <td>-1.800603</td>\n",
       "      <td>0.427244</td>\n",
       "      <td>-0.910534</td>\n",
       "      <td>1</td>\n",
       "      <td>0</td>\n",
       "      <td>-1.377176</td>\n",
       "      <td>1</td>\n",
       "      <td>0</td>\n",
       "      <td>1</td>\n",
       "    </tr>\n",
       "  </tbody>\n",
       "</table>\n",
       "</div>"
      ],
      "text/plain": [
       "      CreditScore       Age    Tenure   Balance  NumOfProducts  HasCrCard  \\\n",
       "5079    -2.297469 -0.186789  0.007897 -1.231362       0.782433          1   \n",
       "9887     0.339634 -1.444956  1.092997  1.061898      -0.910534          1   \n",
       "4157     2.042977  2.232762  0.007897 -1.231362       0.782433          1   \n",
       "291      0.986083  0.200339  0.007897  0.278300       0.782433          1   \n",
       "5511     0.165195 -0.670700 -1.800603  0.427244      -0.910534          1   \n",
       "\n",
       "      IsActiveMember  EstimatedSalary  Geography_Germany  Geography_Spain  \\\n",
       "5079               1         0.370785                  0                0   \n",
       "9887               1        -1.343116                  0                1   \n",
       "4157               1         1.388453                  0                1   \n",
       "291                0         1.642761                  0                1   \n",
       "5511               0        -1.377176                  1                0   \n",
       "\n",
       "      Gender_Male  \n",
       "5079            1  \n",
       "9887            1  \n",
       "4157            1  \n",
       "291             0  \n",
       "5511            1  "
      ]
     },
     "execution_count": 11,
     "metadata": {},
     "output_type": "execute_result"
    }
   ],
   "source": [
    "pd.options.mode.chained_assignment = None\n",
    "\n",
    "# отделим целовой признак от всех остальных\n",
    "features_clients = clients_ohe.drop('Exited', axis=1)\n",
    "target_clients = clients_ohe.Exited\n",
    "features_train_clients, features_test_clients, target_train_clients, target_test_clients \\\n",
    "= train_test_split(features_clients, target_clients, test_size=0.2, random_state=22)\n",
    "\n",
    "# делим тренировочные данные на обучающие и валидационные\n",
    "features_train_clients, features_valid_clients, target_train_clients, target_valid_clients \\\n",
    "= train_test_split(features_train_clients, target_train_clients, test_size=0.25, random_state=22)\n",
    "\n",
    "# проводим стандартизацию количественных переменных\n",
    "numeric = ['CreditScore', 'Age', 'Tenure', 'Balance', 'NumOfProducts', 'EstimatedSalary']\n",
    "scaler = StandardScaler()\n",
    "scaler.fit(features_train_clients[numeric])\n",
    "features_train_clients[numeric] = scaler.transform(features_train_clients[numeric])\n",
    "features_test_clients[numeric] = scaler.transform(features_test_clients[numeric])\n",
    "features_valid_clients[numeric] = scaler.transform(features_valid_clients[numeric])\n",
    "\n",
    "# смотрим на результат\n",
    "print(features_train_clients.shape, features_valid_clients.shape, features_test_clients.shape, sep='\\n')\n",
    "print(target_train_clients.shape, target_valid_clients.shape, target_test_clients.shape, sep='\\n')\n",
    "features_train_clients.head()"
   ]
  },
  {
   "cell_type": "markdown",
   "metadata": {},
   "source": [
    "Теперь данные готовы к машинному обучению. Можно обучать различные модели и смотреть, что получается. Но сначала нужно иссдедовать есть ли дисбаланс классов? Если он имеет место быть - надо придумать стратегию борьбы с ним."
   ]
  },
  {
   "cell_type": "markdown",
   "metadata": {},
   "source": [
    "## Исследование задачи"
   ]
  },
  {
   "cell_type": "code",
   "execution_count": 12,
   "metadata": {},
   "outputs": [
    {
     "name": "stdout",
     "output_type": "stream",
     "text": [
      "1230\n",
      "4770\n"
     ]
    }
   ],
   "source": [
    "# сколько у нас представителей разных классов?\n",
    "print(features_train_clients[target_train_clients == 1].Age.count())\n",
    "print(features_train_clients[target_train_clients == 0].Age.count())"
   ]
  },
  {
   "cell_type": "markdown",
   "metadata": {},
   "source": [
    "Итак: на тестовых данных у вас почти в 4 раза больше примеров отрицательного класса, в отличие от положительного.\n",
    "С этим есть 3 способа борьбы:\n",
    "1. Взять разные веса для каждого класса. Это для скорости можно проверить на логистической регресии.\n",
    "2. Увеличить количество положительных примеров (метод upsampling)\n",
    "3. Уменьшить количество отрицательных примеров (метод downsampling) \n",
    "\n",
    "Сначала проверим первый способ, Потом проверим второй."
   ]
  },
  {
   "cell_type": "code",
   "execution_count": 13,
   "metadata": {},
   "outputs": [
    {
     "name": "stdout",
     "output_type": "stream",
     "text": [
      "F1 мера равна 0.31616341030195383\n",
      "Площадь под ROC-кривой равна 0.7605205495812911\n"
     ]
    }
   ],
   "source": [
    "# логистическая модель без учёта дисбаланса\n",
    "log_disbalance_model = LogisticRegression(solver='liblinear', random_state=22)\n",
    "log_disbalance_model.fit(features_train_clients, target_train_clients)\n",
    "disbalance_predicted = log_disbalance_model.predict(features_valid_clients)\n",
    "disbalance_probabilities = log_disbalance_model.predict_proba(features_valid_clients)\n",
    "print('F1 мера равна', f1_score(target_valid_clients, disbalance_predicted))\n",
    "print(\"Площадь под ROC-кривой равна\", roc_auc_score(target_valid_clients, disbalance_probabilities[:, 1]))"
   ]
  },
  {
   "cell_type": "markdown",
   "metadata": {},
   "source": [
    "Учитывая, что метрика F1_score может быть от 0 до 1 то, что наша метрика показала примерно 0.319 это пока что не очень хороший показатель. Но, при этом, Площадь под ROC-кривой больше, чем 0.5 и это показывает, что даже такая модель уже лучше совершенно случайной.\n",
    "\n",
    "Теперь непосредственно будем бороться с дисбалансом классов."
   ]
  },
  {
   "cell_type": "code",
   "execution_count": 14,
   "metadata": {
    "scrolled": true
   },
   "outputs": [
    {
     "name": "stdout",
     "output_type": "stream",
     "text": [
      "F1 мера решающего дисбалансного дерева равна: 0.6134094151212555\n",
      "Площадь под ROC-кривой дисбалансного дерева равна 0.8152681375453812\n",
      "Параметры решающего дисбалансного дерева:\n",
      "Глубина дерева: 9\n",
      "Минимальное число выборок для разделения внутреннего узла: 5\n",
      "Минимальное снижение примеси: 0.0\n",
      "CPU times: total: 1min 57s\n",
      "Wall time: 1min 57s\n"
     ]
    }
   ],
   "source": [
    "%%time\n",
    "\n",
    "# \"решающее дерево\" без учёта дисбаланса классов\n",
    "best_disbalance_tree = None\n",
    "best_disbalance_f1_score_tree = 0\n",
    "best_disbalance_roc_auc_score_tree = 0.0\n",
    "disbalance_depth_tree = 1\n",
    "disbalance_leaf_split = 2\n",
    "disbalance_impurity_tree = 0.0\n",
    "\n",
    "for depth in range(1, 21):\n",
    "    for split in range(2, 31):\n",
    "        for impurity_down in np.arange(0.0, 0.06, 0.01):\n",
    "            model_tree = DecisionTreeClassifier(criterion='entropy',max_depth=depth, min_samples_split=split,\\\n",
    "                                                min_impurity_decrease=impurity_down, random_state=22)\n",
    "            model_tree.fit(features_train_clients, target_train_clients)\n",
    "            predictions_tree = model_tree.predict(features_valid_clients)\n",
    "            probabilities_tree = model_tree.predict_proba(features_valid_clients)\n",
    "            f1_score_tree = f1_score(target_valid_clients, predictions_tree)\n",
    "            roc_auc = roc_auc_score(target_valid_clients, probabilities_tree[:, 1])\n",
    "            if f1_score_tree > best_disbalance_f1_score_tree:\n",
    "                best_disbalance_tree = model_tree\n",
    "                best_disbalance_f1_score_tree = f1_score_tree\n",
    "                best_disbalance_roc_auc_score_tree = roc_auc\n",
    "                disbalance_depth_tree, disbalance_leaf_split, disbalance_impurity_tree = depth, split, impurity_down\n",
    "                \n",
    "print('F1 мера решающего дисбалансного дерева равна:', best_disbalance_f1_score_tree)\n",
    "print(\"Площадь под ROC-кривой дисбалансного дерева равна\", best_disbalance_roc_auc_score_tree)\n",
    "print('Параметры решающего дисбалансного дерева:', f'Глубина дерева: {disbalance_depth_tree}',\\\n",
    "      f'Минимальное число выборок для разделения внутреннего узла: {disbalance_leaf_split}',\\\n",
    "      f'Минимальное снижение примеси: {disbalance_impurity_tree}', sep='\\n')"
   ]
  },
  {
   "cell_type": "markdown",
   "metadata": {},
   "source": [
    "Интересный момент - в случае решающего дерева без учёта дисбаланса уже достигнута необходимая F1 мера, площадь под ROC - кривой значительно больше, чем в случае логистической регрессии."
   ]
  },
  {
   "cell_type": "code",
   "execution_count": 15,
   "metadata": {},
   "outputs": [
    {
     "name": "stdout",
     "output_type": "stream",
     "text": [
      "F1 мера случайного леса равна: 0.6137724550898204\n",
      "Площадь под ROC-кривой равна 0.8647529625053018\n",
      "Параметры случайного леса:\n",
      "Глубина дерева: 19\n",
      "Количество деревьев: 90\n",
      "CPU times: total: 6min 41s\n",
      "Wall time: 6min 45s\n"
     ]
    }
   ],
   "source": [
    "%%time\n",
    "\n",
    "# учим модель случайного леса без учёта дисбаланса классов\n",
    "best_disbalance_forest = None\n",
    "depth_tree_disbalance_forest = 1\n",
    "best_f1_score_disbalance_forest = 0\n",
    "best_roc_auc_score_disbalance_forest = 0.0\n",
    "n_trees_disbalance = 30\n",
    "\n",
    "for est in range(20, 151, 10):\n",
    "    for depth in range(1, 21):\n",
    "        model_forest = RandomForestClassifier(n_estimators=est, criterion='entropy', max_depth=depth, \\\n",
    "                                              random_state=22)\n",
    "        model_forest.fit(features_train_clients, target_train_clients)\n",
    "        predictions_forest = model_forest.predict(features_valid_clients)\n",
    "        probabilities_forest = model_forest.predict_proba(features_valid_clients)\n",
    "        f1_score_forest = f1_score(target_valid_clients, predictions_forest)\n",
    "        roc_auc_forest = roc_auc_score(target_valid_clients, probabilities_forest[:, 1])\n",
    "        if f1_score_forest > best_f1_score_disbalance_forest:\n",
    "            best_disbalance_forest = model_forest\n",
    "            best_f1_score_disbalance_forest = f1_score_forest\n",
    "            best_roc_auc_score_disbalance_forest = roc_auc_forest\n",
    "            depth_tree_disbalance_forest = depth\n",
    "            n_trees_disbalance = est\n",
    "                    \n",
    "print('F1 мера случайного леса равна:', best_f1_score_disbalance_forest)\n",
    "print(\"Площадь под ROC-кривой равна\", best_roc_auc_score_disbalance_forest)\n",
    "print('Параметры случайного леса:', f'Глубина дерева: {depth_tree_disbalance_forest}',\\\n",
    "      f'Количество деревьев: {n_trees_disbalance}' , sep='\\n')"
   ]
  },
  {
   "cell_type": "markdown",
   "metadata": {},
   "source": [
    "Интересный момент: F1 мера практически идеинтична рашающему дереву выше, а вот площадь под ROC-кривой у Случайного леса значительно больше. Да и гиперпараметры интересны: большая глубина дерева при среднем количестве деревьев."
   ]
  },
  {
   "cell_type": "markdown",
   "metadata": {},
   "source": [
    "## Борьба с дисбалансом"
   ]
  },
  {
   "cell_type": "code",
   "execution_count": 16,
   "metadata": {},
   "outputs": [
    {
     "name": "stdout",
     "output_type": "stream",
     "text": [
      "F1 мера равна 0.4982456140350877\n",
      "Площадь под ROC-кривой равна 0.7632552876451395\n"
     ]
    }
   ],
   "source": [
    "# простейший способ борьбы - установка стоимости класса\n",
    "# логистическая модель\n",
    "log_model = LogisticRegression(solver='liblinear', class_weight='balanced', random_state=22)\n",
    "log_model.fit(features_train_clients, target_train_clients)\n",
    "balance_predicted = log_model.predict(features_valid_clients)\n",
    "balance_probabilities = log_model.predict_proba(features_valid_clients)\n",
    "print('F1 мера равна', f1_score(target_valid_clients, balance_predicted))\n",
    "print(\"Площадь под ROC-кривой равна\", roc_auc_score(target_valid_clients, balance_probabilities[:, 1]))"
   ]
  },
  {
   "cell_type": "markdown",
   "metadata": {},
   "source": [
    "Модель с использованием классов весов гораздо лучше, чем без неё, но этого всё ещё сильно недостаточно для поставленной задачи.\n",
    "\n",
    "Как с этим справятся решающее дерево и случайный лес? Проверим это."
   ]
  },
  {
   "cell_type": "code",
   "execution_count": 17,
   "metadata": {
    "scrolled": true
   },
   "outputs": [
    {
     "name": "stdout",
     "output_type": "stream",
     "text": [
      "F1 мера решающего дерева равна: 0.5859872611464968\n",
      "Площадь под ROC-кривой равна 0.8559615299221075\n",
      "Параметры решающего дерева:\n",
      "Глубина дерева: 6\n",
      "Минимальное число выборок для разделения внутреннего узла: 21\n",
      "Минимальное снижение примеси: 0.0\n",
      "CPU times: total: 2min 28s\n",
      "Wall time: 2min 31s\n"
     ]
    }
   ],
   "source": [
    "%%time\n",
    "\n",
    "# \"решающее\" дерево с установкой веса разных классов\n",
    "best_tree = None\n",
    "best_f1_score_tree = 0\n",
    "best_roc_auc_score_tree = 0.0\n",
    "depth_tree = 1\n",
    "leaf_split = 2\n",
    "impurity_tree = 0.0\n",
    "\n",
    "for depth in range(1, 21):\n",
    "    for split in range(2, 31):\n",
    "        for impurity_down in np.arange(0.0, 0.06, 0.01):\n",
    "            model_tree = DecisionTreeClassifier(criterion='entropy',max_depth=depth, min_samples_split=split,\\\n",
    "                                                min_impurity_decrease=impurity_down, class_weight={0:1, 1:4},\\\n",
    "                                               random_state=22)\n",
    "            model_tree.fit(features_train_clients, target_train_clients)\n",
    "            predictions_tree = model_tree.predict(features_valid_clients)\n",
    "            probabilities_tree = model_tree.predict_proba(features_valid_clients)\n",
    "            f1_score_tree = f1_score(target_valid_clients, predictions_tree)\n",
    "            roc_auc = roc_auc_score(target_valid_clients, probabilities_tree[:, 1])\n",
    "            if f1_score_tree > best_f1_score_tree:\n",
    "                best_tree = model_tree\n",
    "                best_f1_score_tree = f1_score_tree\n",
    "                best_roc_auc_score_tree = roc_auc\n",
    "                depth_tree, leaf_split, impurity_tree = depth, split, impurity_down\n",
    "                \n",
    "print('F1 мера решающего дерева равна:', best_f1_score_tree)\n",
    "print(\"Площадь под ROC-кривой равна\", best_roc_auc_score_tree)\n",
    "print('Параметры решающего дерева:', f'Глубина дерева: {depth_tree}',\\\n",
    "      f'Минимальное число выборок для разделения внутреннего узла: {leaf_split}',\\\n",
    "      f'Минимальное снижение примеси: {impurity_tree}', sep='\\n')"
   ]
  },
  {
   "cell_type": "markdown",
   "metadata": {},
   "source": [
    "Точность дерева при установке класса значительно выше, чем у логистической регрессии, но всё ещё недостаточна для решения задачи. Поиск решения недолгий. Теперь надо проверить \"случайный\" лес.\n",
    "\n",
    "А вот в случае с другим решающим деревом с дисбалансом классов - тут глубина дерева ниже (6 против 9), F1 мера немного ниже, но площадь под ROC - кривой выше."
   ]
  },
  {
   "cell_type": "code",
   "execution_count": 18,
   "metadata": {},
   "outputs": [
    {
     "name": "stdout",
     "output_type": "stream",
     "text": [
      "F1 мера случайного леса равна: 0.6558197747183979\n",
      "Площадь под ROC-кривой равна 0.8676461806305211\n",
      "Параметры случайного леса:\n",
      "Глубина дерева: 12\n",
      "Количество деревьев: 50\n",
      "CPU times: total: 6min 34s\n",
      "Wall time: 6min 35s\n"
     ]
    }
   ],
   "source": [
    "%%time\n",
    "\n",
    "# определяем подходящую глубину дерева и количество деревьев в модели \"случайного леса\"\n",
    "best_forest = None\n",
    "depth_tree_forest = 1\n",
    "best_f1_score_forest = 0\n",
    "best_roc_auc_score_forest = 0.0\n",
    "n_trees = 30\n",
    "\n",
    "for est in range(20, 151, 10):\n",
    "    for depth in range(1, 21):\n",
    "        model_forest = RandomForestClassifier(n_estimators=est, criterion='entropy', max_depth=depth, \\\n",
    "                                              class_weight={0:1, 1:4}, random_state=22)\n",
    "        model_forest.fit(features_train_clients, target_train_clients)\n",
    "        predictions_forest = model_forest.predict(features_valid_clients)\n",
    "        probabilities_forest = model_forest.predict_proba(features_valid_clients)\n",
    "        f1_score_forest = f1_score(target_valid_clients, predictions_forest)\n",
    "        roc_auc_forest = roc_auc_score(target_valid_clients, probabilities_forest[:, 1])\n",
    "        if f1_score_forest > best_f1_score_forest:\n",
    "            best_forest = model_forest\n",
    "            best_f1_score_forest = f1_score_forest\n",
    "            best_roc_auc_score_forest = roc_auc_forest\n",
    "            depth_tree_forest = depth\n",
    "            n_trees = est\n",
    "                    \n",
    "print('F1 мера случайного леса равна:', best_f1_score_forest)\n",
    "print(\"Площадь под ROC-кривой равна\", best_roc_auc_score_forest)\n",
    "print('Параметры случайного леса:', f'Глубина дерева: {depth_tree_forest}',\\\n",
    "      f'Количество деревьев: {n_trees}' , sep='\\n')"
   ]
  },
  {
   "cell_type": "markdown",
   "metadata": {},
   "source": [
    "Очевидно, что модель случайного леса самая лучшая. Уже и F1 мера высокая и и площадь под ROC-кривой пока что наибольшая. Дообучаем модель с большим количеством параметров. В отличие от дисбалансной версии здесь меньше количество оценщиков и глубина дерева, а вот F1 мера значительно выше."
   ]
  },
  {
   "cell_type": "code",
   "execution_count": 19,
   "metadata": {},
   "outputs": [
    {
     "name": "stdout",
     "output_type": "stream",
     "text": [
      "F1 мера случайного леса равна: 0.6558197747183979\n",
      "Площадь под ROC-кривой равна 0.8676461806305211\n",
      "Параметры случайного леса:\n",
      "Глубина дерева: 12\n",
      "Минимальное число выборок для разделения внутреннего узла: 2\n",
      "Количество деревьев: 50\n",
      "Минимальное уменьшение примеси: 0.0\n",
      "CPU times: total: 55 s\n",
      "Wall time: 55.5 s\n"
     ]
    }
   ],
   "source": [
    "%%time\n",
    "\n",
    "# дообучаем модель \"случайного леса\" с установкой стоимости класса\n",
    "leaf_split_tree = 2\n",
    "impurity_forest = 0.0\n",
    "\n",
    "for split in range(2, 26):\n",
    "    for impurity_down in np.arange(0.0, 0.05, 0.01):\n",
    "        model_forest = RandomForestClassifier(n_estimators=n_trees, criterion='entropy', \\\n",
    "                                              max_depth=depth_tree_forest, min_samples_split=split, \\\n",
    "                                              class_weight={0:1, 1:4}, min_impurity_decrease=impurity_down, random_state=22)\n",
    "        model_forest.fit(features_train_clients, target_train_clients)\n",
    "        predictions_forest = model_forest.predict(features_valid_clients)\n",
    "        probabilities_forest = model_forest.predict_proba(features_valid_clients)\n",
    "        f1_score_forest = f1_score(target_valid_clients, predictions_forest)\n",
    "        roc_auc_forest = roc_auc_score(target_valid_clients, probabilities_forest[:, 1])\n",
    "        if f1_score_forest > best_f1_score_forest:\n",
    "            best_forest = model_forest\n",
    "            best_f1_score_forest = f1_score_forest\n",
    "            best_roc_auc_score_forest = roc_auc_forest\n",
    "            impurity_forest, leaf_split_tree = impurity_down, split\n",
    "                \n",
    "print('F1 мера случайного леса равна:', best_f1_score_forest)\n",
    "print(\"Площадь под ROC-кривой равна\", best_roc_auc_score_forest)\n",
    "print('Параметры случайного леса:', f'Глубина дерева: {depth_tree_forest}',\\\n",
    "      f'Минимальное число выборок для разделения внутреннего узла: {leaf_split_tree}',\\\n",
    "      f'Количество деревьев: {n_trees}' ,f'Минимальное уменьшение примеси: {impurity_forest}', sep='\\n')"
   ]
  },
  {
   "cell_type": "markdown",
   "metadata": {},
   "source": [
    "Ничего нового не узнали. Бывает же так.\n",
    "\n",
    "Теперь проверим метод увеличения выборки - upsampling и обучим модели и посмотрим на результат, а главное ответим на вопрос: лучше ли он простого увеличения стоимости класса?"
   ]
  },
  {
   "cell_type": "code",
   "execution_count": 20,
   "metadata": {},
   "outputs": [
    {
     "name": "stdout",
     "output_type": "stream",
     "text": [
      "(9690, 11) (9690,)\n"
     ]
    }
   ],
   "source": [
    "# увеличиваем выборку методом upsampling (увеличим количество положительных примеров)\n",
    "def upsample(features, target, repeat):\n",
    "    features_zeros = features[target == 0]\n",
    "    features_ones = features[target == 1]\n",
    "    target_zeros = target[target == 0]\n",
    "    target_ones = target[target == 1]\n",
    "    \n",
    "    features_upsampled = pd.concat([features_zeros] + [features_ones] * repeat)\n",
    "    target_upsampled = pd.concat([target_zeros] + [target_ones] * repeat)\n",
    "    \n",
    "    features_upsampled, target_upsampled = shuffle(features_upsampled, target_upsampled, random_state=22)\n",
    "    return features_upsampled, target_upsampled\n",
    "\n",
    "features_train_clients_upsampled, target_train_clients_upsampled = upsample(features_train_clients,\\\n",
    "                                                                            target_train_clients, 4)\n",
    "\n",
    "print(features_train_clients_upsampled.shape, target_train_clients_upsampled.shape)"
   ]
  },
  {
   "cell_type": "markdown",
   "metadata": {},
   "source": [
    "Увеличение выборок прошло успешно. Теперь обучим новые модели на большем количестве данных."
   ]
  },
  {
   "cell_type": "code",
   "execution_count": 21,
   "metadata": {},
   "outputs": [
    {
     "name": "stdout",
     "output_type": "stream",
     "text": [
      "F1 мера равна 0.4995678478824546\n",
      "Площадь под ROC-кривой равна 0.7632552876451394\n"
     ]
    }
   ],
   "source": [
    "# логистическая модель на увеличенных выборках\n",
    "log_upsampled_model = LogisticRegression(solver='liblinear', random_state=22)\n",
    "log_upsampled_model.fit(features_train_clients_upsampled, target_train_clients_upsampled)\n",
    "upsampled_predicted = log_upsampled_model.predict(features_valid_clients)\n",
    "upsampled_probabalities = log_upsampled_model.predict_proba(features_valid_clients)\n",
    "print('F1 мера равна', f1_score(target_valid_clients, upsampled_predicted))\n",
    "print(\"Площадь под ROC-кривой равна\", roc_auc_score(target_valid_clients, upsampled_probabalities[:, 1]))"
   ]
  },
  {
   "cell_type": "markdown",
   "metadata": {},
   "source": [
    "Для логистической регрессии ,судя по выходным параметрам, нет разницы - поставить разные веса для классов или увеличить тренировочную выборку в такое же число раз. А будет ли разница для решающего дерева или случайного леса?"
   ]
  },
  {
   "cell_type": "code",
   "execution_count": 22,
   "metadata": {},
   "outputs": [
    {
     "name": "stdout",
     "output_type": "stream",
     "text": [
      "F1 мера увеличенного решающего дерева равна: 0.5834092980856882\n",
      "Площадь под ROC-кривой увеличенного дерева равна 0.8511627230396323\n",
      "Параметры решающего увеличенного дерева:\n",
      "Глубина дерева: 6\n",
      "Минимальное число выборок для разделения внутреннего узла: 14\n",
      "Минимальное снижение примеси: 0.0\n"
     ]
    }
   ],
   "source": [
    "# \"решающее дерево\" на большей тренировочной выборке\n",
    "best_upsampled_tree = None\n",
    "best_upsampled_f1_score_tree = 0\n",
    "best_upsampled_roc_auc_score_tree = 0.0\n",
    "upsampled_depth_tree = 1\n",
    "upsampled_leaf_split = 2\n",
    "upsampled_impurity_tree = 0.0\n",
    "\n",
    "for depth in range(1, 21):\n",
    "    for split in range(2, 31):\n",
    "        for impurity_down in np.arange(0.0, 0.06, 0.01):\n",
    "            model_tree = DecisionTreeClassifier(criterion='entropy',max_depth=depth, min_samples_split=split,\\\n",
    "                                                min_impurity_decrease=impurity_down, random_state=22)\n",
    "            model_tree.fit(features_train_clients_upsampled, target_train_clients_upsampled)\n",
    "            predictions_tree = model_tree.predict(features_valid_clients)\n",
    "            probabilities_tree = model_tree.predict_proba(features_valid_clients)\n",
    "            f1_score_tree = f1_score(target_valid_clients, predictions_tree)\n",
    "            roc_auc = roc_auc_score(target_valid_clients, probabilities_tree[:, 1])\n",
    "            if f1_score_tree > best_upsampled_f1_score_tree:\n",
    "                best_upsampled_tree = model_tree\n",
    "                best_upsampled_f1_score_tree = f1_score_tree\n",
    "                best_upsampled_roc_auc_score_tree = roc_auc\n",
    "                upsampled_depth_tree, upsampled_leaf_split, upsampled_impurity_tree = depth, split, impurity_down\n",
    "                \n",
    "print('F1 мера увеличенного решающего дерева равна:', best_upsampled_f1_score_tree)\n",
    "print(\"Площадь под ROC-кривой увеличенного дерева равна\", best_upsampled_roc_auc_score_tree)\n",
    "print('Параметры решающего увеличенного дерева:', f'Глубина дерева: {upsampled_depth_tree}',\\\n",
    "      f'Минимальное число выборок для разделения внутреннего узла: {upsampled_leaf_split}',\\\n",
    "      f'Минимальное снижение примеси: {upsampled_impurity_tree}', sep='\\n')"
   ]
  },
  {
   "cell_type": "markdown",
   "metadata": {},
   "source": [
    "В целом результат оказался схож с деревом с установленной стоимостью классов, но всё же результат вышел немного хуже. Осталось проверить модель случайного леса на увеличенной выборке."
   ]
  },
  {
   "cell_type": "code",
   "execution_count": 23,
   "metadata": {},
   "outputs": [
    {
     "name": "stdout",
     "output_type": "stream",
     "text": [
      "F1 мера увеличенного случайного леса равна: 0.6541176470588236\n",
      "Площадь под ROC-кривой равна увеличенного случайного леса: 0.8667435333244524\n",
      "Параметры увеличенного случайного леса:\n",
      "Глубина дерева: 13\n",
      "Количество деревьев: 110\n",
      "CPU times: total: 8min 18s\n",
      "Wall time: 8min 21s\n"
     ]
    }
   ],
   "source": [
    "%%time\n",
    "\n",
    "# модель случайного леса на увеличенной выборке\n",
    "# определяем подходящую глубину дерева и количество деревьев в модели \"случайного леса\"\n",
    "best_upsampled_forest = None\n",
    "depth_tree_upsampled_forest = 1\n",
    "best_f1_score_upsampled_forest = 0\n",
    "best_roc_auc_score_upsampled_forest = 0.0\n",
    "n_trees_upsampled = 30\n",
    "\n",
    "for est in range(20, 151, 10):\n",
    "    for depth in range(1, 21):\n",
    "        model_forest = RandomForestClassifier(n_estimators=est, criterion='entropy', max_depth=depth, \\\n",
    "                                                    random_state=22)\n",
    "        model_forest.fit(features_train_clients_upsampled, target_train_clients_upsampled)\n",
    "        predictions_forest = model_forest.predict(features_valid_clients)\n",
    "        probabilities_forest = model_forest.predict_proba(features_valid_clients)\n",
    "        f1_score_forest = f1_score(target_valid_clients, predictions_forest)\n",
    "        roc_auc_forest = roc_auc_score(target_valid_clients, probabilities_forest[:, 1])\n",
    "        if f1_score_forest > best_f1_score_upsampled_forest:\n",
    "            best_upsampled_forest = model_forest\n",
    "            best_f1_score_upsampled_forest = f1_score_forest\n",
    "            best_roc_auc_score_upsampled_forest = roc_auc_forest\n",
    "            depth_tree_upsampled_forest = depth\n",
    "            n_trees_upsampled = est\n",
    "                    \n",
    "print('F1 мера увеличенного случайного леса равна:', best_f1_score_upsampled_forest)\n",
    "print(\"Площадь под ROC-кривой равна увеличенного случайного леса:\", best_roc_auc_score_upsampled_forest)\n",
    "print('Параметры увеличенного случайного леса:', f'Глубина дерева: {depth_tree_upsampled_forest}',\\\n",
    "      f'Количество деревьев: {n_trees_upsampled}' , sep='\\n')"
   ]
  },
  {
   "cell_type": "markdown",
   "metadata": {},
   "source": [
    "И снова моделель случайного леса оказывается лучшей по F1 мере. Но на сей раз с гораздо большей глубиной дерева. Параметры качества схожи с со случайным лесом с увеличенной ценой класса, но всё же оказались немного ниже. Принесут ли что нибудь дополнительные параметры? Проверим это."
   ]
  },
  {
   "cell_type": "code",
   "execution_count": 24,
   "metadata": {},
   "outputs": [
    {
     "name": "stdout",
     "output_type": "stream",
     "text": [
      "F1 мера увеличенного случайного леса равна: 0.6541176470588236\n",
      "Площадь под ROC-кривой увеличенного случайного леса равна 0.8667435333244524\n",
      "Параметры увеличенного случайного леса:\n",
      "Глубина дерева: 13\n",
      "Минимальное число выборок для разделения внутреннего узла: 2\n",
      "Количество деревьев: 110\n",
      "Минимальное уменьшение примеси: 0.0\n",
      "CPU times: total: 2min 25s\n",
      "Wall time: 2min 26s\n"
     ]
    }
   ],
   "source": [
    "%%time\n",
    "\n",
    "# дообучаем модель \"случайного леса\" с увеличенной тренировочной выборкой\n",
    "leaf_split_tree_upsampled = 2\n",
    "impurity_upsampled_forest = 0.0\n",
    "\n",
    "for split in range(2, 26):\n",
    "    for impurity_down in np.arange(0.0, 0.05, 0.01):\n",
    "        model_forest = RandomForestClassifier(n_estimators=n_trees_upsampled, criterion='entropy', \\\n",
    "                                              max_depth=depth_tree_upsampled_forest, min_samples_split=split, \\\n",
    "                                              min_impurity_decrease=impurity_down, random_state=22)\n",
    "        model_forest.fit(features_train_clients_upsampled, target_train_clients_upsampled)\n",
    "        predictions_forest = model_forest.predict(features_valid_clients)\n",
    "        probabilities_forest = model_forest.predict_proba(features_valid_clients)\n",
    "        f1_score_forest = f1_score(target_valid_clients, predictions_forest)\n",
    "        roc_auc_forest = roc_auc_score(target_valid_clients, probabilities_forest[:, 1])\n",
    "        if f1_score_forest > best_f1_score_upsampled_forest:\n",
    "            best_upsampled_forest = model_forest\n",
    "            best_f1_score_upsampled_forest = f1_score_forest\n",
    "            best_roc_auc_score_upsampled_forest = roc_auc_forest\n",
    "            impurity_upsampled_forest, leaf_split_tree_upsampled = impurity_down, split\n",
    "                \n",
    "print('F1 мера увеличенного случайного леса равна:', best_f1_score_upsampled_forest)\n",
    "print(\"Площадь под ROC-кривой увеличенного случайного леса равна\", best_roc_auc_score_upsampled_forest)\n",
    "print('Параметры увеличенного случайного леса:', f'Глубина дерева: {depth_tree_upsampled_forest}',\\\n",
    "      f'Минимальное число выборок для разделения внутреннего узла: {leaf_split_tree_upsampled}',\\\n",
    "      f'Количество деревьев: {n_trees_upsampled}', f'Минимальное уменьшение примеси: {impurity_upsampled_forest}' , sep='\\n')"
   ]
  },
  {
   "cell_type": "markdown",
   "metadata": {},
   "source": [
    "Данные результаты являются очень хорошими, но немного уступают случайному лесу с разной стоимотью классов. Осталось проверить третий метод борьбы с дисбалансом классов - уменьшение выборки и уже затем выбрать лучшую модель."
   ]
  },
  {
   "cell_type": "code",
   "execution_count": 25,
   "metadata": {},
   "outputs": [
    {
     "name": "stdout",
     "output_type": "stream",
     "text": [
      "(2422, 11) (2422,)\n"
     ]
    }
   ],
   "source": [
    "# уменьшаем тренировочную выборку для лучшего баланса классов (метод downsampling)\n",
    "def downsample(features, target, fraction):\n",
    "    features_zeros = features[target == 0]\n",
    "    features_ones = features[target == 1]\n",
    "    target_zeros = target[target == 0]\n",
    "    target_ones = target[target == 1]\n",
    "    \n",
    "    features_downsampled = pd.concat([features_zeros.sample(frac=fraction, random_state=22)] + [features_ones])\n",
    "    target_downsampled = pd.concat([target_zeros.sample(frac=fraction, random_state=22)] + [target_ones])\n",
    "    \n",
    "    features_downsampled, target_downsampled = shuffle(features_downsampled, target_downsampled, random_state=22)\n",
    "    return features_downsampled, target_downsampled\n",
    "\n",
    "features_train_clients_downsampled, target_train_clients_downsampled = downsample(features_train_clients,\\\n",
    "                                                                            target_train_clients, 0.25)\n",
    "\n",
    "print(features_train_clients_downsampled.shape, target_train_clients_downsampled.shape)"
   ]
  },
  {
   "cell_type": "markdown",
   "metadata": {},
   "source": [
    "Уменьшение прошло успешно. Пора научить на этой выборке нашу логистическую регрессию, решающее дерево и случайный лес. Далее сравним между собой результат. "
   ]
  },
  {
   "cell_type": "code",
   "execution_count": 26,
   "metadata": {},
   "outputs": [
    {
     "name": "stdout",
     "output_type": "stream",
     "text": [
      "F1 мера равна 0.4900432900432901\n",
      "Площадь под ROC-кривой равна 0.7611651882850313\n"
     ]
    }
   ],
   "source": [
    "# логистическая модель на уменьшенной выборке\n",
    "log_downsampled_model = LogisticRegression(solver='liblinear', random_state=22)\n",
    "log_downsampled_model.fit(features_train_clients_downsampled, target_train_clients_downsampled)\n",
    "downsampled_predicted = log_downsampled_model.predict(features_valid_clients)\n",
    "downsampled_probabilities = log_downsampled_model.predict_proba(features_valid_clients)\n",
    "print('F1 мера равна', f1_score(target_valid_clients, downsampled_predicted))\n",
    "print(\"Площадь под ROC-кривой равна\", roc_auc_score(target_valid_clients, downsampled_probabilities[:, 1]))"
   ]
  },
  {
   "cell_type": "markdown",
   "metadata": {},
   "source": [
    "На логистической регресии разницa небольшая - в пределах 1%. В данном случае лучше всего сработало увеличение выборки, но оно очень сильно отстало от других моделей. "
   ]
  },
  {
   "cell_type": "code",
   "execution_count": 27,
   "metadata": {},
   "outputs": [
    {
     "name": "stdout",
     "output_type": "stream",
     "text": [
      "F1 мера уменьшенного решающего дерева равна: 0.601472134595163\n",
      "Площадь под ROC-кривой уменьшенного дерева равна 0.8315020081797148\n",
      "Параметры уменьшенного решающего дерева:\n",
      "Глубина дерева: 5\n",
      "Минимальное число выборок для разделения внутреннего узла: 4\n",
      "Минимальное снижение примеси: 0.0\n",
      "CPU times: total: 1min 15s\n",
      "Wall time: 1min 15s\n"
     ]
    }
   ],
   "source": [
    "%%time\n",
    "\n",
    "# \"решающее дерево\" на меньшей тренировочной выборке\n",
    "best_downsampled_tree = None\n",
    "best_downsampled_f1_score_tree = 0\n",
    "best_downsampled_roc_auc_score_tree = 0.0\n",
    "downsampled_depth_tree = 1\n",
    "downsampled_leaf_split = 2\n",
    "downsampled_impurity_tree = 0.0\n",
    "\n",
    "for depth in range(1, 21):\n",
    "    for split in range(2, 31):\n",
    "        for impurity_down in np.arange(0.0, 0.06, 0.01):\n",
    "            model_tree = DecisionTreeClassifier(criterion='entropy',max_depth=depth, min_samples_split=split,\\\n",
    "                                                min_impurity_decrease=impurity_down, random_state=22)\n",
    "            model_tree.fit(features_train_clients_downsampled, target_train_clients_downsampled)\n",
    "            predictions_tree = model_tree.predict(features_valid_clients)\n",
    "            probabilities_tree = model_tree.predict_proba(features_valid_clients)\n",
    "            f1_score_tree = f1_score(target_valid_clients, predictions_tree)\n",
    "            roc_auc = roc_auc_score(target_valid_clients, probabilities_tree[:, 1])\n",
    "            if f1_score_tree > best_downsampled_f1_score_tree:\n",
    "                best_downsampled_tree = model_tree\n",
    "                best_downsampled_f1_score_tree = f1_score_tree\n",
    "                best_downsampled_roc_auc_score_tree = roc_auc\n",
    "                downsampled_depth_tree, downsampled_leaf_split, downsampled_impurity_tree = depth, split, impurity_down\n",
    "                \n",
    "print('F1 мера уменьшенного решающего дерева равна:', best_downsampled_f1_score_tree)\n",
    "print(\"Площадь под ROC-кривой уменьшенного дерева равна\", best_downsampled_roc_auc_score_tree)\n",
    "print('Параметры уменьшенного решающего дерева:', f'Глубина дерева: {downsampled_depth_tree}',\\\n",
    "      f'Минимальное число выборок для разделения внутреннего узла: {downsampled_leaf_split}',\\\n",
    "      f'Минимальное снижение примеси: {downsampled_impurity_tree}', sep='\\n')"
   ]
  },
  {
   "cell_type": "markdown",
   "metadata": {},
   "source": [
    "Решающее дерево на уменьшенной выборке обладает досточно большим значением F1 меры по сравнению с таковым на увеличенной выборке, но в тоже время меньшей площадью под ROC-кривой. Остался последний вопрос - как провит себя модель случайного леса в таких условиях?"
   ]
  },
  {
   "cell_type": "code",
   "execution_count": 28,
   "metadata": {},
   "outputs": [
    {
     "name": "stdout",
     "output_type": "stream",
     "text": [
      "F1 мера уменьшенного случайного леса равна: 0.608357628765792\n",
      "Площадь под ROC-кривой равна уменьшенного случайного леса 0.8575869075563599\n",
      "Параметры уменьшенного случайного леса:\n",
      "Глубина дерева: 10\n",
      "Количество деревьев: 90\n",
      "CPU times: total: 3min 29s\n",
      "Wall time: 3min 29s\n"
     ]
    }
   ],
   "source": [
    "%%time\n",
    "\n",
    "# модель случайного леса на уменьшенной выборке\n",
    "# определяем подходящую глубину дерева и количество деревьев в модели \"случайного леса\"\n",
    "best_downsampled_forest = None\n",
    "depth_tree_downsampled_forest = 1\n",
    "best_f1_score_downsampled_forest = 0\n",
    "best_roc_auc_score_downsampled_forest = 0.0\n",
    "n_trees_downsampled = 30\n",
    "\n",
    "for est in range(20, 151, 10):\n",
    "    for depth in range(1, 21):\n",
    "        model_forest = RandomForestClassifier(n_estimators=est, criterion='entropy', max_depth=depth, \\\n",
    "                                              random_state=22)\n",
    "        model_forest.fit(features_train_clients_downsampled, target_train_clients_downsampled)\n",
    "        predictions_forest = model_forest.predict(features_valid_clients)\n",
    "        probabilities_forest = model_forest.predict_proba(features_valid_clients)\n",
    "        f1_score_forest = f1_score(target_valid_clients, predictions_forest)\n",
    "        roc_auc_forest = roc_auc_score(target_valid_clients, probabilities_forest[:, 1])\n",
    "        if f1_score_forest > best_f1_score_downsampled_forest:\n",
    "            best_downsampled_forest = model_forest\n",
    "            best_f1_score_downsampled_forest = f1_score_forest\n",
    "            best_roc_auc_score_downsampled_forest = roc_auc_forest\n",
    "            depth_tree_downsampled_forest = depth\n",
    "            n_trees_downsampled = est\n",
    "                    \n",
    "print('F1 мера уменьшенного случайного леса равна:', best_f1_score_downsampled_forest)\n",
    "print(\"Площадь под ROC-кривой равна уменьшенного случайного леса\", best_roc_auc_score_downsampled_forest)\n",
    "print('Параметры уменьшенного случайного леса:', f'Глубина дерева: {depth_tree_downsampled_forest}',\\\n",
    "      f'Количество деревьев: {n_trees_downsampled}' , sep='\\n')"
   ]
  },
  {
   "cell_type": "markdown",
   "metadata": {},
   "source": [
    "Пока что не впечатляет - модель с увеличенной выборкой или с установленной стоимостью класса работала лучше. Может доп.параметры помогут?"
   ]
  },
  {
   "cell_type": "code",
   "execution_count": 29,
   "metadata": {
    "scrolled": true
   },
   "outputs": [
    {
     "name": "stdout",
     "output_type": "stream",
     "text": [
      "F1 мера уменьшенного случайного леса равна: 0.608357628765792\n",
      "Площадь под ROC-кривой уменьшенного случайного леса равна 0.8575869075563599\n",
      "Параметры уменьшенного случайного леса:\n",
      "Глубина дерева: 10\n",
      "Минимальное число выборок для разделения внутреннего узла: 2\n",
      "Количество деревьев: 90\n",
      "Минимальное снижение примеси: 0.0\n",
      "CPU times: total: 52.8 s\n",
      "Wall time: 52.9 s\n"
     ]
    }
   ],
   "source": [
    "%%time\n",
    "\n",
    "# дообучаем модель \"случайного леса\" с уменьшенной тренировочной выборкой\n",
    "leaf_split_tree_downsampled = 2\n",
    "impurity_downsampled_forest = 0.0\n",
    "\n",
    "for split in range(2, 26):\n",
    "    for impurity_down in np.arange(0.0, 0.05, 0.01):\n",
    "        model_forest = RandomForestClassifier(n_estimators=n_trees_downsampled, criterion='entropy', \\\n",
    "                                              max_depth=depth_tree_downsampled_forest, min_samples_split=split, \\\n",
    "                                              min_impurity_decrease=impurity_down, random_state=22)\n",
    "        model_forest.fit(features_train_clients_downsampled, target_train_clients_downsampled)\n",
    "        predictions_forest = model_forest.predict(features_valid_clients)\n",
    "        probabilities_forest = model_forest.predict_proba(features_valid_clients)\n",
    "        f1_score_forest = f1_score(target_valid_clients, predictions_forest)\n",
    "        roc_auc_forest = roc_auc_score(target_valid_clients, probabilities_forest[:, 1])\n",
    "        if f1_score_forest > best_f1_score_downsampled_forest:\n",
    "            best_downsampled_forest = model_forest\n",
    "            best_f1_score_downsampled_forest = f1_score_forest\n",
    "            best_roc_auc_score_downsampled_forest = roc_auc_forest\n",
    "            impurity_downsampled_forest, leaf_split_tree_downsampled = impurity_down, split\n",
    "                \n",
    "print('F1 мера уменьшенного случайного леса равна:', best_f1_score_downsampled_forest)\n",
    "print(\"Площадь под ROC-кривой уменьшенного случайного леса равна\", best_roc_auc_score_downsampled_forest)\n",
    "print('Параметры уменьшенного случайного леса:', f'Глубина дерева: {depth_tree_downsampled_forest}',\\\n",
    "      f'Минимальное число выборок для разделения внутреннего узла: {leaf_split_tree_downsampled}',\\\n",
    "      f'Количество деревьев: {n_trees_downsampled}', f'Минимальное снижение примеси: {impurity_downsampled_forest}' , sep='\\n')"
   ]
  },
  {
   "cell_type": "markdown",
   "metadata": {},
   "source": [
    "Тоже самое - не помогло. Лучшая модель - случайный лес с увеличенной выборкой. Глубина дерева: 13, Критерий: энтропия, Количество деревьев: 110. Но может у уменьшенной выборки будет меньше переобучения? Проверим на тестовой выбоке."
   ]
  },
  {
   "cell_type": "markdown",
   "metadata": {},
   "source": [
    "## Тестирование модели"
   ]
  },
  {
   "cell_type": "code",
   "execution_count": 30,
   "metadata": {},
   "outputs": [
    {
     "name": "stdout",
     "output_type": "stream",
     "text": [
      "F1 мера равна 0.5919661733615221\n",
      "Площадь под ROC-кривой равна 0.8483541776870955\n"
     ]
    }
   ],
   "source": [
    "# что в итоге?\n",
    "test_predicted = best_downsampled_forest.predict(features_test_clients)\n",
    "test_probabilities = best_downsampled_forest.predict_proba(features_test_clients)\n",
    "print('F1 мера равна', f1_score(target_test_clients, test_predicted))\n",
    "print('Площадь под ROC-кривой равна', roc_auc_score(target_test_clients, test_probabilities[:, 1]))"
   ]
  },
  {
   "cell_type": "code",
   "execution_count": 31,
   "metadata": {},
   "outputs": [
    {
     "name": "stdout",
     "output_type": "stream",
     "text": [
      "F1 мера равна 0.2331288343558282\n",
      "Площадь под ROC-кривой равна 0.5183408132859884\n"
     ]
    }
   ],
   "source": [
    "# а модель адекватна? проверим на DummyClassifier\n",
    "model_dummy = DummyClassifier(strategy='stratified', random_state=22)\n",
    "model_dummy.fit(features_train_clients, target_train_clients)\n",
    "dummy_predicted = model_dummy.predict(features_valid_clients)\n",
    "dummy_probabilities = model_dummy.predict_proba(features_valid_clients)\n",
    "print('F1 мера равна', f1_score(target_valid_clients, dummy_predicted))\n",
    "print('Площадь под ROC-кривой равна', roc_auc_score(target_valid_clients, dummy_probabilities[:, 1]))"
   ]
  },
  {
   "cell_type": "markdown",
   "metadata": {},
   "source": [
    "Получилась почти идеальная случайная модель! Но наши модели значительно лучше, притом все."
   ]
  },
  {
   "cell_type": "code",
   "execution_count": 34,
   "metadata": {
    "scrolled": true
   },
   "outputs": [
    {
     "data": {
      "image/png": "[encoded data removed]",
      "text/plain": [
       "<Figure size 1500x600 with 1 Axes>"
      ]
     },
     "metadata": {},
     "output_type": "display_data"
    }
   ],
   "source": [
    "# постоим ROC-кривую для тестового образца\n",
    "fpr, tpr, tresholds = roc_curve(target_test_clients, test_probabilities[:, 1])\n",
    "plt.figure()\n",
    "plt.plot(fpr, tpr)\n",
    "# абсолютно случайная модель\n",
    "plt.plot([0, 1], [0, 1], linestyle='--')\n",
    "# размеры графика\n",
    "plt.xlim([0.0, 1.0])\n",
    "plt.ylim([0.0, 1.0])\n",
    "# названия осей и графика\n",
    "plt.xlabel('False Positive Rate')\n",
    "plt.ylabel('True Positive Rate')\n",
    "plt.title('ROC-кривая');"
   ]
  },
  {
   "cell_type": "code",
   "execution_count": 35,
   "metadata": {
    "scrolled": true
   },
   "outputs": [
    {
     "name": "stdout",
     "output_type": "stream",
     "text": [
      "0.7070707070707071\n"
     ]
    }
   ],
   "source": [
    "# Доля правильно идентифицированных меток \n",
    "print(recall_score(target_test_clients, test_predicted))"
   ]
  },
  {
   "cell_type": "markdown",
   "metadata": {},
   "source": [
    "Привильно идентифицированы 70,7% всех уходящих клиентов. Возможно можно и больше поймать, если изменить порог положительного класса."
   ]
  },
  {
   "cell_type": "markdown",
   "metadata": {},
   "source": [
    "## Общий вывод"
   ]
  },
  {
   "cell_type": "markdown",
   "metadata": {},
   "source": [
    "С вероятностью в 70.7% нашу задачу найти потенциально уходящих людей из банка нам поможет модель случайного леса с уменьшенной выборкой. Её гиперпараметры: Глубина дерева: 10, Количество деревьев: 90, критерий: энтропия. Модель значительно лучше случайной - площадь под ROC - кривой более чем на 0.3 больше."
   ]
  }
 ],
 "metadata": {
  "ExecuteTimeLog": [
   {
    "duration": 1753,
    "start_time": "2023-07-31T18:03:12.049Z"
   },
   {
    "duration": 26,
    "start_time": "2023-07-31T18:03:23.910Z"
   },
   {
    "duration": 12,
    "start_time": "2023-07-31T18:03:34.447Z"
   },
   {
    "duration": 4,
    "start_time": "2023-07-31T18:05:37.862Z"
   },
   {
    "duration": 183,
    "start_time": "2023-07-31T18:09:40.618Z"
   },
   {
    "duration": 16,
    "start_time": "2023-07-31T18:16:31.758Z"
   },
   {
    "duration": 16,
    "start_time": "2023-07-31T18:34:53.249Z"
   },
   {
    "duration": 13,
    "start_time": "2023-07-31T18:35:04.123Z"
   },
   {
    "duration": 12,
    "start_time": "2023-07-31T18:37:34.699Z"
   },
   {
    "duration": 17,
    "start_time": "2023-07-31T19:05:16.925Z"
   },
   {
    "duration": 16,
    "start_time": "2023-07-31T19:05:47.158Z"
   },
   {
    "duration": 16,
    "start_time": "2023-07-31T19:06:26.887Z"
   },
   {
    "duration": 26,
    "start_time": "2023-07-31T19:07:35.881Z"
   },
   {
    "duration": 18,
    "start_time": "2023-07-31T19:07:46.763Z"
   },
   {
    "duration": 18,
    "start_time": "2023-07-31T19:08:18.552Z"
   },
   {
    "duration": 1442,
    "start_time": "2023-07-31T19:13:22.461Z"
   },
   {
    "duration": 53,
    "start_time": "2023-07-31T19:13:23.905Z"
   },
   {
    "duration": 12,
    "start_time": "2023-07-31T19:13:23.960Z"
   },
   {
    "duration": 12,
    "start_time": "2023-07-31T19:13:23.974Z"
   },
   {
    "duration": 18,
    "start_time": "2023-07-31T19:13:23.988Z"
   },
   {
    "duration": 12,
    "start_time": "2023-07-31T19:15:44.091Z"
   },
   {
    "duration": 47,
    "start_time": "2023-08-01T15:40:22.882Z"
   },
   {
    "duration": 1777,
    "start_time": "2023-08-01T15:40:43.058Z"
   },
   {
    "duration": 176,
    "start_time": "2023-08-01T15:40:44.837Z"
   },
   {
    "duration": 14,
    "start_time": "2023-08-01T15:40:45.014Z"
   },
   {
    "duration": 51,
    "start_time": "2023-08-01T15:40:45.030Z"
   },
   {
    "duration": 34,
    "start_time": "2023-08-01T15:40:45.083Z"
   },
   {
    "duration": 6,
    "start_time": "2023-08-01T15:40:45.119Z"
   },
   {
    "duration": 14,
    "start_time": "2023-08-01T15:40:45.127Z"
   },
   {
    "duration": 111,
    "start_time": "2023-08-01T16:31:14.250Z"
   },
   {
    "duration": 11,
    "start_time": "2023-08-01T16:31:38.044Z"
   },
   {
    "duration": 24,
    "start_time": "2023-08-01T16:31:54.226Z"
   },
   {
    "duration": 36,
    "start_time": "2023-08-01T16:46:49.143Z"
   },
   {
    "duration": 13,
    "start_time": "2023-08-01T16:48:09.046Z"
   },
   {
    "duration": 78150,
    "start_time": "2023-08-01T16:48:24.583Z"
   },
   {
    "duration": 1246,
    "start_time": "2023-08-01T17:03:55.196Z"
   },
   {
    "duration": 17,
    "start_time": "2023-08-01T17:43:39.586Z"
   },
   {
    "duration": 36,
    "start_time": "2023-08-01T17:46:43.765Z"
   },
   {
    "duration": 37,
    "start_time": "2023-08-01T17:49:25.294Z"
   },
   {
    "duration": 57,
    "start_time": "2023-08-01T18:10:39.942Z"
   },
   {
    "duration": 165,
    "start_time": "2023-08-01T18:12:11.028Z"
   },
   {
    "duration": 136,
    "start_time": "2023-08-01T18:12:41.098Z"
   },
   {
    "duration": 122,
    "start_time": "2023-08-01T18:13:06.713Z"
   },
   {
    "duration": 43,
    "start_time": "2023-08-01T18:13:22.202Z"
   },
   {
    "duration": 1466,
    "start_time": "2023-08-01T18:15:31.823Z"
   },
   {
    "duration": 57,
    "start_time": "2023-08-01T18:15:33.291Z"
   },
   {
    "duration": 13,
    "start_time": "2023-08-01T18:15:33.349Z"
   },
   {
    "duration": 25,
    "start_time": "2023-08-01T18:15:33.364Z"
   },
   {
    "duration": 18,
    "start_time": "2023-08-01T18:15:33.390Z"
   },
   {
    "duration": 6,
    "start_time": "2023-08-01T18:15:33.410Z"
   },
   {
    "duration": 11,
    "start_time": "2023-08-01T18:15:33.418Z"
   },
   {
    "duration": 36,
    "start_time": "2023-08-01T18:15:33.430Z"
   },
   {
    "duration": 1209,
    "start_time": "2023-08-01T18:15:33.468Z"
   },
   {
    "duration": 149,
    "start_time": "2023-08-01T18:15:34.680Z"
   },
   {
    "duration": 40,
    "start_time": "2023-08-01T18:17:10.776Z"
   },
   {
    "duration": 11,
    "start_time": "2023-08-01T18:21:39.191Z"
   },
   {
    "duration": 18,
    "start_time": "2023-08-01T18:22:04.833Z"
   },
   {
    "duration": 11,
    "start_time": "2023-08-01T18:22:32.807Z"
   },
   {
    "duration": 7,
    "start_time": "2023-08-01T18:23:06.659Z"
   },
   {
    "duration": 199,
    "start_time": "2023-08-01T19:04:58.474Z"
   },
   {
    "duration": 33,
    "start_time": "2023-08-01T19:43:10.788Z"
   },
   {
    "duration": 55,
    "start_time": "2023-08-01T19:44:24.549Z"
   },
   {
    "duration": 21,
    "start_time": "2023-08-01T19:47:33.208Z"
   },
   {
    "duration": 27,
    "start_time": "2023-08-01T19:47:41.142Z"
   },
   {
    "duration": 106,
    "start_time": "2023-08-01T19:48:19.849Z"
   },
   {
    "duration": 29,
    "start_time": "2023-08-01T19:48:33.872Z"
   },
   {
    "duration": 20,
    "start_time": "2023-08-01T19:48:39.906Z"
   },
   {
    "duration": 37,
    "start_time": "2023-08-01T19:48:47.182Z"
   },
   {
    "duration": 33,
    "start_time": "2023-08-01T19:48:56.342Z"
   },
   {
    "duration": 40,
    "start_time": "2023-08-01T19:49:26.854Z"
   },
   {
    "duration": 46,
    "start_time": "2023-08-01T19:50:36.151Z"
   },
   {
    "duration": 50,
    "start_time": "2023-08-01T19:51:12.047Z"
   },
   {
    "duration": 27,
    "start_time": "2023-08-01T19:51:33.390Z"
   },
   {
    "duration": 25,
    "start_time": "2023-08-01T19:51:38.300Z"
   },
   {
    "duration": 25,
    "start_time": "2023-08-01T19:51:59.578Z"
   },
   {
    "duration": 1971,
    "start_time": "2023-08-02T11:02:26.724Z"
   },
   {
    "duration": 109,
    "start_time": "2023-08-02T11:02:28.697Z"
   },
   {
    "duration": 18,
    "start_time": "2023-08-02T11:02:28.808Z"
   },
   {
    "duration": 14,
    "start_time": "2023-08-02T11:02:28.829Z"
   },
   {
    "duration": 25,
    "start_time": "2023-08-02T11:02:28.846Z"
   },
   {
    "duration": 19,
    "start_time": "2023-08-02T11:02:28.872Z"
   },
   {
    "duration": 19,
    "start_time": "2023-08-02T11:02:28.893Z"
   },
   {
    "duration": 25,
    "start_time": "2023-08-02T11:02:28.914Z"
   },
   {
    "duration": 1334,
    "start_time": "2023-08-02T11:02:28.941Z"
   },
   {
    "duration": 44,
    "start_time": "2023-08-02T11:02:30.278Z"
   },
   {
    "duration": 19,
    "start_time": "2023-08-02T11:02:30.324Z"
   },
   {
    "duration": 81,
    "start_time": "2023-08-02T11:02:30.345Z"
   },
   {
    "duration": 152,
    "start_time": "2023-08-02T11:02:30.451Z"
   },
   {
    "duration": 94,
    "start_time": "2023-08-02T11:08:47.064Z"
   },
   {
    "duration": 30,
    "start_time": "2023-08-02T11:09:08.738Z"
   },
   {
    "duration": 24,
    "start_time": "2023-08-02T11:09:17.864Z"
   },
   {
    "duration": 39705,
    "start_time": "2023-08-02T14:36:30.212Z"
   },
   {
    "duration": 56516,
    "start_time": "2023-08-02T14:52:24.465Z"
   },
   {
    "duration": 7,
    "start_time": "2023-08-02T15:04:51.913Z"
   },
   {
    "duration": 58110,
    "start_time": "2023-08-02T15:06:14.415Z"
   },
   {
    "duration": 59963,
    "start_time": "2023-08-02T15:12:14.574Z"
   },
   {
    "duration": 1949,
    "start_time": "2023-08-02T16:40:17.423Z"
   },
   {
    "duration": 59,
    "start_time": "2023-08-02T16:40:19.375Z"
   },
   {
    "duration": 15,
    "start_time": "2023-08-02T16:40:19.436Z"
   },
   {
    "duration": 30,
    "start_time": "2023-08-02T16:40:19.460Z"
   },
   {
    "duration": 18,
    "start_time": "2023-08-02T16:40:19.492Z"
   },
   {
    "duration": 7,
    "start_time": "2023-08-02T16:40:19.512Z"
   },
   {
    "duration": 14,
    "start_time": "2023-08-02T16:40:19.520Z"
   },
   {
    "duration": 34,
    "start_time": "2023-08-02T16:40:19.535Z"
   },
   {
    "duration": 1336,
    "start_time": "2023-08-02T16:40:19.571Z"
   },
   {
    "duration": 58,
    "start_time": "2023-08-02T16:40:20.910Z"
   },
   {
    "duration": 9,
    "start_time": "2023-08-02T16:40:20.971Z"
   },
   {
    "duration": 82,
    "start_time": "2023-08-02T16:40:20.982Z"
   },
   {
    "duration": 57066,
    "start_time": "2023-08-02T16:40:21.066Z"
   },
   {
    "duration": 39,
    "start_time": "2023-08-02T16:41:18.134Z"
   },
   {
    "duration": 63187,
    "start_time": "2023-08-02T16:41:18.175Z"
   },
   {
    "duration": 71,
    "start_time": "2023-08-02T17:23:22.968Z"
   },
   {
    "duration": 4540,
    "start_time": "2023-08-02T17:24:40.322Z"
   },
   {
    "duration": 332511,
    "start_time": "2023-08-02T18:12:28.595Z"
   },
   {
    "duration": 86,
    "start_time": "2023-08-02T18:25:24.492Z"
   },
   {
    "duration": 34,
    "start_time": "2023-08-02T18:26:14.931Z"
   },
   {
    "duration": 124,
    "start_time": "2023-08-02T18:32:57.035Z"
   },
   {
    "duration": 15,
    "start_time": "2023-08-02T18:37:49.705Z"
   },
   {
    "duration": 60,
    "start_time": "2023-08-02T18:37:54.204Z"
   },
   {
    "duration": 1856,
    "start_time": "2023-08-03T13:06:37.859Z"
   },
   {
    "duration": 4,
    "start_time": "2023-08-03T13:07:37.011Z"
   },
   {
    "duration": 272,
    "start_time": "2023-08-03T13:07:37.017Z"
   },
   {
    "duration": 15,
    "start_time": "2023-08-03T13:07:37.291Z"
   },
   {
    "duration": 12,
    "start_time": "2023-08-03T13:07:37.308Z"
   },
   {
    "duration": 44,
    "start_time": "2023-08-03T13:07:37.322Z"
   },
   {
    "duration": 8,
    "start_time": "2023-08-03T13:07:37.369Z"
   },
   {
    "duration": 15,
    "start_time": "2023-08-03T13:07:37.379Z"
   },
   {
    "duration": 21,
    "start_time": "2023-08-03T13:07:37.396Z"
   },
   {
    "duration": 1370,
    "start_time": "2023-08-03T13:07:37.420Z"
   },
   {
    "duration": 53,
    "start_time": "2023-08-03T13:07:38.792Z"
   },
   {
    "duration": 12,
    "start_time": "2023-08-03T13:07:38.847Z"
   },
   {
    "duration": 114,
    "start_time": "2023-08-03T13:07:38.861Z"
   },
   {
    "duration": 55393,
    "start_time": "2023-08-03T13:07:38.979Z"
   },
   {
    "duration": 101,
    "start_time": "2023-08-03T13:08:34.374Z"
   },
   {
    "duration": 64257,
    "start_time": "2023-08-03T13:08:34.481Z"
   },
   {
    "duration": 4237,
    "start_time": "2023-08-03T13:09:38.740Z"
   },
   {
    "duration": 348906,
    "start_time": "2023-08-03T13:09:42.980Z"
   },
   {
    "duration": 20,
    "start_time": "2023-08-03T13:15:31.888Z"
   },
   {
    "duration": 269,
    "start_time": "2023-08-03T13:15:31.910Z"
   },
   {
    "duration": 75783,
    "start_time": "2023-08-03T13:31:25.497Z"
   },
   {
    "duration": 6546,
    "start_time": "2023-08-03T13:49:01.971Z"
   },
   {
    "duration": 571588,
    "start_time": "2023-08-03T14:23:42.975Z"
   },
   {
    "duration": 552685,
    "start_time": "2023-08-03T14:37:11.038Z"
   },
   {
    "duration": 16,
    "start_time": "2023-08-03T15:19:21.513Z"
   },
   {
    "duration": 86,
    "start_time": "2023-08-03T15:28:22.589Z"
   },
   {
    "duration": 38232,
    "start_time": "2023-08-03T15:45:57.486Z"
   },
   {
    "duration": 2490,
    "start_time": "2023-08-03T16:00:41.012Z"
   },
   {
    "duration": 200864,
    "start_time": "2023-08-03T16:23:48.000Z"
   },
   {
    "duration": 85,
    "start_time": "2023-08-03T16:41:11.500Z"
   },
   {
    "duration": 51,
    "start_time": "2023-08-03T16:42:56.700Z"
   },
   {
    "duration": 25,
    "start_time": "2023-08-03T16:44:19.626Z"
   },
   {
    "duration": 15,
    "start_time": "2023-08-03T17:06:30.410Z"
   },
   {
    "duration": 9,
    "start_time": "2023-08-03T17:06:58.202Z"
   },
   {
    "duration": 7,
    "start_time": "2023-08-03T17:14:27.656Z"
   },
   {
    "duration": 4,
    "start_time": "2023-08-03T17:22:16.316Z"
   },
   {
    "duration": 276,
    "start_time": "2023-08-03T17:28:39.570Z"
   },
   {
    "duration": 2159,
    "start_time": "2023-08-03T17:32:34.266Z"
   },
   {
    "duration": 79,
    "start_time": "2023-08-03T17:32:36.428Z"
   },
   {
    "duration": 19,
    "start_time": "2023-08-03T17:32:36.509Z"
   },
   {
    "duration": 18,
    "start_time": "2023-08-03T17:32:36.532Z"
   },
   {
    "duration": 63,
    "start_time": "2023-08-03T17:32:36.552Z"
   },
   {
    "duration": 10,
    "start_time": "2023-08-03T17:32:36.618Z"
   },
   {
    "duration": 19,
    "start_time": "2023-08-03T17:32:36.632Z"
   },
   {
    "duration": 39,
    "start_time": "2023-08-03T17:32:36.653Z"
   },
   {
    "duration": 1627,
    "start_time": "2023-08-03T17:32:36.694Z"
   },
   {
    "duration": 76,
    "start_time": "2023-08-03T17:32:38.325Z"
   },
   {
    "duration": 17,
    "start_time": "2023-08-03T17:32:38.403Z"
   },
   {
    "duration": 61,
    "start_time": "2023-08-03T17:32:38.422Z"
   },
   {
    "duration": 74131,
    "start_time": "2023-08-03T17:32:38.485Z"
   },
   {
    "duration": 51,
    "start_time": "2023-08-03T17:33:52.618Z"
   },
   {
    "duration": 82566,
    "start_time": "2023-08-03T17:33:52.671Z"
   },
   {
    "duration": 5578,
    "start_time": "2023-08-03T17:35:15.239Z"
   },
   {
    "duration": 428402,
    "start_time": "2023-08-03T17:35:20.828Z"
   },
   {
    "duration": 15,
    "start_time": "2023-08-03T17:42:29.232Z"
   },
   {
    "duration": 153,
    "start_time": "2023-08-03T17:42:29.249Z"
   },
   {
    "duration": 90616,
    "start_time": "2023-08-03T17:42:29.424Z"
   },
   {
    "duration": 7353,
    "start_time": "2023-08-03T17:44:00.042Z"
   },
   {
    "duration": 688496,
    "start_time": "2023-08-03T17:44:07.397Z"
   },
   {
    "duration": 18,
    "start_time": "2023-08-03T17:55:35.896Z"
   },
   {
    "duration": 86,
    "start_time": "2023-08-03T17:55:35.916Z"
   },
   {
    "duration": 45102,
    "start_time": "2023-08-03T17:55:36.009Z"
   },
   {
    "duration": 2995,
    "start_time": "2023-08-03T17:56:21.117Z"
   },
   {
    "duration": 239317,
    "start_time": "2023-08-03T17:56:24.115Z"
   },
   {
    "duration": 36,
    "start_time": "2023-08-03T18:00:23.436Z"
   },
   {
    "duration": 43,
    "start_time": "2023-08-03T18:00:23.474Z"
   },
   {
    "duration": 283,
    "start_time": "2023-08-03T18:00:23.521Z"
   },
   {
    "duration": 1856,
    "start_time": "2023-08-04T13:25:34.698Z"
   },
   {
    "duration": 210,
    "start_time": "2023-08-04T13:25:39.822Z"
   },
   {
    "duration": 27,
    "start_time": "2023-08-04T13:25:44.972Z"
   },
   {
    "duration": 12,
    "start_time": "2023-08-04T13:25:49.238Z"
   },
   {
    "duration": 18,
    "start_time": "2023-08-04T13:25:52.526Z"
   },
   {
    "duration": 9,
    "start_time": "2023-08-04T13:26:00.334Z"
   },
   {
    "duration": 235,
    "start_time": "2023-08-04T13:44:27.119Z"
   },
   {
    "duration": 317,
    "start_time": "2023-08-04T14:08:50.585Z"
   },
   {
    "duration": 7,
    "start_time": "2023-08-04T14:09:36.116Z"
   },
   {
    "duration": 128,
    "start_time": "2023-08-04T14:16:23.801Z"
   },
   {
    "duration": 254,
    "start_time": "2023-08-04T14:17:23.283Z"
   },
   {
    "duration": 192,
    "start_time": "2023-08-04T14:17:52.806Z"
   },
   {
    "duration": 264,
    "start_time": "2023-08-04T14:27:50.576Z"
   },
   {
    "duration": 14,
    "start_time": "2023-08-04T14:31:46.629Z"
   },
   {
    "duration": 19,
    "start_time": "2023-08-04T15:05:28.896Z"
   },
   {
    "duration": 1441,
    "start_time": "2023-08-04T15:48:17.126Z"
   },
   {
    "duration": 47,
    "start_time": "2023-08-04T15:50:06.200Z"
   },
   {
    "duration": 9,
    "start_time": "2023-08-04T15:50:30.697Z"
   },
   {
    "duration": 65,
    "start_time": "2023-08-04T15:59:05.118Z"
   },
   {
    "duration": 161,
    "start_time": "2023-08-04T16:03:17.549Z"
   },
   {
    "duration": 61661,
    "start_time": "2023-08-04T16:03:38.619Z"
   },
   {
    "duration": 0,
    "start_time": "2023-08-04T19:49:25.222Z"
   },
   {
    "duration": 1414,
    "start_time": "2023-08-04T20:52:12.865Z"
   },
   {
    "duration": 55,
    "start_time": "2023-08-04T20:52:16.697Z"
   },
   {
    "duration": 14,
    "start_time": "2023-08-04T20:52:20.064Z"
   },
   {
    "duration": 11,
    "start_time": "2023-08-04T20:52:22.843Z"
   },
   {
    "duration": 19,
    "start_time": "2023-08-04T20:52:26.258Z"
   },
   {
    "duration": 7,
    "start_time": "2023-08-04T20:52:30.722Z"
   },
   {
    "duration": 237,
    "start_time": "2023-08-04T20:52:33.657Z"
   },
   {
    "duration": 13,
    "start_time": "2023-08-04T20:52:40.710Z"
   },
   {
    "duration": 21,
    "start_time": "2023-08-04T20:53:24.592Z"
   },
   {
    "duration": 1141,
    "start_time": "2023-08-04T20:53:59.676Z"
   },
   {
    "duration": 41,
    "start_time": "2023-08-04T20:54:20.823Z"
   },
   {
    "duration": 8,
    "start_time": "2023-08-04T20:54:28.093Z"
   },
   {
    "duration": 96,
    "start_time": "2023-08-04T20:54:32.170Z"
   },
   {
    "duration": 52263,
    "start_time": "2023-08-04T20:54:37.730Z"
   },
   {
    "duration": 145161,
    "start_time": "2023-08-04T20:55:41.191Z"
   },
   {
    "duration": 95,
    "start_time": "2023-08-04T21:03:46.766Z"
   },
   {
    "duration": 58971,
    "start_time": "2023-08-04T21:05:46.988Z"
   },
   {
    "duration": 146325,
    "start_time": "2023-08-04T21:11:57.587Z"
   },
   {
    "duration": 23722,
    "start_time": "2023-08-04T21:24:48.870Z"
   },
   {
    "duration": 14,
    "start_time": "2023-08-04T21:27:53.064Z"
   },
   {
    "duration": 34,
    "start_time": "2023-08-04T21:28:24.515Z"
   },
   {
    "duration": 67879,
    "start_time": "2023-08-04T21:30:47.047Z"
   },
   {
    "duration": 192581,
    "start_time": "2023-08-04T21:39:00.285Z"
   },
   {
    "duration": 64352,
    "start_time": "2023-08-04T21:52:06.646Z"
   },
   {
    "duration": 13,
    "start_time": "2023-08-04T21:56:15.187Z"
   },
   {
    "duration": 297,
    "start_time": "2023-08-04T21:56:51.238Z"
   },
   {
    "duration": 21,
    "start_time": "2023-08-04T22:00:06.010Z"
   },
   {
    "duration": 4,
    "start_time": "2023-08-04T22:03:53.482Z"
   },
   {
    "duration": 36352,
    "start_time": "2023-08-04T22:06:53.667Z"
   },
   {
    "duration": 85825,
    "start_time": "2023-08-04T22:13:18.051Z"
   },
   {
    "duration": 119,
    "start_time": "2023-08-04T22:21:34.618Z"
   },
   {
    "duration": 26159,
    "start_time": "2023-08-04T22:22:44.591Z"
   },
   {
    "duration": 54,
    "start_time": "2023-08-04T22:28:29.116Z"
   },
   {
    "duration": 111,
    "start_time": "2023-08-04T22:30:12.776Z"
   },
   {
    "duration": 76,
    "start_time": "2023-08-04T22:30:47.457Z"
   },
   {
    "duration": 10,
    "start_time": "2023-08-04T22:32:29.707Z"
   },
   {
    "duration": 171,
    "start_time": "2023-08-04T22:32:58.999Z"
   },
   {
    "duration": 5,
    "start_time": "2023-08-04T22:39:35.355Z"
   },
   {
    "duration": 54,
    "start_time": "2023-08-04T22:52:46.526Z"
   },
   {
    "duration": 135,
    "start_time": "2023-08-04T23:14:42.472Z"
   },
   {
    "duration": 1418,
    "start_time": "2023-08-04T23:38:37.992Z"
   },
   {
    "duration": 55,
    "start_time": "2023-08-04T23:38:39.412Z"
   },
   {
    "duration": 12,
    "start_time": "2023-08-04T23:38:39.469Z"
   },
   {
    "duration": 13,
    "start_time": "2023-08-04T23:38:39.483Z"
   },
   {
    "duration": 32,
    "start_time": "2023-08-04T23:38:39.497Z"
   },
   {
    "duration": 5,
    "start_time": "2023-08-04T23:38:39.531Z"
   },
   {
    "duration": 228,
    "start_time": "2023-08-04T23:38:39.538Z"
   },
   {
    "duration": 13,
    "start_time": "2023-08-04T23:38:39.768Z"
   },
   {
    "duration": 26,
    "start_time": "2023-08-04T23:38:39.782Z"
   },
   {
    "duration": 1194,
    "start_time": "2023-08-04T23:38:39.811Z"
   },
   {
    "duration": 43,
    "start_time": "2023-08-04T23:38:41.006Z"
   },
   {
    "duration": 9,
    "start_time": "2023-08-04T23:38:41.050Z"
   },
   {
    "duration": 103,
    "start_time": "2023-08-04T23:38:41.060Z"
   },
   {
    "duration": 52255,
    "start_time": "2023-08-04T23:38:41.164Z"
   },
   {
    "duration": 143602,
    "start_time": "2023-08-04T23:39:33.421Z"
   },
   {
    "duration": 42,
    "start_time": "2023-08-04T23:41:57.025Z"
   },
   {
    "duration": 58001,
    "start_time": "2023-08-04T23:41:57.069Z"
   },
   {
    "duration": 142778,
    "start_time": "2023-08-04T23:42:55.071Z"
   },
   {
    "duration": 22899,
    "start_time": "2023-08-04T23:45:17.851Z"
   },
   {
    "duration": 11,
    "start_time": "2023-08-04T23:45:40.758Z"
   },
   {
    "duration": 92,
    "start_time": "2023-08-04T23:45:40.771Z"
   },
   {
    "duration": 66596,
    "start_time": "2023-08-04T23:45:40.865Z"
   },
   {
    "duration": 190610,
    "start_time": "2023-08-04T23:46:47.462Z"
   },
   {
    "duration": 64313,
    "start_time": "2023-08-04T23:49:58.073Z"
   },
   {
    "duration": 12,
    "start_time": "2023-08-04T23:51:02.388Z"
   },
   {
    "duration": 63,
    "start_time": "2023-08-04T23:51:02.402Z"
   },
   {
    "duration": 36855,
    "start_time": "2023-08-04T23:51:02.468Z"
   },
   {
    "duration": 84381,
    "start_time": "2023-08-04T23:51:39.327Z"
   },
   {
    "duration": 25950,
    "start_time": "2023-08-04T23:53:03.710Z"
   },
   {
    "duration": 79,
    "start_time": "2023-08-04T23:53:29.662Z"
   },
   {
    "duration": 21,
    "start_time": "2023-08-04T23:53:29.742Z"
   },
   {
    "duration": 178,
    "start_time": "2023-08-04T23:53:29.764Z"
   },
   {
    "duration": 5,
    "start_time": "2023-08-04T23:53:29.944Z"
   }
  ],
  "kernelspec": {
   "display_name": "Python 3 (ipykernel)",
   "language": "python",
   "name": "python3"
  },
  "language_info": {
   "codemirror_mode": {
    "name": "ipython",
    "version": 3
   },
   "file_extension": ".py",
   "mimetype": "text/x-python",
   "name": "python",
   "nbconvert_exporter": "python",
   "pygments_lexer": "ipython3",
   "version": "3.10.9"
  },
  "toc": {
   "base_numbering": 1,
   "nav_menu": {},
   "number_sections": true,
   "sideBar": true,
   "skip_h1_title": true,
   "title_cell": "Содержание",
   "title_sidebar": "Contents",
   "toc_cell": true,
   "toc_position": {
    "height": "calc(100% - 180px)",
    "left": "10px",
    "top": "150px",
    "width": "226.188px"
   },
   "toc_section_display": true,
   "toc_window_display": false
  }
 },
 "nbformat": 4,
 "nbformat_minor": 2
}
